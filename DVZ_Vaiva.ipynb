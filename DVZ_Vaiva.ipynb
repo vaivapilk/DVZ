{
  "cells": [
    {
      "cell_type": "markdown",
      "metadata": {
        "id": "nZ-vVCgcTD0d"
      },
      "source": [
        "### Mounting drive and downloading files"
      ]
    },
    {
      "cell_type": "code",
      "execution_count": 1,
      "metadata": {
        "colab": {
          "base_uri": "https://localhost:8080/"
        },
        "id": "E1RlXOWiTLp6",
        "outputId": "ac60a64b-ed53-4723-c35b-ec9290c48eae"
      },
      "outputs": [
        {
          "output_type": "stream",
          "name": "stderr",
          "text": [
            "Installing package into ‘/usr/local/lib/R/site-library’\n",
            "(as ‘lib’ is unspecified)\n",
            "\n"
          ]
        }
      ],
      "source": [
        "install.packages('googledrive')\n",
        "library(googledrive)"
      ]
    },
    {
      "cell_type": "code",
      "execution_count": 2,
      "metadata": {
        "colab": {
          "base_uri": "https://localhost:8080/"
        },
        "id": "6rzZWvesTMSC",
        "outputId": "94ca348c-acc6-4238-b0cf-c94b6953fbb5"
      },
      "outputs": [
        {
          "output_type": "stream",
          "name": "stderr",
          "text": [
            "Installing package into ‘/usr/local/lib/R/site-library’\n",
            "(as ‘lib’ is unspecified)\n",
            "\n",
            "also installing the dependencies ‘R.oo’, ‘R.methodsS3’\n",
            "\n",
            "\n",
            "Loading required package: R.oo\n",
            "\n",
            "Loading required package: R.methodsS3\n",
            "\n",
            "R.methodsS3 v1.8.2 (2022-06-13 22:00:14 UTC) successfully loaded. See ?R.methodsS3 for help.\n",
            "\n",
            "R.oo v1.25.0 (2022-06-12 02:20:02 UTC) successfully loaded. See ?R.oo for help.\n",
            "\n",
            "\n",
            "Attaching package: ‘R.oo’\n",
            "\n",
            "\n",
            "The following object is masked from ‘package:R.methodsS3’:\n",
            "\n",
            "    throw\n",
            "\n",
            "\n",
            "The following objects are masked from ‘package:methods’:\n",
            "\n",
            "    getClasses, getMethods\n",
            "\n",
            "\n",
            "The following objects are masked from ‘package:base’:\n",
            "\n",
            "    attach, detach, load, save\n",
            "\n",
            "\n",
            "R.utils v2.12.2 (2022-11-11 22:00:03 UTC) successfully loaded. See ?R.utils for help.\n",
            "\n",
            "\n",
            "Attaching package: ‘R.utils’\n",
            "\n",
            "\n",
            "The following object is masked from ‘package:utils’:\n",
            "\n",
            "    timestamp\n",
            "\n",
            "\n",
            "The following objects are masked from ‘package:base’:\n",
            "\n",
            "    cat, commandArgs, getOption, isOpen, nullfile, parse, warnings\n",
            "\n",
            "\n"
          ]
        }
      ],
      "source": [
        "install.packages(\"R.utils\")\n",
        "  library(\"R.utils\")\n",
        "  library(\"httr\")\n",
        "  my_check <- function() {return(TRUE)}\n",
        "  reassignInPackage(\"is_interactive\", pkgName = \"httr\", my_check)\n",
        "  options(rlang_interactive=TRUE)"
      ]
    },
    {
      "cell_type": "code",
      "execution_count": 3,
      "metadata": {
        "id": "qkF-IWtnTRFs",
        "colab": {
          "base_uri": "https://localhost:8080/"
        },
        "outputId": "593a6c04-ef21-4dee-afb2-629cda6525cc"
      },
      "outputs": [
        {
          "output_type": "stream",
          "name": "stderr",
          "text": [
            "Please point your browser to the following url: \n",
            "\n",
            "https://accounts.google.com/o/oauth2/v2/auth?client_id=603366585132-dpeg5tt0et3go5of2374d83ifevk5086.apps.googleusercontent.com&scope=https%3A%2F%2Fwww.googleapis.com%2Fauth%2Fdrive%20https%3A%2F%2Fwww.googleapis.com%2Fauth%2Fuserinfo.email&redirect_uri=urn%3Aietf%3Awg%3Aoauth%3A2.0%3Aoob&response_type=code\n",
            "\n"
          ]
        },
        {
          "name": "stdout",
          "output_type": "stream",
          "text": [
            "Enter authorization code: 4/1AfgeXvu-FJqpyrPfwGgOQe8uVAXC6WBxFLEC62NHc5HkniwoFyLl5tb1SGw\n"
          ]
        }
      ],
      "source": [
        "drive_auth(use_oob = TRUE, cache = TRUE)"
      ]
    },
    {
      "cell_type": "markdown",
      "metadata": {
        "id": "OKEwNwnwTf7Y"
      },
      "source": [
        "### Libraries"
      ]
    },
    {
      "cell_type": "code",
      "execution_count": 64,
      "metadata": {
        "colab": {
          "base_uri": "https://localhost:8080/"
        },
        "id": "HRuKQxD5TW43",
        "outputId": "6c342f5b-4d4a-4829-88a8-0d96d943aa57"
      },
      "outputs": [
        {
          "output_type": "stream",
          "name": "stderr",
          "text": [
            "Installing package into ‘/usr/local/lib/R/site-library’\n",
            "(as ‘lib’ is unspecified)\n",
            "\n",
            "Installing package into ‘/usr/local/lib/R/site-library’\n",
            "(as ‘lib’ is unspecified)\n",
            "\n",
            "Installing package into ‘/usr/local/lib/R/site-library’\n",
            "(as ‘lib’ is unspecified)\n",
            "\n",
            "Installing package into ‘/usr/local/lib/R/site-library’\n",
            "(as ‘lib’ is unspecified)\n",
            "\n",
            "\n",
            "Attaching package: ‘tidyr’\n",
            "\n",
            "\n",
            "The following object is masked from ‘package:R.utils’:\n",
            "\n",
            "    extract\n",
            "\n",
            "\n"
          ]
        }
      ],
      "source": [
        "install.packages('data.table')\n",
        "install.packages('ggplot2')\n",
        "install.packages('dplyr')\n",
        "install.packages('tidyr')\n",
        "#install.packages('gridExtra')\n",
        "library(data.table)\n",
        "library(ggplot2)\n",
        "library(dplyr)\n",
        "library(tidyr)\n",
        "#library(gridExtra)\n",
        "#library('tidyr')"
      ]
    },
    {
      "cell_type": "code",
      "source": [
        "install.packages('stringr')\n",
        "library(stringr)\n",
        "library(dplyr)"
      ],
      "metadata": {
        "colab": {
          "base_uri": "https://localhost:8080/"
        },
        "id": "pSGZtzJcC7XY",
        "outputId": "7a413d70-436b-4ee8-eb74-6a3073f609ae"
      },
      "execution_count": 53,
      "outputs": [
        {
          "output_type": "stream",
          "name": "stderr",
          "text": [
            "Installing package into ‘/usr/local/lib/R/site-library’\n",
            "(as ‘lib’ is unspecified)\n",
            "\n"
          ]
        }
      ]
    },
    {
      "cell_type": "markdown",
      "metadata": {
        "id": "jOLhUtymfXMq"
      },
      "source": [
        "# **TO DO**\n",
        "- a lot"
      ]
    },
    {
      "cell_type": "markdown",
      "metadata": {
        "id": "adUcHaY7qfA4"
      },
      "source": [
        "# Every table cleaned and filtered (IGNORE THIS PART)"
      ]
    },
    {
      "cell_type": "markdown",
      "metadata": {
        "id": "rN3jOYS_ii5m"
      },
      "source": [
        "## Title Basics"
      ]
    },
    {
      "cell_type": "code",
      "execution_count": null,
      "metadata": {
        "colab": {
          "base_uri": "https://localhost:8080/"
        },
        "id": "6neyl8ZhiGdC",
        "outputId": "8cc75c60-23d2-4881-dc59-83bc3db3fde6"
      },
      "outputs": [
        {
          "name": "stderr",
          "output_type": "stream",
          "text": [
            "File downloaded:\n",
            "\n",
            "\u001b[36m•\u001b[39m \u001b[36mtitle.basics.tsv\u001b[39m \u001b[90m<id: 1od_T5wrktmj_OousSXD1I3z_ZTRl_-gP>\u001b[39m\n",
            "\n",
            "Saved locally as:\n",
            "\n",
            "\u001b[36m•\u001b[39m \u001b[34mtitle.basics.tsv\u001b[39m\n",
            "\n"
          ]
        }
      ],
      "source": [
        "downloaded_file <- drive_download(\"title.basics.tsv\")"
      ]
    },
    {
      "cell_type": "code",
      "execution_count": null,
      "metadata": {
        "colab": {
          "base_uri": "https://localhost:8080/"
        },
        "id": "7Y15_vZniGfp",
        "outputId": "e30cefda-1a2c-495a-b977-66740aaf8d62"
      },
      "outputs": [
        {
          "name": "stderr",
          "output_type": "stream",
          "text": [
            "Warning message in fread(\"title.basics.tsv\"):\n",
            "“Found and resolved improper quoting out-of-sample. First healed line 32524: <<tt0033122\tmovie\t\"Swing it\" magistern\t\"Swing it\" magistern\t0\t1940\t\\N\t92\tComedy,Music>>. If the fields are not quoted (e.g. field separator does not appear within any field), try quote=\"\" to avoid this warning.”\n"
          ]
        }
      ],
      "source": [
        "tb <- fread(\"title.basics.tsv\")"
      ]
    },
    {
      "cell_type": "code",
      "execution_count": null,
      "metadata": {
        "id": "DfNCNidFiGjK"
      },
      "outputs": [],
      "source": [
        "tb <- tb %>% mutate(across(where(is.character), ~na_if(.,\"\\\\N\")))"
      ]
    },
    {
      "cell_type": "code",
      "execution_count": null,
      "metadata": {
        "id": "WubJBoM3iG3i"
      },
      "outputs": [],
      "source": [
        "tb$titleType = as.factor(tb$titleType)\n",
        "tb <- tb %>% mutate(genres = strsplit(genres, split=','))\n",
        "tb$isAdult = as.logical(tb$isAdult)\n",
        "tb$startYear = as.integer(tb$startYear)\n",
        "tb$endYear = as.integer(tb$endYear)\n",
        "tb$runtimeMinutes = as.integer(tb$runtimeMinutes)"
      ]
    },
    {
      "cell_type": "code",
      "execution_count": null,
      "metadata": {
        "colab": {
          "base_uri": "https://localhost:8080/",
          "height": 34
        },
        "id": "Vcbm8X0ijgJo",
        "outputId": "8fa70e71-fa8f-4b37-e7de-2734a921176b"
      },
      "outputs": [
        {
          "data": {
            "text/html": [
              "<style>\n",
              ".list-inline {list-style: none; margin:0; padding: 0}\n",
              ".list-inline>li {display: inline-block}\n",
              ".list-inline>li:not(:last-child)::after {content: \"\\00b7\"; padding: 0 .5ex}\n",
              "</style>\n",
              "<ol class=list-inline><li>9267897</li><li>9</li></ol>\n"
            ],
            "text/latex": "\\begin{enumerate*}\n\\item 9267897\n\\item 9\n\\end{enumerate*}\n",
            "text/markdown": "1. 9267897\n2. 9\n\n\n",
            "text/plain": [
              "[1] 9267897       9"
            ]
          },
          "metadata": {},
          "output_type": "display_data"
        }
      ],
      "source": [
        "dim(tb)"
      ]
    },
    {
      "cell_type": "code",
      "execution_count": null,
      "metadata": {
        "id": "K1_EevuRc4DP"
      },
      "outputs": [],
      "source": [
        "#so Rastio found other types?? maybe I have cleaned them out...\n",
        "title_types <- tb %>% select(titleType) %>% distinct()"
      ]
    },
    {
      "cell_type": "code",
      "execution_count": null,
      "metadata": {
        "colab": {
          "base_uri": "https://localhost:8080/",
          "height": 156
        },
        "id": "nQPLoiTIjFRa",
        "outputId": "3696af10-d89a-4a51-c065-74add475d210"
      },
      "outputs": [
        {
          "data": {
            "text/plain": [
              "     titleType      \n",
              " tvEpisode:6990140  \n",
              " short    : 892396  \n",
              " movie    : 622830  \n",
              " video    : 265766  \n",
              " tvSeries : 231970  \n",
              " tvMovie  : 137748  \n",
              " (Other)  : 127047  "
            ]
          },
          "metadata": {},
          "output_type": "display_data"
        }
      ],
      "source": [
        "tb %>% select(titleType) %>% summary #summary is unnecessary now"
      ]
    },
    {
      "cell_type": "code",
      "execution_count": null,
      "metadata": {
        "id": "aeJJ-B8GjFcj"
      },
      "outputs": [],
      "source": [
        "tb_f <- tb[titleType == \"tvSeries\" | titleType == \"tvEpisode\"]"
      ]
    },
    {
      "cell_type": "code",
      "execution_count": null,
      "metadata": {
        "colab": {
          "base_uri": "https://localhost:8080/",
          "height": 34
        },
        "id": "nEeM0hFxjkAn",
        "outputId": "3511dd64-d421-47cf-a18f-b534316d7991"
      },
      "outputs": [
        {
          "data": {
            "text/html": [
              "<style>\n",
              ".list-inline {list-style: none; margin:0; padding: 0}\n",
              ".list-inline>li {display: inline-block}\n",
              ".list-inline>li:not(:last-child)::after {content: \"\\00b7\"; padding: 0 .5ex}\n",
              "</style>\n",
              "<ol class=list-inline><li>7222110</li><li>9</li></ol>\n"
            ],
            "text/latex": "\\begin{enumerate*}\n\\item 7222110\n\\item 9\n\\end{enumerate*}\n",
            "text/markdown": "1. 7222110\n2. 9\n\n\n",
            "text/plain": [
              "[1] 7222110       9"
            ]
          },
          "metadata": {},
          "output_type": "display_data"
        }
      ],
      "source": [
        "dim(tb_f)"
      ]
    },
    {
      "cell_type": "code",
      "execution_count": null,
      "metadata": {
        "colab": {
          "base_uri": "https://localhost:8080/",
          "height": 156
        },
        "id": "D5-Fm5q4jPc1",
        "outputId": "0120b9dd-e937-4114-d132-71b880844856"
      },
      "outputs": [
        {
          "data": {
            "text/plain": [
              "        titleType      \n",
              " tvEpisode   :6990140  \n",
              " tvSeries    : 231970  \n",
              " movie       :      0  \n",
              " short       :      0  \n",
              " tvMiniSeries:      0  \n",
              " tvMovie     :      0  \n",
              " (Other)     :      0  "
            ]
          },
          "metadata": {},
          "output_type": "display_data"
        }
      ],
      "source": [
        "tb_f %>% select(titleType) %>% summary"
      ]
    },
    {
      "cell_type": "code",
      "execution_count": null,
      "metadata": {
        "colab": {
          "base_uri": "https://localhost:8080/",
          "height": 495
        },
        "id": "pqxvBdJgjtya",
        "outputId": "1f69089d-451f-4355-af1f-f9fd71dce1a2"
      },
      "outputs": [
        {
          "data": {
            "text/html": [
              "<table class=\"dataframe\">\n",
              "<caption>A data.table: 6 × 9</caption>\n",
              "<thead>\n",
              "\t<tr><th scope=col>tconst</th><th scope=col>titleType</th><th scope=col>primaryTitle</th><th scope=col>originalTitle</th><th scope=col>isAdult</th><th scope=col>startYear</th><th scope=col>endYear</th><th scope=col>runtimeMinutes</th><th scope=col>genres</th></tr>\n",
              "\t<tr><th scope=col>&lt;chr&gt;</th><th scope=col>&lt;fct&gt;</th><th scope=col>&lt;chr&gt;</th><th scope=col>&lt;chr&gt;</th><th scope=col>&lt;lgl&gt;</th><th scope=col>&lt;int&gt;</th><th scope=col>&lt;int&gt;</th><th scope=col>&lt;int&gt;</th><th scope=col>&lt;list&gt;</th></tr>\n",
              "</thead>\n",
              "<tbody>\n",
              "\t<tr><td>tt0020666</td><td>tvEpisode</td><td>Barnacle Bill                            </td><td>Barnacle Bill                            </td><td>FALSE</td><td>1930</td><td>NA</td><td>8</td><td>Animation, Comedy   , Family   </td></tr>\n",
              "\t<tr><td>tt0020829</td><td>tvEpisode</td><td>Dizzy Dishes                             </td><td>Dizzy Dishes                             </td><td>FALSE</td><td>1930</td><td>NA</td><td>6</td><td>Animation, Comedy   , Family   </td></tr>\n",
              "\t<tr><td>tt0021166</td><td>tvEpisode</td><td>Mysterious Mose                          </td><td>Mysterious Mose                          </td><td>FALSE</td><td>1930</td><td>NA</td><td>6</td><td>Animation, Comedy   , Family   </td></tr>\n",
              "\t<tr><td>tt0021612</td><td>tvEpisode</td><td>Any Little Girl That's a Nice Little Girl</td><td>Any Little Girl That's a Nice Little Girl</td><td>FALSE</td><td>1931</td><td>NA</td><td>7</td><td>Animation, Comedy   , Family   </td></tr>\n",
              "\t<tr><td>tt0021655</td><td>tvEpisode</td><td>Betty Co-ed                              </td><td>Betty Co-ed                              </td><td>FALSE</td><td>1931</td><td>NA</td><td>6</td><td>Animation, Comedy   , Family   </td></tr>\n",
              "\t<tr><td>tt0021663</td><td>tvEpisode</td><td>Bimbo's Express                          </td><td>Bimbo's Express                          </td><td>FALSE</td><td>1931</td><td>NA</td><td>7</td><td>Animation, Comedy   , Family   </td></tr>\n",
              "</tbody>\n",
              "</table>\n"
            ],
            "text/latex": "A data.table: 6 × 9\n\\begin{tabular}{lllllllll}\n tconst & titleType & primaryTitle & originalTitle & isAdult & startYear & endYear & runtimeMinutes & genres\\\\\n <chr> & <fct> & <chr> & <chr> & <lgl> & <int> & <int> & <int> & <list>\\\\\n\\hline\n\t tt0020666 & tvEpisode & Barnacle Bill                             & Barnacle Bill                             & FALSE & 1930 & NA & 8 & Animation, Comedy   , Family   \\\\\n\t tt0020829 & tvEpisode & Dizzy Dishes                              & Dizzy Dishes                              & FALSE & 1930 & NA & 6 & Animation, Comedy   , Family   \\\\\n\t tt0021166 & tvEpisode & Mysterious Mose                           & Mysterious Mose                           & FALSE & 1930 & NA & 6 & Animation, Comedy   , Family   \\\\\n\t tt0021612 & tvEpisode & Any Little Girl That's a Nice Little Girl & Any Little Girl That's a Nice Little Girl & FALSE & 1931 & NA & 7 & Animation, Comedy   , Family   \\\\\n\t tt0021655 & tvEpisode & Betty Co-ed                               & Betty Co-ed                               & FALSE & 1931 & NA & 6 & Animation, Comedy   , Family   \\\\\n\t tt0021663 & tvEpisode & Bimbo's Express                           & Bimbo's Express                           & FALSE & 1931 & NA & 7 & Animation, Comedy   , Family   \\\\\n\\end{tabular}\n",
            "text/markdown": "\nA data.table: 6 × 9\n\n| tconst &lt;chr&gt; | titleType &lt;fct&gt; | primaryTitle &lt;chr&gt; | originalTitle &lt;chr&gt; | isAdult &lt;lgl&gt; | startYear &lt;int&gt; | endYear &lt;int&gt; | runtimeMinutes &lt;int&gt; | genres &lt;list&gt; |\n|---|---|---|---|---|---|---|---|---|\n| tt0020666 | tvEpisode | Barnacle Bill                             | Barnacle Bill                             | FALSE | 1930 | NA | 8 | Animation, Comedy   , Family    |\n| tt0020829 | tvEpisode | Dizzy Dishes                              | Dizzy Dishes                              | FALSE | 1930 | NA | 6 | Animation, Comedy   , Family    |\n| tt0021166 | tvEpisode | Mysterious Mose                           | Mysterious Mose                           | FALSE | 1930 | NA | 6 | Animation, Comedy   , Family    |\n| tt0021612 | tvEpisode | Any Little Girl That's a Nice Little Girl | Any Little Girl That's a Nice Little Girl | FALSE | 1931 | NA | 7 | Animation, Comedy   , Family    |\n| tt0021655 | tvEpisode | Betty Co-ed                               | Betty Co-ed                               | FALSE | 1931 | NA | 6 | Animation, Comedy   , Family    |\n| tt0021663 | tvEpisode | Bimbo's Express                           | Bimbo's Express                           | FALSE | 1931 | NA | 7 | Animation, Comedy   , Family    |\n\n",
            "text/plain": [
              "  tconst    titleType primaryTitle                             \n",
              "1 tt0020666 tvEpisode Barnacle Bill                            \n",
              "2 tt0020829 tvEpisode Dizzy Dishes                             \n",
              "3 tt0021166 tvEpisode Mysterious Mose                          \n",
              "4 tt0021612 tvEpisode Any Little Girl That's a Nice Little Girl\n",
              "5 tt0021655 tvEpisode Betty Co-ed                              \n",
              "6 tt0021663 tvEpisode Bimbo's Express                          \n",
              "  originalTitle                             isAdult startYear endYear\n",
              "1 Barnacle Bill                             FALSE   1930      NA     \n",
              "2 Dizzy Dishes                              FALSE   1930      NA     \n",
              "3 Mysterious Mose                           FALSE   1930      NA     \n",
              "4 Any Little Girl That's a Nice Little Girl FALSE   1931      NA     \n",
              "5 Betty Co-ed                               FALSE   1931      NA     \n",
              "6 Bimbo's Express                           FALSE   1931      NA     \n",
              "  runtimeMinutes genres                         \n",
              "1 8              Animation, Comedy   , Family   \n",
              "2 6              Animation, Comedy   , Family   \n",
              "3 6              Animation, Comedy   , Family   \n",
              "4 7              Animation, Comedy   , Family   \n",
              "5 6              Animation, Comedy   , Family   \n",
              "6 7              Animation, Comedy   , Family   "
            ]
          },
          "metadata": {},
          "output_type": "display_data"
        }
      ],
      "source": [
        "head(tb_f)"
      ]
    },
    {
      "cell_type": "markdown",
      "metadata": {
        "id": "i8cLKqoyeRC9"
      },
      "source": [
        "### Filtering\n"
      ]
    },
    {
      "cell_type": "code",
      "execution_count": null,
      "metadata": {
        "id": "nth_62WzeTwM"
      },
      "outputs": [],
      "source": [
        "#from Ras\n",
        "tv_only <- data_basics %>% filter(titleType %in% c('tvSeries', 'tvEpisode', 'tvMiniSeries', 'tvPilot'))\n",
        "joined <- merge(tv_only, data_ratings, by.x = \"tconst\", \n",
        "             by.y = \"tconst\", all.x = FALSE, all.y = FALSE)"
      ]
    },
    {
      "cell_type": "code",
      "execution_count": null,
      "metadata": {
        "id": "ed3ez2yQexX5"
      },
      "outputs": [],
      "source": [
        "fwrite(crew_filtered, file = \"/content/crew_filtered\", sep=\"\\t\", na = \"\\\\N\", quote = FALSE, sep2 = c(\"\",\",\",\"\"))"
      ]
    },
    {
      "cell_type": "code",
      "execution_count": null,
      "metadata": {
        "id": "71B90PDXe7-7"
      },
      "outputs": [],
      "source": [
        "names_filtered <- data_names %>% filter(nconst %in% data_principals$nconst)\n",
        "aka_filtered <- data_aka %>% filter(titleId %in% joined$tconst)\n",
        "crew_filtered <- data_crew %>% filter(tconst %in% joined$tconst)\n",
        "data_principals <- data_principals %>% filter(tconst %in% joined$tconst)\n",
        "data_episodes <- data_episodes %>% filter(tconst %in% joined$tconst)"
      ]
    },
    {
      "cell_type": "code",
      "execution_count": null,
      "metadata": {
        "id": "NFWn5Sy4e17f"
      },
      "outputs": [],
      "source": [
        "gc() #who this??"
      ]
    },
    {
      "cell_type": "markdown",
      "metadata": {
        "id": "eCss_8vRj60X"
      },
      "source": [
        "## Title akas"
      ]
    },
    {
      "cell_type": "code",
      "execution_count": null,
      "metadata": {
        "colab": {
          "base_uri": "https://localhost:8080/"
        },
        "id": "5fiaemnVkZOs",
        "outputId": "09f1c9e4-a597-4cc5-a704-d1edcf20fefe"
      },
      "outputs": [
        {
          "name": "stderr",
          "output_type": "stream",
          "text": [
            "File downloaded:\n",
            "\n",
            "\u001b[36m•\u001b[39m \u001b[36mtitle.akas.tsv\u001b[39m \u001b[90m<id: 17NeCUiot24tcvpmtZVDH2VnEj_Sn6j83>\u001b[39m\n",
            "\n",
            "Saved locally as:\n",
            "\n",
            "\u001b[36m•\u001b[39m \u001b[34mtitle.akas.tsv\u001b[39m\n",
            "\n"
          ]
        }
      ],
      "source": [
        "downloaded_file <- drive_download(\"title.akas.tsv\")"
      ]
    },
    {
      "cell_type": "code",
      "execution_count": null,
      "metadata": {
        "colab": {
          "base_uri": "https://localhost:8080/"
        },
        "id": "W3DR6n6Akdma",
        "outputId": "e227d2bd-fb10-4d11-8f57-d8ed8a446b3c"
      },
      "outputs": [
        {
          "name": "stderr",
          "output_type": "stream",
          "text": [
            "Warning message in fread(\"title.akas.tsv\"):\n",
            "“Found and resolved improper quoting out-of-sample. First healed line 178374: <<tt0033122\t4\t\"Swing it\" magistern\tSE\t\\N\timdbDisplay\t\\N\t0>>. If the fields are not quoted (e.g. field separator does not appear within any field), try quote=\"\" to avoid this warning.”\n"
          ]
        }
      ],
      "source": [
        "ta <- fread(\"title.akas.tsv\")"
      ]
    },
    {
      "cell_type": "code",
      "execution_count": null,
      "metadata": {
        "id": "cMrglU0ckplZ"
      },
      "outputs": [],
      "source": [
        "ta <- ta %>% mutate(across(where(is.character), ~na_if(.,\"\\\\N\")))"
      ]
    },
    {
      "cell_type": "code",
      "execution_count": null,
      "metadata": {
        "id": "8WYVno-2k6L8"
      },
      "outputs": [],
      "source": [
        "ta$types = as.factor(ta$types)\n",
        "ta$isOriginalTitle <- as.logical(as.numeric(ta$isOriginalTitle))"
      ]
    },
    {
      "cell_type": "code",
      "execution_count": null,
      "metadata": {
        "colab": {
          "base_uri": "https://localhost:8080/",
          "height": 34
        },
        "id": "RFlxw2IjlHn4",
        "outputId": "fb47e0e5-3407-4c41-cb45-855c1eecb7fd"
      },
      "outputs": [
        {
          "data": {
            "text/html": [
              "<style>\n",
              ".list-inline {list-style: none; margin:0; padding: 0}\n",
              ".list-inline>li {display: inline-block}\n",
              ".list-inline>li:not(:last-child)::after {content: \"\\00b7\"; padding: 0 .5ex}\n",
              "</style>\n",
              "<ol class=list-inline><li>33426498</li><li>8</li></ol>\n"
            ],
            "text/latex": "\\begin{enumerate*}\n\\item 33426498\n\\item 8\n\\end{enumerate*}\n",
            "text/markdown": "1. 33426498\n2. 8\n\n\n",
            "text/plain": [
              "[1] 33426498        8"
            ]
          },
          "metadata": {},
          "output_type": "display_data"
        }
      ],
      "source": [
        "dim(ta)"
      ]
    },
    {
      "cell_type": "code",
      "execution_count": null,
      "metadata": {
        "colab": {
          "base_uri": "https://localhost:8080/",
          "height": 286
        },
        "id": "4KYxTuMLlb3J",
        "outputId": "29611c58-77fd-4b10-9568-e4c63fb7ff28"
      },
      "outputs": [
        {
          "data": {
            "text/html": [
              "<table class=\"dataframe\">\n",
              "<caption>A data.table: 6 × 8</caption>\n",
              "<thead>\n",
              "\t<tr><th scope=col>titleId</th><th scope=col>ordering</th><th scope=col>title</th><th scope=col>region</th><th scope=col>language</th><th scope=col>types</th><th scope=col>attributes</th><th scope=col>isOriginalTitle</th></tr>\n",
              "\t<tr><th scope=col>&lt;chr&gt;</th><th scope=col>&lt;int&gt;</th><th scope=col>&lt;chr&gt;</th><th scope=col>&lt;chr&gt;</th><th scope=col>&lt;chr&gt;</th><th scope=col>&lt;fct&gt;</th><th scope=col>&lt;chr&gt;</th><th scope=col>&lt;lgl&gt;</th></tr>\n",
              "</thead>\n",
              "<tbody>\n",
              "\t<tr><td>tt0000001</td><td>1</td><td>Карменсіта               </td><td>UA</td><td>NA</td><td>imdbDisplay</td><td>NA           </td><td>FALSE</td></tr>\n",
              "\t<tr><td>tt0000001</td><td>2</td><td>Carmencita               </td><td>DE</td><td>NA</td><td>NA         </td><td>literal title</td><td>FALSE</td></tr>\n",
              "\t<tr><td>tt0000001</td><td>3</td><td>Carmencita - spanyol tánc</td><td>HU</td><td>NA</td><td>imdbDisplay</td><td>NA           </td><td>FALSE</td></tr>\n",
              "\t<tr><td>tt0000001</td><td>4</td><td>Καρμενσίτα               </td><td>GR</td><td>NA</td><td>imdbDisplay</td><td>NA           </td><td>FALSE</td></tr>\n",
              "\t<tr><td>tt0000001</td><td>5</td><td>Карменсита               </td><td>RU</td><td>NA</td><td>imdbDisplay</td><td>NA           </td><td>FALSE</td></tr>\n",
              "\t<tr><td>tt0000001</td><td>6</td><td>Carmencita               </td><td>US</td><td>NA</td><td>imdbDisplay</td><td>NA           </td><td>FALSE</td></tr>\n",
              "</tbody>\n",
              "</table>\n"
            ],
            "text/latex": "A data.table: 6 × 8\n\\begin{tabular}{llllllll}\n titleId & ordering & title & region & language & types & attributes & isOriginalTitle\\\\\n <chr> & <int> & <chr> & <chr> & <chr> & <fct> & <chr> & <lgl>\\\\\n\\hline\n\t tt0000001 & 1 & Карменсіта                & UA & NA & imdbDisplay & NA            & FALSE\\\\\n\t tt0000001 & 2 & Carmencita                & DE & NA & NA          & literal title & FALSE\\\\\n\t tt0000001 & 3 & Carmencita - spanyol tánc & HU & NA & imdbDisplay & NA            & FALSE\\\\\n\t tt0000001 & 4 & Καρμενσίτα                & GR & NA & imdbDisplay & NA            & FALSE\\\\\n\t tt0000001 & 5 & Карменсита                & RU & NA & imdbDisplay & NA            & FALSE\\\\\n\t tt0000001 & 6 & Carmencita                & US & NA & imdbDisplay & NA            & FALSE\\\\\n\\end{tabular}\n",
            "text/markdown": "\nA data.table: 6 × 8\n\n| titleId &lt;chr&gt; | ordering &lt;int&gt; | title &lt;chr&gt; | region &lt;chr&gt; | language &lt;chr&gt; | types &lt;fct&gt; | attributes &lt;chr&gt; | isOriginalTitle &lt;lgl&gt; |\n|---|---|---|---|---|---|---|---|\n| tt0000001 | 1 | Карменсіта                | UA | NA | imdbDisplay | NA            | FALSE |\n| tt0000001 | 2 | Carmencita                | DE | NA | NA          | literal title | FALSE |\n| tt0000001 | 3 | Carmencita - spanyol tánc | HU | NA | imdbDisplay | NA            | FALSE |\n| tt0000001 | 4 | Καρμενσίτα                | GR | NA | imdbDisplay | NA            | FALSE |\n| tt0000001 | 5 | Карменсита                | RU | NA | imdbDisplay | NA            | FALSE |\n| tt0000001 | 6 | Carmencita                | US | NA | imdbDisplay | NA            | FALSE |\n\n",
            "text/plain": [
              "  titleId   ordering title                     region language types      \n",
              "1 tt0000001 1        Карменсіта                UA     NA       imdbDisplay\n",
              "2 tt0000001 2        Carmencita                DE     NA       NA         \n",
              "3 tt0000001 3        Carmencita - spanyol tánc HU     NA       imdbDisplay\n",
              "4 tt0000001 4        Καρμενσίτα                GR     NA       imdbDisplay\n",
              "5 tt0000001 5        Карменсита                RU     NA       imdbDisplay\n",
              "6 tt0000001 6        Carmencita                US     NA       imdbDisplay\n",
              "  attributes    isOriginalTitle\n",
              "1 NA            FALSE          \n",
              "2 literal title FALSE          \n",
              "3 NA            FALSE          \n",
              "4 NA            FALSE          \n",
              "5 NA            FALSE          \n",
              "6 NA            FALSE          "
            ]
          },
          "metadata": {},
          "output_type": "display_data"
        }
      ],
      "source": [
        "head(ta)"
      ]
    },
    {
      "cell_type": "markdown",
      "metadata": {
        "id": "2I211JSrj9ZA"
      },
      "source": [
        "## Title crew"
      ]
    },
    {
      "cell_type": "code",
      "execution_count": null,
      "metadata": {
        "id": "4Wqa42d5lv1r"
      },
      "outputs": [],
      "source": [
        "downloaded_file <- drive_download(\"title.crew.tsv\")"
      ]
    },
    {
      "cell_type": "code",
      "execution_count": null,
      "metadata": {
        "id": "DCCnFWtKlzj1"
      },
      "outputs": [],
      "source": [
        "tc <- fread(\"title.crew.tsv\")"
      ]
    },
    {
      "cell_type": "code",
      "execution_count": null,
      "metadata": {
        "id": "RmOWg8GDmpdz"
      },
      "outputs": [],
      "source": [
        "tc <- tc %>% mutate(across(where(is.character), ~na_if(.,\"\\\\N\")))"
      ]
    },
    {
      "cell_type": "code",
      "execution_count": null,
      "metadata": {
        "id": "jUOo-1MgmtqK"
      },
      "outputs": [],
      "source": [
        "tc <- tc %>% mutate(directors = strsplit(directors, split=','), writers = strsplit(writers, split=','))"
      ]
    },
    {
      "cell_type": "markdown",
      "metadata": {
        "id": "XuP8qk5Dj9dg"
      },
      "source": [
        "## Name basics"
      ]
    },
    {
      "cell_type": "code",
      "execution_count": null,
      "metadata": {
        "colab": {
          "base_uri": "https://localhost:8080/"
        },
        "id": "r7vyiIYUmLjy",
        "outputId": "508a80dc-630f-4af0-f58f-4be89cc6b19b"
      },
      "outputs": [
        {
          "name": "stderr",
          "output_type": "stream",
          "text": [
            "File downloaded:\n",
            "\n",
            "\u001b[36m•\u001b[39m \u001b[36mname.basics.tsv\u001b[39m \u001b[90m<id: 1J3miW74xW4jYUHGxyDVMxeugqAx4fQfA>\u001b[39m\n",
            "\n",
            "Saved locally as:\n",
            "\n",
            "\u001b[36m•\u001b[39m \u001b[34mname.basics.tsv\u001b[39m\n",
            "\n"
          ]
        }
      ],
      "source": [
        "downloaded_file <- drive_download(\"name.basics.tsv\")"
      ]
    },
    {
      "cell_type": "code",
      "execution_count": null,
      "metadata": {
        "colab": {
          "base_uri": "https://localhost:8080/"
        },
        "id": "_OCh3RvmmB35",
        "outputId": "5e3a9c6f-8342-4f96-9bcf-0fd7fc948cf5"
      },
      "outputs": [
        {
          "name": "stderr",
          "output_type": "stream",
          "text": [
            "Warning message in fread(\"name.basics.tsv\"):\n",
            "“Found and resolved improper quoting out-of-sample. First healed line 3431972: <<nm12624491\t\"Testing Title 15\" (2021)\t\\N\t\\N\t\t\\N>>. If the fields are not quoted (e.g. field separator does not appear within any field), try quote=\"\" to avoid this warning.”\n"
          ]
        }
      ],
      "source": [
        "nb <- fread(\"name.basics.tsv\")\n",
        "nb[primaryProfession == \"\", primaryProfession := NA]\n",
        "nb <- nb %>% mutate(across(where(is.character), ~na_if(.,\"\\\\N\")))"
      ]
    },
    {
      "cell_type": "code",
      "execution_count": null,
      "metadata": {
        "id": "QbIil6NmnSX9"
      },
      "outputs": [],
      "source": [
        "nb$birthYear = as.integer(nb$birthYear)\n",
        "nb$deathYear = as.integer(nb$deathYear)\n",
        "nb <- nb %>% mutate(primaryProfession = strsplit(primaryProfession, split=','))\n",
        "nb <- nb %>% mutate(knownForTitles = strsplit(knownForTitles, split=','))"
      ]
    },
    {
      "cell_type": "code",
      "execution_count": null,
      "metadata": {
        "id": "vqTYETNwpdMk"
      },
      "outputs": [],
      "source": [
        "head(nb)"
      ]
    },
    {
      "cell_type": "markdown",
      "metadata": {
        "id": "9ajrqYcvj9gw"
      },
      "source": [
        "## Title principals"
      ]
    },
    {
      "cell_type": "code",
      "execution_count": null,
      "metadata": {
        "id": "m9S0yzocl-fV"
      },
      "outputs": [],
      "source": [
        "downloaded_file <- drive_download(\"title.principals.tsv\")"
      ]
    },
    {
      "cell_type": "code",
      "execution_count": null,
      "metadata": {
        "id": "KCVPr7mAl9M8"
      },
      "outputs": [],
      "source": [
        "tp <- fread(\"title.principals.tsv\")\n",
        "tp <- tp %>% mutate(across(where(is.character), ~na_if(.,\"\\\\N\")))"
      ]
    },
    {
      "cell_type": "code",
      "execution_count": null,
      "metadata": {
        "id": "pzh6R22VpY98"
      },
      "outputs": [],
      "source": [
        "tp$category = as.factor(tp$category)\n",
        "tp$job = as.factor(tp$job)"
      ]
    },
    {
      "cell_type": "code",
      "execution_count": null,
      "metadata": {
        "id": "dze4m19-phMY"
      },
      "outputs": [],
      "source": [
        "head(tp)"
      ]
    },
    {
      "cell_type": "markdown",
      "metadata": {
        "id": "SAe_Gulij9ke"
      },
      "source": [
        "## Title episode"
      ]
    },
    {
      "cell_type": "code",
      "execution_count": null,
      "metadata": {
        "id": "mfkJZJn7mSAk"
      },
      "outputs": [],
      "source": [
        "downloaded_file <- drive_download(\"title.episode.tsv\")"
      ]
    },
    {
      "cell_type": "code",
      "execution_count": null,
      "metadata": {
        "id": "Y5ahjkwbmFEe"
      },
      "outputs": [],
      "source": [
        "te <- fread(\"title.episode.tsv\")\n",
        "te <- te %>% mutate(across(where(is.character), ~na_if(.,\"\\\\N\")))"
      ]
    },
    {
      "cell_type": "code",
      "execution_count": null,
      "metadata": {
        "id": "PuiIVgcOqF9q"
      },
      "outputs": [],
      "source": [
        "head(te)"
      ]
    },
    {
      "cell_type": "markdown",
      "metadata": {
        "id": "zd0HTFH_j9oj"
      },
      "source": [
        "## Title ratings"
      ]
    },
    {
      "cell_type": "code",
      "execution_count": null,
      "metadata": {
        "id": "e30PuhyAmUmA"
      },
      "outputs": [],
      "source": [
        "downloaded_file <- drive_download(\"title.ratings.tsv\")"
      ]
    },
    {
      "cell_type": "code",
      "execution_count": null,
      "metadata": {
        "id": "3AcLVzyWl4BJ"
      },
      "outputs": [],
      "source": [
        "tr <- fread(\"title.ratings.tsv\")\n",
        "tr <- tr %>% mutate(across(where(is.character), ~na_if(.,\"\\\\N\")))"
      ]
    },
    {
      "cell_type": "code",
      "execution_count": null,
      "metadata": {
        "id": "FHtOmmyaqJMj"
      },
      "outputs": [],
      "source": [
        "head(tr)"
      ]
    },
    {
      "cell_type": "markdown",
      "metadata": {
        "id": "JC17Z5iCj9sF"
      },
      "source": []
    },
    {
      "cell_type": "markdown",
      "source": [
        "# **Actual project part !!!!!**"
      ],
      "metadata": {
        "id": "QR-nnVvaeQPI"
      }
    },
    {
      "cell_type": "markdown",
      "source": [
        "## Uploading filtered data from Rastio"
      ],
      "metadata": {
        "id": "vY56kDLWeWuQ"
      }
    },
    {
      "cell_type": "code",
      "source": [
        "downloaded_file <- drive_download(\"names_filtered_new.tsv\")"
      ],
      "metadata": {
        "colab": {
          "base_uri": "https://localhost:8080/"
        },
        "id": "MYi30qVEf7D5",
        "outputId": "768fcce3-305a-4a50-95fb-23a696c7aac2"
      },
      "execution_count": 10,
      "outputs": [
        {
          "output_type": "stream",
          "name": "stderr",
          "text": [
            "File downloaded:\n",
            "\n",
            "\u001b[36m•\u001b[39m \u001b[36mnames_filtered_new.tsv\u001b[39m \u001b[90m<id: 16GrEWKBw-7F0pzWCmSJ_o1feRchTG_b9>\u001b[39m\n",
            "\n",
            "Saved locally as:\n",
            "\n",
            "\u001b[36m•\u001b[39m \u001b[34mnames_filtered_new.tsv\u001b[39m\n",
            "\n"
          ]
        }
      ]
    },
    {
      "cell_type": "code",
      "source": [
        "nmf <- fread(\"names_filtered_new.tsv\")"
      ],
      "metadata": {
        "id": "uCTb-u7WglJt"
      },
      "execution_count": 14,
      "outputs": []
    },
    {
      "cell_type": "code",
      "source": [
        "head(nmf)"
      ],
      "metadata": {
        "colab": {
          "base_uri": "https://localhost:8080/",
          "height": 286
        },
        "id": "WFugccZjgsYO",
        "outputId": "d879df5f-744a-4091-d9cf-56a4deb180ce"
      },
      "execution_count": 15,
      "outputs": [
        {
          "output_type": "display_data",
          "data": {
            "text/html": [
              "<table class=\"dataframe\">\n",
              "<caption>A data.table: 6 × 8</caption>\n",
              "<thead>\n",
              "\t<tr><th scope=col>nconst</th><th scope=col>primaryName</th><th scope=col>birthYear</th><th scope=col>deathYear</th><th scope=col>primaryProfession</th><th scope=col>ratings_total</th><th scope=col>avg_rating</th><th scope=col>n</th></tr>\n",
              "\t<tr><th scope=col>&lt;chr&gt;</th><th scope=col>&lt;chr&gt;</th><th scope=col>&lt;chr&gt;</th><th scope=col>&lt;chr&gt;</th><th scope=col>&lt;chr&gt;</th><th scope=col>&lt;int&gt;</th><th scope=col>&lt;chr&gt;</th><th scope=col>&lt;int&gt;</th></tr>\n",
              "</thead>\n",
              "<tbody>\n",
              "\t<tr><td>nm1217514 </td><td>Rodrigo Ordoñez</td><td>1972</td><td>\\N</td><td>writer,director,assistant_director        </td><td>   358</td><td>6.375           </td><td>4</td></tr>\n",
              "\t<tr><td>nm1217515 </td><td>Suze Orman     </td><td>1951</td><td>\\N</td><td>producer,actress                          </td><td>528315</td><td>7.925           </td><td>4</td></tr>\n",
              "\t<tr><td>nm1217519 </td><td>Yaky Ortega    </td><td>\\N </td><td>\\N</td><td>director,miscellaneous                    </td><td>   468</td><td>7.03333333333333</td><td>4</td></tr>\n",
              "\t<tr><td>nm1217520 </td><td>David Ortkiese </td><td>\\N </td><td>\\N</td><td>camera_department,cinematographer,director</td><td> 89978</td><td>4.875           </td><td>4</td></tr>\n",
              "\t<tr><td>nm12175321</td><td>Christa Biyela </td><td>\\N </td><td>\\N</td><td>writer                                    </td><td>     8</td><td>7.5             </td><td>1</td></tr>\n",
              "\t<tr><td>nm1217536 </td><td>Susanna Palin  </td><td>\\N </td><td>\\N</td><td>assistant_director,writer,soundtrack      </td><td>  1741</td><td>4.5             </td><td>4</td></tr>\n",
              "</tbody>\n",
              "</table>\n"
            ],
            "text/markdown": "\nA data.table: 6 × 8\n\n| nconst &lt;chr&gt; | primaryName &lt;chr&gt; | birthYear &lt;chr&gt; | deathYear &lt;chr&gt; | primaryProfession &lt;chr&gt; | ratings_total &lt;int&gt; | avg_rating &lt;chr&gt; | n &lt;int&gt; |\n|---|---|---|---|---|---|---|---|\n| nm1217514  | Rodrigo Ordoñez | 1972 | \\N | writer,director,assistant_director         |    358 | 6.375            | 4 |\n| nm1217515  | Suze Orman      | 1951 | \\N | producer,actress                           | 528315 | 7.925            | 4 |\n| nm1217519  | Yaky Ortega     | \\N  | \\N | director,miscellaneous                     |    468 | 7.03333333333333 | 4 |\n| nm1217520  | David Ortkiese  | \\N  | \\N | camera_department,cinematographer,director |  89978 | 4.875            | 4 |\n| nm12175321 | Christa Biyela  | \\N  | \\N | writer                                     |      8 | 7.5              | 1 |\n| nm1217536  | Susanna Palin   | \\N  | \\N | assistant_director,writer,soundtrack       |   1741 | 4.5              | 4 |\n\n",
            "text/latex": "A data.table: 6 × 8\n\\begin{tabular}{llllllll}\n nconst & primaryName & birthYear & deathYear & primaryProfession & ratings\\_total & avg\\_rating & n\\\\\n <chr> & <chr> & <chr> & <chr> & <chr> & <int> & <chr> & <int>\\\\\n\\hline\n\t nm1217514  & Rodrigo Ordoñez & 1972 & \\textbackslash{}N & writer,director,assistant\\_director         &    358 & 6.375            & 4\\\\\n\t nm1217515  & Suze Orman      & 1951 & \\textbackslash{}N & producer,actress                           & 528315 & 7.925            & 4\\\\\n\t nm1217519  & Yaky Ortega     & \\textbackslash{}N  & \\textbackslash{}N & director,miscellaneous                     &    468 & 7.03333333333333 & 4\\\\\n\t nm1217520  & David Ortkiese  & \\textbackslash{}N  & \\textbackslash{}N & camera\\_department,cinematographer,director &  89978 & 4.875            & 4\\\\\n\t nm12175321 & Christa Biyela  & \\textbackslash{}N  & \\textbackslash{}N & writer                                     &      8 & 7.5              & 1\\\\\n\t nm1217536  & Susanna Palin   & \\textbackslash{}N  & \\textbackslash{}N & assistant\\_director,writer,soundtrack       &   1741 & 4.5              & 4\\\\\n\\end{tabular}\n",
            "text/plain": [
              "  nconst     primaryName     birthYear deathYear\n",
              "1 nm1217514  Rodrigo Ordoñez 1972      \\\\N      \n",
              "2 nm1217515  Suze Orman      1951      \\\\N      \n",
              "3 nm1217519  Yaky Ortega     \\\\N       \\\\N      \n",
              "4 nm1217520  David Ortkiese  \\\\N       \\\\N      \n",
              "5 nm12175321 Christa Biyela  \\\\N       \\\\N      \n",
              "6 nm1217536  Susanna Palin   \\\\N       \\\\N      \n",
              "  primaryProfession                          ratings_total avg_rating       n\n",
              "1 writer,director,assistant_director            358        6.375            4\n",
              "2 producer,actress                           528315        7.925            4\n",
              "3 director,miscellaneous                        468        7.03333333333333 4\n",
              "4 camera_department,cinematographer,director  89978        4.875            4\n",
              "5 writer                                          8        7.5              1\n",
              "6 assistant_director,writer,soundtrack         1741        4.5              4"
            ]
          },
          "metadata": {}
        }
      ]
    },
    {
      "cell_type": "code",
      "source": [
        "titles <- fread(\"title_ratings\", quote=\"\", na.strings = \"\\\\N\")\n",
        "aka <- fread(\"aka_filtered\", quote = \"\", na.strings = \"\\\\N\")\n",
        "crew <- fread(\"crew_filtered\", na.strings = \"\\\\N\")\n",
        "principals <- fread(\"principals_filtered\", quote=\"\", na.strings = \"\\\\N\")\n",
        "ep_series <- fread(\"episodes_filtered\", na.strings = \"\\\\N\")\n",
        "#names <-fread(\"names_filtered_new\", na.strings = \"\\\\N\")"
      ],
      "metadata": {
        "id": "CYMgSYrtpODd"
      },
      "execution_count": 42,
      "outputs": []
    },
    {
      "cell_type": "code",
      "source": [
        "# titles and their ratings\n",
        "head(titles, 3)\n",
        "# the names of the titles in different languages, probably not relevant\n",
        "head(aka, 3)\n",
        "# list of writers and directors for each movie\n",
        "head(crew, 3)\n",
        "# list of roles of an actor in the given movie\n",
        "head(principals, 3)\n",
        "# table tying episodes to its tvSeries\n",
        "head(ep_series, 3)\n",
        "# names of the actors with the titles they starred in\n",
        "#head(names, 3)"
      ],
      "metadata": {
        "colab": {
          "base_uri": "https://localhost:8080/",
          "height": 913
        },
        "id": "sJoEA--wpepB",
        "outputId": "78465b6b-9073-49a0-f4c3-cb8550cca845"
      },
      "execution_count": 43,
      "outputs": [
        {
          "output_type": "display_data",
          "data": {
            "text/html": [
              "<table class=\"dataframe\">\n",
              "<caption>A data.table: 3 × 10</caption>\n",
              "<thead>\n",
              "\t<tr><th scope=col>tconst</th><th scope=col>titleType</th><th scope=col>primaryTitle</th><th scope=col>originalTitle</th><th scope=col>isAdult</th><th scope=col>runtimeMinutes</th><th scope=col>genres</th><th scope=col>year</th><th scope=col>averageRating</th><th scope=col>numVotes</th></tr>\n",
              "\t<tr><th scope=col>&lt;chr&gt;</th><th scope=col>&lt;chr&gt;</th><th scope=col>&lt;chr&gt;</th><th scope=col>&lt;chr&gt;</th><th scope=col>&lt;lgl&gt;</th><th scope=col>&lt;int&gt;</th><th scope=col>&lt;chr&gt;</th><th scope=col>&lt;int&gt;</th><th scope=col>&lt;dbl&gt;</th><th scope=col>&lt;int&gt;</th></tr>\n",
              "</thead>\n",
              "<tbody>\n",
              "\t<tr><td>tt0043224</td><td>tvSeries</td><td>The Red Skelton Hour</td><td>The Red Skelton Show</td><td>FALSE</td><td>60</td><td>Comedy       </td><td>2016</td><td>8.1</td><td>1285</td></tr>\n",
              "\t<tr><td>tt0044265</td><td>tvSeries</td><td>Guiding Light       </td><td>The Guiding Light   </td><td>FALSE</td><td>60</td><td>Drama,Romance</td><td>2009</td><td>6.4</td><td>1722</td></tr>\n",
              "\t<tr><td>tt0048845</td><td>tvSeries</td><td>As the World Turns  </td><td>As the World Turns  </td><td>FALSE</td><td>60</td><td>Drama,Romance</td><td>2010</td><td>6.1</td><td>2102</td></tr>\n",
              "</tbody>\n",
              "</table>\n"
            ],
            "text/markdown": "\nA data.table: 3 × 10\n\n| tconst &lt;chr&gt; | titleType &lt;chr&gt; | primaryTitle &lt;chr&gt; | originalTitle &lt;chr&gt; | isAdult &lt;lgl&gt; | runtimeMinutes &lt;int&gt; | genres &lt;chr&gt; | year &lt;int&gt; | averageRating &lt;dbl&gt; | numVotes &lt;int&gt; |\n|---|---|---|---|---|---|---|---|---|---|\n| tt0043224 | tvSeries | The Red Skelton Hour | The Red Skelton Show | FALSE | 60 | Comedy        | 2016 | 8.1 | 1285 |\n| tt0044265 | tvSeries | Guiding Light        | The Guiding Light    | FALSE | 60 | Drama,Romance | 2009 | 6.4 | 1722 |\n| tt0048845 | tvSeries | As the World Turns   | As the World Turns   | FALSE | 60 | Drama,Romance | 2010 | 6.1 | 2102 |\n\n",
            "text/latex": "A data.table: 3 × 10\n\\begin{tabular}{llllllllll}\n tconst & titleType & primaryTitle & originalTitle & isAdult & runtimeMinutes & genres & year & averageRating & numVotes\\\\\n <chr> & <chr> & <chr> & <chr> & <lgl> & <int> & <chr> & <int> & <dbl> & <int>\\\\\n\\hline\n\t tt0043224 & tvSeries & The Red Skelton Hour & The Red Skelton Show & FALSE & 60 & Comedy        & 2016 & 8.1 & 1285\\\\\n\t tt0044265 & tvSeries & Guiding Light        & The Guiding Light    & FALSE & 60 & Drama,Romance & 2009 & 6.4 & 1722\\\\\n\t tt0048845 & tvSeries & As the World Turns   & As the World Turns   & FALSE & 60 & Drama,Romance & 2010 & 6.1 & 2102\\\\\n\\end{tabular}\n",
            "text/plain": [
              "  tconst    titleType primaryTitle         originalTitle        isAdult\n",
              "1 tt0043224 tvSeries  The Red Skelton Hour The Red Skelton Show FALSE  \n",
              "2 tt0044265 tvSeries  Guiding Light        The Guiding Light    FALSE  \n",
              "3 tt0048845 tvSeries  As the World Turns   As the World Turns   FALSE  \n",
              "  runtimeMinutes genres        year averageRating numVotes\n",
              "1 60             Comedy        2016 8.1           1285    \n",
              "2 60             Drama,Romance 2009 6.4           1722    \n",
              "3 60             Drama,Romance 2010 6.1           2102    "
            ]
          },
          "metadata": {}
        },
        {
          "output_type": "display_data",
          "data": {
            "text/html": [
              "<table class=\"dataframe\">\n",
              "<caption>A data.table: 3 × 6</caption>\n",
              "<thead>\n",
              "\t<tr><th scope=col>titleId</th><th scope=col>title</th><th scope=col>region</th><th scope=col>language</th><th scope=col>types</th><th scope=col>isOriginalTitle</th></tr>\n",
              "\t<tr><th scope=col>&lt;chr&gt;</th><th scope=col>&lt;chr&gt;</th><th scope=col>&lt;chr&gt;</th><th scope=col>&lt;chr&gt;</th><th scope=col>&lt;chr&gt;</th><th scope=col>&lt;lgl&gt;</th></tr>\n",
              "</thead>\n",
              "<tbody>\n",
              "\t<tr><td>tt0043224</td><td>The Red Skelton Hour</td><td>US  </td><td>NA</td><td>NA         </td><td>FALSE</td></tr>\n",
              "\t<tr><td>tt0043224</td><td>The Red Skelton Show</td><td>CA  </td><td>en</td><td>imdbDisplay</td><td>FALSE</td></tr>\n",
              "\t<tr><td>tt0043224</td><td>Шоу Рэда Скелтона   </td><td>SUHH</td><td>ru</td><td>imdbDisplay</td><td>FALSE</td></tr>\n",
              "</tbody>\n",
              "</table>\n"
            ],
            "text/markdown": "\nA data.table: 3 × 6\n\n| titleId &lt;chr&gt; | title &lt;chr&gt; | region &lt;chr&gt; | language &lt;chr&gt; | types &lt;chr&gt; | isOriginalTitle &lt;lgl&gt; |\n|---|---|---|---|---|---|\n| tt0043224 | The Red Skelton Hour | US   | NA | NA          | FALSE |\n| tt0043224 | The Red Skelton Show | CA   | en | imdbDisplay | FALSE |\n| tt0043224 | Шоу Рэда Скелтона    | SUHH | ru | imdbDisplay | FALSE |\n\n",
            "text/latex": "A data.table: 3 × 6\n\\begin{tabular}{llllll}\n titleId & title & region & language & types & isOriginalTitle\\\\\n <chr> & <chr> & <chr> & <chr> & <chr> & <lgl>\\\\\n\\hline\n\t tt0043224 & The Red Skelton Hour & US   & NA & NA          & FALSE\\\\\n\t tt0043224 & The Red Skelton Show & CA   & en & imdbDisplay & FALSE\\\\\n\t tt0043224 & Шоу Рэда Скелтона    & SUHH & ru & imdbDisplay & FALSE\\\\\n\\end{tabular}\n",
            "text/plain": [
              "  titleId   title                region language types       isOriginalTitle\n",
              "1 tt0043224 The Red Skelton Hour US     NA       NA          FALSE          \n",
              "2 tt0043224 The Red Skelton Show CA     en       imdbDisplay FALSE          \n",
              "3 tt0043224 Шоу Рэда Скелтона    SUHH   ru       imdbDisplay FALSE          "
            ]
          },
          "metadata": {}
        },
        {
          "output_type": "display_data",
          "data": {
            "text/html": [
              "<table class=\"dataframe\">\n",
              "<caption>A data.table: 3 × 3</caption>\n",
              "<thead>\n",
              "\t<tr><th scope=col>tconst</th><th scope=col>directors</th><th scope=col>writers</th></tr>\n",
              "\t<tr><th scope=col>&lt;chr&gt;</th><th scope=col>&lt;chr&gt;</th><th scope=col>&lt;chr&gt;</th></tr>\n",
              "</thead>\n",
              "<tbody>\n",
              "\t<tr><td>tt0043224</td><td>nm0477438,nm0054846,nm1096821,nm0705228,nm0120437,nm0076971,nm0387695,nm0232902,nm1097266,nm1637827                                                                                                                                                                                                                                                                                                                                                                                                                                    </td><td>nm0804026,nm0639495,nm0680226,nm0777442,nm0706417,nm0722289,nm1640023,nm0338876,nm0326239,nm0777129,nm0414633,nm0288997,nm1520544,nm0799745,nm0615080,nm0293159,nm0771627,nm0918826,nm0410536,nm2204703,nm0397170,nm0917200,nm0594174,nm0917026,nm0566588,nm0288816,nm3123274,nm0051332,nm2964448,nm0237341,nm0329085,nm1034110,nm3110698,nm0516015,nm0057677,nm0578441,nm0814068,nm0081748,nm0606806,nm0639787,nm0432188,nm0498586,nm0743232,nm2198070,nm0743259,nm0777202,nm0380890,nm2915847,nm0377958,nm1290769,nm7410201,nm0545131,nm0655462,nm3201019,nm0001992,nm0399849,nm0000036                                                                                                                                                                                                                                                                                                                                                                                                                                                                                                                                                                                                                                                                                                                                                                                                                                                                                                                                                                                                                                                                                                                                                       </td></tr>\n",
              "\t<tr><td>tt0044265</td><td>nm0004098,nm0179413,nm1597578,nm1335675,nm0915727,nm0581589,nm0568114,nm0213789,nm0281224,nm0332752,nm0884037,nm0297489,nm0109586,nm0331135,nm1513459,nm0778479,nm0224683,nm0159012,nm0100841,nm0250864,nm2681961,nm1273119,nm0923396,nm0369858,nm2036776,nm1334802,nm1603516,nm1314913,nm1343326,nm0925870,nm0834419,nm2552851,nm3174789,nm0963061,nm0571983,nm0322900                                                                                                                                                                </td><td>nm2419908,nm1141830,nm2251709,nm2078312,nm1003809,nm0325029,nm1014203,nm1014177,nm0492953,nm1012482,nm1010971,nm0519133,nm0174585,nm0429390,nm2429218,nm2654235,nm1221904,nm0068550,nm1159577,nm0909529,nm3049540,nm0255819,nm0260547,nm0113780,nm0628248,nm0717622,nm0989904,nm1142664,nm0191612,nm1051829,nm2727176,nm4972117,nm0997483,nm0110828,nm1105215,nm3079954,nm1779986,nm2085815,nm0693044,nm0106187,nm0322325,nm0833510,nm0807006,nm0542021,nm3454108,nm0566699,nm2721275,nm4237316,nm0291507,nm0027442,nm1267575,nm1011786,nm0750422,nm1014193,nm0820121,nm1011976,nm1000132,nm1007597,nm0792404,nm1049086,nm0996693,nm1088908,nm0229890,nm0229908,nm0913330,nm0758444,nm3059609,nm0782462,nm0746169,nm0925335,nm0925388,nm0501148,nm2040174,nm0711626,nm1480454,nm0421246,nm0846520,nm0922948,nm2591020,nm0925872,nm1012917,nm9109568,nm0617002,nm0682274,nm3566933,nm0723559,nm1779949,nm0658855,nm0880986,nm1276101,nm1299367,nm0434560,nm0115032,nm1011004,nm0358462,nm2272293,nm0906799,nm0479525,nm0997301,nm3579833,nm0534951,nm1802728,nm0680460,nm2654307,nm0866801,nm2660138,nm1669530,nm0040612,nm0481805,nm1106086,nm0899533,nm2077775,nm2220634,nm1049067,nm2006443,nm0812026,nm0111576,nm0698989,nm0019706,nm0111577,nm0122417,nm0202681,nm0238898,nm0505615,nm0754581,nm0789737,nm0991335,nm0162914,nm1301702,nm3059996,nm0726721,nm1014206,nm2233247,nm0235902,nm10360337,nm1672253,nm1440687,nm1400899,nm5846217,nm0817957,nm2076865,nm9551033,nm3930118,nm0068589,nm0633202,nm0881501,nm0813960,nm0989955,nm0031021,nm0097597,nm0112601,nm0148223,nm0313072,nm0368575,nm0513851,nm0564474                                                                                                                        </td></tr>\n",
              "\t<tr><td>tt0048845</td><td>nm0332752,nm0824738,nm0100841,nm0179413,nm0251732,nm0887790,nm4029369,nm0245698,nm0777413,nm0114113,nm0157553,nm0384316,nm0906004,nm0041715,nm0219989,nm0242409,nm1681063,nm1212523,nm0856388,nm0004098,nm0594204,nm0046490,nm1408290,nm0446060,nm0483582,nm0357800,nm0639479,nm0581589,nm2483215,nm0213789,nm0017875,nm0802986,nm0295925,nm1656173,nm0884037,nm1032520,nm0591523,nm1010949,nm0923396,nm0672625,nm0867723,nm1603516,nm0109586,nm0571983,nm0677210,nm0139400,nm0656440,nm0125226,nm0672627,nm0641266,nm0723593,nm0963061</td><td>nm0664799,nm1923276,nm1007597,nm2419908,nm1010949,nm3049540,nm1779949,nm1779986,nm1049066,nm0680460,nm0633202,nm0790760,nm1014174,nm1299367,nm1014216,nm0045741,nm1014167,nm1011004,nm0481805,nm0909529,nm1014175,nm0106187,nm0787317,nm0655491,nm1780023,nm1011440,nm0792404,nm1010971,nm1141830,nm1400899,nm0153944,nm1014176,nm0617002,nm1014164,nm1014206,nm0429390,nm0507406,nm0925872,nm0713131,nm0108338,nm0191612,nm1042591,nm1010857,nm0632525,nm1088908,nm1892355,nm0325029,nm1250955,nm0996693,nm1104059,nm0255034,nm0110828,nm2812299,nm2663899,nm0335072,nm1045621,nm0494959,nm0711626,nm0085519,nm1250889,nm0827711,nm1142664,nm1113445,nm10285461,nm1014207,nm1715559,nm1809263,nm1012917,nm2591020,nm1276101,nm0071291,nm1049067,nm2373457,nm1030464,nm1000124,nm3113329,nm1431618,nm1051829,nm0311869,nm1089437,nm0458818,nm2040174,nm0820050,nm0375294,nm0913702,nm1049086,nm0693044,nm1284523,nm0807006,nm0455340,nm0961373,nm1140641,nm0846520,nm3143239,nm2654362,nm0162914,nm1068447,nm0820121,nm0859155,nm3729425,nm0557696,nm1114256,nm10387979,nm0229890,nm0229908,nm1676228,nm10379370,nm10400829,nm0537424,nm0839917,nm1396112,nm0812026,nm0755866,nm1011976,nm1221120,nm0816348,nm0102883,nm10632516,nm3080113,nm1207587,nm1829409,nm3579833,nm3074085,nm0068589,nm0032541,nm0746169,nm0925335,nm0925388,nm0343403,nm13585272,nm13736695,nm9109568,nm0143676,nm2006443,nm13806846,nm1115376,nm0938170,nm0813960,nm0817957,nm1221812,nm5846217,nm0498979,nm0291507,nm1012482,nm13608060,nm0122935,nm0690069,nm11518427,nm13402748,nm0989245,nm0591784,nm0434560,nm1020908,nm1989448,nm3068470,nm1047700,nm1116779,nm0368575,nm1113709,nm1113285,nm1430271,nm1093685,nm0085588,nm0390808,nm0677651,nm1975295,nm0911421</td></tr>\n",
              "</tbody>\n",
              "</table>\n"
            ],
            "text/markdown": "\nA data.table: 3 × 3\n\n| tconst &lt;chr&gt; | directors &lt;chr&gt; | writers &lt;chr&gt; |\n|---|---|---|\n| tt0043224 | nm0477438,nm0054846,nm1096821,nm0705228,nm0120437,nm0076971,nm0387695,nm0232902,nm1097266,nm1637827                                                                                                                                                                                                                                                                                                                                                                                                                                     | nm0804026,nm0639495,nm0680226,nm0777442,nm0706417,nm0722289,nm1640023,nm0338876,nm0326239,nm0777129,nm0414633,nm0288997,nm1520544,nm0799745,nm0615080,nm0293159,nm0771627,nm0918826,nm0410536,nm2204703,nm0397170,nm0917200,nm0594174,nm0917026,nm0566588,nm0288816,nm3123274,nm0051332,nm2964448,nm0237341,nm0329085,nm1034110,nm3110698,nm0516015,nm0057677,nm0578441,nm0814068,nm0081748,nm0606806,nm0639787,nm0432188,nm0498586,nm0743232,nm2198070,nm0743259,nm0777202,nm0380890,nm2915847,nm0377958,nm1290769,nm7410201,nm0545131,nm0655462,nm3201019,nm0001992,nm0399849,nm0000036                                                                                                                                                                                                                                                                                                                                                                                                                                                                                                                                                                                                                                                                                                                                                                                                                                                                                                                                                                                                                                                                                                                                                        |\n| tt0044265 | nm0004098,nm0179413,nm1597578,nm1335675,nm0915727,nm0581589,nm0568114,nm0213789,nm0281224,nm0332752,nm0884037,nm0297489,nm0109586,nm0331135,nm1513459,nm0778479,nm0224683,nm0159012,nm0100841,nm0250864,nm2681961,nm1273119,nm0923396,nm0369858,nm2036776,nm1334802,nm1603516,nm1314913,nm1343326,nm0925870,nm0834419,nm2552851,nm3174789,nm0963061,nm0571983,nm0322900                                                                                                                                                                 | nm2419908,nm1141830,nm2251709,nm2078312,nm1003809,nm0325029,nm1014203,nm1014177,nm0492953,nm1012482,nm1010971,nm0519133,nm0174585,nm0429390,nm2429218,nm2654235,nm1221904,nm0068550,nm1159577,nm0909529,nm3049540,nm0255819,nm0260547,nm0113780,nm0628248,nm0717622,nm0989904,nm1142664,nm0191612,nm1051829,nm2727176,nm4972117,nm0997483,nm0110828,nm1105215,nm3079954,nm1779986,nm2085815,nm0693044,nm0106187,nm0322325,nm0833510,nm0807006,nm0542021,nm3454108,nm0566699,nm2721275,nm4237316,nm0291507,nm0027442,nm1267575,nm1011786,nm0750422,nm1014193,nm0820121,nm1011976,nm1000132,nm1007597,nm0792404,nm1049086,nm0996693,nm1088908,nm0229890,nm0229908,nm0913330,nm0758444,nm3059609,nm0782462,nm0746169,nm0925335,nm0925388,nm0501148,nm2040174,nm0711626,nm1480454,nm0421246,nm0846520,nm0922948,nm2591020,nm0925872,nm1012917,nm9109568,nm0617002,nm0682274,nm3566933,nm0723559,nm1779949,nm0658855,nm0880986,nm1276101,nm1299367,nm0434560,nm0115032,nm1011004,nm0358462,nm2272293,nm0906799,nm0479525,nm0997301,nm3579833,nm0534951,nm1802728,nm0680460,nm2654307,nm0866801,nm2660138,nm1669530,nm0040612,nm0481805,nm1106086,nm0899533,nm2077775,nm2220634,nm1049067,nm2006443,nm0812026,nm0111576,nm0698989,nm0019706,nm0111577,nm0122417,nm0202681,nm0238898,nm0505615,nm0754581,nm0789737,nm0991335,nm0162914,nm1301702,nm3059996,nm0726721,nm1014206,nm2233247,nm0235902,nm10360337,nm1672253,nm1440687,nm1400899,nm5846217,nm0817957,nm2076865,nm9551033,nm3930118,nm0068589,nm0633202,nm0881501,nm0813960,nm0989955,nm0031021,nm0097597,nm0112601,nm0148223,nm0313072,nm0368575,nm0513851,nm0564474                                                                                                                         |\n| tt0048845 | nm0332752,nm0824738,nm0100841,nm0179413,nm0251732,nm0887790,nm4029369,nm0245698,nm0777413,nm0114113,nm0157553,nm0384316,nm0906004,nm0041715,nm0219989,nm0242409,nm1681063,nm1212523,nm0856388,nm0004098,nm0594204,nm0046490,nm1408290,nm0446060,nm0483582,nm0357800,nm0639479,nm0581589,nm2483215,nm0213789,nm0017875,nm0802986,nm0295925,nm1656173,nm0884037,nm1032520,nm0591523,nm1010949,nm0923396,nm0672625,nm0867723,nm1603516,nm0109586,nm0571983,nm0677210,nm0139400,nm0656440,nm0125226,nm0672627,nm0641266,nm0723593,nm0963061 | nm0664799,nm1923276,nm1007597,nm2419908,nm1010949,nm3049540,nm1779949,nm1779986,nm1049066,nm0680460,nm0633202,nm0790760,nm1014174,nm1299367,nm1014216,nm0045741,nm1014167,nm1011004,nm0481805,nm0909529,nm1014175,nm0106187,nm0787317,nm0655491,nm1780023,nm1011440,nm0792404,nm1010971,nm1141830,nm1400899,nm0153944,nm1014176,nm0617002,nm1014164,nm1014206,nm0429390,nm0507406,nm0925872,nm0713131,nm0108338,nm0191612,nm1042591,nm1010857,nm0632525,nm1088908,nm1892355,nm0325029,nm1250955,nm0996693,nm1104059,nm0255034,nm0110828,nm2812299,nm2663899,nm0335072,nm1045621,nm0494959,nm0711626,nm0085519,nm1250889,nm0827711,nm1142664,nm1113445,nm10285461,nm1014207,nm1715559,nm1809263,nm1012917,nm2591020,nm1276101,nm0071291,nm1049067,nm2373457,nm1030464,nm1000124,nm3113329,nm1431618,nm1051829,nm0311869,nm1089437,nm0458818,nm2040174,nm0820050,nm0375294,nm0913702,nm1049086,nm0693044,nm1284523,nm0807006,nm0455340,nm0961373,nm1140641,nm0846520,nm3143239,nm2654362,nm0162914,nm1068447,nm0820121,nm0859155,nm3729425,nm0557696,nm1114256,nm10387979,nm0229890,nm0229908,nm1676228,nm10379370,nm10400829,nm0537424,nm0839917,nm1396112,nm0812026,nm0755866,nm1011976,nm1221120,nm0816348,nm0102883,nm10632516,nm3080113,nm1207587,nm1829409,nm3579833,nm3074085,nm0068589,nm0032541,nm0746169,nm0925335,nm0925388,nm0343403,nm13585272,nm13736695,nm9109568,nm0143676,nm2006443,nm13806846,nm1115376,nm0938170,nm0813960,nm0817957,nm1221812,nm5846217,nm0498979,nm0291507,nm1012482,nm13608060,nm0122935,nm0690069,nm11518427,nm13402748,nm0989245,nm0591784,nm0434560,nm1020908,nm1989448,nm3068470,nm1047700,nm1116779,nm0368575,nm1113709,nm1113285,nm1430271,nm1093685,nm0085588,nm0390808,nm0677651,nm1975295,nm0911421 |\n\n",
            "text/latex": "A data.table: 3 × 3\n\\begin{tabular}{lll}\n tconst & directors & writers\\\\\n <chr> & <chr> & <chr>\\\\\n\\hline\n\t tt0043224 & nm0477438,nm0054846,nm1096821,nm0705228,nm0120437,nm0076971,nm0387695,nm0232902,nm1097266,nm1637827                                                                                                                                                                                                                                                                                                                                                                                                                                     & nm0804026,nm0639495,nm0680226,nm0777442,nm0706417,nm0722289,nm1640023,nm0338876,nm0326239,nm0777129,nm0414633,nm0288997,nm1520544,nm0799745,nm0615080,nm0293159,nm0771627,nm0918826,nm0410536,nm2204703,nm0397170,nm0917200,nm0594174,nm0917026,nm0566588,nm0288816,nm3123274,nm0051332,nm2964448,nm0237341,nm0329085,nm1034110,nm3110698,nm0516015,nm0057677,nm0578441,nm0814068,nm0081748,nm0606806,nm0639787,nm0432188,nm0498586,nm0743232,nm2198070,nm0743259,nm0777202,nm0380890,nm2915847,nm0377958,nm1290769,nm7410201,nm0545131,nm0655462,nm3201019,nm0001992,nm0399849,nm0000036                                                                                                                                                                                                                                                                                                                                                                                                                                                                                                                                                                                                                                                                                                                                                                                                                                                                                                                                                                                                                                                                                                                                                       \\\\\n\t tt0044265 & nm0004098,nm0179413,nm1597578,nm1335675,nm0915727,nm0581589,nm0568114,nm0213789,nm0281224,nm0332752,nm0884037,nm0297489,nm0109586,nm0331135,nm1513459,nm0778479,nm0224683,nm0159012,nm0100841,nm0250864,nm2681961,nm1273119,nm0923396,nm0369858,nm2036776,nm1334802,nm1603516,nm1314913,nm1343326,nm0925870,nm0834419,nm2552851,nm3174789,nm0963061,nm0571983,nm0322900                                                                                                                                                                 & nm2419908,nm1141830,nm2251709,nm2078312,nm1003809,nm0325029,nm1014203,nm1014177,nm0492953,nm1012482,nm1010971,nm0519133,nm0174585,nm0429390,nm2429218,nm2654235,nm1221904,nm0068550,nm1159577,nm0909529,nm3049540,nm0255819,nm0260547,nm0113780,nm0628248,nm0717622,nm0989904,nm1142664,nm0191612,nm1051829,nm2727176,nm4972117,nm0997483,nm0110828,nm1105215,nm3079954,nm1779986,nm2085815,nm0693044,nm0106187,nm0322325,nm0833510,nm0807006,nm0542021,nm3454108,nm0566699,nm2721275,nm4237316,nm0291507,nm0027442,nm1267575,nm1011786,nm0750422,nm1014193,nm0820121,nm1011976,nm1000132,nm1007597,nm0792404,nm1049086,nm0996693,nm1088908,nm0229890,nm0229908,nm0913330,nm0758444,nm3059609,nm0782462,nm0746169,nm0925335,nm0925388,nm0501148,nm2040174,nm0711626,nm1480454,nm0421246,nm0846520,nm0922948,nm2591020,nm0925872,nm1012917,nm9109568,nm0617002,nm0682274,nm3566933,nm0723559,nm1779949,nm0658855,nm0880986,nm1276101,nm1299367,nm0434560,nm0115032,nm1011004,nm0358462,nm2272293,nm0906799,nm0479525,nm0997301,nm3579833,nm0534951,nm1802728,nm0680460,nm2654307,nm0866801,nm2660138,nm1669530,nm0040612,nm0481805,nm1106086,nm0899533,nm2077775,nm2220634,nm1049067,nm2006443,nm0812026,nm0111576,nm0698989,nm0019706,nm0111577,nm0122417,nm0202681,nm0238898,nm0505615,nm0754581,nm0789737,nm0991335,nm0162914,nm1301702,nm3059996,nm0726721,nm1014206,nm2233247,nm0235902,nm10360337,nm1672253,nm1440687,nm1400899,nm5846217,nm0817957,nm2076865,nm9551033,nm3930118,nm0068589,nm0633202,nm0881501,nm0813960,nm0989955,nm0031021,nm0097597,nm0112601,nm0148223,nm0313072,nm0368575,nm0513851,nm0564474                                                                                                                        \\\\\n\t tt0048845 & nm0332752,nm0824738,nm0100841,nm0179413,nm0251732,nm0887790,nm4029369,nm0245698,nm0777413,nm0114113,nm0157553,nm0384316,nm0906004,nm0041715,nm0219989,nm0242409,nm1681063,nm1212523,nm0856388,nm0004098,nm0594204,nm0046490,nm1408290,nm0446060,nm0483582,nm0357800,nm0639479,nm0581589,nm2483215,nm0213789,nm0017875,nm0802986,nm0295925,nm1656173,nm0884037,nm1032520,nm0591523,nm1010949,nm0923396,nm0672625,nm0867723,nm1603516,nm0109586,nm0571983,nm0677210,nm0139400,nm0656440,nm0125226,nm0672627,nm0641266,nm0723593,nm0963061 & nm0664799,nm1923276,nm1007597,nm2419908,nm1010949,nm3049540,nm1779949,nm1779986,nm1049066,nm0680460,nm0633202,nm0790760,nm1014174,nm1299367,nm1014216,nm0045741,nm1014167,nm1011004,nm0481805,nm0909529,nm1014175,nm0106187,nm0787317,nm0655491,nm1780023,nm1011440,nm0792404,nm1010971,nm1141830,nm1400899,nm0153944,nm1014176,nm0617002,nm1014164,nm1014206,nm0429390,nm0507406,nm0925872,nm0713131,nm0108338,nm0191612,nm1042591,nm1010857,nm0632525,nm1088908,nm1892355,nm0325029,nm1250955,nm0996693,nm1104059,nm0255034,nm0110828,nm2812299,nm2663899,nm0335072,nm1045621,nm0494959,nm0711626,nm0085519,nm1250889,nm0827711,nm1142664,nm1113445,nm10285461,nm1014207,nm1715559,nm1809263,nm1012917,nm2591020,nm1276101,nm0071291,nm1049067,nm2373457,nm1030464,nm1000124,nm3113329,nm1431618,nm1051829,nm0311869,nm1089437,nm0458818,nm2040174,nm0820050,nm0375294,nm0913702,nm1049086,nm0693044,nm1284523,nm0807006,nm0455340,nm0961373,nm1140641,nm0846520,nm3143239,nm2654362,nm0162914,nm1068447,nm0820121,nm0859155,nm3729425,nm0557696,nm1114256,nm10387979,nm0229890,nm0229908,nm1676228,nm10379370,nm10400829,nm0537424,nm0839917,nm1396112,nm0812026,nm0755866,nm1011976,nm1221120,nm0816348,nm0102883,nm10632516,nm3080113,nm1207587,nm1829409,nm3579833,nm3074085,nm0068589,nm0032541,nm0746169,nm0925335,nm0925388,nm0343403,nm13585272,nm13736695,nm9109568,nm0143676,nm2006443,nm13806846,nm1115376,nm0938170,nm0813960,nm0817957,nm1221812,nm5846217,nm0498979,nm0291507,nm1012482,nm13608060,nm0122935,nm0690069,nm11518427,nm13402748,nm0989245,nm0591784,nm0434560,nm1020908,nm1989448,nm3068470,nm1047700,nm1116779,nm0368575,nm1113709,nm1113285,nm1430271,nm1093685,nm0085588,nm0390808,nm0677651,nm1975295,nm0911421\\\\\n\\end{tabular}\n",
            "text/plain": [
              "  tconst   \n",
              "1 tt0043224\n",
              "2 tt0044265\n",
              "3 tt0048845\n",
              "  directors                                                                                                                                                                                                                                                                                                                                                                                                                                                                                                                              \n",
              "1 nm0477438,nm0054846,nm1096821,nm0705228,nm0120437,nm0076971,nm0387695,nm0232902,nm1097266,nm1637827                                                                                                                                                                                                                                                                                                                                                                                                                                    \n",
              "2 nm0004098,nm0179413,nm1597578,nm1335675,nm0915727,nm0581589,nm0568114,nm0213789,nm0281224,nm0332752,nm0884037,nm0297489,nm0109586,nm0331135,nm1513459,nm0778479,nm0224683,nm0159012,nm0100841,nm0250864,nm2681961,nm1273119,nm0923396,nm0369858,nm2036776,nm1334802,nm1603516,nm1314913,nm1343326,nm0925870,nm0834419,nm2552851,nm3174789,nm0963061,nm0571983,nm0322900                                                                                                                                                                \n",
              "3 nm0332752,nm0824738,nm0100841,nm0179413,nm0251732,nm0887790,nm4029369,nm0245698,nm0777413,nm0114113,nm0157553,nm0384316,nm0906004,nm0041715,nm0219989,nm0242409,nm1681063,nm1212523,nm0856388,nm0004098,nm0594204,nm0046490,nm1408290,nm0446060,nm0483582,nm0357800,nm0639479,nm0581589,nm2483215,nm0213789,nm0017875,nm0802986,nm0295925,nm1656173,nm0884037,nm1032520,nm0591523,nm1010949,nm0923396,nm0672625,nm0867723,nm1603516,nm0109586,nm0571983,nm0677210,nm0139400,nm0656440,nm0125226,nm0672627,nm0641266,nm0723593,nm0963061\n",
              "  writers                                                                                                                                                                                                                                                                                                                                                                                                                                                                                                                                                                                                                                                                                                                                                                                                                                                                                                                                                                                                                                                                                                                                                                                                                                                                                                                                                                                                                                                                                                                                                                                                                                                                                                                                         \n",
              "1 nm0804026,nm0639495,nm0680226,nm0777442,nm0706417,nm0722289,nm1640023,nm0338876,nm0326239,nm0777129,nm0414633,nm0288997,nm1520544,nm0799745,nm0615080,nm0293159,nm0771627,nm0918826,nm0410536,nm2204703,nm0397170,nm0917200,nm0594174,nm0917026,nm0566588,nm0288816,nm3123274,nm0051332,nm2964448,nm0237341,nm0329085,nm1034110,nm3110698,nm0516015,nm0057677,nm0578441,nm0814068,nm0081748,nm0606806,nm0639787,nm0432188,nm0498586,nm0743232,nm2198070,nm0743259,nm0777202,nm0380890,nm2915847,nm0377958,nm1290769,nm7410201,nm0545131,nm0655462,nm3201019,nm0001992,nm0399849,nm0000036                                                                                                                                                                                                                                                                                                                                                                                                                                                                                                                                                                                                                                                                                                                                                                                                                                                                                                                                                                                                                                                                                                                                                       \n",
              "2 nm2419908,nm1141830,nm2251709,nm2078312,nm1003809,nm0325029,nm1014203,nm1014177,nm0492953,nm1012482,nm1010971,nm0519133,nm0174585,nm0429390,nm2429218,nm2654235,nm1221904,nm0068550,nm1159577,nm0909529,nm3049540,nm0255819,nm0260547,nm0113780,nm0628248,nm0717622,nm0989904,nm1142664,nm0191612,nm1051829,nm2727176,nm4972117,nm0997483,nm0110828,nm1105215,nm3079954,nm1779986,nm2085815,nm0693044,nm0106187,nm0322325,nm0833510,nm0807006,nm0542021,nm3454108,nm0566699,nm2721275,nm4237316,nm0291507,nm0027442,nm1267575,nm1011786,nm0750422,nm1014193,nm0820121,nm1011976,nm1000132,nm1007597,nm0792404,nm1049086,nm0996693,nm1088908,nm0229890,nm0229908,nm0913330,nm0758444,nm3059609,nm0782462,nm0746169,nm0925335,nm0925388,nm0501148,nm2040174,nm0711626,nm1480454,nm0421246,nm0846520,nm0922948,nm2591020,nm0925872,nm1012917,nm9109568,nm0617002,nm0682274,nm3566933,nm0723559,nm1779949,nm0658855,nm0880986,nm1276101,nm1299367,nm0434560,nm0115032,nm1011004,nm0358462,nm2272293,nm0906799,nm0479525,nm0997301,nm3579833,nm0534951,nm1802728,nm0680460,nm2654307,nm0866801,nm2660138,nm1669530,nm0040612,nm0481805,nm1106086,nm0899533,nm2077775,nm2220634,nm1049067,nm2006443,nm0812026,nm0111576,nm0698989,nm0019706,nm0111577,nm0122417,nm0202681,nm0238898,nm0505615,nm0754581,nm0789737,nm0991335,nm0162914,nm1301702,nm3059996,nm0726721,nm1014206,nm2233247,nm0235902,nm10360337,nm1672253,nm1440687,nm1400899,nm5846217,nm0817957,nm2076865,nm9551033,nm3930118,nm0068589,nm0633202,nm0881501,nm0813960,nm0989955,nm0031021,nm0097597,nm0112601,nm0148223,nm0313072,nm0368575,nm0513851,nm0564474                                                                                                                        \n",
              "3 nm0664799,nm1923276,nm1007597,nm2419908,nm1010949,nm3049540,nm1779949,nm1779986,nm1049066,nm0680460,nm0633202,nm0790760,nm1014174,nm1299367,nm1014216,nm0045741,nm1014167,nm1011004,nm0481805,nm0909529,nm1014175,nm0106187,nm0787317,nm0655491,nm1780023,nm1011440,nm0792404,nm1010971,nm1141830,nm1400899,nm0153944,nm1014176,nm0617002,nm1014164,nm1014206,nm0429390,nm0507406,nm0925872,nm0713131,nm0108338,nm0191612,nm1042591,nm1010857,nm0632525,nm1088908,nm1892355,nm0325029,nm1250955,nm0996693,nm1104059,nm0255034,nm0110828,nm2812299,nm2663899,nm0335072,nm1045621,nm0494959,nm0711626,nm0085519,nm1250889,nm0827711,nm1142664,nm1113445,nm10285461,nm1014207,nm1715559,nm1809263,nm1012917,nm2591020,nm1276101,nm0071291,nm1049067,nm2373457,nm1030464,nm1000124,nm3113329,nm1431618,nm1051829,nm0311869,nm1089437,nm0458818,nm2040174,nm0820050,nm0375294,nm0913702,nm1049086,nm0693044,nm1284523,nm0807006,nm0455340,nm0961373,nm1140641,nm0846520,nm3143239,nm2654362,nm0162914,nm1068447,nm0820121,nm0859155,nm3729425,nm0557696,nm1114256,nm10387979,nm0229890,nm0229908,nm1676228,nm10379370,nm10400829,nm0537424,nm0839917,nm1396112,nm0812026,nm0755866,nm1011976,nm1221120,nm0816348,nm0102883,nm10632516,nm3080113,nm1207587,nm1829409,nm3579833,nm3074085,nm0068589,nm0032541,nm0746169,nm0925335,nm0925388,nm0343403,nm13585272,nm13736695,nm9109568,nm0143676,nm2006443,nm13806846,nm1115376,nm0938170,nm0813960,nm0817957,nm1221812,nm5846217,nm0498979,nm0291507,nm1012482,nm13608060,nm0122935,nm0690069,nm11518427,nm13402748,nm0989245,nm0591784,nm0434560,nm1020908,nm1989448,nm3068470,nm1047700,nm1116779,nm0368575,nm1113709,nm1113285,nm1430271,nm1093685,nm0085588,nm0390808,nm0677651,nm1975295,nm0911421"
            ]
          },
          "metadata": {}
        },
        {
          "output_type": "display_data",
          "data": {
            "text/html": [
              "<table class=\"dataframe\">\n",
              "<caption>A data.table: 3 × 6</caption>\n",
              "<thead>\n",
              "\t<tr><th scope=col>tconst</th><th scope=col>ordering</th><th scope=col>nconst</th><th scope=col>category</th><th scope=col>job</th><th scope=col>characters</th></tr>\n",
              "\t<tr><th scope=col>&lt;chr&gt;</th><th scope=col>&lt;int&gt;</th><th scope=col>&lt;chr&gt;</th><th scope=col>&lt;chr&gt;</th><th scope=col>&lt;chr&gt;</th><th scope=col>&lt;chr&gt;</th></tr>\n",
              "</thead>\n",
              "<tbody>\n",
              "\t<tr><td>tt0043224</td><td>10</td><td>nm0461246</td><td>self</td><td>NA</td><td>[\"Self - Commercials\",\"Commercials\",\"Blonde Nurse-Hospital Sketch\"]</td></tr>\n",
              "\t<tr><td>tt0043224</td><td> 1</td><td>nm0804026</td><td>self</td><td>NA</td><td>[\"Self - Host\",\"Clem Kadiddlehopper\",\"Freddie the Freeloader\"]     </td></tr>\n",
              "\t<tr><td>tt0043224</td><td> 2</td><td>nm2582914</td><td>self</td><td>NA</td><td>[\"Themselves\",\"Orchestra\",\"Singers\"]                               </td></tr>\n",
              "</tbody>\n",
              "</table>\n"
            ],
            "text/markdown": "\nA data.table: 3 × 6\n\n| tconst &lt;chr&gt; | ordering &lt;int&gt; | nconst &lt;chr&gt; | category &lt;chr&gt; | job &lt;chr&gt; | characters &lt;chr&gt; |\n|---|---|---|---|---|---|\n| tt0043224 | 10 | nm0461246 | self | NA | [\"Self - Commercials\",\"Commercials\",\"Blonde Nurse-Hospital Sketch\"] |\n| tt0043224 |  1 | nm0804026 | self | NA | [\"Self - Host\",\"Clem Kadiddlehopper\",\"Freddie the Freeloader\"]      |\n| tt0043224 |  2 | nm2582914 | self | NA | [\"Themselves\",\"Orchestra\",\"Singers\"]                                |\n\n",
            "text/latex": "A data.table: 3 × 6\n\\begin{tabular}{llllll}\n tconst & ordering & nconst & category & job & characters\\\\\n <chr> & <int> & <chr> & <chr> & <chr> & <chr>\\\\\n\\hline\n\t tt0043224 & 10 & nm0461246 & self & NA & {[}\"Self - Commercials\",\"Commercials\",\"Blonde Nurse-Hospital Sketch\"{]}\\\\\n\t tt0043224 &  1 & nm0804026 & self & NA & {[}\"Self - Host\",\"Clem Kadiddlehopper\",\"Freddie the Freeloader\"{]}     \\\\\n\t tt0043224 &  2 & nm2582914 & self & NA & {[}\"Themselves\",\"Orchestra\",\"Singers\"{]}                               \\\\\n\\end{tabular}\n",
            "text/plain": [
              "  tconst    ordering nconst    category job\n",
              "1 tt0043224 10       nm0461246 self     NA \n",
              "2 tt0043224  1       nm0804026 self     NA \n",
              "3 tt0043224  2       nm2582914 self     NA \n",
              "  characters                                                         \n",
              "1 [\"Self - Commercials\",\"Commercials\",\"Blonde Nurse-Hospital Sketch\"]\n",
              "2 [\"Self - Host\",\"Clem Kadiddlehopper\",\"Freddie the Freeloader\"]     \n",
              "3 [\"Themselves\",\"Orchestra\",\"Singers\"]                               "
            ]
          },
          "metadata": {}
        },
        {
          "output_type": "display_data",
          "data": {
            "text/html": [
              "<table class=\"dataframe\">\n",
              "<caption>A data.table: 3 × 4</caption>\n",
              "<thead>\n",
              "\t<tr><th scope=col>tconst</th><th scope=col>parentTconst</th><th scope=col>seasonNumber</th><th scope=col>episodeNumber</th></tr>\n",
              "\t<tr><th scope=col>&lt;chr&gt;</th><th scope=col>&lt;chr&gt;</th><th scope=col>&lt;int&gt;</th><th scope=col>&lt;int&gt;</th></tr>\n",
              "</thead>\n",
              "<tbody>\n",
              "\t<tr><td>tt0114532</td><td>tt0874686</td><td> 1</td><td> 2</td></tr>\n",
              "\t<tr><td>tt0124961</td><td>tt0159876</td><td>49</td><td>15</td></tr>\n",
              "\t<tr><td>tt0130097</td><td>tt0273026</td><td>NA</td><td>NA</td></tr>\n",
              "</tbody>\n",
              "</table>\n"
            ],
            "text/markdown": "\nA data.table: 3 × 4\n\n| tconst &lt;chr&gt; | parentTconst &lt;chr&gt; | seasonNumber &lt;int&gt; | episodeNumber &lt;int&gt; |\n|---|---|---|---|\n| tt0114532 | tt0874686 |  1 |  2 |\n| tt0124961 | tt0159876 | 49 | 15 |\n| tt0130097 | tt0273026 | NA | NA |\n\n",
            "text/latex": "A data.table: 3 × 4\n\\begin{tabular}{llll}\n tconst & parentTconst & seasonNumber & episodeNumber\\\\\n <chr> & <chr> & <int> & <int>\\\\\n\\hline\n\t tt0114532 & tt0874686 &  1 &  2\\\\\n\t tt0124961 & tt0159876 & 49 & 15\\\\\n\t tt0130097 & tt0273026 & NA & NA\\\\\n\\end{tabular}\n",
            "text/plain": [
              "  tconst    parentTconst seasonNumber episodeNumber\n",
              "1 tt0114532 tt0874686     1            2           \n",
              "2 tt0124961 tt0159876    49           15           \n",
              "3 tt0130097 tt0273026    NA           NA           "
            ]
          },
          "metadata": {}
        }
      ]
    },
    {
      "cell_type": "code",
      "source": [
        "titles[order(numVotes)]"
      ],
      "metadata": {
        "id": "EIgshMa01JnN"
      },
      "execution_count": null,
      "outputs": []
    },
    {
      "cell_type": "code",
      "source": [
        "#Further filtering\n",
        "#Series episodes split\n",
        "series <- titles %>% filter(titleType != 'tvEpisode')\n",
        "episodes <- titles %>% filter(titleType == 'tvEpisode')\n",
        "count(series)\n",
        "count(episodes)"
      ],
      "metadata": {
        "id": "qCjneGQtppbZ"
      },
      "execution_count": null,
      "outputs": []
    },
    {
      "cell_type": "markdown",
      "source": [
        "## Do attractive popular actors have bigger ratings on average? Everything depends if the avg_rating was calculated correctly"
      ],
      "metadata": {
        "id": "6q7xhuDTlv4s"
      }
    },
    {
      "cell_type": "markdown",
      "source": [
        "### Box Office Stars (data from the outside!)"
      ],
      "metadata": {
        "id": "kTKs_9NBf2qC"
      }
    },
    {
      "cell_type": "code",
      "source": [
        "downloaded_file <- drive_download(\"BoxOfficeStars.tsv\")"
      ],
      "metadata": {
        "id": "sOQIEpcTecLi"
      },
      "execution_count": null,
      "outputs": []
    },
    {
      "cell_type": "code",
      "source": [
        "bos <- fread(\"BoxOfficeStars.tsv\")"
      ],
      "metadata": {
        "id": "FzUEyDCRffWh"
      },
      "execution_count": 6,
      "outputs": []
    },
    {
      "cell_type": "code",
      "source": [
        "head(bos)\n",
        "head(nmf)"
      ],
      "metadata": {
        "colab": {
          "base_uri": "https://localhost:8080/",
          "height": 555
        },
        "id": "drhCXqI3fpe1",
        "outputId": "c19399f1-6d08-402b-c5a8-6ce1978ae47d"
      },
      "execution_count": 92,
      "outputs": [
        {
          "output_type": "display_data",
          "data": {
            "text/html": [
              "<table class=\"dataframe\">\n",
              "<caption>A data.table: 6 × 5</caption>\n",
              "<thead>\n",
              "\t<tr><th scope=col>Rank</th><th scope=col>Name</th><th scope=col>WorldwideBoxOffice</th><th scope=col>Movies</th><th scope=col>Average</th></tr>\n",
              "\t<tr><th scope=col>&lt;int&gt;</th><th scope=col>&lt;chr&gt;</th><th scope=col>&lt;chr&gt;</th><th scope=col>&lt;int&gt;</th><th scope=col>&lt;chr&gt;</th></tr>\n",
              "</thead>\n",
              "<tbody>\n",
              "\t<tr><td>1</td><td>Scarlett Johansson</td><td>$14,522,754,504</td><td>34</td><td>$427,139,838</td></tr>\n",
              "\t<tr><td>2</td><td>Robert Downey Jr. </td><td>$14,396,065,966</td><td>43</td><td>$334,792,232</td></tr>\n",
              "\t<tr><td>3</td><td>Samuel L. Jackson </td><td>$14,366,169,081</td><td>64</td><td>$224,471,392</td></tr>\n",
              "\t<tr><td>4</td><td>Chris Hemsworth   </td><td>$11,945,886,832</td><td>25</td><td>$477,835,473</td></tr>\n",
              "\t<tr><td>5</td><td>Chris Pratt       </td><td>$11,745,130,231</td><td>21</td><td>$559,291,916</td></tr>\n",
              "\t<tr><td>6</td><td>Tom Cruise        </td><td>$11,546,807,794</td><td>43</td><td>$268,530,414</td></tr>\n",
              "</tbody>\n",
              "</table>\n"
            ],
            "text/markdown": "\nA data.table: 6 × 5\n\n| Rank &lt;int&gt; | Name &lt;chr&gt; | WorldwideBoxOffice &lt;chr&gt; | Movies &lt;int&gt; | Average &lt;chr&gt; |\n|---|---|---|---|---|\n| 1 | Scarlett Johansson | $14,522,754,504 | 34 | $427,139,838 |\n| 2 | Robert Downey Jr.  | $14,396,065,966 | 43 | $334,792,232 |\n| 3 | Samuel L. Jackson  | $14,366,169,081 | 64 | $224,471,392 |\n| 4 | Chris Hemsworth    | $11,945,886,832 | 25 | $477,835,473 |\n| 5 | Chris Pratt        | $11,745,130,231 | 21 | $559,291,916 |\n| 6 | Tom Cruise         | $11,546,807,794 | 43 | $268,530,414 |\n\n",
            "text/latex": "A data.table: 6 × 5\n\\begin{tabular}{lllll}\n Rank & Name & WorldwideBoxOffice & Movies & Average\\\\\n <int> & <chr> & <chr> & <int> & <chr>\\\\\n\\hline\n\t 1 & Scarlett Johansson & \\$14,522,754,504 & 34 & \\$427,139,838\\\\\n\t 2 & Robert Downey Jr.  & \\$14,396,065,966 & 43 & \\$334,792,232\\\\\n\t 3 & Samuel L. Jackson  & \\$14,366,169,081 & 64 & \\$224,471,392\\\\\n\t 4 & Chris Hemsworth    & \\$11,945,886,832 & 25 & \\$477,835,473\\\\\n\t 5 & Chris Pratt        & \\$11,745,130,231 & 21 & \\$559,291,916\\\\\n\t 6 & Tom Cruise         & \\$11,546,807,794 & 43 & \\$268,530,414\\\\\n\\end{tabular}\n",
            "text/plain": [
              "  Rank Name               WorldwideBoxOffice Movies Average     \n",
              "1 1    Scarlett Johansson $14,522,754,504    34     $427,139,838\n",
              "2 2    Robert Downey Jr.  $14,396,065,966    43     $334,792,232\n",
              "3 3    Samuel L. Jackson  $14,366,169,081    64     $224,471,392\n",
              "4 4    Chris Hemsworth    $11,945,886,832    25     $477,835,473\n",
              "5 5    Chris Pratt        $11,745,130,231    21     $559,291,916\n",
              "6 6    Tom Cruise         $11,546,807,794    43     $268,530,414"
            ]
          },
          "metadata": {}
        },
        {
          "output_type": "display_data",
          "data": {
            "text/html": [
              "<table class=\"dataframe\">\n",
              "<caption>A data.table: 6 × 8</caption>\n",
              "<thead>\n",
              "\t<tr><th scope=col>nconst</th><th scope=col>primaryName</th><th scope=col>birthYear</th><th scope=col>deathYear</th><th scope=col>primaryProfession</th><th scope=col>ratings_total</th><th scope=col>avg_rating</th><th scope=col>n</th></tr>\n",
              "\t<tr><th scope=col>&lt;chr&gt;</th><th scope=col>&lt;chr&gt;</th><th scope=col>&lt;chr&gt;</th><th scope=col>&lt;chr&gt;</th><th scope=col>&lt;chr&gt;</th><th scope=col>&lt;int&gt;</th><th scope=col>&lt;chr&gt;</th><th scope=col>&lt;int&gt;</th></tr>\n",
              "</thead>\n",
              "<tbody>\n",
              "\t<tr><td>nm1217514 </td><td>Rodrigo Ordoñez</td><td>1972</td><td>\\N</td><td>writer,director,assistant_director        </td><td>   358</td><td>6.375           </td><td>4</td></tr>\n",
              "\t<tr><td>nm1217515 </td><td>Suze Orman     </td><td>1951</td><td>\\N</td><td>producer,actress                          </td><td>528315</td><td>7.925           </td><td>4</td></tr>\n",
              "\t<tr><td>nm1217519 </td><td>Yaky Ortega    </td><td>\\N </td><td>\\N</td><td>director,miscellaneous                    </td><td>   468</td><td>7.03333333333333</td><td>4</td></tr>\n",
              "\t<tr><td>nm1217520 </td><td>David Ortkiese </td><td>\\N </td><td>\\N</td><td>camera_department,cinematographer,director</td><td> 89978</td><td>4.875           </td><td>4</td></tr>\n",
              "\t<tr><td>nm12175321</td><td>Christa Biyela </td><td>\\N </td><td>\\N</td><td>writer                                    </td><td>     8</td><td>7.5             </td><td>1</td></tr>\n",
              "\t<tr><td>nm1217536 </td><td>Susanna Palin  </td><td>\\N </td><td>\\N</td><td>assistant_director,writer,soundtrack      </td><td>  1741</td><td>4.5             </td><td>4</td></tr>\n",
              "</tbody>\n",
              "</table>\n"
            ],
            "text/markdown": "\nA data.table: 6 × 8\n\n| nconst &lt;chr&gt; | primaryName &lt;chr&gt; | birthYear &lt;chr&gt; | deathYear &lt;chr&gt; | primaryProfession &lt;chr&gt; | ratings_total &lt;int&gt; | avg_rating &lt;chr&gt; | n &lt;int&gt; |\n|---|---|---|---|---|---|---|---|\n| nm1217514  | Rodrigo Ordoñez | 1972 | \\N | writer,director,assistant_director         |    358 | 6.375            | 4 |\n| nm1217515  | Suze Orman      | 1951 | \\N | producer,actress                           | 528315 | 7.925            | 4 |\n| nm1217519  | Yaky Ortega     | \\N  | \\N | director,miscellaneous                     |    468 | 7.03333333333333 | 4 |\n| nm1217520  | David Ortkiese  | \\N  | \\N | camera_department,cinematographer,director |  89978 | 4.875            | 4 |\n| nm12175321 | Christa Biyela  | \\N  | \\N | writer                                     |      8 | 7.5              | 1 |\n| nm1217536  | Susanna Palin   | \\N  | \\N | assistant_director,writer,soundtrack       |   1741 | 4.5              | 4 |\n\n",
            "text/latex": "A data.table: 6 × 8\n\\begin{tabular}{llllllll}\n nconst & primaryName & birthYear & deathYear & primaryProfession & ratings\\_total & avg\\_rating & n\\\\\n <chr> & <chr> & <chr> & <chr> & <chr> & <int> & <chr> & <int>\\\\\n\\hline\n\t nm1217514  & Rodrigo Ordoñez & 1972 & \\textbackslash{}N & writer,director,assistant\\_director         &    358 & 6.375            & 4\\\\\n\t nm1217515  & Suze Orman      & 1951 & \\textbackslash{}N & producer,actress                           & 528315 & 7.925            & 4\\\\\n\t nm1217519  & Yaky Ortega     & \\textbackslash{}N  & \\textbackslash{}N & director,miscellaneous                     &    468 & 7.03333333333333 & 4\\\\\n\t nm1217520  & David Ortkiese  & \\textbackslash{}N  & \\textbackslash{}N & camera\\_department,cinematographer,director &  89978 & 4.875            & 4\\\\\n\t nm12175321 & Christa Biyela  & \\textbackslash{}N  & \\textbackslash{}N & writer                                     &      8 & 7.5              & 1\\\\\n\t nm1217536  & Susanna Palin   & \\textbackslash{}N  & \\textbackslash{}N & assistant\\_director,writer,soundtrack       &   1741 & 4.5              & 4\\\\\n\\end{tabular}\n",
            "text/plain": [
              "  nconst     primaryName     birthYear deathYear\n",
              "1 nm1217514  Rodrigo Ordoñez 1972      \\\\N      \n",
              "2 nm1217515  Suze Orman      1951      \\\\N      \n",
              "3 nm1217519  Yaky Ortega     \\\\N       \\\\N      \n",
              "4 nm1217520  David Ortkiese  \\\\N       \\\\N      \n",
              "5 nm12175321 Christa Biyela  \\\\N       \\\\N      \n",
              "6 nm1217536  Susanna Palin   \\\\N       \\\\N      \n",
              "  primaryProfession                          ratings_total avg_rating       n\n",
              "1 writer,director,assistant_director            358        6.375            4\n",
              "2 producer,actress                           528315        7.925            4\n",
              "3 director,miscellaneous                        468        7.03333333333333 4\n",
              "4 camera_department,cinematographer,director  89978        4.875            4\n",
              "5 writer                                          8        7.5              1\n",
              "6 assistant_director,writer,soundtrack         1741        4.5              4"
            ]
          },
          "metadata": {}
        }
      ]
    },
    {
      "cell_type": "code",
      "source": [
        "dim(bos)"
      ],
      "metadata": {
        "colab": {
          "base_uri": "https://localhost:8080/",
          "height": 34
        },
        "id": "19qrftDUfrAV",
        "outputId": "0f101760-553f-42b0-ab5b-4754082f121f"
      },
      "execution_count": 8,
      "outputs": [
        {
          "output_type": "display_data",
          "data": {
            "text/html": [
              "<style>\n",
              ".list-inline {list-style: none; margin:0; padding: 0}\n",
              ".list-inline>li {display: inline-block}\n",
              ".list-inline>li:not(:last-child)::after {content: \"\\00b7\"; padding: 0 .5ex}\n",
              "</style>\n",
              "<ol class=list-inline><li>500</li><li>5</li></ol>\n"
            ],
            "text/markdown": "1. 500\n2. 5\n\n\n",
            "text/latex": "\\begin{enumerate*}\n\\item 500\n\\item 5\n\\end{enumerate*}\n",
            "text/plain": [
              "[1] 500   5"
            ]
          },
          "metadata": {}
        }
      ]
    },
    {
      "cell_type": "code",
      "source": [
        "bos[bos == \"Robert Downey, Jr.\"] <- \"Robert Downey Jr.\""
      ],
      "metadata": {
        "id": "eUOBNRHIKUGn"
      },
      "execution_count": 91,
      "outputs": []
    },
    {
      "cell_type": "code",
      "source": [
        "#can I find actors by names? YES\n",
        "nmf[primaryName == \"Samuel L. Jackson\"]"
      ],
      "metadata": {
        "colab": {
          "base_uri": "https://localhost:8080/",
          "height": 129
        },
        "id": "0UZict2ZfvXf",
        "outputId": "a0692bae-4241-449c-e58f-4d7e5d481505"
      },
      "execution_count": 27,
      "outputs": [
        {
          "output_type": "display_data",
          "data": {
            "text/html": [
              "<table class=\"dataframe\">\n",
              "<caption>A data.table: 1 × 8</caption>\n",
              "<thead>\n",
              "\t<tr><th scope=col>nconst</th><th scope=col>primaryName</th><th scope=col>birthYear</th><th scope=col>deathYear</th><th scope=col>primaryProfession</th><th scope=col>ratings_total</th><th scope=col>avg_rating</th><th scope=col>n</th></tr>\n",
              "\t<tr><th scope=col>&lt;chr&gt;</th><th scope=col>&lt;chr&gt;</th><th scope=col>&lt;chr&gt;</th><th scope=col>&lt;chr&gt;</th><th scope=col>&lt;chr&gt;</th><th scope=col>&lt;int&gt;</th><th scope=col>&lt;chr&gt;</th><th scope=col>&lt;int&gt;</th></tr>\n",
              "</thead>\n",
              "<tbody>\n",
              "\t<tr><td>nm0000168</td><td>Samuel L. Jackson</td><td>1948</td><td>\\N</td><td>actor,producer,soundtrack</td><td>3311403</td><td>7.25</td><td>4</td></tr>\n",
              "</tbody>\n",
              "</table>\n"
            ],
            "text/markdown": "\nA data.table: 1 × 8\n\n| nconst &lt;chr&gt; | primaryName &lt;chr&gt; | birthYear &lt;chr&gt; | deathYear &lt;chr&gt; | primaryProfession &lt;chr&gt; | ratings_total &lt;int&gt; | avg_rating &lt;chr&gt; | n &lt;int&gt; |\n|---|---|---|---|---|---|---|---|\n| nm0000168 | Samuel L. Jackson | 1948 | \\N | actor,producer,soundtrack | 3311403 | 7.25 | 4 |\n\n",
            "text/latex": "A data.table: 1 × 8\n\\begin{tabular}{llllllll}\n nconst & primaryName & birthYear & deathYear & primaryProfession & ratings\\_total & avg\\_rating & n\\\\\n <chr> & <chr> & <chr> & <chr> & <chr> & <int> & <chr> & <int>\\\\\n\\hline\n\t nm0000168 & Samuel L. Jackson & 1948 & \\textbackslash{}N & actor,producer,soundtrack & 3311403 & 7.25 & 4\\\\\n\\end{tabular}\n",
            "text/plain": [
              "  nconst    primaryName       birthYear deathYear primaryProfession        \n",
              "1 nm0000168 Samuel L. Jackson 1948      \\\\N       actor,producer,soundtrack\n",
              "  ratings_total avg_rating n\n",
              "1 3311403       7.25       4"
            ]
          },
          "metadata": {}
        }
      ]
    },
    {
      "cell_type": "code",
      "source": [
        "box_actors <- merge(bos, nmf, by.x = \"Name\", by.y = \"primaryName\", all=FALSE)"
      ],
      "metadata": {
        "id": "xGZUMwG1vPuF"
      },
      "execution_count": 200,
      "outputs": []
    },
    {
      "cell_type": "code",
      "source": [
        "#box_actors <- box_actors %>% mutate(primaryProfession = strsplit(primaryProfession, split=','))\n",
        "head(box_actors,10)\n",
        "dim(box_actors)"
      ],
      "metadata": {
        "colab": {
          "base_uri": "https://localhost:8080/",
          "height": 429
        },
        "id": "NYOx91Vu7wOG",
        "outputId": "65e5aaf0-95f3-441f-e420-215f3357b577"
      },
      "execution_count": 201,
      "outputs": [
        {
          "output_type": "display_data",
          "data": {
            "text/html": [
              "<table class=\"dataframe\">\n",
              "<caption>A data.table: 10 × 12</caption>\n",
              "<thead>\n",
              "\t<tr><th scope=col>Name</th><th scope=col>Rank</th><th scope=col>WorldwideBoxOffice</th><th scope=col>Movies</th><th scope=col>Average</th><th scope=col>nconst</th><th scope=col>birthYear</th><th scope=col>deathYear</th><th scope=col>primaryProfession</th><th scope=col>ratings_total</th><th scope=col>avg_rating</th><th scope=col>n</th></tr>\n",
              "\t<tr><th scope=col>&lt;chr&gt;</th><th scope=col>&lt;int&gt;</th><th scope=col>&lt;chr&gt;</th><th scope=col>&lt;int&gt;</th><th scope=col>&lt;chr&gt;</th><th scope=col>&lt;chr&gt;</th><th scope=col>&lt;chr&gt;</th><th scope=col>&lt;chr&gt;</th><th scope=col>&lt;chr&gt;</th><th scope=col>&lt;int&gt;</th><th scope=col>&lt;chr&gt;</th><th scope=col>&lt;int&gt;</th></tr>\n",
              "</thead>\n",
              "<tbody>\n",
              "\t<tr><td>Aaron Eckhart           </td><td>459</td><td>$1,104,552,881</td><td>23</td><td>$48,024,038 </td><td>nm0001173</td><td>1968</td><td>\\N </td><td>actor,producer,soundtrack             </td><td>2990723</td><td>7.25            </td><td>4</td></tr>\n",
              "\t<tr><td>Aaron Taylor-Johnson    </td><td>179</td><td>$2,522,182,027</td><td>11</td><td>$229,289,275</td><td>nm1093951</td><td>1990</td><td>\\N </td><td>actor,producer,soundtrack             </td><td>1148121</td><td>7.175           </td><td>4</td></tr>\n",
              "\t<tr><td>Adam Driver             </td><td> 70</td><td>$4,887,453,665</td><td>20</td><td>$244,372,683</td><td>nm3485845</td><td>1983</td><td>\\N </td><td>actor,soundtrack                      </td><td>1937133</td><td>7.475           </td><td>4</td></tr>\n",
              "\t<tr><td>Adam Sandler            </td><td> 59</td><td>$5,236,489,739</td><td>42</td><td>$124,678,327</td><td>nm1578488</td><td>\\N </td><td>\\N </td><td>director,producer,editorial_department</td><td>   3941</td><td>6.86666666666667</td><td>4</td></tr>\n",
              "\t<tr><td>Adam Sandler            </td><td> 59</td><td>$5,236,489,739</td><td>42</td><td>$124,678,327</td><td>nm0001191</td><td>1966</td><td>\\N </td><td>actor,producer,writer                 </td><td> 639008</td><td>6.175           </td><td>4</td></tr>\n",
              "\t<tr><td>Adewale Akinnuoye-Agbaje</td><td>466</td><td>$1,076,435,674</td><td> 4</td><td>$269,108,919</td><td>nm0015382</td><td>1967</td><td>\\N </td><td>actor,writer,director                 </td><td>   1554</td><td>6.1             </td><td>1</td></tr>\n",
              "\t<tr><td>Al Pacino               </td><td>195</td><td>$2,402,150,961</td><td>44</td><td>$54,594,340 </td><td>nm0000199</td><td>1940</td><td>\\N </td><td>actor,producer,soundtrack             </td><td>2276766</td><td>7.775           </td><td>4</td></tr>\n",
              "\t<tr><td>Alan Rickman            </td><td>197</td><td>$2,375,267,745</td><td> 9</td><td>$263,918,638</td><td>nm0000614</td><td>1946</td><td>2016</td><td>actor,soundtrack,writer               </td><td>2297834</td><td>7.625           </td><td>4</td></tr>\n",
              "\t<tr><td>Alan Tudyk              </td><td>150</td><td>$2,987,122,326</td><td> 9</td><td>$331,902,481</td><td>nm0876138</td><td>1971</td><td>\\N </td><td>actor,writer,producer                 </td><td>1615758</td><td>7.7             </td><td>4</td></tr>\n",
              "\t<tr><td>Albert Brooks           </td><td>264</td><td>$1,873,758,230</td><td> 6</td><td>$312,293,038</td><td>nm0000983</td><td>1947</td><td>\\N </td><td>actor,writer,director                 </td><td> 693770</td><td>7.3             </td><td>4</td></tr>\n",
              "</tbody>\n",
              "</table>\n"
            ],
            "text/markdown": "\nA data.table: 10 × 12\n\n| Name &lt;chr&gt; | Rank &lt;int&gt; | WorldwideBoxOffice &lt;chr&gt; | Movies &lt;int&gt; | Average &lt;chr&gt; | nconst &lt;chr&gt; | birthYear &lt;chr&gt; | deathYear &lt;chr&gt; | primaryProfession &lt;chr&gt; | ratings_total &lt;int&gt; | avg_rating &lt;chr&gt; | n &lt;int&gt; |\n|---|---|---|---|---|---|---|---|---|---|---|---|\n| Aaron Eckhart            | 459 | $1,104,552,881 | 23 | $48,024,038  | nm0001173 | 1968 | \\N  | actor,producer,soundtrack              | 2990723 | 7.25             | 4 |\n| Aaron Taylor-Johnson     | 179 | $2,522,182,027 | 11 | $229,289,275 | nm1093951 | 1990 | \\N  | actor,producer,soundtrack              | 1148121 | 7.175            | 4 |\n| Adam Driver              |  70 | $4,887,453,665 | 20 | $244,372,683 | nm3485845 | 1983 | \\N  | actor,soundtrack                       | 1937133 | 7.475            | 4 |\n| Adam Sandler             |  59 | $5,236,489,739 | 42 | $124,678,327 | nm1578488 | \\N  | \\N  | director,producer,editorial_department |    3941 | 6.86666666666667 | 4 |\n| Adam Sandler             |  59 | $5,236,489,739 | 42 | $124,678,327 | nm0001191 | 1966 | \\N  | actor,producer,writer                  |  639008 | 6.175            | 4 |\n| Adewale Akinnuoye-Agbaje | 466 | $1,076,435,674 |  4 | $269,108,919 | nm0015382 | 1967 | \\N  | actor,writer,director                  |    1554 | 6.1              | 1 |\n| Al Pacino                | 195 | $2,402,150,961 | 44 | $54,594,340  | nm0000199 | 1940 | \\N  | actor,producer,soundtrack              | 2276766 | 7.775            | 4 |\n| Alan Rickman             | 197 | $2,375,267,745 |  9 | $263,918,638 | nm0000614 | 1946 | 2016 | actor,soundtrack,writer                | 2297834 | 7.625            | 4 |\n| Alan Tudyk               | 150 | $2,987,122,326 |  9 | $331,902,481 | nm0876138 | 1971 | \\N  | actor,writer,producer                  | 1615758 | 7.7              | 4 |\n| Albert Brooks            | 264 | $1,873,758,230 |  6 | $312,293,038 | nm0000983 | 1947 | \\N  | actor,writer,director                  |  693770 | 7.3              | 4 |\n\n",
            "text/latex": "A data.table: 10 × 12\n\\begin{tabular}{llllllllllll}\n Name & Rank & WorldwideBoxOffice & Movies & Average & nconst & birthYear & deathYear & primaryProfession & ratings\\_total & avg\\_rating & n\\\\\n <chr> & <int> & <chr> & <int> & <chr> & <chr> & <chr> & <chr> & <chr> & <int> & <chr> & <int>\\\\\n\\hline\n\t Aaron Eckhart            & 459 & \\$1,104,552,881 & 23 & \\$48,024,038  & nm0001173 & 1968 & \\textbackslash{}N  & actor,producer,soundtrack              & 2990723 & 7.25             & 4\\\\\n\t Aaron Taylor-Johnson     & 179 & \\$2,522,182,027 & 11 & \\$229,289,275 & nm1093951 & 1990 & \\textbackslash{}N  & actor,producer,soundtrack              & 1148121 & 7.175            & 4\\\\\n\t Adam Driver              &  70 & \\$4,887,453,665 & 20 & \\$244,372,683 & nm3485845 & 1983 & \\textbackslash{}N  & actor,soundtrack                       & 1937133 & 7.475            & 4\\\\\n\t Adam Sandler             &  59 & \\$5,236,489,739 & 42 & \\$124,678,327 & nm1578488 & \\textbackslash{}N  & \\textbackslash{}N  & director,producer,editorial\\_department &    3941 & 6.86666666666667 & 4\\\\\n\t Adam Sandler             &  59 & \\$5,236,489,739 & 42 & \\$124,678,327 & nm0001191 & 1966 & \\textbackslash{}N  & actor,producer,writer                  &  639008 & 6.175            & 4\\\\\n\t Adewale Akinnuoye-Agbaje & 466 & \\$1,076,435,674 &  4 & \\$269,108,919 & nm0015382 & 1967 & \\textbackslash{}N  & actor,writer,director                  &    1554 & 6.1              & 1\\\\\n\t Al Pacino                & 195 & \\$2,402,150,961 & 44 & \\$54,594,340  & nm0000199 & 1940 & \\textbackslash{}N  & actor,producer,soundtrack              & 2276766 & 7.775            & 4\\\\\n\t Alan Rickman             & 197 & \\$2,375,267,745 &  9 & \\$263,918,638 & nm0000614 & 1946 & 2016 & actor,soundtrack,writer                & 2297834 & 7.625            & 4\\\\\n\t Alan Tudyk               & 150 & \\$2,987,122,326 &  9 & \\$331,902,481 & nm0876138 & 1971 & \\textbackslash{}N  & actor,writer,producer                  & 1615758 & 7.7              & 4\\\\\n\t Albert Brooks            & 264 & \\$1,873,758,230 &  6 & \\$312,293,038 & nm0000983 & 1947 & \\textbackslash{}N  & actor,writer,director                  &  693770 & 7.3              & 4\\\\\n\\end{tabular}\n",
            "text/plain": [
              "   Name                     Rank WorldwideBoxOffice Movies Average     \n",
              "1  Aaron Eckhart            459  $1,104,552,881     23     $48,024,038 \n",
              "2  Aaron Taylor-Johnson     179  $2,522,182,027     11     $229,289,275\n",
              "3  Adam Driver               70  $4,887,453,665     20     $244,372,683\n",
              "4  Adam Sandler              59  $5,236,489,739     42     $124,678,327\n",
              "5  Adam Sandler              59  $5,236,489,739     42     $124,678,327\n",
              "6  Adewale Akinnuoye-Agbaje 466  $1,076,435,674      4     $269,108,919\n",
              "7  Al Pacino                195  $2,402,150,961     44     $54,594,340 \n",
              "8  Alan Rickman             197  $2,375,267,745      9     $263,918,638\n",
              "9  Alan Tudyk               150  $2,987,122,326      9     $331,902,481\n",
              "10 Albert Brooks            264  $1,873,758,230      6     $312,293,038\n",
              "   nconst    birthYear deathYear primaryProfession                     \n",
              "1  nm0001173 1968      \\\\N       actor,producer,soundtrack             \n",
              "2  nm1093951 1990      \\\\N       actor,producer,soundtrack             \n",
              "3  nm3485845 1983      \\\\N       actor,soundtrack                      \n",
              "4  nm1578488 \\\\N       \\\\N       director,producer,editorial_department\n",
              "5  nm0001191 1966      \\\\N       actor,producer,writer                 \n",
              "6  nm0015382 1967      \\\\N       actor,writer,director                 \n",
              "7  nm0000199 1940      \\\\N       actor,producer,soundtrack             \n",
              "8  nm0000614 1946      2016      actor,soundtrack,writer               \n",
              "9  nm0876138 1971      \\\\N       actor,writer,producer                 \n",
              "10 nm0000983 1947      \\\\N       actor,writer,director                 \n",
              "   ratings_total avg_rating       n\n",
              "1  2990723       7.25             4\n",
              "2  1148121       7.175            4\n",
              "3  1937133       7.475            4\n",
              "4     3941       6.86666666666667 4\n",
              "5   639008       6.175            4\n",
              "6     1554       6.1              1\n",
              "7  2276766       7.775            4\n",
              "8  2297834       7.625            4\n",
              "9  1615758       7.7              4\n",
              "10  693770       7.3              4"
            ]
          },
          "metadata": {}
        },
        {
          "output_type": "display_data",
          "data": {
            "text/html": [
              "<style>\n",
              ".list-inline {list-style: none; margin:0; padding: 0}\n",
              ".list-inline>li {display: inline-block}\n",
              ".list-inline>li:not(:last-child)::after {content: \"\\00b7\"; padding: 0 .5ex}\n",
              "</style>\n",
              "<ol class=list-inline><li>517</li><li>12</li></ol>\n"
            ],
            "text/markdown": "1. 517\n2. 12\n\n\n",
            "text/latex": "\\begin{enumerate*}\n\\item 517\n\\item 12\n\\end{enumerate*}\n",
            "text/plain": [
              "[1] 517  12"
            ]
          },
          "metadata": {}
        }
      ]
    },
    {
      "cell_type": "code",
      "source": [
        "box_actors <- box_actors %>% separate(primaryProfession, c('pp1', 'pp2','pp3')) #a way to split nicely"
      ],
      "metadata": {
        "colab": {
          "base_uri": "https://localhost:8080/"
        },
        "id": "ybHesN4tE0v3",
        "outputId": "29da359f-4afa-4880-e160-4840b5c5edfb"
      },
      "execution_count": 202,
      "outputs": [
        {
          "output_type": "stream",
          "name": "stderr",
          "text": [
            "Warning message:\n",
            "“Expected 3 pieces. Additional pieces discarded in 28 rows [4, 50, 83, 88, 102, 120, 145, 182, 202, 210, 260, 272, 279, 290, 298, 336, 338, 369, 381, 398, ...].”\n",
            "Warning message:\n",
            "“Expected 3 pieces. Missing pieces filled with `NA` in 78 rows [3, 19, 22, 32, 40, 43, 61, 68, 73, 80, 94, 105, 113, 134, 143, 147, 149, 153, 155, 163, ...].”\n"
          ]
        }
      ]
    },
    {
      "cell_type": "code",
      "source": [
        "head(box_actors)"
      ],
      "metadata": {
        "colab": {
          "base_uri": "https://localhost:8080/",
          "height": 286
        },
        "id": "OTWfH_wKCD4e",
        "outputId": "f2403c93-8904-4d8b-f994-c08fbba7e35d"
      },
      "execution_count": 203,
      "outputs": [
        {
          "output_type": "display_data",
          "data": {
            "text/html": [
              "<table class=\"dataframe\">\n",
              "<caption>A data.table: 6 × 14</caption>\n",
              "<thead>\n",
              "\t<tr><th scope=col>Name</th><th scope=col>Rank</th><th scope=col>WorldwideBoxOffice</th><th scope=col>Movies</th><th scope=col>Average</th><th scope=col>nconst</th><th scope=col>birthYear</th><th scope=col>deathYear</th><th scope=col>pp1</th><th scope=col>pp2</th><th scope=col>pp3</th><th scope=col>ratings_total</th><th scope=col>avg_rating</th><th scope=col>n</th></tr>\n",
              "\t<tr><th scope=col>&lt;chr&gt;</th><th scope=col>&lt;int&gt;</th><th scope=col>&lt;chr&gt;</th><th scope=col>&lt;int&gt;</th><th scope=col>&lt;chr&gt;</th><th scope=col>&lt;chr&gt;</th><th scope=col>&lt;chr&gt;</th><th scope=col>&lt;chr&gt;</th><th scope=col>&lt;chr&gt;</th><th scope=col>&lt;chr&gt;</th><th scope=col>&lt;chr&gt;</th><th scope=col>&lt;int&gt;</th><th scope=col>&lt;chr&gt;</th><th scope=col>&lt;int&gt;</th></tr>\n",
              "</thead>\n",
              "<tbody>\n",
              "\t<tr><td>Aaron Eckhart           </td><td>459</td><td>$1,104,552,881</td><td>23</td><td>$48,024,038 </td><td>nm0001173</td><td>1968</td><td>\\N</td><td>actor   </td><td>producer  </td><td>soundtrack</td><td>2990723</td><td>7.25            </td><td>4</td></tr>\n",
              "\t<tr><td>Aaron Taylor-Johnson    </td><td>179</td><td>$2,522,182,027</td><td>11</td><td>$229,289,275</td><td>nm1093951</td><td>1990</td><td>\\N</td><td>actor   </td><td>producer  </td><td>soundtrack</td><td>1148121</td><td>7.175           </td><td>4</td></tr>\n",
              "\t<tr><td>Adam Driver             </td><td> 70</td><td>$4,887,453,665</td><td>20</td><td>$244,372,683</td><td>nm3485845</td><td>1983</td><td>\\N</td><td>actor   </td><td>soundtrack</td><td>NA        </td><td>1937133</td><td>7.475           </td><td>4</td></tr>\n",
              "\t<tr><td>Adam Sandler            </td><td> 59</td><td>$5,236,489,739</td><td>42</td><td>$124,678,327</td><td>nm1578488</td><td>\\N </td><td>\\N</td><td>director</td><td>producer  </td><td>editorial </td><td>   3941</td><td>6.86666666666667</td><td>4</td></tr>\n",
              "\t<tr><td>Adam Sandler            </td><td> 59</td><td>$5,236,489,739</td><td>42</td><td>$124,678,327</td><td>nm0001191</td><td>1966</td><td>\\N</td><td>actor   </td><td>producer  </td><td>writer    </td><td> 639008</td><td>6.175           </td><td>4</td></tr>\n",
              "\t<tr><td>Adewale Akinnuoye-Agbaje</td><td>466</td><td>$1,076,435,674</td><td> 4</td><td>$269,108,919</td><td>nm0015382</td><td>1967</td><td>\\N</td><td>actor   </td><td>writer    </td><td>director  </td><td>   1554</td><td>6.1             </td><td>1</td></tr>\n",
              "</tbody>\n",
              "</table>\n"
            ],
            "text/markdown": "\nA data.table: 6 × 14\n\n| Name &lt;chr&gt; | Rank &lt;int&gt; | WorldwideBoxOffice &lt;chr&gt; | Movies &lt;int&gt; | Average &lt;chr&gt; | nconst &lt;chr&gt; | birthYear &lt;chr&gt; | deathYear &lt;chr&gt; | pp1 &lt;chr&gt; | pp2 &lt;chr&gt; | pp3 &lt;chr&gt; | ratings_total &lt;int&gt; | avg_rating &lt;chr&gt; | n &lt;int&gt; |\n|---|---|---|---|---|---|---|---|---|---|---|---|---|---|\n| Aaron Eckhart            | 459 | $1,104,552,881 | 23 | $48,024,038  | nm0001173 | 1968 | \\N | actor    | producer   | soundtrack | 2990723 | 7.25             | 4 |\n| Aaron Taylor-Johnson     | 179 | $2,522,182,027 | 11 | $229,289,275 | nm1093951 | 1990 | \\N | actor    | producer   | soundtrack | 1148121 | 7.175            | 4 |\n| Adam Driver              |  70 | $4,887,453,665 | 20 | $244,372,683 | nm3485845 | 1983 | \\N | actor    | soundtrack | NA         | 1937133 | 7.475            | 4 |\n| Adam Sandler             |  59 | $5,236,489,739 | 42 | $124,678,327 | nm1578488 | \\N  | \\N | director | producer   | editorial  |    3941 | 6.86666666666667 | 4 |\n| Adam Sandler             |  59 | $5,236,489,739 | 42 | $124,678,327 | nm0001191 | 1966 | \\N | actor    | producer   | writer     |  639008 | 6.175            | 4 |\n| Adewale Akinnuoye-Agbaje | 466 | $1,076,435,674 |  4 | $269,108,919 | nm0015382 | 1967 | \\N | actor    | writer     | director   |    1554 | 6.1              | 1 |\n\n",
            "text/latex": "A data.table: 6 × 14\n\\begin{tabular}{llllllllllllll}\n Name & Rank & WorldwideBoxOffice & Movies & Average & nconst & birthYear & deathYear & pp1 & pp2 & pp3 & ratings\\_total & avg\\_rating & n\\\\\n <chr> & <int> & <chr> & <int> & <chr> & <chr> & <chr> & <chr> & <chr> & <chr> & <chr> & <int> & <chr> & <int>\\\\\n\\hline\n\t Aaron Eckhart            & 459 & \\$1,104,552,881 & 23 & \\$48,024,038  & nm0001173 & 1968 & \\textbackslash{}N & actor    & producer   & soundtrack & 2990723 & 7.25             & 4\\\\\n\t Aaron Taylor-Johnson     & 179 & \\$2,522,182,027 & 11 & \\$229,289,275 & nm1093951 & 1990 & \\textbackslash{}N & actor    & producer   & soundtrack & 1148121 & 7.175            & 4\\\\\n\t Adam Driver              &  70 & \\$4,887,453,665 & 20 & \\$244,372,683 & nm3485845 & 1983 & \\textbackslash{}N & actor    & soundtrack & NA         & 1937133 & 7.475            & 4\\\\\n\t Adam Sandler             &  59 & \\$5,236,489,739 & 42 & \\$124,678,327 & nm1578488 & \\textbackslash{}N  & \\textbackslash{}N & director & producer   & editorial  &    3941 & 6.86666666666667 & 4\\\\\n\t Adam Sandler             &  59 & \\$5,236,489,739 & 42 & \\$124,678,327 & nm0001191 & 1966 & \\textbackslash{}N & actor    & producer   & writer     &  639008 & 6.175            & 4\\\\\n\t Adewale Akinnuoye-Agbaje & 466 & \\$1,076,435,674 &  4 & \\$269,108,919 & nm0015382 & 1967 & \\textbackslash{}N & actor    & writer     & director   &    1554 & 6.1              & 1\\\\\n\\end{tabular}\n",
            "text/plain": [
              "  Name                     Rank WorldwideBoxOffice Movies Average     \n",
              "1 Aaron Eckhart            459  $1,104,552,881     23     $48,024,038 \n",
              "2 Aaron Taylor-Johnson     179  $2,522,182,027     11     $229,289,275\n",
              "3 Adam Driver               70  $4,887,453,665     20     $244,372,683\n",
              "4 Adam Sandler              59  $5,236,489,739     42     $124,678,327\n",
              "5 Adam Sandler              59  $5,236,489,739     42     $124,678,327\n",
              "6 Adewale Akinnuoye-Agbaje 466  $1,076,435,674      4     $269,108,919\n",
              "  nconst    birthYear deathYear pp1      pp2        pp3        ratings_total\n",
              "1 nm0001173 1968      \\\\N       actor    producer   soundtrack 2990723      \n",
              "2 nm1093951 1990      \\\\N       actor    producer   soundtrack 1148121      \n",
              "3 nm3485845 1983      \\\\N       actor    soundtrack NA         1937133      \n",
              "4 nm1578488 \\\\N       \\\\N       director producer   editorial     3941      \n",
              "5 nm0001191 1966      \\\\N       actor    producer   writer      639008      \n",
              "6 nm0015382 1967      \\\\N       actor    writer     director      1554      \n",
              "  avg_rating       n\n",
              "1 7.25             4\n",
              "2 7.175            4\n",
              "3 7.475            4\n",
              "4 6.86666666666667 4\n",
              "5 6.175            4\n",
              "6 6.1              1"
            ]
          },
          "metadata": {}
        }
      ]
    },
    {
      "cell_type": "code",
      "source": [
        "unique(box_actors$pp1)"
      ],
      "metadata": {
        "colab": {
          "base_uri": "https://localhost:8080/",
          "height": 34
        },
        "id": "b8z6h2FC90X7",
        "outputId": "e22bcffc-5b7a-41da-9fef-2006d02a311e"
      },
      "execution_count": 204,
      "outputs": [
        {
          "output_type": "display_data",
          "data": {
            "text/html": [
              "<style>\n",
              ".list-inline {list-style: none; margin:0; padding: 0}\n",
              ".list-inline>li {display: inline-block}\n",
              ".list-inline>li:not(:last-child)::after {content: \"\\00b7\"; padding: 0 .5ex}\n",
              "</style>\n",
              "<ol class=list-inline><li>'actor'</li><li>'director'</li><li>'actress'</li><li>'soundtrack'</li><li>'writer'</li><li>'producer'</li><li>'animation'</li><li>'visual'</li><li>''</li><li>'script'</li><li>'editor'</li><li>'miscellaneous'</li><li>'music'</li></ol>\n"
            ],
            "text/markdown": "1. 'actor'\n2. 'director'\n3. 'actress'\n4. 'soundtrack'\n5. 'writer'\n6. 'producer'\n7. 'animation'\n8. 'visual'\n9. ''\n10. 'script'\n11. 'editor'\n12. 'miscellaneous'\n13. 'music'\n\n\n",
            "text/latex": "\\begin{enumerate*}\n\\item 'actor'\n\\item 'director'\n\\item 'actress'\n\\item 'soundtrack'\n\\item 'writer'\n\\item 'producer'\n\\item 'animation'\n\\item 'visual'\n\\item ''\n\\item 'script'\n\\item 'editor'\n\\item 'miscellaneous'\n\\item 'music'\n\\end{enumerate*}\n",
            "text/plain": [
              " [1] \"actor\"         \"director\"      \"actress\"       \"soundtrack\"   \n",
              " [5] \"writer\"        \"producer\"      \"animation\"     \"visual\"       \n",
              " [9] \"\"              \"script\"        \"editor\"        \"miscellaneous\"\n",
              "[13] \"music\"        "
            ]
          },
          "metadata": {}
        }
      ]
    },
    {
      "cell_type": "code",
      "source": [
        "#not necessary to do this imo\n",
        "#box_actors <- merge(box_actors, principals, by.x = \"nconst\", by.y = \"nconst\", all=FALSE)"
      ],
      "metadata": {
        "id": "hZJpSnN1-VCw"
      },
      "execution_count": 205,
      "outputs": []
    },
    {
      "cell_type": "code",
      "source": [
        "#baf <- box_actors[pp1 == 'actor' | pp2 == 'actor' | pp3 == 'actor' | pp1 == 'actress' | pp2 == 'actress'| pp3 == 'actress'] some are still duplicates...\n",
        "baf <- box_actors[pp1 == 'actor' | pp1 == 'actress']\n",
        "head(baf)\n",
        "dim(baf)"
      ],
      "metadata": {
        "colab": {
          "base_uri": "https://localhost:8080/",
          "height": 304
        },
        "id": "BBOgzgLd7MpQ",
        "outputId": "8040523e-bc5b-4763-c773-72a258cb8072"
      },
      "execution_count": 206,
      "outputs": [
        {
          "output_type": "display_data",
          "data": {
            "text/html": [
              "<table class=\"dataframe\">\n",
              "<caption>A data.table: 6 × 14</caption>\n",
              "<thead>\n",
              "\t<tr><th scope=col>Name</th><th scope=col>Rank</th><th scope=col>WorldwideBoxOffice</th><th scope=col>Movies</th><th scope=col>Average</th><th scope=col>nconst</th><th scope=col>birthYear</th><th scope=col>deathYear</th><th scope=col>pp1</th><th scope=col>pp2</th><th scope=col>pp3</th><th scope=col>ratings_total</th><th scope=col>avg_rating</th><th scope=col>n</th></tr>\n",
              "\t<tr><th scope=col>&lt;chr&gt;</th><th scope=col>&lt;int&gt;</th><th scope=col>&lt;chr&gt;</th><th scope=col>&lt;int&gt;</th><th scope=col>&lt;chr&gt;</th><th scope=col>&lt;chr&gt;</th><th scope=col>&lt;chr&gt;</th><th scope=col>&lt;chr&gt;</th><th scope=col>&lt;chr&gt;</th><th scope=col>&lt;chr&gt;</th><th scope=col>&lt;chr&gt;</th><th scope=col>&lt;int&gt;</th><th scope=col>&lt;chr&gt;</th><th scope=col>&lt;int&gt;</th></tr>\n",
              "</thead>\n",
              "<tbody>\n",
              "\t<tr><td>Aaron Eckhart           </td><td>459</td><td>$1,104,552,881</td><td>23</td><td>$48,024,038 </td><td>nm0001173</td><td>1968</td><td>\\N</td><td>actor</td><td>producer  </td><td>soundtrack</td><td>2990723</td><td>7.25 </td><td>4</td></tr>\n",
              "\t<tr><td>Aaron Taylor-Johnson    </td><td>179</td><td>$2,522,182,027</td><td>11</td><td>$229,289,275</td><td>nm1093951</td><td>1990</td><td>\\N</td><td>actor</td><td>producer  </td><td>soundtrack</td><td>1148121</td><td>7.175</td><td>4</td></tr>\n",
              "\t<tr><td>Adam Driver             </td><td> 70</td><td>$4,887,453,665</td><td>20</td><td>$244,372,683</td><td>nm3485845</td><td>1983</td><td>\\N</td><td>actor</td><td>soundtrack</td><td>NA        </td><td>1937133</td><td>7.475</td><td>4</td></tr>\n",
              "\t<tr><td>Adam Sandler            </td><td> 59</td><td>$5,236,489,739</td><td>42</td><td>$124,678,327</td><td>nm0001191</td><td>1966</td><td>\\N</td><td>actor</td><td>producer  </td><td>writer    </td><td> 639008</td><td>6.175</td><td>4</td></tr>\n",
              "\t<tr><td>Adewale Akinnuoye-Agbaje</td><td>466</td><td>$1,076,435,674</td><td> 4</td><td>$269,108,919</td><td>nm0015382</td><td>1967</td><td>\\N</td><td>actor</td><td>writer    </td><td>director  </td><td>   1554</td><td>6.1  </td><td>1</td></tr>\n",
              "\t<tr><td>Al Pacino               </td><td>195</td><td>$2,402,150,961</td><td>44</td><td>$54,594,340 </td><td>nm0000199</td><td>1940</td><td>\\N</td><td>actor</td><td>producer  </td><td>soundtrack</td><td>2276766</td><td>7.775</td><td>4</td></tr>\n",
              "</tbody>\n",
              "</table>\n"
            ],
            "text/markdown": "\nA data.table: 6 × 14\n\n| Name &lt;chr&gt; | Rank &lt;int&gt; | WorldwideBoxOffice &lt;chr&gt; | Movies &lt;int&gt; | Average &lt;chr&gt; | nconst &lt;chr&gt; | birthYear &lt;chr&gt; | deathYear &lt;chr&gt; | pp1 &lt;chr&gt; | pp2 &lt;chr&gt; | pp3 &lt;chr&gt; | ratings_total &lt;int&gt; | avg_rating &lt;chr&gt; | n &lt;int&gt; |\n|---|---|---|---|---|---|---|---|---|---|---|---|---|---|\n| Aaron Eckhart            | 459 | $1,104,552,881 | 23 | $48,024,038  | nm0001173 | 1968 | \\N | actor | producer   | soundtrack | 2990723 | 7.25  | 4 |\n| Aaron Taylor-Johnson     | 179 | $2,522,182,027 | 11 | $229,289,275 | nm1093951 | 1990 | \\N | actor | producer   | soundtrack | 1148121 | 7.175 | 4 |\n| Adam Driver              |  70 | $4,887,453,665 | 20 | $244,372,683 | nm3485845 | 1983 | \\N | actor | soundtrack | NA         | 1937133 | 7.475 | 4 |\n| Adam Sandler             |  59 | $5,236,489,739 | 42 | $124,678,327 | nm0001191 | 1966 | \\N | actor | producer   | writer     |  639008 | 6.175 | 4 |\n| Adewale Akinnuoye-Agbaje | 466 | $1,076,435,674 |  4 | $269,108,919 | nm0015382 | 1967 | \\N | actor | writer     | director   |    1554 | 6.1   | 1 |\n| Al Pacino                | 195 | $2,402,150,961 | 44 | $54,594,340  | nm0000199 | 1940 | \\N | actor | producer   | soundtrack | 2276766 | 7.775 | 4 |\n\n",
            "text/latex": "A data.table: 6 × 14\n\\begin{tabular}{llllllllllllll}\n Name & Rank & WorldwideBoxOffice & Movies & Average & nconst & birthYear & deathYear & pp1 & pp2 & pp3 & ratings\\_total & avg\\_rating & n\\\\\n <chr> & <int> & <chr> & <int> & <chr> & <chr> & <chr> & <chr> & <chr> & <chr> & <chr> & <int> & <chr> & <int>\\\\\n\\hline\n\t Aaron Eckhart            & 459 & \\$1,104,552,881 & 23 & \\$48,024,038  & nm0001173 & 1968 & \\textbackslash{}N & actor & producer   & soundtrack & 2990723 & 7.25  & 4\\\\\n\t Aaron Taylor-Johnson     & 179 & \\$2,522,182,027 & 11 & \\$229,289,275 & nm1093951 & 1990 & \\textbackslash{}N & actor & producer   & soundtrack & 1148121 & 7.175 & 4\\\\\n\t Adam Driver              &  70 & \\$4,887,453,665 & 20 & \\$244,372,683 & nm3485845 & 1983 & \\textbackslash{}N & actor & soundtrack & NA         & 1937133 & 7.475 & 4\\\\\n\t Adam Sandler             &  59 & \\$5,236,489,739 & 42 & \\$124,678,327 & nm0001191 & 1966 & \\textbackslash{}N & actor & producer   & writer     &  639008 & 6.175 & 4\\\\\n\t Adewale Akinnuoye-Agbaje & 466 & \\$1,076,435,674 &  4 & \\$269,108,919 & nm0015382 & 1967 & \\textbackslash{}N & actor & writer     & director   &    1554 & 6.1   & 1\\\\\n\t Al Pacino                & 195 & \\$2,402,150,961 & 44 & \\$54,594,340  & nm0000199 & 1940 & \\textbackslash{}N & actor & producer   & soundtrack & 2276766 & 7.775 & 4\\\\\n\\end{tabular}\n",
            "text/plain": [
              "  Name                     Rank WorldwideBoxOffice Movies Average     \n",
              "1 Aaron Eckhart            459  $1,104,552,881     23     $48,024,038 \n",
              "2 Aaron Taylor-Johnson     179  $2,522,182,027     11     $229,289,275\n",
              "3 Adam Driver               70  $4,887,453,665     20     $244,372,683\n",
              "4 Adam Sandler              59  $5,236,489,739     42     $124,678,327\n",
              "5 Adewale Akinnuoye-Agbaje 466  $1,076,435,674      4     $269,108,919\n",
              "6 Al Pacino                195  $2,402,150,961     44     $54,594,340 \n",
              "  nconst    birthYear deathYear pp1   pp2        pp3        ratings_total\n",
              "1 nm0001173 1968      \\\\N       actor producer   soundtrack 2990723      \n",
              "2 nm1093951 1990      \\\\N       actor producer   soundtrack 1148121      \n",
              "3 nm3485845 1983      \\\\N       actor soundtrack NA         1937133      \n",
              "4 nm0001191 1966      \\\\N       actor producer   writer      639008      \n",
              "5 nm0015382 1967      \\\\N       actor writer     director      1554      \n",
              "6 nm0000199 1940      \\\\N       actor producer   soundtrack 2276766      \n",
              "  avg_rating n\n",
              "1 7.25       4\n",
              "2 7.175      4\n",
              "3 7.475      4\n",
              "4 6.175      4\n",
              "5 6.1        1\n",
              "6 7.775      4"
            ]
          },
          "metadata": {}
        },
        {
          "output_type": "display_data",
          "data": {
            "text/html": [
              "<style>\n",
              ".list-inline {list-style: none; margin:0; padding: 0}\n",
              ".list-inline>li {display: inline-block}\n",
              ".list-inline>li:not(:last-child)::after {content: \"\\00b7\"; padding: 0 .5ex}\n",
              "</style>\n",
              "<ol class=list-inline><li>439</li><li>14</li></ol>\n"
            ],
            "text/markdown": "1. 439\n2. 14\n\n\n",
            "text/latex": "\\begin{enumerate*}\n\\item 439\n\\item 14\n\\end{enumerate*}\n",
            "text/plain": [
              "[1] 439  14"
            ]
          },
          "metadata": {}
        }
      ]
    },
    {
      "cell_type": "code",
      "source": [
        "setorder(baf, cols = \"Rank\") #fast way to order a data table\n",
        "head(baf)"
      ],
      "metadata": {
        "colab": {
          "base_uri": "https://localhost:8080/",
          "height": 286
        },
        "id": "k-b9KzphJBPp",
        "outputId": "dae2f02a-79ee-4f4e-877c-ec1853834b04"
      },
      "execution_count": 207,
      "outputs": [
        {
          "output_type": "display_data",
          "data": {
            "text/html": [
              "<table class=\"dataframe\">\n",
              "<caption>A data.table: 6 × 14</caption>\n",
              "<thead>\n",
              "\t<tr><th scope=col>Name</th><th scope=col>Rank</th><th scope=col>WorldwideBoxOffice</th><th scope=col>Movies</th><th scope=col>Average</th><th scope=col>nconst</th><th scope=col>birthYear</th><th scope=col>deathYear</th><th scope=col>pp1</th><th scope=col>pp2</th><th scope=col>pp3</th><th scope=col>ratings_total</th><th scope=col>avg_rating</th><th scope=col>n</th></tr>\n",
              "\t<tr><th scope=col>&lt;chr&gt;</th><th scope=col>&lt;int&gt;</th><th scope=col>&lt;chr&gt;</th><th scope=col>&lt;int&gt;</th><th scope=col>&lt;chr&gt;</th><th scope=col>&lt;chr&gt;</th><th scope=col>&lt;chr&gt;</th><th scope=col>&lt;chr&gt;</th><th scope=col>&lt;chr&gt;</th><th scope=col>&lt;chr&gt;</th><th scope=col>&lt;chr&gt;</th><th scope=col>&lt;int&gt;</th><th scope=col>&lt;chr&gt;</th><th scope=col>&lt;int&gt;</th></tr>\n",
              "</thead>\n",
              "<tbody>\n",
              "\t<tr><td>Scarlett Johansson</td><td>1</td><td>$14,522,754,504</td><td>34</td><td>$427,139,838</td><td>nm0424060</td><td>1984</td><td>\\N</td><td>actress</td><td>soundtrack</td><td>producer  </td><td>2582870</td><td>7.5  </td><td>4</td></tr>\n",
              "\t<tr><td>Robert Downey Jr. </td><td>2</td><td>$14,396,065,966</td><td>43</td><td>$334,792,232</td><td>nm0000375</td><td>1965</td><td>\\N</td><td>actor  </td><td>producer  </td><td>soundtrack</td><td>3902151</td><td>7.65 </td><td>4</td></tr>\n",
              "\t<tr><td>Samuel L. Jackson </td><td>3</td><td>$14,366,169,081</td><td>64</td><td>$224,471,392</td><td>nm0000168</td><td>1948</td><td>\\N</td><td>actor  </td><td>producer  </td><td>soundtrack</td><td>3311403</td><td>7.25 </td><td>4</td></tr>\n",
              "\t<tr><td>Chris Hemsworth   </td><td>4</td><td>$11,945,886,832</td><td>25</td><td>$477,835,473</td><td>nm1165110</td><td>1983</td><td>\\N</td><td>actor  </td><td>producer  </td><td>soundtrack</td><td>3012517</td><td>7.475</td><td>4</td></tr>\n",
              "\t<tr><td>Chris Pratt       </td><td>5</td><td>$11,745,130,231</td><td>21</td><td>$559,291,916</td><td>nm0695435</td><td>1979</td><td>\\N</td><td>actress</td><td>soundtrack</td><td>producer  </td><td>2090529</td><td>7.6  </td><td>4</td></tr>\n",
              "\t<tr><td>Tom Cruise        </td><td>6</td><td>$11,546,807,794</td><td>43</td><td>$268,530,414</td><td>nm0000129</td><td>1962</td><td>\\N</td><td>actor  </td><td>producer  </td><td>soundtrack</td><td>1475417</td><td>7.025</td><td>4</td></tr>\n",
              "</tbody>\n",
              "</table>\n"
            ],
            "text/markdown": "\nA data.table: 6 × 14\n\n| Name &lt;chr&gt; | Rank &lt;int&gt; | WorldwideBoxOffice &lt;chr&gt; | Movies &lt;int&gt; | Average &lt;chr&gt; | nconst &lt;chr&gt; | birthYear &lt;chr&gt; | deathYear &lt;chr&gt; | pp1 &lt;chr&gt; | pp2 &lt;chr&gt; | pp3 &lt;chr&gt; | ratings_total &lt;int&gt; | avg_rating &lt;chr&gt; | n &lt;int&gt; |\n|---|---|---|---|---|---|---|---|---|---|---|---|---|---|\n| Scarlett Johansson | 1 | $14,522,754,504 | 34 | $427,139,838 | nm0424060 | 1984 | \\N | actress | soundtrack | producer   | 2582870 | 7.5   | 4 |\n| Robert Downey Jr.  | 2 | $14,396,065,966 | 43 | $334,792,232 | nm0000375 | 1965 | \\N | actor   | producer   | soundtrack | 3902151 | 7.65  | 4 |\n| Samuel L. Jackson  | 3 | $14,366,169,081 | 64 | $224,471,392 | nm0000168 | 1948 | \\N | actor   | producer   | soundtrack | 3311403 | 7.25  | 4 |\n| Chris Hemsworth    | 4 | $11,945,886,832 | 25 | $477,835,473 | nm1165110 | 1983 | \\N | actor   | producer   | soundtrack | 3012517 | 7.475 | 4 |\n| Chris Pratt        | 5 | $11,745,130,231 | 21 | $559,291,916 | nm0695435 | 1979 | \\N | actress | soundtrack | producer   | 2090529 | 7.6   | 4 |\n| Tom Cruise         | 6 | $11,546,807,794 | 43 | $268,530,414 | nm0000129 | 1962 | \\N | actor   | producer   | soundtrack | 1475417 | 7.025 | 4 |\n\n",
            "text/latex": "A data.table: 6 × 14\n\\begin{tabular}{llllllllllllll}\n Name & Rank & WorldwideBoxOffice & Movies & Average & nconst & birthYear & deathYear & pp1 & pp2 & pp3 & ratings\\_total & avg\\_rating & n\\\\\n <chr> & <int> & <chr> & <int> & <chr> & <chr> & <chr> & <chr> & <chr> & <chr> & <chr> & <int> & <chr> & <int>\\\\\n\\hline\n\t Scarlett Johansson & 1 & \\$14,522,754,504 & 34 & \\$427,139,838 & nm0424060 & 1984 & \\textbackslash{}N & actress & soundtrack & producer   & 2582870 & 7.5   & 4\\\\\n\t Robert Downey Jr.  & 2 & \\$14,396,065,966 & 43 & \\$334,792,232 & nm0000375 & 1965 & \\textbackslash{}N & actor   & producer   & soundtrack & 3902151 & 7.65  & 4\\\\\n\t Samuel L. Jackson  & 3 & \\$14,366,169,081 & 64 & \\$224,471,392 & nm0000168 & 1948 & \\textbackslash{}N & actor   & producer   & soundtrack & 3311403 & 7.25  & 4\\\\\n\t Chris Hemsworth    & 4 & \\$11,945,886,832 & 25 & \\$477,835,473 & nm1165110 & 1983 & \\textbackslash{}N & actor   & producer   & soundtrack & 3012517 & 7.475 & 4\\\\\n\t Chris Pratt        & 5 & \\$11,745,130,231 & 21 & \\$559,291,916 & nm0695435 & 1979 & \\textbackslash{}N & actress & soundtrack & producer   & 2090529 & 7.6   & 4\\\\\n\t Tom Cruise         & 6 & \\$11,546,807,794 & 43 & \\$268,530,414 & nm0000129 & 1962 & \\textbackslash{}N & actor   & producer   & soundtrack & 1475417 & 7.025 & 4\\\\\n\\end{tabular}\n",
            "text/plain": [
              "  Name               Rank WorldwideBoxOffice Movies Average      nconst   \n",
              "1 Scarlett Johansson 1    $14,522,754,504    34     $427,139,838 nm0424060\n",
              "2 Robert Downey Jr.  2    $14,396,065,966    43     $334,792,232 nm0000375\n",
              "3 Samuel L. Jackson  3    $14,366,169,081    64     $224,471,392 nm0000168\n",
              "4 Chris Hemsworth    4    $11,945,886,832    25     $477,835,473 nm1165110\n",
              "5 Chris Pratt        5    $11,745,130,231    21     $559,291,916 nm0695435\n",
              "6 Tom Cruise         6    $11,546,807,794    43     $268,530,414 nm0000129\n",
              "  birthYear deathYear pp1     pp2        pp3        ratings_total avg_rating n\n",
              "1 1984      \\\\N       actress soundtrack producer   2582870       7.5        4\n",
              "2 1965      \\\\N       actor   producer   soundtrack 3902151       7.65       4\n",
              "3 1948      \\\\N       actor   producer   soundtrack 3311403       7.25       4\n",
              "4 1983      \\\\N       actor   producer   soundtrack 3012517       7.475      4\n",
              "5 1979      \\\\N       actress soundtrack producer   2090529       7.6        4\n",
              "6 1962      \\\\N       actor   producer   soundtrack 1475417       7.025      4"
            ]
          },
          "metadata": {}
        }
      ]
    },
    {
      "cell_type": "code",
      "source": [
        "baf100 <- baf[1:100]\n",
        "head(baf100)\n",
        "dim(baf100)"
      ],
      "metadata": {
        "colab": {
          "base_uri": "https://localhost:8080/",
          "height": 304
        },
        "id": "DEVym8GgLePa",
        "outputId": "700b4718-da51-4ed7-9f2e-5f45bf418e76"
      },
      "execution_count": 208,
      "outputs": [
        {
          "output_type": "display_data",
          "data": {
            "text/html": [
              "<table class=\"dataframe\">\n",
              "<caption>A data.table: 6 × 14</caption>\n",
              "<thead>\n",
              "\t<tr><th scope=col>Name</th><th scope=col>Rank</th><th scope=col>WorldwideBoxOffice</th><th scope=col>Movies</th><th scope=col>Average</th><th scope=col>nconst</th><th scope=col>birthYear</th><th scope=col>deathYear</th><th scope=col>pp1</th><th scope=col>pp2</th><th scope=col>pp3</th><th scope=col>ratings_total</th><th scope=col>avg_rating</th><th scope=col>n</th></tr>\n",
              "\t<tr><th scope=col>&lt;chr&gt;</th><th scope=col>&lt;int&gt;</th><th scope=col>&lt;chr&gt;</th><th scope=col>&lt;int&gt;</th><th scope=col>&lt;chr&gt;</th><th scope=col>&lt;chr&gt;</th><th scope=col>&lt;chr&gt;</th><th scope=col>&lt;chr&gt;</th><th scope=col>&lt;chr&gt;</th><th scope=col>&lt;chr&gt;</th><th scope=col>&lt;chr&gt;</th><th scope=col>&lt;int&gt;</th><th scope=col>&lt;chr&gt;</th><th scope=col>&lt;int&gt;</th></tr>\n",
              "</thead>\n",
              "<tbody>\n",
              "\t<tr><td>Scarlett Johansson</td><td>1</td><td>$14,522,754,504</td><td>34</td><td>$427,139,838</td><td>nm0424060</td><td>1984</td><td>\\N</td><td>actress</td><td>soundtrack</td><td>producer  </td><td>2582870</td><td>7.5  </td><td>4</td></tr>\n",
              "\t<tr><td>Robert Downey Jr. </td><td>2</td><td>$14,396,065,966</td><td>43</td><td>$334,792,232</td><td>nm0000375</td><td>1965</td><td>\\N</td><td>actor  </td><td>producer  </td><td>soundtrack</td><td>3902151</td><td>7.65 </td><td>4</td></tr>\n",
              "\t<tr><td>Samuel L. Jackson </td><td>3</td><td>$14,366,169,081</td><td>64</td><td>$224,471,392</td><td>nm0000168</td><td>1948</td><td>\\N</td><td>actor  </td><td>producer  </td><td>soundtrack</td><td>3311403</td><td>7.25 </td><td>4</td></tr>\n",
              "\t<tr><td>Chris Hemsworth   </td><td>4</td><td>$11,945,886,832</td><td>25</td><td>$477,835,473</td><td>nm1165110</td><td>1983</td><td>\\N</td><td>actor  </td><td>producer  </td><td>soundtrack</td><td>3012517</td><td>7.475</td><td>4</td></tr>\n",
              "\t<tr><td>Chris Pratt       </td><td>5</td><td>$11,745,130,231</td><td>21</td><td>$559,291,916</td><td>nm0695435</td><td>1979</td><td>\\N</td><td>actress</td><td>soundtrack</td><td>producer  </td><td>2090529</td><td>7.6  </td><td>4</td></tr>\n",
              "\t<tr><td>Tom Cruise        </td><td>6</td><td>$11,546,807,794</td><td>43</td><td>$268,530,414</td><td>nm0000129</td><td>1962</td><td>\\N</td><td>actor  </td><td>producer  </td><td>soundtrack</td><td>1475417</td><td>7.025</td><td>4</td></tr>\n",
              "</tbody>\n",
              "</table>\n"
            ],
            "text/markdown": "\nA data.table: 6 × 14\n\n| Name &lt;chr&gt; | Rank &lt;int&gt; | WorldwideBoxOffice &lt;chr&gt; | Movies &lt;int&gt; | Average &lt;chr&gt; | nconst &lt;chr&gt; | birthYear &lt;chr&gt; | deathYear &lt;chr&gt; | pp1 &lt;chr&gt; | pp2 &lt;chr&gt; | pp3 &lt;chr&gt; | ratings_total &lt;int&gt; | avg_rating &lt;chr&gt; | n &lt;int&gt; |\n|---|---|---|---|---|---|---|---|---|---|---|---|---|---|\n| Scarlett Johansson | 1 | $14,522,754,504 | 34 | $427,139,838 | nm0424060 | 1984 | \\N | actress | soundtrack | producer   | 2582870 | 7.5   | 4 |\n| Robert Downey Jr.  | 2 | $14,396,065,966 | 43 | $334,792,232 | nm0000375 | 1965 | \\N | actor   | producer   | soundtrack | 3902151 | 7.65  | 4 |\n| Samuel L. Jackson  | 3 | $14,366,169,081 | 64 | $224,471,392 | nm0000168 | 1948 | \\N | actor   | producer   | soundtrack | 3311403 | 7.25  | 4 |\n| Chris Hemsworth    | 4 | $11,945,886,832 | 25 | $477,835,473 | nm1165110 | 1983 | \\N | actor   | producer   | soundtrack | 3012517 | 7.475 | 4 |\n| Chris Pratt        | 5 | $11,745,130,231 | 21 | $559,291,916 | nm0695435 | 1979 | \\N | actress | soundtrack | producer   | 2090529 | 7.6   | 4 |\n| Tom Cruise         | 6 | $11,546,807,794 | 43 | $268,530,414 | nm0000129 | 1962 | \\N | actor   | producer   | soundtrack | 1475417 | 7.025 | 4 |\n\n",
            "text/latex": "A data.table: 6 × 14\n\\begin{tabular}{llllllllllllll}\n Name & Rank & WorldwideBoxOffice & Movies & Average & nconst & birthYear & deathYear & pp1 & pp2 & pp3 & ratings\\_total & avg\\_rating & n\\\\\n <chr> & <int> & <chr> & <int> & <chr> & <chr> & <chr> & <chr> & <chr> & <chr> & <chr> & <int> & <chr> & <int>\\\\\n\\hline\n\t Scarlett Johansson & 1 & \\$14,522,754,504 & 34 & \\$427,139,838 & nm0424060 & 1984 & \\textbackslash{}N & actress & soundtrack & producer   & 2582870 & 7.5   & 4\\\\\n\t Robert Downey Jr.  & 2 & \\$14,396,065,966 & 43 & \\$334,792,232 & nm0000375 & 1965 & \\textbackslash{}N & actor   & producer   & soundtrack & 3902151 & 7.65  & 4\\\\\n\t Samuel L. Jackson  & 3 & \\$14,366,169,081 & 64 & \\$224,471,392 & nm0000168 & 1948 & \\textbackslash{}N & actor   & producer   & soundtrack & 3311403 & 7.25  & 4\\\\\n\t Chris Hemsworth    & 4 & \\$11,945,886,832 & 25 & \\$477,835,473 & nm1165110 & 1983 & \\textbackslash{}N & actor   & producer   & soundtrack & 3012517 & 7.475 & 4\\\\\n\t Chris Pratt        & 5 & \\$11,745,130,231 & 21 & \\$559,291,916 & nm0695435 & 1979 & \\textbackslash{}N & actress & soundtrack & producer   & 2090529 & 7.6   & 4\\\\\n\t Tom Cruise         & 6 & \\$11,546,807,794 & 43 & \\$268,530,414 & nm0000129 & 1962 & \\textbackslash{}N & actor   & producer   & soundtrack & 1475417 & 7.025 & 4\\\\\n\\end{tabular}\n",
            "text/plain": [
              "  Name               Rank WorldwideBoxOffice Movies Average      nconst   \n",
              "1 Scarlett Johansson 1    $14,522,754,504    34     $427,139,838 nm0424060\n",
              "2 Robert Downey Jr.  2    $14,396,065,966    43     $334,792,232 nm0000375\n",
              "3 Samuel L. Jackson  3    $14,366,169,081    64     $224,471,392 nm0000168\n",
              "4 Chris Hemsworth    4    $11,945,886,832    25     $477,835,473 nm1165110\n",
              "5 Chris Pratt        5    $11,745,130,231    21     $559,291,916 nm0695435\n",
              "6 Tom Cruise         6    $11,546,807,794    43     $268,530,414 nm0000129\n",
              "  birthYear deathYear pp1     pp2        pp3        ratings_total avg_rating n\n",
              "1 1984      \\\\N       actress soundtrack producer   2582870       7.5        4\n",
              "2 1965      \\\\N       actor   producer   soundtrack 3902151       7.65       4\n",
              "3 1948      \\\\N       actor   producer   soundtrack 3311403       7.25       4\n",
              "4 1983      \\\\N       actor   producer   soundtrack 3012517       7.475      4\n",
              "5 1979      \\\\N       actress soundtrack producer   2090529       7.6        4\n",
              "6 1962      \\\\N       actor   producer   soundtrack 1475417       7.025      4"
            ]
          },
          "metadata": {}
        },
        {
          "output_type": "display_data",
          "data": {
            "text/html": [
              "<style>\n",
              ".list-inline {list-style: none; margin:0; padding: 0}\n",
              ".list-inline>li {display: inline-block}\n",
              ".list-inline>li:not(:last-child)::after {content: \"\\00b7\"; padding: 0 .5ex}\n",
              "</style>\n",
              "<ol class=list-inline><li>100</li><li>14</li></ol>\n"
            ],
            "text/markdown": "1. 100\n2. 14\n\n\n",
            "text/latex": "\\begin{enumerate*}\n\\item 100\n\\item 14\n\\end{enumerate*}\n",
            "text/plain": [
              "[1] 100  14"
            ]
          },
          "metadata": {}
        }
      ]
    },
    {
      "cell_type": "code",
      "source": [
        "#for plotting\n",
        "#baf100_toplot <- baf100[, .(Rank,ratings_total, avg_rating)]\n",
        "baf100_toplot <- baf100[, avg_rating]\n",
        "baf100_toplot <- data.frame(baf100_toplot)\n",
        "#baf100_toplot I am plotting more stuff together later"
      ],
      "metadata": {
        "id": "TlWeGZ8SOKGl"
      },
      "execution_count": 210,
      "outputs": []
    },
    {
      "cell_type": "markdown",
      "source": [
        "**IT WILL BE PLOTTED LATER**"
      ],
      "metadata": {
        "id": "F5g_Jvh70EXv"
      }
    },
    {
      "cell_type": "markdown",
      "source": [
        "### Box office stars compared to \"attractive stars\""
      ],
      "metadata": {
        "id": "HXyBrsQdlH3W"
      }
    },
    {
      "cell_type": "code",
      "source": [
        "downloaded_file <- drive_download(\"Top100Actors.csv\")"
      ],
      "metadata": {
        "id": "2Ni0FHsVlJli"
      },
      "execution_count": null,
      "outputs": []
    },
    {
      "cell_type": "code",
      "source": [
        "top100m <- fread(\"Top100Actors.csv\")"
      ],
      "metadata": {
        "id": "Cm_YqR2flQsR"
      },
      "execution_count": 211,
      "outputs": []
    },
    {
      "cell_type": "code",
      "source": [
        "downloaded_file <- drive_download(\"Top100Actresses.csv\")\n",
        "top100f <- fread(\"Top100Actresses.csv\")"
      ],
      "metadata": {
        "colab": {
          "base_uri": "https://localhost:8080/",
          "height": 304
        },
        "id": "3p7GFMe-lXxw",
        "outputId": "a5cb7be8-0247-4c8b-a438-da2347bfa2f3"
      },
      "execution_count": 212,
      "outputs": [
        {
          "output_type": "stream",
          "name": "stderr",
          "text": [
            "Auto-refreshing stale OAuth token.\n",
            "\n"
          ]
        },
        {
          "output_type": "error",
          "ename": "ERROR",
          "evalue": "ignored",
          "traceback": [
            "Error: Path exists and overwrite is FALSE\nTraceback:\n",
            "1. drive_download(\"Top100Actresses.csv\")",
            "2. request_make(request, httr::write_disk(path, overwrite = overwrite))",
            "3. gargle::request_make(x, ..., user_agent = drive_ua())",
            "4. method(url = x$url, body = x$body, x$token, encode = encode, \n .     user_agent, ...)",
            "5. handle_url(handle, url, ...)",
            "6. named(list(...))",
            "7. httr::write_disk(path, overwrite = overwrite)",
            "8. stop(\"Path exists and overwrite is FALSE\", call. = FALSE)"
          ]
        }
      ]
    },
    {
      "cell_type": "code",
      "source": [
        "top100f <- top100f[1:100]\n",
        "dim(top100f)"
      ],
      "metadata": {
        "colab": {
          "base_uri": "https://localhost:8080/",
          "height": 34
        },
        "id": "0IPn0bFtlh0y",
        "outputId": "86e64716-6709-4e6a-dae3-3bdd16118fd2"
      },
      "execution_count": 213,
      "outputs": [
        {
          "output_type": "display_data",
          "data": {
            "text/html": [
              "<style>\n",
              ".list-inline {list-style: none; margin:0; padding: 0}\n",
              ".list-inline>li {display: inline-block}\n",
              ".list-inline>li:not(:last-child)::after {content: \"\\00b7\"; padding: 0 .5ex}\n",
              "</style>\n",
              "<ol class=list-inline><li>100</li><li>8</li></ol>\n"
            ],
            "text/markdown": "1. 100\n2. 8\n\n\n",
            "text/latex": "\\begin{enumerate*}\n\\item 100\n\\item 8\n\\end{enumerate*}\n",
            "text/plain": [
              "[1] 100   8"
            ]
          },
          "metadata": {}
        }
      ]
    },
    {
      "cell_type": "code",
      "source": [
        "#top 200 attractive actors and actresses\n",
        "hot <- rbindlist(list(top100f, top100m))  #adding two tables vertically\n",
        "hot <- hot[, .(Position,Const,Name)] \n",
        "head(hot)"
      ],
      "metadata": {
        "colab": {
          "base_uri": "https://localhost:8080/",
          "height": 286
        },
        "id": "DUJeRN94KCUL",
        "outputId": "062d51a4-7ded-4e9d-b58a-5e70de28c1e2"
      },
      "execution_count": 214,
      "outputs": [
        {
          "output_type": "display_data",
          "data": {
            "text/html": [
              "<table class=\"dataframe\">\n",
              "<caption>A data.table: 6 × 3</caption>\n",
              "<thead>\n",
              "\t<tr><th scope=col>Position</th><th scope=col>Const</th><th scope=col>Name</th></tr>\n",
              "\t<tr><th scope=col>&lt;int&gt;</th><th scope=col>&lt;chr&gt;</th><th scope=col>&lt;chr&gt;</th></tr>\n",
              "</thead>\n",
              "<tbody>\n",
              "\t<tr><td>1</td><td>nm1312575</td><td>Olivia Wilde      </td></tr>\n",
              "\t<tr><td>2</td><td>nm0817844</td><td>Abigail Spencer   </td></tr>\n",
              "\t<tr><td>3</td><td>nm0004695</td><td>Jessica Alba      </td></tr>\n",
              "\t<tr><td>4</td><td>nm0424060</td><td>Scarlett Johansson</td></tr>\n",
              "\t<tr><td>5</td><td>nm0005154</td><td>Lucy Liu          </td></tr>\n",
              "\t<tr><td>6</td><td>nm0000124</td><td>Jennifer Connelly </td></tr>\n",
              "</tbody>\n",
              "</table>\n"
            ],
            "text/markdown": "\nA data.table: 6 × 3\n\n| Position &lt;int&gt; | Const &lt;chr&gt; | Name &lt;chr&gt; |\n|---|---|---|\n| 1 | nm1312575 | Olivia Wilde       |\n| 2 | nm0817844 | Abigail Spencer    |\n| 3 | nm0004695 | Jessica Alba       |\n| 4 | nm0424060 | Scarlett Johansson |\n| 5 | nm0005154 | Lucy Liu           |\n| 6 | nm0000124 | Jennifer Connelly  |\n\n",
            "text/latex": "A data.table: 6 × 3\n\\begin{tabular}{lll}\n Position & Const & Name\\\\\n <int> & <chr> & <chr>\\\\\n\\hline\n\t 1 & nm1312575 & Olivia Wilde      \\\\\n\t 2 & nm0817844 & Abigail Spencer   \\\\\n\t 3 & nm0004695 & Jessica Alba      \\\\\n\t 4 & nm0424060 & Scarlett Johansson\\\\\n\t 5 & nm0005154 & Lucy Liu          \\\\\n\t 6 & nm0000124 & Jennifer Connelly \\\\\n\\end{tabular}\n",
            "text/plain": [
              "  Position Const     Name              \n",
              "1 1        nm1312575 Olivia Wilde      \n",
              "2 2        nm0817844 Abigail Spencer   \n",
              "3 3        nm0004695 Jessica Alba      \n",
              "4 4        nm0424060 Scarlett Johansson\n",
              "5 5        nm0005154 Lucy Liu          \n",
              "6 6        nm0000124 Jennifer Connelly "
            ]
          },
          "metadata": {}
        }
      ]
    },
    {
      "cell_type": "code",
      "source": [
        "hot_actors <- merge(hot, nmf, by.x = \"Const\", by.y = \"nconst\", all=FALSE)\n",
        "head(hot_actors)\n",
        "dim(hot_actors)"
      ],
      "metadata": {
        "colab": {
          "base_uri": "https://localhost:8080/",
          "height": 304
        },
        "id": "AjxaMzaNfu4l",
        "outputId": "0aaabda4-ec89-4044-d671-66815b367444"
      },
      "execution_count": 215,
      "outputs": [
        {
          "output_type": "display_data",
          "data": {
            "text/html": [
              "<table class=\"dataframe\">\n",
              "<caption>A data.table: 6 × 10</caption>\n",
              "<thead>\n",
              "\t<tr><th scope=col>Const</th><th scope=col>Position</th><th scope=col>Name</th><th scope=col>primaryName</th><th scope=col>birthYear</th><th scope=col>deathYear</th><th scope=col>primaryProfession</th><th scope=col>ratings_total</th><th scope=col>avg_rating</th><th scope=col>n</th></tr>\n",
              "\t<tr><th scope=col>&lt;chr&gt;</th><th scope=col>&lt;int&gt;</th><th scope=col>&lt;chr&gt;</th><th scope=col>&lt;chr&gt;</th><th scope=col>&lt;chr&gt;</th><th scope=col>&lt;chr&gt;</th><th scope=col>&lt;chr&gt;</th><th scope=col>&lt;int&gt;</th><th scope=col>&lt;chr&gt;</th><th scope=col>&lt;int&gt;</th></tr>\n",
              "</thead>\n",
              "<tbody>\n",
              "\t<tr><td>nm0000008</td><td>91</td><td>Marlon Brando </td><td>Marlon Brando </td><td>1924</td><td>2004</td><td>actor,soundtrack,director  </td><td>2706269</td><td>8.175</td><td>4</td></tr>\n",
              "\t<tr><td>nm0000056</td><td> 9</td><td>Paul Newman   </td><td>Paul Newman   </td><td>1925</td><td>2008</td><td>actor,producer,director    </td><td> 411559</td><td>7.675</td><td>4</td></tr>\n",
              "\t<tr><td>nm0000093</td><td>31</td><td>Brad Pitt     </td><td>Brad Pitt     </td><td>1963</td><td>\\N </td><td>actor,producer,soundtrack  </td><td>1764419</td><td>7.15 </td><td>4</td></tr>\n",
              "\t<tr><td>nm0000113</td><td>84</td><td>Sandra Bullock</td><td>Sandra Bullock</td><td>1964</td><td>\\N </td><td>producer,actress,soundtrack</td><td>1722159</td><td>7    </td><td>4</td></tr>\n",
              "\t<tr><td>nm0000119</td><td>50</td><td>Tia Carrere   </td><td>Tia Carrere   </td><td>1967</td><td>\\N </td><td>actress,soundtrack,producer</td><td> 612986</td><td>7    </td><td>4</td></tr>\n",
              "\t<tr><td>nm0000123</td><td>61</td><td>George Clooney</td><td>George Clooney</td><td>1961</td><td>\\N </td><td>actor,producer,director    </td><td> 823252</td><td>7.275</td><td>4</td></tr>\n",
              "</tbody>\n",
              "</table>\n"
            ],
            "text/markdown": "\nA data.table: 6 × 10\n\n| Const &lt;chr&gt; | Position &lt;int&gt; | Name &lt;chr&gt; | primaryName &lt;chr&gt; | birthYear &lt;chr&gt; | deathYear &lt;chr&gt; | primaryProfession &lt;chr&gt; | ratings_total &lt;int&gt; | avg_rating &lt;chr&gt; | n &lt;int&gt; |\n|---|---|---|---|---|---|---|---|---|---|\n| nm0000008 | 91 | Marlon Brando  | Marlon Brando  | 1924 | 2004 | actor,soundtrack,director   | 2706269 | 8.175 | 4 |\n| nm0000056 |  9 | Paul Newman    | Paul Newman    | 1925 | 2008 | actor,producer,director     |  411559 | 7.675 | 4 |\n| nm0000093 | 31 | Brad Pitt      | Brad Pitt      | 1963 | \\N  | actor,producer,soundtrack   | 1764419 | 7.15  | 4 |\n| nm0000113 | 84 | Sandra Bullock | Sandra Bullock | 1964 | \\N  | producer,actress,soundtrack | 1722159 | 7     | 4 |\n| nm0000119 | 50 | Tia Carrere    | Tia Carrere    | 1967 | \\N  | actress,soundtrack,producer |  612986 | 7     | 4 |\n| nm0000123 | 61 | George Clooney | George Clooney | 1961 | \\N  | actor,producer,director     |  823252 | 7.275 | 4 |\n\n",
            "text/latex": "A data.table: 6 × 10\n\\begin{tabular}{llllllllll}\n Const & Position & Name & primaryName & birthYear & deathYear & primaryProfession & ratings\\_total & avg\\_rating & n\\\\\n <chr> & <int> & <chr> & <chr> & <chr> & <chr> & <chr> & <int> & <chr> & <int>\\\\\n\\hline\n\t nm0000008 & 91 & Marlon Brando  & Marlon Brando  & 1924 & 2004 & actor,soundtrack,director   & 2706269 & 8.175 & 4\\\\\n\t nm0000056 &  9 & Paul Newman    & Paul Newman    & 1925 & 2008 & actor,producer,director     &  411559 & 7.675 & 4\\\\\n\t nm0000093 & 31 & Brad Pitt      & Brad Pitt      & 1963 & \\textbackslash{}N  & actor,producer,soundtrack   & 1764419 & 7.15  & 4\\\\\n\t nm0000113 & 84 & Sandra Bullock & Sandra Bullock & 1964 & \\textbackslash{}N  & producer,actress,soundtrack & 1722159 & 7     & 4\\\\\n\t nm0000119 & 50 & Tia Carrere    & Tia Carrere    & 1967 & \\textbackslash{}N  & actress,soundtrack,producer &  612986 & 7     & 4\\\\\n\t nm0000123 & 61 & George Clooney & George Clooney & 1961 & \\textbackslash{}N  & actor,producer,director     &  823252 & 7.275 & 4\\\\\n\\end{tabular}\n",
            "text/plain": [
              "  Const     Position Name           primaryName    birthYear deathYear\n",
              "1 nm0000008 91       Marlon Brando  Marlon Brando  1924      2004     \n",
              "2 nm0000056  9       Paul Newman    Paul Newman    1925      2008     \n",
              "3 nm0000093 31       Brad Pitt      Brad Pitt      1963      \\\\N      \n",
              "4 nm0000113 84       Sandra Bullock Sandra Bullock 1964      \\\\N      \n",
              "5 nm0000119 50       Tia Carrere    Tia Carrere    1967      \\\\N      \n",
              "6 nm0000123 61       George Clooney George Clooney 1961      \\\\N      \n",
              "  primaryProfession           ratings_total avg_rating n\n",
              "1 actor,soundtrack,director   2706269       8.175      4\n",
              "2 actor,producer,director      411559       7.675      4\n",
              "3 actor,producer,soundtrack   1764419       7.15       4\n",
              "4 producer,actress,soundtrack 1722159       7          4\n",
              "5 actress,soundtrack,producer  612986       7          4\n",
              "6 actor,producer,director      823252       7.275      4"
            ]
          },
          "metadata": {}
        },
        {
          "output_type": "display_data",
          "data": {
            "text/html": [
              "<style>\n",
              ".list-inline {list-style: none; margin:0; padding: 0}\n",
              ".list-inline>li {display: inline-block}\n",
              ".list-inline>li:not(:last-child)::after {content: \"\\00b7\"; padding: 0 .5ex}\n",
              "</style>\n",
              "<ol class=list-inline><li>182</li><li>10</li></ol>\n"
            ],
            "text/markdown": "1. 182\n2. 10\n\n\n",
            "text/latex": "\\begin{enumerate*}\n\\item 182\n\\item 10\n\\end{enumerate*}\n",
            "text/plain": [
              "[1] 182  10"
            ]
          },
          "metadata": {}
        }
      ]
    },
    {
      "cell_type": "code",
      "source": [
        "hot_in_baf <- merge(hot, baf100, by.x = \"Const\", by.y = \"nconst\", all=FALSE)"
      ],
      "metadata": {
        "id": "rIdjPGsMhVcu"
      },
      "execution_count": 216,
      "outputs": []
    },
    {
      "cell_type": "code",
      "source": [
        "head(hot_in_baf) #27 of them already in baf100\n",
        "const_to_delete <- hot_in_baf$Const\n",
        "const_to_delete"
      ],
      "metadata": {
        "colab": {
          "base_uri": "https://localhost:8080/",
          "height": 321
        },
        "id": "NJ3UkEN7j375",
        "outputId": "8592ae60-f954-4409-8528-efe5660fc02b"
      },
      "execution_count": 217,
      "outputs": [
        {
          "output_type": "display_data",
          "data": {
            "text/html": [
              "<table class=\"dataframe\">\n",
              "<caption>A data.table: 6 × 16</caption>\n",
              "<thead>\n",
              "\t<tr><th scope=col>Const</th><th scope=col>Position</th><th scope=col>Name.x</th><th scope=col>Name.y</th><th scope=col>Rank</th><th scope=col>WorldwideBoxOffice</th><th scope=col>Movies</th><th scope=col>Average</th><th scope=col>birthYear</th><th scope=col>deathYear</th><th scope=col>pp1</th><th scope=col>pp2</th><th scope=col>pp3</th><th scope=col>ratings_total</th><th scope=col>avg_rating</th><th scope=col>n</th></tr>\n",
              "\t<tr><th scope=col>&lt;chr&gt;</th><th scope=col>&lt;int&gt;</th><th scope=col>&lt;chr&gt;</th><th scope=col>&lt;chr&gt;</th><th scope=col>&lt;int&gt;</th><th scope=col>&lt;chr&gt;</th><th scope=col>&lt;int&gt;</th><th scope=col>&lt;chr&gt;</th><th scope=col>&lt;chr&gt;</th><th scope=col>&lt;chr&gt;</th><th scope=col>&lt;chr&gt;</th><th scope=col>&lt;chr&gt;</th><th scope=col>&lt;chr&gt;</th><th scope=col>&lt;int&gt;</th><th scope=col>&lt;chr&gt;</th><th scope=col>&lt;int&gt;</th></tr>\n",
              "</thead>\n",
              "<tbody>\n",
              "\t<tr><td>nm0000093</td><td>31</td><td>Brad Pitt        </td><td>Brad Pitt        </td><td>36</td><td>$6,859,342,026 </td><td>43</td><td>$159,519,582</td><td>1963</td><td>\\N</td><td>actor  </td><td>producer</td><td>soundtrack</td><td>1764419</td><td>7.15 </td><td>4</td></tr>\n",
              "\t<tr><td>nm0000123</td><td>61</td><td>George Clooney   </td><td>George Clooney   </td><td>79</td><td>$4,704,932,208 </td><td>34</td><td>$138,380,359</td><td>1961</td><td>\\N</td><td>actor  </td><td>producer</td><td>director  </td><td> 823252</td><td>7.275</td><td>4</td></tr>\n",
              "\t<tr><td>nm0000129</td><td>89</td><td>Tom Cruise       </td><td>Tom Cruise       </td><td> 6</td><td>$11,546,807,794</td><td>43</td><td>$268,530,414</td><td>1962</td><td>\\N</td><td>actor  </td><td>producer</td><td>soundtrack</td><td>1475417</td><td>7.025</td><td>4</td></tr>\n",
              "\t<tr><td>nm0000136</td><td>24</td><td>Johnny Depp      </td><td>Johnny Depp      </td><td>12</td><td>$10,323,947,911</td><td>52</td><td>$198,537,460</td><td>1963</td><td>\\N</td><td>actor  </td><td>producer</td><td>soundtrack</td><td>2849164</td><td>7.45 </td><td>4</td></tr>\n",
              "\t<tr><td>nm0000138</td><td>25</td><td>Leonardo DiCaprio</td><td>Leonardo DiCaprio</td><td>32</td><td>$7,101,486,511 </td><td>27</td><td>$263,018,019</td><td>1974</td><td>\\N</td><td>actor  </td><td>producer</td><td>soundtrack</td><td>6176430</td><td>8.35 </td><td>4</td></tr>\n",
              "\t<tr><td>nm0000139</td><td>92</td><td>Cameron Diaz     </td><td>Cameron Diaz     </td><td>49</td><td>$5,827,319,895 </td><td>28</td><td>$208,118,568</td><td>1972</td><td>\\N</td><td>actress</td><td>producer</td><td>soundtrack</td><td> 908733</td><td>6.475</td><td>4</td></tr>\n",
              "</tbody>\n",
              "</table>\n"
            ],
            "text/markdown": "\nA data.table: 6 × 16\n\n| Const &lt;chr&gt; | Position &lt;int&gt; | Name.x &lt;chr&gt; | Name.y &lt;chr&gt; | Rank &lt;int&gt; | WorldwideBoxOffice &lt;chr&gt; | Movies &lt;int&gt; | Average &lt;chr&gt; | birthYear &lt;chr&gt; | deathYear &lt;chr&gt; | pp1 &lt;chr&gt; | pp2 &lt;chr&gt; | pp3 &lt;chr&gt; | ratings_total &lt;int&gt; | avg_rating &lt;chr&gt; | n &lt;int&gt; |\n|---|---|---|---|---|---|---|---|---|---|---|---|---|---|---|---|\n| nm0000093 | 31 | Brad Pitt         | Brad Pitt         | 36 | $6,859,342,026  | 43 | $159,519,582 | 1963 | \\N | actor   | producer | soundtrack | 1764419 | 7.15  | 4 |\n| nm0000123 | 61 | George Clooney    | George Clooney    | 79 | $4,704,932,208  | 34 | $138,380,359 | 1961 | \\N | actor   | producer | director   |  823252 | 7.275 | 4 |\n| nm0000129 | 89 | Tom Cruise        | Tom Cruise        |  6 | $11,546,807,794 | 43 | $268,530,414 | 1962 | \\N | actor   | producer | soundtrack | 1475417 | 7.025 | 4 |\n| nm0000136 | 24 | Johnny Depp       | Johnny Depp       | 12 | $10,323,947,911 | 52 | $198,537,460 | 1963 | \\N | actor   | producer | soundtrack | 2849164 | 7.45  | 4 |\n| nm0000138 | 25 | Leonardo DiCaprio | Leonardo DiCaprio | 32 | $7,101,486,511  | 27 | $263,018,019 | 1974 | \\N | actor   | producer | soundtrack | 6176430 | 8.35  | 4 |\n| nm0000139 | 92 | Cameron Diaz      | Cameron Diaz      | 49 | $5,827,319,895  | 28 | $208,118,568 | 1972 | \\N | actress | producer | soundtrack |  908733 | 6.475 | 4 |\n\n",
            "text/latex": "A data.table: 6 × 16\n\\begin{tabular}{llllllllllllllll}\n Const & Position & Name.x & Name.y & Rank & WorldwideBoxOffice & Movies & Average & birthYear & deathYear & pp1 & pp2 & pp3 & ratings\\_total & avg\\_rating & n\\\\\n <chr> & <int> & <chr> & <chr> & <int> & <chr> & <int> & <chr> & <chr> & <chr> & <chr> & <chr> & <chr> & <int> & <chr> & <int>\\\\\n\\hline\n\t nm0000093 & 31 & Brad Pitt         & Brad Pitt         & 36 & \\$6,859,342,026  & 43 & \\$159,519,582 & 1963 & \\textbackslash{}N & actor   & producer & soundtrack & 1764419 & 7.15  & 4\\\\\n\t nm0000123 & 61 & George Clooney    & George Clooney    & 79 & \\$4,704,932,208  & 34 & \\$138,380,359 & 1961 & \\textbackslash{}N & actor   & producer & director   &  823252 & 7.275 & 4\\\\\n\t nm0000129 & 89 & Tom Cruise        & Tom Cruise        &  6 & \\$11,546,807,794 & 43 & \\$268,530,414 & 1962 & \\textbackslash{}N & actor   & producer & soundtrack & 1475417 & 7.025 & 4\\\\\n\t nm0000136 & 24 & Johnny Depp       & Johnny Depp       & 12 & \\$10,323,947,911 & 52 & \\$198,537,460 & 1963 & \\textbackslash{}N & actor   & producer & soundtrack & 2849164 & 7.45  & 4\\\\\n\t nm0000138 & 25 & Leonardo DiCaprio & Leonardo DiCaprio & 32 & \\$7,101,486,511  & 27 & \\$263,018,019 & 1974 & \\textbackslash{}N & actor   & producer & soundtrack & 6176430 & 8.35  & 4\\\\\n\t nm0000139 & 92 & Cameron Diaz      & Cameron Diaz      & 49 & \\$5,827,319,895  & 28 & \\$208,118,568 & 1972 & \\textbackslash{}N & actress & producer & soundtrack &  908733 & 6.475 & 4\\\\\n\\end{tabular}\n",
            "text/plain": [
              "  Const     Position Name.x            Name.y            Rank\n",
              "1 nm0000093 31       Brad Pitt         Brad Pitt         36  \n",
              "2 nm0000123 61       George Clooney    George Clooney    79  \n",
              "3 nm0000129 89       Tom Cruise        Tom Cruise         6  \n",
              "4 nm0000136 24       Johnny Depp       Johnny Depp       12  \n",
              "5 nm0000138 25       Leonardo DiCaprio Leonardo DiCaprio 32  \n",
              "6 nm0000139 92       Cameron Diaz      Cameron Diaz      49  \n",
              "  WorldwideBoxOffice Movies Average      birthYear deathYear pp1     pp2     \n",
              "1 $6,859,342,026     43     $159,519,582 1963      \\\\N       actor   producer\n",
              "2 $4,704,932,208     34     $138,380,359 1961      \\\\N       actor   producer\n",
              "3 $11,546,807,794    43     $268,530,414 1962      \\\\N       actor   producer\n",
              "4 $10,323,947,911    52     $198,537,460 1963      \\\\N       actor   producer\n",
              "5 $7,101,486,511     27     $263,018,019 1974      \\\\N       actor   producer\n",
              "6 $5,827,319,895     28     $208,118,568 1972      \\\\N       actress producer\n",
              "  pp3        ratings_total avg_rating n\n",
              "1 soundtrack 1764419       7.15       4\n",
              "2 director    823252       7.275      4\n",
              "3 soundtrack 1475417       7.025      4\n",
              "4 soundtrack 2849164       7.45       4\n",
              "5 soundtrack 6176430       8.35       4\n",
              "6 soundtrack  908733       6.475      4"
            ]
          },
          "metadata": {}
        },
        {
          "output_type": "display_data",
          "data": {
            "text/html": [
              "<style>\n",
              ".list-inline {list-style: none; margin:0; padding: 0}\n",
              ".list-inline>li {display: inline-block}\n",
              ".list-inline>li:not(:last-child)::after {content: \"\\00b7\"; padding: 0 .5ex}\n",
              "</style>\n",
              "<ol class=list-inline><li>'nm0000093'</li><li>'nm0000123'</li><li>'nm0000129'</li><li>'nm0000136'</li><li>'nm0000138'</li><li>'nm0000139'</li><li>'nm0000146'</li><li>'nm0000179'</li><li>'nm0000191'</li><li>'nm0000204'</li><li>'nm0000206'</li><li>'nm0000210'</li><li>'nm0000246'</li><li>'nm0000288'</li><li>'nm0000553'</li><li>'nm0000569'</li><li>'nm0001401'</li><li>'nm0005562'</li><li>'nm0177896'</li><li>'nm0185819'</li><li>'nm0413168'</li><li>'nm0424060'</li><li>'nm0461136'</li><li>'nm0705356'</li><li>'nm0719637'</li><li>'nm0757855'</li><li>'nm1500155'</li></ol>\n"
            ],
            "text/markdown": "1. 'nm0000093'\n2. 'nm0000123'\n3. 'nm0000129'\n4. 'nm0000136'\n5. 'nm0000138'\n6. 'nm0000139'\n7. 'nm0000146'\n8. 'nm0000179'\n9. 'nm0000191'\n10. 'nm0000204'\n11. 'nm0000206'\n12. 'nm0000210'\n13. 'nm0000246'\n14. 'nm0000288'\n15. 'nm0000553'\n16. 'nm0000569'\n17. 'nm0001401'\n18. 'nm0005562'\n19. 'nm0177896'\n20. 'nm0185819'\n21. 'nm0413168'\n22. 'nm0424060'\n23. 'nm0461136'\n24. 'nm0705356'\n25. 'nm0719637'\n26. 'nm0757855'\n27. 'nm1500155'\n\n\n",
            "text/latex": "\\begin{enumerate*}\n\\item 'nm0000093'\n\\item 'nm0000123'\n\\item 'nm0000129'\n\\item 'nm0000136'\n\\item 'nm0000138'\n\\item 'nm0000139'\n\\item 'nm0000146'\n\\item 'nm0000179'\n\\item 'nm0000191'\n\\item 'nm0000204'\n\\item 'nm0000206'\n\\item 'nm0000210'\n\\item 'nm0000246'\n\\item 'nm0000288'\n\\item 'nm0000553'\n\\item 'nm0000569'\n\\item 'nm0001401'\n\\item 'nm0005562'\n\\item 'nm0177896'\n\\item 'nm0185819'\n\\item 'nm0413168'\n\\item 'nm0424060'\n\\item 'nm0461136'\n\\item 'nm0705356'\n\\item 'nm0719637'\n\\item 'nm0757855'\n\\item 'nm1500155'\n\\end{enumerate*}\n",
            "text/plain": [
              " [1] \"nm0000093\" \"nm0000123\" \"nm0000129\" \"nm0000136\" \"nm0000138\" \"nm0000139\"\n",
              " [7] \"nm0000146\" \"nm0000179\" \"nm0000191\" \"nm0000204\" \"nm0000206\" \"nm0000210\"\n",
              "[13] \"nm0000246\" \"nm0000288\" \"nm0000553\" \"nm0000569\" \"nm0001401\" \"nm0005562\"\n",
              "[19] \"nm0177896\" \"nm0185819\" \"nm0413168\" \"nm0424060\" \"nm0461136\" \"nm0705356\"\n",
              "[25] \"nm0719637\" \"nm0757855\" \"nm1500155\""
            ]
          },
          "metadata": {}
        }
      ]
    },
    {
      "cell_type": "code",
      "source": [
        "head(baf)"
      ],
      "metadata": {
        "colab": {
          "base_uri": "https://localhost:8080/",
          "height": 286
        },
        "id": "Vy-xJQN4mgAp",
        "outputId": "a704ce47-cd94-4b6f-e67e-bdad455805d2"
      },
      "execution_count": 218,
      "outputs": [
        {
          "output_type": "display_data",
          "data": {
            "text/html": [
              "<table class=\"dataframe\">\n",
              "<caption>A data.table: 6 × 14</caption>\n",
              "<thead>\n",
              "\t<tr><th scope=col>Name</th><th scope=col>Rank</th><th scope=col>WorldwideBoxOffice</th><th scope=col>Movies</th><th scope=col>Average</th><th scope=col>nconst</th><th scope=col>birthYear</th><th scope=col>deathYear</th><th scope=col>pp1</th><th scope=col>pp2</th><th scope=col>pp3</th><th scope=col>ratings_total</th><th scope=col>avg_rating</th><th scope=col>n</th></tr>\n",
              "\t<tr><th scope=col>&lt;chr&gt;</th><th scope=col>&lt;int&gt;</th><th scope=col>&lt;chr&gt;</th><th scope=col>&lt;int&gt;</th><th scope=col>&lt;chr&gt;</th><th scope=col>&lt;chr&gt;</th><th scope=col>&lt;chr&gt;</th><th scope=col>&lt;chr&gt;</th><th scope=col>&lt;chr&gt;</th><th scope=col>&lt;chr&gt;</th><th scope=col>&lt;chr&gt;</th><th scope=col>&lt;int&gt;</th><th scope=col>&lt;chr&gt;</th><th scope=col>&lt;int&gt;</th></tr>\n",
              "</thead>\n",
              "<tbody>\n",
              "\t<tr><td>Scarlett Johansson</td><td>1</td><td>$14,522,754,504</td><td>34</td><td>$427,139,838</td><td>nm0424060</td><td>1984</td><td>\\N</td><td>actress</td><td>soundtrack</td><td>producer  </td><td>2582870</td><td>7.5  </td><td>4</td></tr>\n",
              "\t<tr><td>Robert Downey Jr. </td><td>2</td><td>$14,396,065,966</td><td>43</td><td>$334,792,232</td><td>nm0000375</td><td>1965</td><td>\\N</td><td>actor  </td><td>producer  </td><td>soundtrack</td><td>3902151</td><td>7.65 </td><td>4</td></tr>\n",
              "\t<tr><td>Samuel L. Jackson </td><td>3</td><td>$14,366,169,081</td><td>64</td><td>$224,471,392</td><td>nm0000168</td><td>1948</td><td>\\N</td><td>actor  </td><td>producer  </td><td>soundtrack</td><td>3311403</td><td>7.25 </td><td>4</td></tr>\n",
              "\t<tr><td>Chris Hemsworth   </td><td>4</td><td>$11,945,886,832</td><td>25</td><td>$477,835,473</td><td>nm1165110</td><td>1983</td><td>\\N</td><td>actor  </td><td>producer  </td><td>soundtrack</td><td>3012517</td><td>7.475</td><td>4</td></tr>\n",
              "\t<tr><td>Chris Pratt       </td><td>5</td><td>$11,745,130,231</td><td>21</td><td>$559,291,916</td><td>nm0695435</td><td>1979</td><td>\\N</td><td>actress</td><td>soundtrack</td><td>producer  </td><td>2090529</td><td>7.6  </td><td>4</td></tr>\n",
              "\t<tr><td>Tom Cruise        </td><td>6</td><td>$11,546,807,794</td><td>43</td><td>$268,530,414</td><td>nm0000129</td><td>1962</td><td>\\N</td><td>actor  </td><td>producer  </td><td>soundtrack</td><td>1475417</td><td>7.025</td><td>4</td></tr>\n",
              "</tbody>\n",
              "</table>\n"
            ],
            "text/markdown": "\nA data.table: 6 × 14\n\n| Name &lt;chr&gt; | Rank &lt;int&gt; | WorldwideBoxOffice &lt;chr&gt; | Movies &lt;int&gt; | Average &lt;chr&gt; | nconst &lt;chr&gt; | birthYear &lt;chr&gt; | deathYear &lt;chr&gt; | pp1 &lt;chr&gt; | pp2 &lt;chr&gt; | pp3 &lt;chr&gt; | ratings_total &lt;int&gt; | avg_rating &lt;chr&gt; | n &lt;int&gt; |\n|---|---|---|---|---|---|---|---|---|---|---|---|---|---|\n| Scarlett Johansson | 1 | $14,522,754,504 | 34 | $427,139,838 | nm0424060 | 1984 | \\N | actress | soundtrack | producer   | 2582870 | 7.5   | 4 |\n| Robert Downey Jr.  | 2 | $14,396,065,966 | 43 | $334,792,232 | nm0000375 | 1965 | \\N | actor   | producer   | soundtrack | 3902151 | 7.65  | 4 |\n| Samuel L. Jackson  | 3 | $14,366,169,081 | 64 | $224,471,392 | nm0000168 | 1948 | \\N | actor   | producer   | soundtrack | 3311403 | 7.25  | 4 |\n| Chris Hemsworth    | 4 | $11,945,886,832 | 25 | $477,835,473 | nm1165110 | 1983 | \\N | actor   | producer   | soundtrack | 3012517 | 7.475 | 4 |\n| Chris Pratt        | 5 | $11,745,130,231 | 21 | $559,291,916 | nm0695435 | 1979 | \\N | actress | soundtrack | producer   | 2090529 | 7.6   | 4 |\n| Tom Cruise         | 6 | $11,546,807,794 | 43 | $268,530,414 | nm0000129 | 1962 | \\N | actor   | producer   | soundtrack | 1475417 | 7.025 | 4 |\n\n",
            "text/latex": "A data.table: 6 × 14\n\\begin{tabular}{llllllllllllll}\n Name & Rank & WorldwideBoxOffice & Movies & Average & nconst & birthYear & deathYear & pp1 & pp2 & pp3 & ratings\\_total & avg\\_rating & n\\\\\n <chr> & <int> & <chr> & <int> & <chr> & <chr> & <chr> & <chr> & <chr> & <chr> & <chr> & <int> & <chr> & <int>\\\\\n\\hline\n\t Scarlett Johansson & 1 & \\$14,522,754,504 & 34 & \\$427,139,838 & nm0424060 & 1984 & \\textbackslash{}N & actress & soundtrack & producer   & 2582870 & 7.5   & 4\\\\\n\t Robert Downey Jr.  & 2 & \\$14,396,065,966 & 43 & \\$334,792,232 & nm0000375 & 1965 & \\textbackslash{}N & actor   & producer   & soundtrack & 3902151 & 7.65  & 4\\\\\n\t Samuel L. Jackson  & 3 & \\$14,366,169,081 & 64 & \\$224,471,392 & nm0000168 & 1948 & \\textbackslash{}N & actor   & producer   & soundtrack & 3311403 & 7.25  & 4\\\\\n\t Chris Hemsworth    & 4 & \\$11,945,886,832 & 25 & \\$477,835,473 & nm1165110 & 1983 & \\textbackslash{}N & actor   & producer   & soundtrack & 3012517 & 7.475 & 4\\\\\n\t Chris Pratt        & 5 & \\$11,745,130,231 & 21 & \\$559,291,916 & nm0695435 & 1979 & \\textbackslash{}N & actress & soundtrack & producer   & 2090529 & 7.6   & 4\\\\\n\t Tom Cruise         & 6 & \\$11,546,807,794 & 43 & \\$268,530,414 & nm0000129 & 1962 & \\textbackslash{}N & actor   & producer   & soundtrack & 1475417 & 7.025 & 4\\\\\n\\end{tabular}\n",
            "text/plain": [
              "  Name               Rank WorldwideBoxOffice Movies Average      nconst   \n",
              "1 Scarlett Johansson 1    $14,522,754,504    34     $427,139,838 nm0424060\n",
              "2 Robert Downey Jr.  2    $14,396,065,966    43     $334,792,232 nm0000375\n",
              "3 Samuel L. Jackson  3    $14,366,169,081    64     $224,471,392 nm0000168\n",
              "4 Chris Hemsworth    4    $11,945,886,832    25     $477,835,473 nm1165110\n",
              "5 Chris Pratt        5    $11,745,130,231    21     $559,291,916 nm0695435\n",
              "6 Tom Cruise         6    $11,546,807,794    43     $268,530,414 nm0000129\n",
              "  birthYear deathYear pp1     pp2        pp3        ratings_total avg_rating n\n",
              "1 1984      \\\\N       actress soundtrack producer   2582870       7.5        4\n",
              "2 1965      \\\\N       actor   producer   soundtrack 3902151       7.65       4\n",
              "3 1948      \\\\N       actor   producer   soundtrack 3311403       7.25       4\n",
              "4 1983      \\\\N       actor   producer   soundtrack 3012517       7.475      4\n",
              "5 1979      \\\\N       actress soundtrack producer   2090529       7.6        4\n",
              "6 1962      \\\\N       actor   producer   soundtrack 1475417       7.025      4"
            ]
          },
          "metadata": {}
        }
      ]
    },
    {
      "cell_type": "code",
      "source": [
        "#so not that many\n",
        "#let's make two seperate tables where the person does not repeat, aka remove them from baf table\n",
        "#data <- data[ menuitem != 'coffee' | amount > 0] \n",
        "baf <- baf[nconst != const_to_delete]"
      ],
      "metadata": {
        "colab": {
          "base_uri": "https://localhost:8080/"
        },
        "id": "IlUq-gJvj6EQ",
        "outputId": "30eed568-8859-4d8d-98a5-5467ec434462"
      },
      "execution_count": 219,
      "outputs": [
        {
          "output_type": "stream",
          "name": "stderr",
          "text": [
            "Warning message in nconst != const_to_delete:\n",
            "“longer object length is not a multiple of shorter object length”\n"
          ]
        }
      ]
    },
    {
      "cell_type": "code",
      "source": [
        "bafnohot <- baf[ !(baf$nconst %in% const_to_delete), ] #nice way to delete rows on condition"
      ],
      "metadata": {
        "id": "Q9qEjKK7nDQa"
      },
      "execution_count": 220,
      "outputs": []
    },
    {
      "cell_type": "code",
      "source": [
        "dim(bafnohot) #412 + 27 = 439 correct"
      ],
      "metadata": {
        "colab": {
          "base_uri": "https://localhost:8080/",
          "height": 34
        },
        "id": "eb3HTTp1oJwg",
        "outputId": "3be49c2e-d122-4bfa-f221-dd8493877796"
      },
      "execution_count": 221,
      "outputs": [
        {
          "output_type": "display_data",
          "data": {
            "text/html": [
              "<style>\n",
              ".list-inline {list-style: none; margin:0; padding: 0}\n",
              ".list-inline>li {display: inline-block}\n",
              ".list-inline>li:not(:last-child)::after {content: \"\\00b7\"; padding: 0 .5ex}\n",
              "</style>\n",
              "<ol class=list-inline><li>412</li><li>14</li></ol>\n"
            ],
            "text/markdown": "1. 412\n2. 14\n\n\n",
            "text/latex": "\\begin{enumerate*}\n\\item 412\n\\item 14\n\\end{enumerate*}\n",
            "text/plain": [
              "[1] 412  14"
            ]
          },
          "metadata": {}
        }
      ]
    },
    {
      "cell_type": "code",
      "source": [
        "head(bafnohot) #whoever made the \"attractive\" people list, doesn't have eyes"
      ],
      "metadata": {
        "colab": {
          "base_uri": "https://localhost:8080/",
          "height": 286
        },
        "id": "VyjOTHY4oNqO",
        "outputId": "3fb49078-3844-4fa8-df51-3f2bfb90bd62"
      },
      "execution_count": 222,
      "outputs": [
        {
          "output_type": "display_data",
          "data": {
            "text/html": [
              "<table class=\"dataframe\">\n",
              "<caption>A data.table: 6 × 14</caption>\n",
              "<thead>\n",
              "\t<tr><th scope=col>Name</th><th scope=col>Rank</th><th scope=col>WorldwideBoxOffice</th><th scope=col>Movies</th><th scope=col>Average</th><th scope=col>nconst</th><th scope=col>birthYear</th><th scope=col>deathYear</th><th scope=col>pp1</th><th scope=col>pp2</th><th scope=col>pp3</th><th scope=col>ratings_total</th><th scope=col>avg_rating</th><th scope=col>n</th></tr>\n",
              "\t<tr><th scope=col>&lt;chr&gt;</th><th scope=col>&lt;int&gt;</th><th scope=col>&lt;chr&gt;</th><th scope=col>&lt;int&gt;</th><th scope=col>&lt;chr&gt;</th><th scope=col>&lt;chr&gt;</th><th scope=col>&lt;chr&gt;</th><th scope=col>&lt;chr&gt;</th><th scope=col>&lt;chr&gt;</th><th scope=col>&lt;chr&gt;</th><th scope=col>&lt;chr&gt;</th><th scope=col>&lt;int&gt;</th><th scope=col>&lt;chr&gt;</th><th scope=col>&lt;int&gt;</th></tr>\n",
              "</thead>\n",
              "<tbody>\n",
              "\t<tr><td>Robert Downey Jr.</td><td> 2</td><td>$14,396,065,966</td><td>43</td><td>$334,792,232</td><td>nm0000375</td><td>1965</td><td>\\N</td><td>actor  </td><td>producer  </td><td>soundtrack</td><td>3902151</td><td>7.65 </td><td>4</td></tr>\n",
              "\t<tr><td>Samuel L. Jackson</td><td> 3</td><td>$14,366,169,081</td><td>64</td><td>$224,471,392</td><td>nm0000168</td><td>1948</td><td>\\N</td><td>actor  </td><td>producer  </td><td>soundtrack</td><td>3311403</td><td>7.25 </td><td>4</td></tr>\n",
              "\t<tr><td>Chris Hemsworth  </td><td> 4</td><td>$11,945,886,832</td><td>25</td><td>$477,835,473</td><td>nm1165110</td><td>1983</td><td>\\N</td><td>actor  </td><td>producer  </td><td>soundtrack</td><td>3012517</td><td>7.475</td><td>4</td></tr>\n",
              "\t<tr><td>Chris Pratt      </td><td> 5</td><td>$11,745,130,231</td><td>21</td><td>$559,291,916</td><td>nm0695435</td><td>1979</td><td>\\N</td><td>actress</td><td>soundtrack</td><td>producer  </td><td>2090529</td><td>7.6  </td><td>4</td></tr>\n",
              "\t<tr><td>Chris Evans      </td><td> 7</td><td>$11,280,741,759</td><td>29</td><td>$388,991,095</td><td>nm0262635</td><td>1981</td><td>\\N</td><td>actor  </td><td>producer  </td><td>soundtrack</td><td>3849918</td><td>7.5  </td><td>4</td></tr>\n",
              "\t<tr><td>Dwayne Johnson   </td><td>13</td><td>$10,164,132,252</td><td>36</td><td>$282,337,007</td><td>nm0425005</td><td>1972</td><td>\\N</td><td>actor  </td><td>producer  </td><td>soundtrack</td><td> 995234</td><td>6.475</td><td>4</td></tr>\n",
              "</tbody>\n",
              "</table>\n"
            ],
            "text/markdown": "\nA data.table: 6 × 14\n\n| Name &lt;chr&gt; | Rank &lt;int&gt; | WorldwideBoxOffice &lt;chr&gt; | Movies &lt;int&gt; | Average &lt;chr&gt; | nconst &lt;chr&gt; | birthYear &lt;chr&gt; | deathYear &lt;chr&gt; | pp1 &lt;chr&gt; | pp2 &lt;chr&gt; | pp3 &lt;chr&gt; | ratings_total &lt;int&gt; | avg_rating &lt;chr&gt; | n &lt;int&gt; |\n|---|---|---|---|---|---|---|---|---|---|---|---|---|---|\n| Robert Downey Jr. |  2 | $14,396,065,966 | 43 | $334,792,232 | nm0000375 | 1965 | \\N | actor   | producer   | soundtrack | 3902151 | 7.65  | 4 |\n| Samuel L. Jackson |  3 | $14,366,169,081 | 64 | $224,471,392 | nm0000168 | 1948 | \\N | actor   | producer   | soundtrack | 3311403 | 7.25  | 4 |\n| Chris Hemsworth   |  4 | $11,945,886,832 | 25 | $477,835,473 | nm1165110 | 1983 | \\N | actor   | producer   | soundtrack | 3012517 | 7.475 | 4 |\n| Chris Pratt       |  5 | $11,745,130,231 | 21 | $559,291,916 | nm0695435 | 1979 | \\N | actress | soundtrack | producer   | 2090529 | 7.6   | 4 |\n| Chris Evans       |  7 | $11,280,741,759 | 29 | $388,991,095 | nm0262635 | 1981 | \\N | actor   | producer   | soundtrack | 3849918 | 7.5   | 4 |\n| Dwayne Johnson    | 13 | $10,164,132,252 | 36 | $282,337,007 | nm0425005 | 1972 | \\N | actor   | producer   | soundtrack |  995234 | 6.475 | 4 |\n\n",
            "text/latex": "A data.table: 6 × 14\n\\begin{tabular}{llllllllllllll}\n Name & Rank & WorldwideBoxOffice & Movies & Average & nconst & birthYear & deathYear & pp1 & pp2 & pp3 & ratings\\_total & avg\\_rating & n\\\\\n <chr> & <int> & <chr> & <int> & <chr> & <chr> & <chr> & <chr> & <chr> & <chr> & <chr> & <int> & <chr> & <int>\\\\\n\\hline\n\t Robert Downey Jr. &  2 & \\$14,396,065,966 & 43 & \\$334,792,232 & nm0000375 & 1965 & \\textbackslash{}N & actor   & producer   & soundtrack & 3902151 & 7.65  & 4\\\\\n\t Samuel L. Jackson &  3 & \\$14,366,169,081 & 64 & \\$224,471,392 & nm0000168 & 1948 & \\textbackslash{}N & actor   & producer   & soundtrack & 3311403 & 7.25  & 4\\\\\n\t Chris Hemsworth   &  4 & \\$11,945,886,832 & 25 & \\$477,835,473 & nm1165110 & 1983 & \\textbackslash{}N & actor   & producer   & soundtrack & 3012517 & 7.475 & 4\\\\\n\t Chris Pratt       &  5 & \\$11,745,130,231 & 21 & \\$559,291,916 & nm0695435 & 1979 & \\textbackslash{}N & actress & soundtrack & producer   & 2090529 & 7.6   & 4\\\\\n\t Chris Evans       &  7 & \\$11,280,741,759 & 29 & \\$388,991,095 & nm0262635 & 1981 & \\textbackslash{}N & actor   & producer   & soundtrack & 3849918 & 7.5   & 4\\\\\n\t Dwayne Johnson    & 13 & \\$10,164,132,252 & 36 & \\$282,337,007 & nm0425005 & 1972 & \\textbackslash{}N & actor   & producer   & soundtrack &  995234 & 6.475 & 4\\\\\n\\end{tabular}\n",
            "text/plain": [
              "  Name              Rank WorldwideBoxOffice Movies Average      nconst   \n",
              "1 Robert Downey Jr.  2   $14,396,065,966    43     $334,792,232 nm0000375\n",
              "2 Samuel L. Jackson  3   $14,366,169,081    64     $224,471,392 nm0000168\n",
              "3 Chris Hemsworth    4   $11,945,886,832    25     $477,835,473 nm1165110\n",
              "4 Chris Pratt        5   $11,745,130,231    21     $559,291,916 nm0695435\n",
              "5 Chris Evans        7   $11,280,741,759    29     $388,991,095 nm0262635\n",
              "6 Dwayne Johnson    13   $10,164,132,252    36     $282,337,007 nm0425005\n",
              "  birthYear deathYear pp1     pp2        pp3        ratings_total avg_rating n\n",
              "1 1965      \\\\N       actor   producer   soundtrack 3902151       7.65       4\n",
              "2 1948      \\\\N       actor   producer   soundtrack 3311403       7.25       4\n",
              "3 1983      \\\\N       actor   producer   soundtrack 3012517       7.475      4\n",
              "4 1979      \\\\N       actress soundtrack producer   2090529       7.6        4\n",
              "5 1981      \\\\N       actor   producer   soundtrack 3849918       7.5        4\n",
              "6 1972      \\\\N       actor   producer   soundtrack  995234       6.475      4"
            ]
          },
          "metadata": {}
        }
      ]
    },
    {
      "cell_type": "code",
      "source": [
        "bafnohot[Name == \"Brad Pitt\"] #correct, he shouldn't be here"
      ],
      "metadata": {
        "colab": {
          "base_uri": "https://localhost:8080/",
          "height": 98
        },
        "id": "vqsUogorontA",
        "outputId": "1682c8c8-f98f-4b3d-f8f9-3dfce03c825c"
      },
      "execution_count": 223,
      "outputs": [
        {
          "output_type": "display_data",
          "data": {
            "text/html": [
              "<table class=\"dataframe\">\n",
              "<caption>A data.table: 0 × 14</caption>\n",
              "<thead>\n",
              "\t<tr><th scope=col>Name</th><th scope=col>Rank</th><th scope=col>WorldwideBoxOffice</th><th scope=col>Movies</th><th scope=col>Average</th><th scope=col>nconst</th><th scope=col>birthYear</th><th scope=col>deathYear</th><th scope=col>pp1</th><th scope=col>pp2</th><th scope=col>pp3</th><th scope=col>ratings_total</th><th scope=col>avg_rating</th><th scope=col>n</th></tr>\n",
              "\t<tr><th scope=col>&lt;chr&gt;</th><th scope=col>&lt;int&gt;</th><th scope=col>&lt;chr&gt;</th><th scope=col>&lt;int&gt;</th><th scope=col>&lt;chr&gt;</th><th scope=col>&lt;chr&gt;</th><th scope=col>&lt;chr&gt;</th><th scope=col>&lt;chr&gt;</th><th scope=col>&lt;chr&gt;</th><th scope=col>&lt;chr&gt;</th><th scope=col>&lt;chr&gt;</th><th scope=col>&lt;int&gt;</th><th scope=col>&lt;chr&gt;</th><th scope=col>&lt;int&gt;</th></tr>\n",
              "</thead>\n",
              "<tbody>\n",
              "</tbody>\n",
              "</table>\n"
            ],
            "text/markdown": "\nA data.table: 0 × 14\n\n| Name &lt;chr&gt; | Rank &lt;int&gt; | WorldwideBoxOffice &lt;chr&gt; | Movies &lt;int&gt; | Average &lt;chr&gt; | nconst &lt;chr&gt; | birthYear &lt;chr&gt; | deathYear &lt;chr&gt; | pp1 &lt;chr&gt; | pp2 &lt;chr&gt; | pp3 &lt;chr&gt; | ratings_total &lt;int&gt; | avg_rating &lt;chr&gt; | n &lt;int&gt; |\n|---|---|---|---|---|---|---|---|---|---|---|---|---|---|\n\n",
            "text/latex": "A data.table: 0 × 14\n\\begin{tabular}{llllllllllllll}\n Name & Rank & WorldwideBoxOffice & Movies & Average & nconst & birthYear & deathYear & pp1 & pp2 & pp3 & ratings\\_total & avg\\_rating & n\\\\\n <chr> & <int> & <chr> & <int> & <chr> & <chr> & <chr> & <chr> & <chr> & <chr> & <chr> & <int> & <chr> & <int>\\\\\n\\hline\n\\end{tabular}\n",
            "text/plain": [
              "     Name Rank WorldwideBoxOffice Movies Average nconst birthYear deathYear pp1\n",
              "     pp2 pp3 ratings_total avg_rating n"
            ]
          },
          "metadata": {}
        }
      ]
    },
    {
      "cell_type": "code",
      "source": [
        "bafnohot <- bafnohot[, .(ratings_total, avg_rating)]\n",
        "dim(bafnohot)\n",
        "hot_in_baf <- hot_in_baf[, .(ratings_total, avg_rating)]\n",
        "dim(hot_in_baf)\n",
        "hot_actors <- hot_actors[, .(ratings_total, avg_rating)]\n",
        "dim(hot_actors)"
      ],
      "metadata": {
        "colab": {
          "base_uri": "https://localhost:8080/",
          "height": 69
        },
        "id": "OgLPc6FmsivE",
        "outputId": "2d21ab0b-fee6-4a2a-c491-287fabfd29c2"
      },
      "execution_count": 224,
      "outputs": [
        {
          "output_type": "display_data",
          "data": {
            "text/html": [
              "<style>\n",
              ".list-inline {list-style: none; margin:0; padding: 0}\n",
              ".list-inline>li {display: inline-block}\n",
              ".list-inline>li:not(:last-child)::after {content: \"\\00b7\"; padding: 0 .5ex}\n",
              "</style>\n",
              "<ol class=list-inline><li>412</li><li>2</li></ol>\n"
            ],
            "text/markdown": "1. 412\n2. 2\n\n\n",
            "text/latex": "\\begin{enumerate*}\n\\item 412\n\\item 2\n\\end{enumerate*}\n",
            "text/plain": [
              "[1] 412   2"
            ]
          },
          "metadata": {}
        },
        {
          "output_type": "display_data",
          "data": {
            "text/html": [
              "<style>\n",
              ".list-inline {list-style: none; margin:0; padding: 0}\n",
              ".list-inline>li {display: inline-block}\n",
              ".list-inline>li:not(:last-child)::after {content: \"\\00b7\"; padding: 0 .5ex}\n",
              "</style>\n",
              "<ol class=list-inline><li>27</li><li>2</li></ol>\n"
            ],
            "text/markdown": "1. 27\n2. 2\n\n\n",
            "text/latex": "\\begin{enumerate*}\n\\item 27\n\\item 2\n\\end{enumerate*}\n",
            "text/plain": [
              "[1] 27  2"
            ]
          },
          "metadata": {}
        },
        {
          "output_type": "display_data",
          "data": {
            "text/html": [
              "<style>\n",
              ".list-inline {list-style: none; margin:0; padding: 0}\n",
              ".list-inline>li {display: inline-block}\n",
              ".list-inline>li:not(:last-child)::after {content: \"\\00b7\"; padding: 0 .5ex}\n",
              "</style>\n",
              "<ol class=list-inline><li>182</li><li>2</li></ol>\n"
            ],
            "text/markdown": "1. 182\n2. 2\n\n\n",
            "text/latex": "\\begin{enumerate*}\n\\item 182\n\\item 2\n\\end{enumerate*}\n",
            "text/plain": [
              "[1] 182   2"
            ]
          },
          "metadata": {}
        }
      ]
    },
    {
      "cell_type": "code",
      "source": [
        "bafnohot[, group := \"bafnohot\"]\n",
        "hot_actors[, group := \"hot\"]\n",
        "hot_in_baf[,group := \"hotbaf\"]\n",
        "toplot <- rbindlist(list(bafnohot, hot_actors, hot_in_baf))  #important to do if we want to get a plot:))"
      ],
      "metadata": {
        "id": "ArgHJ26CpIur"
      },
      "execution_count": 225,
      "outputs": []
    },
    {
      "cell_type": "code",
      "source": [
        "toplot$avg_rating <- as.numeric(toplot$avg_rating)\n",
        "head(toplot)"
      ],
      "metadata": {
        "colab": {
          "base_uri": "https://localhost:8080/",
          "height": 286
        },
        "id": "sxZV4lTdtU2s",
        "outputId": "987a14a5-5386-4a7f-fd81-349913ed64a6"
      },
      "execution_count": 226,
      "outputs": [
        {
          "output_type": "display_data",
          "data": {
            "text/html": [
              "<table class=\"dataframe\">\n",
              "<caption>A data.table: 6 × 3</caption>\n",
              "<thead>\n",
              "\t<tr><th scope=col>ratings_total</th><th scope=col>avg_rating</th><th scope=col>group</th></tr>\n",
              "\t<tr><th scope=col>&lt;int&gt;</th><th scope=col>&lt;dbl&gt;</th><th scope=col>&lt;chr&gt;</th></tr>\n",
              "</thead>\n",
              "<tbody>\n",
              "\t<tr><td>3902151</td><td>7.650</td><td>bafnohot</td></tr>\n",
              "\t<tr><td>3311403</td><td>7.250</td><td>bafnohot</td></tr>\n",
              "\t<tr><td>3012517</td><td>7.475</td><td>bafnohot</td></tr>\n",
              "\t<tr><td>2090529</td><td>7.600</td><td>bafnohot</td></tr>\n",
              "\t<tr><td>3849918</td><td>7.500</td><td>bafnohot</td></tr>\n",
              "\t<tr><td> 995234</td><td>6.475</td><td>bafnohot</td></tr>\n",
              "</tbody>\n",
              "</table>\n"
            ],
            "text/markdown": "\nA data.table: 6 × 3\n\n| ratings_total &lt;int&gt; | avg_rating &lt;dbl&gt; | group &lt;chr&gt; |\n|---|---|---|\n| 3902151 | 7.650 | bafnohot |\n| 3311403 | 7.250 | bafnohot |\n| 3012517 | 7.475 | bafnohot |\n| 2090529 | 7.600 | bafnohot |\n| 3849918 | 7.500 | bafnohot |\n|  995234 | 6.475 | bafnohot |\n\n",
            "text/latex": "A data.table: 6 × 3\n\\begin{tabular}{lll}\n ratings\\_total & avg\\_rating & group\\\\\n <int> & <dbl> & <chr>\\\\\n\\hline\n\t 3902151 & 7.650 & bafnohot\\\\\n\t 3311403 & 7.250 & bafnohot\\\\\n\t 3012517 & 7.475 & bafnohot\\\\\n\t 2090529 & 7.600 & bafnohot\\\\\n\t 3849918 & 7.500 & bafnohot\\\\\n\t  995234 & 6.475 & bafnohot\\\\\n\\end{tabular}\n",
            "text/plain": [
              "  ratings_total avg_rating group   \n",
              "1 3902151       7.650      bafnohot\n",
              "2 3311403       7.250      bafnohot\n",
              "3 3012517       7.475      bafnohot\n",
              "4 2090529       7.600      bafnohot\n",
              "5 3849918       7.500      bafnohot\n",
              "6  995234       6.475      bafnohot"
            ]
          },
          "metadata": {}
        }
      ]
    },
    {
      "cell_type": "code",
      "source": [
        "fig <- function(width, heigth){\n",
        "     options(repr.plot.width = width, repr.plot.height = heigth)\n",
        "}"
      ],
      "metadata": {
        "id": "s_SKz4GGzRlC"
      },
      "execution_count": 230,
      "outputs": []
    },
    {
      "cell_type": "code",
      "source": [
        "p <- ggplot(toplot, aes(x = factor(group), y = avg_rating), fig(17,10)) + geom_violin(color='#56B4E9') +\n",
        "   geom_boxplot(width=0.1, color='dark blue')  + theme_minimal()  + #geom_text(data = summary, aes(x = factor(century), y = 128, label = nn)) +\n",
        "   labs(title = 'Ratings of different types of actors')\n",
        "p #TODO put the n num"
      ],
      "metadata": {
        "colab": {
          "base_uri": "https://localhost:8080/",
          "height": 257
        },
        "id": "Kv8Bdg_Wtnkh",
        "outputId": "4d594388-ba14-46ba-fcd2-e461a83401aa"
      },
      "execution_count": 233,
      "outputs": [
        {
          "output_type": "display_data",
          "data": {
            "text/plain": [
              "plot without title"
            ],
            "image/png": "[encoded data removed]"
          },
          "metadata": {
            "image/png": {
              "width": 600,
              "height": 240
            }
          }
        }
      ]
    },
    {
      "cell_type": "code",
      "source": [
        "p <- ggplot(toplot, aes(x = factor(group), y = ratings_total), fig(17,10)) + geom_violin(color='#56B4E9') +\n",
        "   geom_boxplot(width=0.1, color='dark blue')  + theme_minimal()  + #geom_text(data = summary, aes(x = factor(century), y = 128, label = nn)) +\n",
        "   labs(title = 'Number of ratings of different types of actors')\n",
        "p #TODO put the n num\n",
        "#TODO interesting to point out outliers"
      ],
      "metadata": {
        "colab": {
          "base_uri": "https://localhost:8080/",
          "height": 257
        },
        "id": "wcT6BGmywJlo",
        "outputId": "359f57ee-9b94-49b7-b768-9ee48d2b9e46"
      },
      "execution_count": 236,
      "outputs": [
        {
          "output_type": "display_data",
          "data": {
            "text/plain": [
              "plot without title"
            ],
            "image/png": "[encoded data removed]"
          },
          "metadata": {
            "image/png": {
              "width": 600,
              "height": 240
            }
          }
        }
      ]
    },
    {
      "cell_type": "code",
      "source": [],
      "metadata": {
        "id": "baIPQv7R0icy"
      },
      "execution_count": null,
      "outputs": []
    }
  ],
  "metadata": {
    "colab": {
      "collapsed_sections": [
        "rN3jOYS_ii5m",
        "i8cLKqoyeRC9",
        "eCss_8vRj60X",
        "2I211JSrj9ZA",
        "XuP8qk5Dj9dg",
        "9ajrqYcvj9gw",
        "SAe_Gulij9ke",
        "vY56kDLWeWuQ"
      ],
      "provenance": []
    },
    "kernelspec": {
      "display_name": "R",
      "name": "ir"
    },
    "language_info": {
      "name": "R"
    }
  },
  "nbformat": 4,
  "nbformat_minor": 0
}