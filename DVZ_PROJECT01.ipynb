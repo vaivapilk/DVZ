{
 "cells": [
  {
   "cell_type": "markdown",
   "id": "4ca899e5-1626-44b9-997c-e60479a18008",
   "metadata": {},
   "source": [
    "# Data Vizualisation project"
   ]
  },
  {
   "cell_type": "markdown",
   "id": "e5209b56-71a8-4761-b8fc-808bc4f8c7b8",
   "metadata": {},
   "source": [
    "### Reading the data"
   ]
  },
  {
   "cell_type": "code",
   "execution_count": 1,
   "id": "3948caa9-5644-48c2-a6fc-a53780e7e8ca",
   "metadata": {
    "collapsed": true,
    "jupyter": {
     "outputs_hidden": true
    },
    "tags": []
   },
   "outputs": [
    {
     "name": "stdout",
     "output_type": "stream",
     "text": [
      "\n",
      "  There is a binary version available but the source version is later:\n",
      "           binary source needs_compilation\n",
      "data.table 1.14.0 1.14.4              TRUE\n",
      "\n",
      "  Binaries will be installed\n",
      "package 'data.table' successfully unpacked and MD5 sums checked\n",
      "\n",
      "The downloaded binary packages are in\n",
      "\tC:\\Users\\vaiva\\AppData\\Local\\Temp\\Rtmp0iaVwL\\downloaded_packages\n"
     ]
    }
   ],
   "source": [
    "install.packages('data.table')"
   ]
  },
  {
   "cell_type": "code",
   "execution_count": 3,
   "id": "29550bbb-0888-4cab-a0ab-dd8a31af755e",
   "metadata": {
    "collapsed": true,
    "jupyter": {
     "outputs_hidden": true
    },
    "tags": []
   },
   "outputs": [
    {
     "name": "stderr",
     "output_type": "stream",
     "text": [
      "Warning message:\n",
      "\"package 'data.table' was built under R version 3.6.3\""
     ]
    }
   ],
   "source": [
    "library(data.table)"
   ]
  },
  {
   "cell_type": "code",
   "execution_count": 6,
   "id": "2cb9eb45-ffbc-43bc-a684-9632bc25ed54",
   "metadata": {
    "collapsed": true,
    "jupyter": {
     "outputs_hidden": true
    },
    "tags": []
   },
   "outputs": [
    {
     "name": "stderr",
     "output_type": "stream",
     "text": [
      "Warning message in fread(\"IMDB/name.basics.tsv\"):\n",
      "\"Found and resolved improper quoting out-of-sample. First healed line 3431972: <<nm12624491\t\"Testing Title 15\" (2021)\t\\N\t\\N\t\t\\N>>. If the fields are not quoted (e.g. field separator does not appear within any field), try quote=\"\" to avoid this warning.\""
     ]
    }
   ],
   "source": [
    "nb <- fread(\"IMDB/name.basics.tsv\")"
   ]
  },
  {
   "cell_type": "code",
   "execution_count": 8,
   "id": "cfb19319-c6f2-434c-a7fe-185c993a823a",
   "metadata": {},
   "outputs": [
    {
     "data": {
      "text/html": [
       "<ol class=list-inline>\n",
       "\t<li>11972690</li>\n",
       "\t<li>6</li>\n",
       "</ol>\n"
      ],
      "text/latex": [
       "\\begin{enumerate*}\n",
       "\\item 11972690\n",
       "\\item 6\n",
       "\\end{enumerate*}\n"
      ],
      "text/markdown": [
       "1. 11972690\n",
       "2. 6\n",
       "\n",
       "\n"
      ],
      "text/plain": [
       "[1] 11972690        6"
      ]
     },
     "metadata": {},
     "output_type": "display_data"
    }
   ],
   "source": [
    "dim(nb)"
   ]
  },
  {
   "cell_type": "markdown",
   "id": "b0910f70-69ac-4e6e-a060-a4c85397bc7e",
   "metadata": {},
   "source": [
    "This is a very big file and I don't think it's even useful to make my computer suffer like that for just to get to know the data, so I will read 1M rows. But even that is probably way too much. But now for just example that it works:"
   ]
  },
  {
   "cell_type": "code",
   "execution_count": 12,
   "id": "d50395c9-91c3-429d-a77b-e6a357c99af0",
   "metadata": {
    "collapsed": true,
    "jupyter": {
     "outputs_hidden": true
    },
    "tags": []
   },
   "outputs": [
    {
     "name": "stderr",
     "output_type": "stream",
     "text": [
      "Warning message in fread(\"IMDB/title.akas.tsv\", nrows = 1e+06):\n",
      "\"Found and resolved improper quoting out-of-sample. First healed line 178374: <<tt0033122\t4\t\"Swing it\" magistern\tSE\t\\N\timdbDisplay\t\\N\t0>>. If the fields are not quoted (e.g. field separator does not appear within any field), try quote=\"\" to avoid this warning.\"Warning message in fread(\"IMDB/title.basics.tsv\", nrows = 1e+06):\n",
      "\"Found and resolved improper quoting out-of-sample. First healed line 32524: <<tt0033122\tmovie\t\"Swing it\" magistern\t\"Swing it\" magistern\t0\t1940\t\\N\t92\tComedy,Music>>. If the fields are not quoted (e.g. field separator does not appear within any field), try quote=\"\" to avoid this warning.\"Warning message in fread(\"IMDB/title.principals.tsv\", nrows = 1e+06):\n",
      "\"Found and resolved improper quoting out-of-sample. First healed line 30764: <<tt0005339\t8\tnm0564946\twriter\t\"Picturized By\", i.e., screenplay\t\\N>>. If the fields are not quoted (e.g. field separator does not appear within any field), try quote=\"\" to avoid this warning.\""
     ]
    }
   ],
   "source": [
    "nb1M <- fread(\"IMDB/name.basics.tsv\", nrows = 1000000)\n",
    "ta1M <- fread(\"IMDB/title.akas.tsv\", nrows = 1000000)\n",
    "tb1M <- fread(\"IMDB/title.basics.tsv\", nrows = 1000000)\n",
    "tc1M <- fread(\"IMDB/title.crew.tsv\", nrows = 1000000)\n",
    "te1M <- fread(\"IMDB/title.episode.tsv\", nrows = 1000000)\n",
    "tp1M <- fread(\"IMDB/title.principals.tsv\", nrows = 1000000)\n",
    "tr1M <- fread(\"IMDB/title.ratings.tsv\", nrows = 1000000)"
   ]
  },
  {
   "cell_type": "code",
   "execution_count": 14,
   "id": "0b60e094-31be-4a82-8120-5609a319a1dc",
   "metadata": {},
   "outputs": [
    {
     "data": {
      "text/html": [
       "<ol class=list-inline>\n",
       "\t<li>1000000</li>\n",
       "\t<li>6</li>\n",
       "</ol>\n"
      ],
      "text/latex": [
       "\\begin{enumerate*}\n",
       "\\item 1000000\n",
       "\\item 6\n",
       "\\end{enumerate*}\n"
      ],
      "text/markdown": [
       "1. 1000000\n",
       "2. 6\n",
       "\n",
       "\n"
      ],
      "text/plain": [
       "[1] 1000000       6"
      ]
     },
     "metadata": {},
     "output_type": "display_data"
    }
   ],
   "source": [
    "dim(nb1M)"
   ]
  },
  {
   "cell_type": "code",
   "execution_count": 11,
   "id": "4391c29a-6cc5-4aa8-a9ef-efdc5ab10b18",
   "metadata": {
    "tags": []
   },
   "outputs": [
    {
     "data": {
      "text/html": [
       "<table>\n",
       "<thead><tr><th scope=col>nconst</th><th scope=col>primaryName</th><th scope=col>birthYear</th><th scope=col>deathYear</th><th scope=col>primaryProfession</th><th scope=col>knownForTitles</th></tr></thead>\n",
       "<tbody>\n",
       "\t<tr><td>nm0000001                              </td><td>Fred Astaire                           </td><td>1899                                   </td><td>1987                                   </td><td>soundtrack,actor,miscellaneous         </td><td>tt0050419,tt0053137,tt0031983,tt0072308</td></tr>\n",
       "\t<tr><td>nm0000002                              </td><td>Lauren Bacall                          </td><td>1924                                   </td><td>2014                                   </td><td>actress,soundtrack                     </td><td>tt0117057,tt0037382,tt0038355,tt0071877</td></tr>\n",
       "\t<tr><td>nm0000003                              </td><td>Brigitte Bardot                        </td><td>1934                                   </td><td>\\N                                    </td><td>actress,soundtrack,music_department    </td><td>tt0056404,tt0049189,tt0054452,tt0057345</td></tr>\n",
       "\t<tr><td>nm0000004                              </td><td>John Belushi                           </td><td>1949                                   </td><td>1982                                   </td><td>actor,soundtrack,writer                </td><td>tt0080455,tt0078723,tt0072562,tt0077975</td></tr>\n",
       "\t<tr><td>nm0000005                              </td><td>Ingmar Bergman                         </td><td>1918                                   </td><td>2007                                   </td><td>writer,director,actor                  </td><td>tt0060827,tt0083922,tt0050986,tt0069467</td></tr>\n",
       "\t<tr><td>nm0000006                              </td><td>Ingrid Bergman                         </td><td>1915                                   </td><td>1982                                   </td><td>actress,soundtrack,producer            </td><td>tt0036855,tt0038109,tt0077711,tt0034583</td></tr>\n",
       "</tbody>\n",
       "</table>\n"
      ],
      "text/latex": [
       "\\begin{tabular}{r|llllll}\n",
       " nconst & primaryName & birthYear & deathYear & primaryProfession & knownForTitles\\\\\n",
       "\\hline\n",
       "\t nm0000001                               & Fred Astaire                            & 1899                                    & 1987                                    & soundtrack,actor,miscellaneous          & tt0050419,tt0053137,tt0031983,tt0072308\\\\\n",
       "\t nm0000002                               & Lauren Bacall                           & 1924                                    & 2014                                    & actress,soundtrack                      & tt0117057,tt0037382,tt0038355,tt0071877\\\\\n",
       "\t nm0000003                               & Brigitte Bardot                         & 1934                                    & \\textbackslash{}N                      & actress,soundtrack,music\\_department   & tt0056404,tt0049189,tt0054452,tt0057345\\\\\n",
       "\t nm0000004                               & John Belushi                            & 1949                                    & 1982                                    & actor,soundtrack,writer                 & tt0080455,tt0078723,tt0072562,tt0077975\\\\\n",
       "\t nm0000005                               & Ingmar Bergman                          & 1918                                    & 2007                                    & writer,director,actor                   & tt0060827,tt0083922,tt0050986,tt0069467\\\\\n",
       "\t nm0000006                               & Ingrid Bergman                          & 1915                                    & 1982                                    & actress,soundtrack,producer             & tt0036855,tt0038109,tt0077711,tt0034583\\\\\n",
       "\\end{tabular}\n"
      ],
      "text/markdown": [
       "\n",
       "| nconst | primaryName | birthYear | deathYear | primaryProfession | knownForTitles |\n",
       "|---|---|---|---|---|---|\n",
       "| nm0000001                               | Fred Astaire                            | 1899                                    | 1987                                    | soundtrack,actor,miscellaneous          | tt0050419,tt0053137,tt0031983,tt0072308 |\n",
       "| nm0000002                               | Lauren Bacall                           | 1924                                    | 2014                                    | actress,soundtrack                      | tt0117057,tt0037382,tt0038355,tt0071877 |\n",
       "| nm0000003                               | Brigitte Bardot                         | 1934                                    | \\N                                     | actress,soundtrack,music_department     | tt0056404,tt0049189,tt0054452,tt0057345 |\n",
       "| nm0000004                               | John Belushi                            | 1949                                    | 1982                                    | actor,soundtrack,writer                 | tt0080455,tt0078723,tt0072562,tt0077975 |\n",
       "| nm0000005                               | Ingmar Bergman                          | 1918                                    | 2007                                    | writer,director,actor                   | tt0060827,tt0083922,tt0050986,tt0069467 |\n",
       "| nm0000006                               | Ingrid Bergman                          | 1915                                    | 1982                                    | actress,soundtrack,producer             | tt0036855,tt0038109,tt0077711,tt0034583 |\n",
       "\n"
      ],
      "text/plain": [
       "  nconst    primaryName     birthYear deathYear\n",
       "1 nm0000001 Fred Astaire    1899      1987     \n",
       "2 nm0000002 Lauren Bacall   1924      2014     \n",
       "3 nm0000003 Brigitte Bardot 1934      \\\\N      \n",
       "4 nm0000004 John Belushi    1949      1982     \n",
       "5 nm0000005 Ingmar Bergman  1918      2007     \n",
       "6 nm0000006 Ingrid Bergman  1915      1982     \n",
       "  primaryProfession                   knownForTitles                         \n",
       "1 soundtrack,actor,miscellaneous      tt0050419,tt0053137,tt0031983,tt0072308\n",
       "2 actress,soundtrack                  tt0117057,tt0037382,tt0038355,tt0071877\n",
       "3 actress,soundtrack,music_department tt0056404,tt0049189,tt0054452,tt0057345\n",
       "4 actor,soundtrack,writer             tt0080455,tt0078723,tt0072562,tt0077975\n",
       "5 writer,director,actor               tt0060827,tt0083922,tt0050986,tt0069467\n",
       "6 actress,soundtrack,producer         tt0036855,tt0038109,tt0077711,tt0034583"
      ]
     },
     "metadata": {},
     "output_type": "display_data"
    }
   ],
   "source": [
    "head(nb1M)"
   ]
  },
  {
   "cell_type": "code",
   "execution_count": 15,
   "id": "54f75627-03e5-481f-91b5-7550f968187c",
   "metadata": {},
   "outputs": [
    {
     "data": {
      "text/html": [
       "<table>\n",
       "<thead><tr><th scope=col>titleId</th><th scope=col>ordering</th><th scope=col>title</th><th scope=col>region</th><th scope=col>language</th><th scope=col>types</th><th scope=col>attributes</th><th scope=col>isOriginalTitle</th></tr></thead>\n",
       "<tbody>\n",
       "\t<tr><td>tt0000001                 </td><td>1                         </td><td>ŠŠ°Ń€Š¼ŠµŠ½ŃŃ–Ń‚Š°      </td><td>UA                        </td><td>\\N                       </td><td>imdbDisplay               </td><td>\\N                       </td><td>0                         </td></tr>\n",
       "\t<tr><td>tt0000001                 </td><td>2                         </td><td>Carmencita                </td><td>DE                        </td><td>\\N                       </td><td>\\N                       </td><td>literal title             </td><td>0                         </td></tr>\n",
       "\t<tr><td>tt0000001                 </td><td>3                         </td><td>Carmencita - spanyol tĆ<a1>nc</td><td>HU                        </td><td>\\N                       </td><td>imdbDisplay               </td><td>\\N                       </td><td>0                         </td></tr>\n",
       "\t<tr><td>tt0000001                 </td><td>4                         </td><td>ĪĪ±ĻĪ¼ĪµĪ½ĻĪÆĻ„Ī±      </td><td>GR                        </td><td>\\N                       </td><td>imdbDisplay               </td><td>\\N                       </td><td>0                         </td></tr>\n",
       "\t<tr><td>tt0000001                 </td><td>5                         </td><td>ŠŠ°Ń€Š¼ŠµŠ½ŃŠøŃ‚Š°      </td><td>RU                        </td><td>\\N                       </td><td>imdbDisplay               </td><td>\\N                       </td><td>0                         </td></tr>\n",
       "\t<tr><td>tt0000001                 </td><td>6                         </td><td>Carmencita                </td><td>US                        </td><td>\\N                       </td><td>imdbDisplay               </td><td>\\N                       </td><td>0                         </td></tr>\n",
       "</tbody>\n",
       "</table>\n"
      ],
      "text/latex": [
       "\\begin{tabular}{r|llllllll}\n",
       " titleId & ordering & title & region & language & types & attributes & isOriginalTitle\\\\\n",
       "\\hline\n",
       "\t tt0000001                    & 1                            & ŠŠ°Ń€Š¼ŠµŠ½ŃŃ–Ń‚Š°         & UA                           & \\textbackslash{}N           & imdbDisplay                  & \\textbackslash{}N           & 0                           \\\\\n",
       "\t tt0000001                  & 2                          & Carmencita                 & DE                         & \\textbackslash{}N         & \\textbackslash{}N         & literal title              & 0                         \\\\\n",
       "\t tt0000001                    & 3                            & Carmencita - spanyol tĆ<a1>nc   & HU                           & \\textbackslash{}N           & imdbDisplay                  & \\textbackslash{}N           & 0                           \\\\\n",
       "\t tt0000001                    & 4                            & ĪĪ±ĻĪ¼ĪµĪ½ĻĪÆĻ„Ī±         & GR                           & \\textbackslash{}N           & imdbDisplay                  & \\textbackslash{}N           & 0                           \\\\\n",
       "\t tt0000001                    & 5                            & ŠŠ°Ń€Š¼ŠµŠ½ŃŠøŃ‚Š°         & RU                           & \\textbackslash{}N           & imdbDisplay                  & \\textbackslash{}N           & 0                           \\\\\n",
       "\t tt0000001                    & 6                            & Carmencita                   & US                           & \\textbackslash{}N           & imdbDisplay                  & \\textbackslash{}N           & 0                           \\\\\n",
       "\\end{tabular}\n"
      ],
      "text/markdown": [
       "\n",
       "| titleId | ordering | title | region | language | types | attributes | isOriginalTitle |\n",
       "|---|---|---|---|---|---|---|---|\n",
       "| tt0000001                  | 1                          | ŠŠ°Ń€Š¼ŠµŠ½ŃŃ–Ń‚Š°       | UA                         | \\N                        | imdbDisplay                | \\N                        | 0                          |\n",
       "| tt0000001                  | 2                          | Carmencita                 | DE                         | \\N                        | \\N                        | literal title              | 0                          |\n",
       "| tt0000001                  | 3                          | Carmencita - spanyol tĆ<a1>nc | HU                         | \\N                        | imdbDisplay                | \\N                        | 0                          |\n",
       "| tt0000001                  | 4                          | ĪĪ±ĻĪ¼ĪµĪ½ĻĪÆĻ„Ī±       | GR                         | \\N                        | imdbDisplay                | \\N                        | 0                          |\n",
       "| tt0000001                  | 5                          | ŠŠ°Ń€Š¼ŠµŠ½ŃŠøŃ‚Š°       | RU                         | \\N                        | imdbDisplay                | \\N                        | 0                          |\n",
       "| tt0000001                  | 6                          | Carmencita                 | US                         | \\N                        | imdbDisplay                | \\N                        | 0                          |\n",
       "\n"
      ],
      "text/plain": [
       "  titleId   ordering title                      region language types      \n",
       "1 tt0000001 1        Š\\232Š°Ń\\200Š¼ŠµŠ½Ń\\201Ń–Ń‚Š°       UA     \\\\N      imdbDisplay\n",
       "2 tt0000001 2        Carmencita                 DE     \\\\N      \\\\N        \n",
       "3 tt0000001 3        Carmencita - spanyol tĆ\\241nc HU     \\\\N      imdbDisplay\n",
       "4 tt0000001 4        Ī\\232Ī±Ļ\\201Ī¼ĪµĪ½Ļ\\203ĪÆĻ„Ī±       GR     \\\\N      imdbDisplay\n",
       "5 tt0000001 5        Š\\232Š°Ń\\200Š¼ŠµŠ½Ń\\201ŠøŃ‚Š°       RU     \\\\N      imdbDisplay\n",
       "6 tt0000001 6        Carmencita                 US     \\\\N      imdbDisplay\n",
       "  attributes    isOriginalTitle\n",
       "1 \\\\N           0              \n",
       "2 literal title 0              \n",
       "3 \\\\N           0              \n",
       "4 \\\\N           0              \n",
       "5 \\\\N           0              \n",
       "6 \\\\N           0              "
      ]
     },
     "metadata": {},
     "output_type": "display_data"
    }
   ],
   "source": [
    "head(ta1M)"
   ]
  },
  {
   "cell_type": "code",
   "execution_count": 16,
   "id": "622e1bdc-d08b-474b-89d6-91815ee0d812",
   "metadata": {},
   "outputs": [
    {
     "data": {
      "text/html": [
       "<table>\n",
       "<thead><tr><th scope=col>tconst</th><th scope=col>titleType</th><th scope=col>primaryTitle</th><th scope=col>originalTitle</th><th scope=col>isAdult</th><th scope=col>startYear</th><th scope=col>endYear</th><th scope=col>runtimeMinutes</th><th scope=col>genres</th></tr></thead>\n",
       "<tbody>\n",
       "\t<tr><td>tt0000001               </td><td>short                   </td><td>Carmencita              </td><td>Carmencita              </td><td>0                       </td><td>1894                    </td><td>\\N                     </td><td>1                       </td><td>Documentary,Short       </td></tr>\n",
       "\t<tr><td>tt0000002               </td><td>short                   </td><td>Le clown et ses chiens  </td><td>Le clown et ses chiens  </td><td>0                       </td><td>1892                    </td><td>\\N                     </td><td>5                       </td><td>Animation,Short         </td></tr>\n",
       "\t<tr><td>tt0000003               </td><td>short                   </td><td>Pauvre Pierrot          </td><td>Pauvre Pierrot          </td><td>0                       </td><td>1892                    </td><td>\\N                     </td><td>4                       </td><td>Animation,Comedy,Romance</td></tr>\n",
       "\t<tr><td>tt0000004               </td><td>short                   </td><td>Un bon bock             </td><td>Un bon bock             </td><td>0                       </td><td>1892                    </td><td>\\N                     </td><td>12                      </td><td>Animation,Short         </td></tr>\n",
       "\t<tr><td>tt0000005               </td><td>short                   </td><td>Blacksmith Scene        </td><td>Blacksmith Scene        </td><td>0                       </td><td>1893                    </td><td>\\N                     </td><td>1                       </td><td>Comedy,Short            </td></tr>\n",
       "\t<tr><td>tt0000006               </td><td>short                   </td><td>Chinese Opium Den       </td><td>Chinese Opium Den       </td><td>0                       </td><td>1894                    </td><td>\\N                     </td><td>1                       </td><td>Short                   </td></tr>\n",
       "</tbody>\n",
       "</table>\n"
      ],
      "text/latex": [
       "\\begin{tabular}{r|lllllllll}\n",
       " tconst & titleType & primaryTitle & originalTitle & isAdult & startYear & endYear & runtimeMinutes & genres\\\\\n",
       "\\hline\n",
       "\t tt0000001                & short                    & Carmencita               & Carmencita               & 0                        & 1894                     & \\textbackslash{}N       & 1                        & Documentary,Short       \\\\\n",
       "\t tt0000002                & short                    & Le clown et ses chiens   & Le clown et ses chiens   & 0                        & 1892                     & \\textbackslash{}N       & 5                        & Animation,Short         \\\\\n",
       "\t tt0000003                & short                    & Pauvre Pierrot           & Pauvre Pierrot           & 0                        & 1892                     & \\textbackslash{}N       & 4                        & Animation,Comedy,Romance\\\\\n",
       "\t tt0000004                & short                    & Un bon bock              & Un bon bock              & 0                        & 1892                     & \\textbackslash{}N       & 12                       & Animation,Short         \\\\\n",
       "\t tt0000005                & short                    & Blacksmith Scene         & Blacksmith Scene         & 0                        & 1893                     & \\textbackslash{}N       & 1                        & Comedy,Short            \\\\\n",
       "\t tt0000006                & short                    & Chinese Opium Den        & Chinese Opium Den        & 0                        & 1894                     & \\textbackslash{}N       & 1                        & Short                   \\\\\n",
       "\\end{tabular}\n"
      ],
      "text/markdown": [
       "\n",
       "| tconst | titleType | primaryTitle | originalTitle | isAdult | startYear | endYear | runtimeMinutes | genres |\n",
       "|---|---|---|---|---|---|---|---|---|\n",
       "| tt0000001                | short                    | Carmencita               | Carmencita               | 0                        | 1894                     | \\N                      | 1                        | Documentary,Short        |\n",
       "| tt0000002                | short                    | Le clown et ses chiens   | Le clown et ses chiens   | 0                        | 1892                     | \\N                      | 5                        | Animation,Short          |\n",
       "| tt0000003                | short                    | Pauvre Pierrot           | Pauvre Pierrot           | 0                        | 1892                     | \\N                      | 4                        | Animation,Comedy,Romance |\n",
       "| tt0000004                | short                    | Un bon bock              | Un bon bock              | 0                        | 1892                     | \\N                      | 12                       | Animation,Short          |\n",
       "| tt0000005                | short                    | Blacksmith Scene         | Blacksmith Scene         | 0                        | 1893                     | \\N                      | 1                        | Comedy,Short             |\n",
       "| tt0000006                | short                    | Chinese Opium Den        | Chinese Opium Den        | 0                        | 1894                     | \\N                      | 1                        | Short                    |\n",
       "\n"
      ],
      "text/plain": [
       "  tconst    titleType primaryTitle           originalTitle          isAdult\n",
       "1 tt0000001 short     Carmencita             Carmencita             0      \n",
       "2 tt0000002 short     Le clown et ses chiens Le clown et ses chiens 0      \n",
       "3 tt0000003 short     Pauvre Pierrot         Pauvre Pierrot         0      \n",
       "4 tt0000004 short     Un bon bock            Un bon bock            0      \n",
       "5 tt0000005 short     Blacksmith Scene       Blacksmith Scene       0      \n",
       "6 tt0000006 short     Chinese Opium Den      Chinese Opium Den      0      \n",
       "  startYear endYear runtimeMinutes genres                  \n",
       "1 1894      \\\\N     1              Documentary,Short       \n",
       "2 1892      \\\\N     5              Animation,Short         \n",
       "3 1892      \\\\N     4              Animation,Comedy,Romance\n",
       "4 1892      \\\\N     12             Animation,Short         \n",
       "5 1893      \\\\N     1              Comedy,Short            \n",
       "6 1894      \\\\N     1              Short                   "
      ]
     },
     "metadata": {},
     "output_type": "display_data"
    }
   ],
   "source": [
    "head(tb1M)"
   ]
  },
  {
   "cell_type": "code",
   "execution_count": 17,
   "id": "e44ca24e-41e4-4f99-809a-ebc14a3bba34",
   "metadata": {},
   "outputs": [
    {
     "data": {
      "text/html": [
       "<table>\n",
       "<thead><tr><th scope=col>tconst</th><th scope=col>directors</th><th scope=col>writers</th></tr></thead>\n",
       "<tbody>\n",
       "\t<tr><td>tt0000001</td><td>nm0005690</td><td>\\N      </td></tr>\n",
       "\t<tr><td>tt0000002</td><td>nm0721526</td><td>\\N      </td></tr>\n",
       "\t<tr><td>tt0000003</td><td>nm0721526</td><td>\\N      </td></tr>\n",
       "\t<tr><td>tt0000004</td><td>nm0721526</td><td>\\N      </td></tr>\n",
       "\t<tr><td>tt0000005</td><td>nm0005690</td><td>\\N      </td></tr>\n",
       "\t<tr><td>tt0000006</td><td>nm0005690</td><td>\\N      </td></tr>\n",
       "</tbody>\n",
       "</table>\n"
      ],
      "text/latex": [
       "\\begin{tabular}{r|lll}\n",
       " tconst & directors & writers\\\\\n",
       "\\hline\n",
       "\t tt0000001          & nm0005690          & \\textbackslash{}N\\\\\n",
       "\t tt0000002          & nm0721526          & \\textbackslash{}N\\\\\n",
       "\t tt0000003          & nm0721526          & \\textbackslash{}N\\\\\n",
       "\t tt0000004          & nm0721526          & \\textbackslash{}N\\\\\n",
       "\t tt0000005          & nm0005690          & \\textbackslash{}N\\\\\n",
       "\t tt0000006          & nm0005690          & \\textbackslash{}N\\\\\n",
       "\\end{tabular}\n"
      ],
      "text/markdown": [
       "\n",
       "| tconst | directors | writers |\n",
       "|---|---|---|\n",
       "| tt0000001 | nm0005690 | \\N       |\n",
       "| tt0000002 | nm0721526 | \\N       |\n",
       "| tt0000003 | nm0721526 | \\N       |\n",
       "| tt0000004 | nm0721526 | \\N       |\n",
       "| tt0000005 | nm0005690 | \\N       |\n",
       "| tt0000006 | nm0005690 | \\N       |\n",
       "\n"
      ],
      "text/plain": [
       "  tconst    directors writers\n",
       "1 tt0000001 nm0005690 \\\\N    \n",
       "2 tt0000002 nm0721526 \\\\N    \n",
       "3 tt0000003 nm0721526 \\\\N    \n",
       "4 tt0000004 nm0721526 \\\\N    \n",
       "5 tt0000005 nm0005690 \\\\N    \n",
       "6 tt0000006 nm0005690 \\\\N    "
      ]
     },
     "metadata": {},
     "output_type": "display_data"
    }
   ],
   "source": [
    "head(tc1M)"
   ]
  },
  {
   "cell_type": "code",
   "execution_count": 18,
   "id": "aefec333-a781-4864-a2e8-2aca98eb7a33",
   "metadata": {},
   "outputs": [
    {
     "data": {
      "text/html": [
       "<table>\n",
       "<thead><tr><th scope=col>tconst</th><th scope=col>parentTconst</th><th scope=col>seasonNumber</th><th scope=col>episodeNumber</th></tr></thead>\n",
       "<tbody>\n",
       "\t<tr><td>tt0020666 </td><td>tt15180956</td><td>1         </td><td>2         </td></tr>\n",
       "\t<tr><td>tt0020829 </td><td>tt15180956</td><td>1         </td><td>1         </td></tr>\n",
       "\t<tr><td>tt0021166 </td><td>tt15180956</td><td>1         </td><td>3         </td></tr>\n",
       "\t<tr><td>tt0021612 </td><td>tt15180956</td><td>2         </td><td>2         </td></tr>\n",
       "\t<tr><td>tt0021655 </td><td>tt15180956</td><td>2         </td><td>5         </td></tr>\n",
       "\t<tr><td>tt0021663 </td><td>tt15180956</td><td>2         </td><td>6         </td></tr>\n",
       "</tbody>\n",
       "</table>\n"
      ],
      "text/latex": [
       "\\begin{tabular}{r|llll}\n",
       " tconst & parentTconst & seasonNumber & episodeNumber\\\\\n",
       "\\hline\n",
       "\t tt0020666  & tt15180956 & 1          & 2         \\\\\n",
       "\t tt0020829  & tt15180956 & 1          & 1         \\\\\n",
       "\t tt0021166  & tt15180956 & 1          & 3         \\\\\n",
       "\t tt0021612  & tt15180956 & 2          & 2         \\\\\n",
       "\t tt0021655  & tt15180956 & 2          & 5         \\\\\n",
       "\t tt0021663  & tt15180956 & 2          & 6         \\\\\n",
       "\\end{tabular}\n"
      ],
      "text/markdown": [
       "\n",
       "| tconst | parentTconst | seasonNumber | episodeNumber |\n",
       "|---|---|---|---|\n",
       "| tt0020666  | tt15180956 | 1          | 2          |\n",
       "| tt0020829  | tt15180956 | 1          | 1          |\n",
       "| tt0021166  | tt15180956 | 1          | 3          |\n",
       "| tt0021612  | tt15180956 | 2          | 2          |\n",
       "| tt0021655  | tt15180956 | 2          | 5          |\n",
       "| tt0021663  | tt15180956 | 2          | 6          |\n",
       "\n"
      ],
      "text/plain": [
       "  tconst    parentTconst seasonNumber episodeNumber\n",
       "1 tt0020666 tt15180956   1            2            \n",
       "2 tt0020829 tt15180956   1            1            \n",
       "3 tt0021166 tt15180956   1            3            \n",
       "4 tt0021612 tt15180956   2            2            \n",
       "5 tt0021655 tt15180956   2            5            \n",
       "6 tt0021663 tt15180956   2            6            "
      ]
     },
     "metadata": {},
     "output_type": "display_data"
    }
   ],
   "source": [
    "head(te1M)"
   ]
  },
  {
   "cell_type": "code",
   "execution_count": 19,
   "id": "3c089df4-e7c6-4f25-96b0-3e5da0bea544",
   "metadata": {},
   "outputs": [
    {
     "data": {
      "text/html": [
       "<table>\n",
       "<thead><tr><th scope=col>tconst</th><th scope=col>ordering</th><th scope=col>nconst</th><th scope=col>category</th><th scope=col>job</th><th scope=col>characters</th></tr></thead>\n",
       "<tbody>\n",
       "\t<tr><td>tt0000001              </td><td>1                      </td><td>nm1588970              </td><td>self                   </td><td>\\N                    </td><td>[\"Self\"]               </td></tr>\n",
       "\t<tr><td>tt0000001              </td><td>2                      </td><td>nm0005690              </td><td>director               </td><td>\\N                    </td><td>\\N                    </td></tr>\n",
       "\t<tr><td>tt0000001              </td><td>3                      </td><td>nm0374658              </td><td>cinematographer        </td><td>director of photography</td><td>\\N                    </td></tr>\n",
       "\t<tr><td>tt0000002              </td><td>1                      </td><td>nm0721526              </td><td>director               </td><td>\\N                    </td><td>\\N                    </td></tr>\n",
       "\t<tr><td>tt0000002              </td><td>2                      </td><td>nm1335271              </td><td>composer               </td><td>\\N                    </td><td>\\N                    </td></tr>\n",
       "\t<tr><td>tt0000003              </td><td>1                      </td><td>nm0721526              </td><td>director               </td><td>\\N                    </td><td>\\N                    </td></tr>\n",
       "</tbody>\n",
       "</table>\n"
      ],
      "text/latex": [
       "\\begin{tabular}{r|llllll}\n",
       " tconst & ordering & nconst & category & job & characters\\\\\n",
       "\\hline\n",
       "\t tt0000001                              & 1                                      & nm1588970                              & self                                   & \\textbackslash{}N                     & {[}\"Self\"{]}                          \\\\\n",
       "\t tt0000001                              & 2                                      & nm0005690                              & director                               & \\textbackslash{}N                     & \\textbackslash{}N                    \\\\\n",
       "\t tt0000001               & 3                       & nm0374658               & cinematographer         & director of photography & \\textbackslash{}N     \\\\\n",
       "\t tt0000002                              & 1                                      & nm0721526                              & director                               & \\textbackslash{}N                     & \\textbackslash{}N                    \\\\\n",
       "\t tt0000002                              & 2                                      & nm1335271                              & composer                               & \\textbackslash{}N                     & \\textbackslash{}N                    \\\\\n",
       "\t tt0000003                              & 1                                      & nm0721526                              & director                               & \\textbackslash{}N                     & \\textbackslash{}N                    \\\\\n",
       "\\end{tabular}\n"
      ],
      "text/markdown": [
       "\n",
       "| tconst | ordering | nconst | category | job | characters |\n",
       "|---|---|---|---|---|---|\n",
       "| tt0000001               | 1                       | nm1588970               | self                    | \\N                     | [\"Self\"]                |\n",
       "| tt0000001               | 2                       | nm0005690               | director                | \\N                     | \\N                     |\n",
       "| tt0000001               | 3                       | nm0374658               | cinematographer         | director of photography | \\N                     |\n",
       "| tt0000002               | 1                       | nm0721526               | director                | \\N                     | \\N                     |\n",
       "| tt0000002               | 2                       | nm1335271               | composer                | \\N                     | \\N                     |\n",
       "| tt0000003               | 1                       | nm0721526               | director                | \\N                     | \\N                     |\n",
       "\n"
      ],
      "text/plain": [
       "  tconst    ordering nconst    category        job                    \n",
       "1 tt0000001 1        nm1588970 self            \\\\N                    \n",
       "2 tt0000001 2        nm0005690 director        \\\\N                    \n",
       "3 tt0000001 3        nm0374658 cinematographer director of photography\n",
       "4 tt0000002 1        nm0721526 director        \\\\N                    \n",
       "5 tt0000002 2        nm1335271 composer        \\\\N                    \n",
       "6 tt0000003 1        nm0721526 director        \\\\N                    \n",
       "  characters\n",
       "1 [\"Self\"]  \n",
       "2 \\\\N       \n",
       "3 \\\\N       \n",
       "4 \\\\N       \n",
       "5 \\\\N       \n",
       "6 \\\\N       "
      ]
     },
     "metadata": {},
     "output_type": "display_data"
    }
   ],
   "source": [
    "head(tp1M)"
   ]
  },
  {
   "cell_type": "code",
   "execution_count": 20,
   "id": "f3c66a49-371d-4708-9cf3-363d93ce7a9b",
   "metadata": {},
   "outputs": [
    {
     "data": {
      "text/html": [
       "<table>\n",
       "<thead><tr><th scope=col>tconst</th><th scope=col>averageRating</th><th scope=col>numVotes</th></tr></thead>\n",
       "<tbody>\n",
       "\t<tr><td>tt0000001</td><td>5.7      </td><td>1914     </td></tr>\n",
       "\t<tr><td>tt0000002</td><td>5.8      </td><td> 259     </td></tr>\n",
       "\t<tr><td>tt0000003</td><td>6.5      </td><td>1720     </td></tr>\n",
       "\t<tr><td>tt0000004</td><td>5.6      </td><td> 172     </td></tr>\n",
       "\t<tr><td>tt0000005</td><td>6.2      </td><td>2537     </td></tr>\n",
       "\t<tr><td>tt0000006</td><td>5.1      </td><td> 175     </td></tr>\n",
       "</tbody>\n",
       "</table>\n"
      ],
      "text/latex": [
       "\\begin{tabular}{r|lll}\n",
       " tconst & averageRating & numVotes\\\\\n",
       "\\hline\n",
       "\t tt0000001 & 5.7       & 1914     \\\\\n",
       "\t tt0000002 & 5.8       &  259     \\\\\n",
       "\t tt0000003 & 6.5       & 1720     \\\\\n",
       "\t tt0000004 & 5.6       &  172     \\\\\n",
       "\t tt0000005 & 6.2       & 2537     \\\\\n",
       "\t tt0000006 & 5.1       &  175     \\\\\n",
       "\\end{tabular}\n"
      ],
      "text/markdown": [
       "\n",
       "| tconst | averageRating | numVotes |\n",
       "|---|---|---|\n",
       "| tt0000001 | 5.7       | 1914      |\n",
       "| tt0000002 | 5.8       |  259      |\n",
       "| tt0000003 | 6.5       | 1720      |\n",
       "| tt0000004 | 5.6       |  172      |\n",
       "| tt0000005 | 6.2       | 2537      |\n",
       "| tt0000006 | 5.1       |  175      |\n",
       "\n"
      ],
      "text/plain": [
       "  tconst    averageRating numVotes\n",
       "1 tt0000001 5.7           1914    \n",
       "2 tt0000002 5.8            259    \n",
       "3 tt0000003 6.5           1720    \n",
       "4 tt0000004 5.6            172    \n",
       "5 tt0000005 6.2           2537    \n",
       "6 tt0000006 5.1            175    "
      ]
     },
     "metadata": {},
     "output_type": "display_data"
    }
   ],
   "source": [
    "head(tr1M)"
   ]
  },
  {
   "cell_type": "markdown",
   "id": "f7e99118-c591-4970-9f6d-f555e918956e",
   "metadata": {},
   "source": [
    "### Plotting"
   ]
  },
  {
   "cell_type": "code",
   "execution_count": 21,
   "id": "f4a0e05a-579f-46f8-b765-c82bf72ffc8a",
   "metadata": {},
   "outputs": [],
   "source": [
    "library(ggplot2)\n",
    "options(repr.plot.width=7, repr.plot.height=4, repr.plot.res = 200)"
   ]
  },
  {
   "cell_type": "code",
   "execution_count": 23,
   "id": "652b515f-80a3-4b46-9872-bdced462b3cb",
   "metadata": {},
   "outputs": [
    {
     "data": {
      "text/plain": [
       "Time difference of 49.52288 secs"
      ]
     },
     "metadata": {},
     "output_type": "display_data"
    },
    {
     "data": {
      "image/png": "[encoded data removed]",
      "text/plain": [
       "plot without title"
      ]
     },
     "metadata": {},
     "output_type": "display_data"
    }
   ],
   "source": [
    "t0 <- Sys.time()\n",
    "ggplot(tr1M, aes(x=numVotes, y=averageRating)) + geom_point() + scale_x_continuous(labels = scales::comma)\n",
    "difftime(Sys.time(), t0)"
   ]
  },
  {
   "cell_type": "markdown",
   "id": "e4e8dcfe-09d6-421c-8abe-b1a33826df03",
   "metadata": {},
   "source": [
    "**IT WORKS :)**"
   ]
  }
 ],
 "metadata": {
  "kernelspec": {
   "display_name": "R",
   "language": "R",
   "name": "ir"
  },
  "language_info": {
   "codemirror_mode": "r",
   "file_extension": ".r",
   "mimetype": "text/x-r-source",
   "name": "R",
   "pygments_lexer": "r",
   "version": "3.6.1"
  }
 },
 "nbformat": 4,
 "nbformat_minor": 5
}
