{
 "cells": [
  {
   "cell_type": "code",
   "execution_count": 115,
   "id": "4f137d88-b9cf-4d87-b754-6c0bd9cddcb3",
   "metadata": {},
   "outputs": [],
   "source": [
    "library('data.table')\n",
    "library('dplyr')\n",
    "library('tidyr')\n",
    "library('ggplot2')\n",
    "library('scales')"
   ]
  },
  {
   "cell_type": "code",
   "execution_count": 116,
   "id": "674f1be0-74d4-4bcb-be9e-97de0bf8ab7d",
   "metadata": {
    "colab": {
     "base_uri": "https://localhost:8080/"
    },
    "id": "AP8PiREuiiIO",
    "outputId": "aa95af79-ff03-44e3-8c81-aec83c2dd2cf",
    "tags": []
   },
   "outputs": [],
   "source": [
    "titles <- fread(\"title_ratings\", quote=\"\", na.strings = \"\\\\N\")\n",
    "aka <- fread(\"aka_filtered\", quote = \"\", na.strings = \"\\\\N\")\n",
    "crew <- fread(\"crew_filtered\", na.strings = \"\\\\N\")\n",
    "principals <- fread(\"principals_filtered\", quote=\"\", na.strings = \"\\\\N\")\n",
    "episodes <- fread(\"episodes_filtered\", na.strings = \"\\\\N\")\n",
    "names <-fread(\"names_filtered\", na.strings = \"\\\\N\")"
   ]
  },
  {
   "cell_type": "code",
   "execution_count": 117,
   "id": "ce93d47b-854e-4c45-a2f8-14fe409234e7",
   "metadata": {},
   "outputs": [
    {
     "data": {
      "text/html": [
       "<table class=\"dataframe\">\n",
       "<caption>A data.table: 3 × 10</caption>\n",
       "<thead>\n",
       "\t<tr><th scope=col>tconst</th><th scope=col>titleType</th><th scope=col>primaryTitle</th><th scope=col>originalTitle</th><th scope=col>isAdult</th><th scope=col>runtimeMinutes</th><th scope=col>genres</th><th scope=col>year</th><th scope=col>averageRating</th><th scope=col>numVotes</th></tr>\n",
       "\t<tr><th scope=col>&lt;chr&gt;</th><th scope=col>&lt;chr&gt;</th><th scope=col>&lt;chr&gt;</th><th scope=col>&lt;chr&gt;</th><th scope=col>&lt;lgl&gt;</th><th scope=col>&lt;int&gt;</th><th scope=col>&lt;chr&gt;</th><th scope=col>&lt;int&gt;</th><th scope=col>&lt;dbl&gt;</th><th scope=col>&lt;int&gt;</th></tr>\n",
       "</thead>\n",
       "<tbody>\n",
       "\t<tr><td>tt0043224</td><td>tvSeries</td><td>The Red Skelton Hour</td><td>The Red Skelton Show</td><td>FALSE</td><td>60</td><td>Comedy       </td><td>2016</td><td>8.1</td><td>1285</td></tr>\n",
       "\t<tr><td>tt0044265</td><td>tvSeries</td><td>Guiding Light       </td><td>The Guiding Light   </td><td>FALSE</td><td>60</td><td>Drama,Romance</td><td>2009</td><td>6.4</td><td>1722</td></tr>\n",
       "\t<tr><td>tt0048845</td><td>tvSeries</td><td>As the World Turns  </td><td>As the World Turns  </td><td>FALSE</td><td>60</td><td>Drama,Romance</td><td>2010</td><td>6.1</td><td>2102</td></tr>\n",
       "</tbody>\n",
       "</table>\n"
      ],
      "text/latex": [
       "A data.table: 3 × 10\n",
       "\\begin{tabular}{llllllllll}\n",
       " tconst & titleType & primaryTitle & originalTitle & isAdult & runtimeMinutes & genres & year & averageRating & numVotes\\\\\n",
       " <chr> & <chr> & <chr> & <chr> & <lgl> & <int> & <chr> & <int> & <dbl> & <int>\\\\\n",
       "\\hline\n",
       "\t tt0043224 & tvSeries & The Red Skelton Hour & The Red Skelton Show & FALSE & 60 & Comedy        & 2016 & 8.1 & 1285\\\\\n",
       "\t tt0044265 & tvSeries & Guiding Light        & The Guiding Light    & FALSE & 60 & Drama,Romance & 2009 & 6.4 & 1722\\\\\n",
       "\t tt0048845 & tvSeries & As the World Turns   & As the World Turns   & FALSE & 60 & Drama,Romance & 2010 & 6.1 & 2102\\\\\n",
       "\\end{tabular}\n"
      ],
      "text/markdown": [
       "\n",
       "A data.table: 3 × 10\n",
       "\n",
       "| tconst &lt;chr&gt; | titleType &lt;chr&gt; | primaryTitle &lt;chr&gt; | originalTitle &lt;chr&gt; | isAdult &lt;lgl&gt; | runtimeMinutes &lt;int&gt; | genres &lt;chr&gt; | year &lt;int&gt; | averageRating &lt;dbl&gt; | numVotes &lt;int&gt; |\n",
       "|---|---|---|---|---|---|---|---|---|---|\n",
       "| tt0043224 | tvSeries | The Red Skelton Hour | The Red Skelton Show | FALSE | 60 | Comedy        | 2016 | 8.1 | 1285 |\n",
       "| tt0044265 | tvSeries | Guiding Light        | The Guiding Light    | FALSE | 60 | Drama,Romance | 2009 | 6.4 | 1722 |\n",
       "| tt0048845 | tvSeries | As the World Turns   | As the World Turns   | FALSE | 60 | Drama,Romance | 2010 | 6.1 | 2102 |\n",
       "\n"
      ],
      "text/plain": [
       "  tconst    titleType primaryTitle         originalTitle        isAdult\n",
       "1 tt0043224 tvSeries  The Red Skelton Hour The Red Skelton Show FALSE  \n",
       "2 tt0044265 tvSeries  Guiding Light        The Guiding Light    FALSE  \n",
       "3 tt0048845 tvSeries  As the World Turns   As the World Turns   FALSE  \n",
       "  runtimeMinutes genres        year averageRating numVotes\n",
       "1 60             Comedy        2016 8.1           1285    \n",
       "2 60             Drama,Romance 2009 6.4           1722    \n",
       "3 60             Drama,Romance 2010 6.1           2102    "
      ]
     },
     "metadata": {},
     "output_type": "display_data"
    },
    {
     "data": {
      "text/html": [
       "<table class=\"dataframe\">\n",
       "<caption>A data.table: 3 × 6</caption>\n",
       "<thead>\n",
       "\t<tr><th scope=col>titleId</th><th scope=col>title</th><th scope=col>region</th><th scope=col>language</th><th scope=col>types</th><th scope=col>isOriginalTitle</th></tr>\n",
       "\t<tr><th scope=col>&lt;chr&gt;</th><th scope=col>&lt;chr&gt;</th><th scope=col>&lt;chr&gt;</th><th scope=col>&lt;chr&gt;</th><th scope=col>&lt;chr&gt;</th><th scope=col>&lt;lgl&gt;</th></tr>\n",
       "</thead>\n",
       "<tbody>\n",
       "\t<tr><td>tt0043224</td><td>The Red Skelton Hour</td><td>US  </td><td>NA</td><td>NA         </td><td>FALSE</td></tr>\n",
       "\t<tr><td>tt0043224</td><td>The Red Skelton Show</td><td>CA  </td><td>en</td><td>imdbDisplay</td><td>FALSE</td></tr>\n",
       "\t<tr><td>tt0043224</td><td>Шоу Рэда Скелтона   </td><td>SUHH</td><td>ru</td><td>imdbDisplay</td><td>FALSE</td></tr>\n",
       "</tbody>\n",
       "</table>\n"
      ],
      "text/latex": [
       "A data.table: 3 × 6\n",
       "\\begin{tabular}{llllll}\n",
       " titleId & title & region & language & types & isOriginalTitle\\\\\n",
       " <chr> & <chr> & <chr> & <chr> & <chr> & <lgl>\\\\\n",
       "\\hline\n",
       "\t tt0043224 & The Red Skelton Hour & US   & NA & NA          & FALSE\\\\\n",
       "\t tt0043224 & The Red Skelton Show & CA   & en & imdbDisplay & FALSE\\\\\n",
       "\t tt0043224 & Шоу Рэда Скелтона    & SUHH & ru & imdbDisplay & FALSE\\\\\n",
       "\\end{tabular}\n"
      ],
      "text/markdown": [
       "\n",
       "A data.table: 3 × 6\n",
       "\n",
       "| titleId &lt;chr&gt; | title &lt;chr&gt; | region &lt;chr&gt; | language &lt;chr&gt; | types &lt;chr&gt; | isOriginalTitle &lt;lgl&gt; |\n",
       "|---|---|---|---|---|---|\n",
       "| tt0043224 | The Red Skelton Hour | US   | NA | NA          | FALSE |\n",
       "| tt0043224 | The Red Skelton Show | CA   | en | imdbDisplay | FALSE |\n",
       "| tt0043224 | Шоу Рэда Скелтона    | SUHH | ru | imdbDisplay | FALSE |\n",
       "\n"
      ],
      "text/plain": [
       "  titleId   title                region language types       isOriginalTitle\n",
       "1 tt0043224 The Red Skelton Hour US     NA       NA          FALSE          \n",
       "2 tt0043224 The Red Skelton Show CA     en       imdbDisplay FALSE          \n",
       "3 tt0043224 Шоу Рэда Скелтона    SUHH   ru       imdbDisplay FALSE          "
      ]
     },
     "metadata": {},
     "output_type": "display_data"
    },
    {
     "data": {
      "text/html": [
       "<table class=\"dataframe\">\n",
       "<caption>A data.table: 3 × 3</caption>\n",
       "<thead>\n",
       "\t<tr><th scope=col>tconst</th><th scope=col>directors</th><th scope=col>writers</th></tr>\n",
       "\t<tr><th scope=col>&lt;chr&gt;</th><th scope=col>&lt;chr&gt;</th><th scope=col>&lt;chr&gt;</th></tr>\n",
       "</thead>\n",
       "<tbody>\n",
       "\t<tr><td>tt0043224</td><td>nm0477438,nm0054846,nm1096821,nm0705228,nm0120437,nm0076971,nm0387695,nm0232902,nm1097266,nm1637827                                                                                                                                                                                                                                                                                                                                                                                                                                    </td><td>nm0804026,nm0639495,nm0680226,nm0777442,nm0706417,nm0722289,nm1640023,nm0338876,nm0326239,nm0777129,nm0414633,nm0288997,nm1520544,nm0799745,nm0615080,nm0293159,nm0771627,nm0918826,nm0410536,nm2204703,nm0397170,nm0917200,nm0594174,nm0917026,nm0566588,nm0288816,nm3123274,nm0051332,nm2964448,nm0237341,nm0329085,nm1034110,nm3110698,nm0516015,nm0057677,nm0578441,nm0814068,nm0081748,nm0606806,nm0639787,nm0432188,nm0498586,nm0743232,nm2198070,nm0743259,nm0777202,nm0380890,nm2915847,nm0377958,nm1290769,nm7410201,nm0545131,nm0655462,nm3201019,nm0001992,nm0399849,nm0000036                                                                                                                                                                                                                                                                                                                                                                                                                                                                                                                                                                                                                                                                                                                                                                                                                                                                                                                                                                                                                                                                                                                                                       </td></tr>\n",
       "\t<tr><td>tt0044265</td><td>nm0004098,nm0179413,nm1597578,nm1335675,nm0915727,nm0581589,nm0568114,nm0213789,nm0281224,nm0332752,nm0884037,nm0297489,nm0109586,nm0331135,nm1513459,nm0778479,nm0224683,nm0159012,nm0100841,nm0250864,nm2681961,nm1273119,nm0923396,nm0369858,nm2036776,nm1334802,nm1603516,nm1314913,nm1343326,nm0925870,nm0834419,nm2552851,nm3174789,nm0963061,nm0571983,nm0322900                                                                                                                                                                </td><td>nm2419908,nm1141830,nm2251709,nm2078312,nm1003809,nm0325029,nm1014203,nm1014177,nm0492953,nm1012482,nm1010971,nm0519133,nm0174585,nm0429390,nm2429218,nm2654235,nm1221904,nm0068550,nm1159577,nm0909529,nm3049540,nm0255819,nm0260547,nm0113780,nm0628248,nm0717622,nm0989904,nm1142664,nm0191612,nm1051829,nm2727176,nm4972117,nm0997483,nm0110828,nm1105215,nm3079954,nm1779986,nm2085815,nm0693044,nm0106187,nm0322325,nm0833510,nm0807006,nm0542021,nm3454108,nm0566699,nm2721275,nm4237316,nm0291507,nm0027442,nm1267575,nm1011786,nm0750422,nm1014193,nm0820121,nm1011976,nm1000132,nm1007597,nm0792404,nm1049086,nm0996693,nm1088908,nm0229890,nm0229908,nm0913330,nm0758444,nm3059609,nm0782462,nm0746169,nm0925335,nm0925388,nm0501148,nm2040174,nm0711626,nm1480454,nm0421246,nm0846520,nm0922948,nm2591020,nm0925872,nm1012917,nm9109568,nm0617002,nm0682274,nm3566933,nm0723559,nm1779949,nm0658855,nm0880986,nm1276101,nm1299367,nm0434560,nm0115032,nm1011004,nm0358462,nm2272293,nm0906799,nm0479525,nm0997301,nm3579833,nm0534951,nm1802728,nm0680460,nm2654307,nm0866801,nm2660138,nm1669530,nm0040612,nm0481805,nm1106086,nm0899533,nm2077775,nm2220634,nm1049067,nm2006443,nm0812026,nm0111576,nm0698989,nm0019706,nm0111577,nm0122417,nm0202681,nm0238898,nm0505615,nm0754581,nm0789737,nm0991335,nm0162914,nm1301702,nm3059996,nm0726721,nm1014206,nm2233247,nm0235902,nm10360337,nm1672253,nm1440687,nm1400899,nm5846217,nm0817957,nm2076865,nm9551033,nm3930118,nm0068589,nm0633202,nm0881501,nm0813960,nm0989955,nm0031021,nm0097597,nm0112601,nm0148223,nm0313072,nm0368575,nm0513851,nm0564474                                                                                                                        </td></tr>\n",
       "\t<tr><td>tt0048845</td><td>nm0332752,nm0824738,nm0100841,nm0179413,nm0251732,nm0887790,nm4029369,nm0245698,nm0777413,nm0114113,nm0157553,nm0384316,nm0906004,nm0041715,nm0219989,nm0242409,nm1681063,nm1212523,nm0856388,nm0004098,nm0594204,nm0046490,nm1408290,nm0446060,nm0483582,nm0357800,nm0639479,nm0581589,nm2483215,nm0213789,nm0017875,nm0802986,nm0295925,nm1656173,nm0884037,nm1032520,nm0591523,nm1010949,nm0923396,nm0672625,nm0867723,nm1603516,nm0109586,nm0571983,nm0677210,nm0139400,nm0656440,nm0125226,nm0672627,nm0641266,nm0723593,nm0963061</td><td>nm0664799,nm1923276,nm1007597,nm2419908,nm1010949,nm3049540,nm1779949,nm1779986,nm1049066,nm0680460,nm0633202,nm0790760,nm1014174,nm1299367,nm1014216,nm0045741,nm1014167,nm1011004,nm0481805,nm0909529,nm1014175,nm0106187,nm0787317,nm0655491,nm1780023,nm1011440,nm0792404,nm1010971,nm1141830,nm1400899,nm0153944,nm1014176,nm0617002,nm1014164,nm1014206,nm0429390,nm0507406,nm0925872,nm0713131,nm0108338,nm0191612,nm1042591,nm1010857,nm0632525,nm1088908,nm1892355,nm0325029,nm1250955,nm0996693,nm1104059,nm0255034,nm0110828,nm2812299,nm2663899,nm0335072,nm1045621,nm0494959,nm0711626,nm0085519,nm1250889,nm0827711,nm1142664,nm1113445,nm10285461,nm1014207,nm1715559,nm1809263,nm1012917,nm2591020,nm1276101,nm0071291,nm1049067,nm2373457,nm1030464,nm1000124,nm3113329,nm1431618,nm1051829,nm0311869,nm1089437,nm0458818,nm2040174,nm0820050,nm0375294,nm0913702,nm1049086,nm0693044,nm1284523,nm0807006,nm0455340,nm0961373,nm1140641,nm0846520,nm3143239,nm2654362,nm0162914,nm1068447,nm0820121,nm0859155,nm3729425,nm0557696,nm1114256,nm10387979,nm0229890,nm0229908,nm1676228,nm10379370,nm10400829,nm0537424,nm0839917,nm1396112,nm0812026,nm0755866,nm1011976,nm1221120,nm0816348,nm0102883,nm10632516,nm3080113,nm1207587,nm1829409,nm3579833,nm3074085,nm0068589,nm0032541,nm0746169,nm0925335,nm0925388,nm0343403,nm13585272,nm13736695,nm9109568,nm0143676,nm2006443,nm13806846,nm1115376,nm0938170,nm0813960,nm0817957,nm1221812,nm5846217,nm0498979,nm0291507,nm1012482,nm13608060,nm0122935,nm0690069,nm11518427,nm13402748,nm0989245,nm0591784,nm0434560,nm1020908,nm1989448,nm3068470,nm1047700,nm1116779,nm0368575,nm1113709,nm1113285,nm1430271,nm1093685,nm0085588,nm0390808,nm0677651,nm1975295,nm0911421</td></tr>\n",
       "</tbody>\n",
       "</table>\n"
      ],
      "text/latex": [
       "A data.table: 3 × 3\n",
       "\\begin{tabular}{lll}\n",
       " tconst & directors & writers\\\\\n",
       " <chr> & <chr> & <chr>\\\\\n",
       "\\hline\n",
       "\t tt0043224 & nm0477438,nm0054846,nm1096821,nm0705228,nm0120437,nm0076971,nm0387695,nm0232902,nm1097266,nm1637827                                                                                                                                                                                                                                                                                                                                                                                                                                     & nm0804026,nm0639495,nm0680226,nm0777442,nm0706417,nm0722289,nm1640023,nm0338876,nm0326239,nm0777129,nm0414633,nm0288997,nm1520544,nm0799745,nm0615080,nm0293159,nm0771627,nm0918826,nm0410536,nm2204703,nm0397170,nm0917200,nm0594174,nm0917026,nm0566588,nm0288816,nm3123274,nm0051332,nm2964448,nm0237341,nm0329085,nm1034110,nm3110698,nm0516015,nm0057677,nm0578441,nm0814068,nm0081748,nm0606806,nm0639787,nm0432188,nm0498586,nm0743232,nm2198070,nm0743259,nm0777202,nm0380890,nm2915847,nm0377958,nm1290769,nm7410201,nm0545131,nm0655462,nm3201019,nm0001992,nm0399849,nm0000036                                                                                                                                                                                                                                                                                                                                                                                                                                                                                                                                                                                                                                                                                                                                                                                                                                                                                                                                                                                                                                                                                                                                                       \\\\\n",
       "\t tt0044265 & nm0004098,nm0179413,nm1597578,nm1335675,nm0915727,nm0581589,nm0568114,nm0213789,nm0281224,nm0332752,nm0884037,nm0297489,nm0109586,nm0331135,nm1513459,nm0778479,nm0224683,nm0159012,nm0100841,nm0250864,nm2681961,nm1273119,nm0923396,nm0369858,nm2036776,nm1334802,nm1603516,nm1314913,nm1343326,nm0925870,nm0834419,nm2552851,nm3174789,nm0963061,nm0571983,nm0322900                                                                                                                                                                 & nm2419908,nm1141830,nm2251709,nm2078312,nm1003809,nm0325029,nm1014203,nm1014177,nm0492953,nm1012482,nm1010971,nm0519133,nm0174585,nm0429390,nm2429218,nm2654235,nm1221904,nm0068550,nm1159577,nm0909529,nm3049540,nm0255819,nm0260547,nm0113780,nm0628248,nm0717622,nm0989904,nm1142664,nm0191612,nm1051829,nm2727176,nm4972117,nm0997483,nm0110828,nm1105215,nm3079954,nm1779986,nm2085815,nm0693044,nm0106187,nm0322325,nm0833510,nm0807006,nm0542021,nm3454108,nm0566699,nm2721275,nm4237316,nm0291507,nm0027442,nm1267575,nm1011786,nm0750422,nm1014193,nm0820121,nm1011976,nm1000132,nm1007597,nm0792404,nm1049086,nm0996693,nm1088908,nm0229890,nm0229908,nm0913330,nm0758444,nm3059609,nm0782462,nm0746169,nm0925335,nm0925388,nm0501148,nm2040174,nm0711626,nm1480454,nm0421246,nm0846520,nm0922948,nm2591020,nm0925872,nm1012917,nm9109568,nm0617002,nm0682274,nm3566933,nm0723559,nm1779949,nm0658855,nm0880986,nm1276101,nm1299367,nm0434560,nm0115032,nm1011004,nm0358462,nm2272293,nm0906799,nm0479525,nm0997301,nm3579833,nm0534951,nm1802728,nm0680460,nm2654307,nm0866801,nm2660138,nm1669530,nm0040612,nm0481805,nm1106086,nm0899533,nm2077775,nm2220634,nm1049067,nm2006443,nm0812026,nm0111576,nm0698989,nm0019706,nm0111577,nm0122417,nm0202681,nm0238898,nm0505615,nm0754581,nm0789737,nm0991335,nm0162914,nm1301702,nm3059996,nm0726721,nm1014206,nm2233247,nm0235902,nm10360337,nm1672253,nm1440687,nm1400899,nm5846217,nm0817957,nm2076865,nm9551033,nm3930118,nm0068589,nm0633202,nm0881501,nm0813960,nm0989955,nm0031021,nm0097597,nm0112601,nm0148223,nm0313072,nm0368575,nm0513851,nm0564474                                                                                                                        \\\\\n",
       "\t tt0048845 & nm0332752,nm0824738,nm0100841,nm0179413,nm0251732,nm0887790,nm4029369,nm0245698,nm0777413,nm0114113,nm0157553,nm0384316,nm0906004,nm0041715,nm0219989,nm0242409,nm1681063,nm1212523,nm0856388,nm0004098,nm0594204,nm0046490,nm1408290,nm0446060,nm0483582,nm0357800,nm0639479,nm0581589,nm2483215,nm0213789,nm0017875,nm0802986,nm0295925,nm1656173,nm0884037,nm1032520,nm0591523,nm1010949,nm0923396,nm0672625,nm0867723,nm1603516,nm0109586,nm0571983,nm0677210,nm0139400,nm0656440,nm0125226,nm0672627,nm0641266,nm0723593,nm0963061 & nm0664799,nm1923276,nm1007597,nm2419908,nm1010949,nm3049540,nm1779949,nm1779986,nm1049066,nm0680460,nm0633202,nm0790760,nm1014174,nm1299367,nm1014216,nm0045741,nm1014167,nm1011004,nm0481805,nm0909529,nm1014175,nm0106187,nm0787317,nm0655491,nm1780023,nm1011440,nm0792404,nm1010971,nm1141830,nm1400899,nm0153944,nm1014176,nm0617002,nm1014164,nm1014206,nm0429390,nm0507406,nm0925872,nm0713131,nm0108338,nm0191612,nm1042591,nm1010857,nm0632525,nm1088908,nm1892355,nm0325029,nm1250955,nm0996693,nm1104059,nm0255034,nm0110828,nm2812299,nm2663899,nm0335072,nm1045621,nm0494959,nm0711626,nm0085519,nm1250889,nm0827711,nm1142664,nm1113445,nm10285461,nm1014207,nm1715559,nm1809263,nm1012917,nm2591020,nm1276101,nm0071291,nm1049067,nm2373457,nm1030464,nm1000124,nm3113329,nm1431618,nm1051829,nm0311869,nm1089437,nm0458818,nm2040174,nm0820050,nm0375294,nm0913702,nm1049086,nm0693044,nm1284523,nm0807006,nm0455340,nm0961373,nm1140641,nm0846520,nm3143239,nm2654362,nm0162914,nm1068447,nm0820121,nm0859155,nm3729425,nm0557696,nm1114256,nm10387979,nm0229890,nm0229908,nm1676228,nm10379370,nm10400829,nm0537424,nm0839917,nm1396112,nm0812026,nm0755866,nm1011976,nm1221120,nm0816348,nm0102883,nm10632516,nm3080113,nm1207587,nm1829409,nm3579833,nm3074085,nm0068589,nm0032541,nm0746169,nm0925335,nm0925388,nm0343403,nm13585272,nm13736695,nm9109568,nm0143676,nm2006443,nm13806846,nm1115376,nm0938170,nm0813960,nm0817957,nm1221812,nm5846217,nm0498979,nm0291507,nm1012482,nm13608060,nm0122935,nm0690069,nm11518427,nm13402748,nm0989245,nm0591784,nm0434560,nm1020908,nm1989448,nm3068470,nm1047700,nm1116779,nm0368575,nm1113709,nm1113285,nm1430271,nm1093685,nm0085588,nm0390808,nm0677651,nm1975295,nm0911421\\\\\n",
       "\\end{tabular}\n"
      ],
      "text/markdown": [
       "\n",
       "A data.table: 3 × 3\n",
       "\n",
       "| tconst &lt;chr&gt; | directors &lt;chr&gt; | writers &lt;chr&gt; |\n",
       "|---|---|---|\n",
       "| tt0043224 | nm0477438,nm0054846,nm1096821,nm0705228,nm0120437,nm0076971,nm0387695,nm0232902,nm1097266,nm1637827                                                                                                                                                                                                                                                                                                                                                                                                                                     | nm0804026,nm0639495,nm0680226,nm0777442,nm0706417,nm0722289,nm1640023,nm0338876,nm0326239,nm0777129,nm0414633,nm0288997,nm1520544,nm0799745,nm0615080,nm0293159,nm0771627,nm0918826,nm0410536,nm2204703,nm0397170,nm0917200,nm0594174,nm0917026,nm0566588,nm0288816,nm3123274,nm0051332,nm2964448,nm0237341,nm0329085,nm1034110,nm3110698,nm0516015,nm0057677,nm0578441,nm0814068,nm0081748,nm0606806,nm0639787,nm0432188,nm0498586,nm0743232,nm2198070,nm0743259,nm0777202,nm0380890,nm2915847,nm0377958,nm1290769,nm7410201,nm0545131,nm0655462,nm3201019,nm0001992,nm0399849,nm0000036                                                                                                                                                                                                                                                                                                                                                                                                                                                                                                                                                                                                                                                                                                                                                                                                                                                                                                                                                                                                                                                                                                                                                        |\n",
       "| tt0044265 | nm0004098,nm0179413,nm1597578,nm1335675,nm0915727,nm0581589,nm0568114,nm0213789,nm0281224,nm0332752,nm0884037,nm0297489,nm0109586,nm0331135,nm1513459,nm0778479,nm0224683,nm0159012,nm0100841,nm0250864,nm2681961,nm1273119,nm0923396,nm0369858,nm2036776,nm1334802,nm1603516,nm1314913,nm1343326,nm0925870,nm0834419,nm2552851,nm3174789,nm0963061,nm0571983,nm0322900                                                                                                                                                                 | nm2419908,nm1141830,nm2251709,nm2078312,nm1003809,nm0325029,nm1014203,nm1014177,nm0492953,nm1012482,nm1010971,nm0519133,nm0174585,nm0429390,nm2429218,nm2654235,nm1221904,nm0068550,nm1159577,nm0909529,nm3049540,nm0255819,nm0260547,nm0113780,nm0628248,nm0717622,nm0989904,nm1142664,nm0191612,nm1051829,nm2727176,nm4972117,nm0997483,nm0110828,nm1105215,nm3079954,nm1779986,nm2085815,nm0693044,nm0106187,nm0322325,nm0833510,nm0807006,nm0542021,nm3454108,nm0566699,nm2721275,nm4237316,nm0291507,nm0027442,nm1267575,nm1011786,nm0750422,nm1014193,nm0820121,nm1011976,nm1000132,nm1007597,nm0792404,nm1049086,nm0996693,nm1088908,nm0229890,nm0229908,nm0913330,nm0758444,nm3059609,nm0782462,nm0746169,nm0925335,nm0925388,nm0501148,nm2040174,nm0711626,nm1480454,nm0421246,nm0846520,nm0922948,nm2591020,nm0925872,nm1012917,nm9109568,nm0617002,nm0682274,nm3566933,nm0723559,nm1779949,nm0658855,nm0880986,nm1276101,nm1299367,nm0434560,nm0115032,nm1011004,nm0358462,nm2272293,nm0906799,nm0479525,nm0997301,nm3579833,nm0534951,nm1802728,nm0680460,nm2654307,nm0866801,nm2660138,nm1669530,nm0040612,nm0481805,nm1106086,nm0899533,nm2077775,nm2220634,nm1049067,nm2006443,nm0812026,nm0111576,nm0698989,nm0019706,nm0111577,nm0122417,nm0202681,nm0238898,nm0505615,nm0754581,nm0789737,nm0991335,nm0162914,nm1301702,nm3059996,nm0726721,nm1014206,nm2233247,nm0235902,nm10360337,nm1672253,nm1440687,nm1400899,nm5846217,nm0817957,nm2076865,nm9551033,nm3930118,nm0068589,nm0633202,nm0881501,nm0813960,nm0989955,nm0031021,nm0097597,nm0112601,nm0148223,nm0313072,nm0368575,nm0513851,nm0564474                                                                                                                         |\n",
       "| tt0048845 | nm0332752,nm0824738,nm0100841,nm0179413,nm0251732,nm0887790,nm4029369,nm0245698,nm0777413,nm0114113,nm0157553,nm0384316,nm0906004,nm0041715,nm0219989,nm0242409,nm1681063,nm1212523,nm0856388,nm0004098,nm0594204,nm0046490,nm1408290,nm0446060,nm0483582,nm0357800,nm0639479,nm0581589,nm2483215,nm0213789,nm0017875,nm0802986,nm0295925,nm1656173,nm0884037,nm1032520,nm0591523,nm1010949,nm0923396,nm0672625,nm0867723,nm1603516,nm0109586,nm0571983,nm0677210,nm0139400,nm0656440,nm0125226,nm0672627,nm0641266,nm0723593,nm0963061 | nm0664799,nm1923276,nm1007597,nm2419908,nm1010949,nm3049540,nm1779949,nm1779986,nm1049066,nm0680460,nm0633202,nm0790760,nm1014174,nm1299367,nm1014216,nm0045741,nm1014167,nm1011004,nm0481805,nm0909529,nm1014175,nm0106187,nm0787317,nm0655491,nm1780023,nm1011440,nm0792404,nm1010971,nm1141830,nm1400899,nm0153944,nm1014176,nm0617002,nm1014164,nm1014206,nm0429390,nm0507406,nm0925872,nm0713131,nm0108338,nm0191612,nm1042591,nm1010857,nm0632525,nm1088908,nm1892355,nm0325029,nm1250955,nm0996693,nm1104059,nm0255034,nm0110828,nm2812299,nm2663899,nm0335072,nm1045621,nm0494959,nm0711626,nm0085519,nm1250889,nm0827711,nm1142664,nm1113445,nm10285461,nm1014207,nm1715559,nm1809263,nm1012917,nm2591020,nm1276101,nm0071291,nm1049067,nm2373457,nm1030464,nm1000124,nm3113329,nm1431618,nm1051829,nm0311869,nm1089437,nm0458818,nm2040174,nm0820050,nm0375294,nm0913702,nm1049086,nm0693044,nm1284523,nm0807006,nm0455340,nm0961373,nm1140641,nm0846520,nm3143239,nm2654362,nm0162914,nm1068447,nm0820121,nm0859155,nm3729425,nm0557696,nm1114256,nm10387979,nm0229890,nm0229908,nm1676228,nm10379370,nm10400829,nm0537424,nm0839917,nm1396112,nm0812026,nm0755866,nm1011976,nm1221120,nm0816348,nm0102883,nm10632516,nm3080113,nm1207587,nm1829409,nm3579833,nm3074085,nm0068589,nm0032541,nm0746169,nm0925335,nm0925388,nm0343403,nm13585272,nm13736695,nm9109568,nm0143676,nm2006443,nm13806846,nm1115376,nm0938170,nm0813960,nm0817957,nm1221812,nm5846217,nm0498979,nm0291507,nm1012482,nm13608060,nm0122935,nm0690069,nm11518427,nm13402748,nm0989245,nm0591784,nm0434560,nm1020908,nm1989448,nm3068470,nm1047700,nm1116779,nm0368575,nm1113709,nm1113285,nm1430271,nm1093685,nm0085588,nm0390808,nm0677651,nm1975295,nm0911421 |\n",
       "\n"
      ],
      "text/plain": [
       "  tconst   \n",
       "1 tt0043224\n",
       "2 tt0044265\n",
       "3 tt0048845\n",
       "  directors                                                                                                                                                                                                                                                                                                                                                                                                                                                                                                                              \n",
       "1 nm0477438,nm0054846,nm1096821,nm0705228,nm0120437,nm0076971,nm0387695,nm0232902,nm1097266,nm1637827                                                                                                                                                                                                                                                                                                                                                                                                                                    \n",
       "2 nm0004098,nm0179413,nm1597578,nm1335675,nm0915727,nm0581589,nm0568114,nm0213789,nm0281224,nm0332752,nm0884037,nm0297489,nm0109586,nm0331135,nm1513459,nm0778479,nm0224683,nm0159012,nm0100841,nm0250864,nm2681961,nm1273119,nm0923396,nm0369858,nm2036776,nm1334802,nm1603516,nm1314913,nm1343326,nm0925870,nm0834419,nm2552851,nm3174789,nm0963061,nm0571983,nm0322900                                                                                                                                                                \n",
       "3 nm0332752,nm0824738,nm0100841,nm0179413,nm0251732,nm0887790,nm4029369,nm0245698,nm0777413,nm0114113,nm0157553,nm0384316,nm0906004,nm0041715,nm0219989,nm0242409,nm1681063,nm1212523,nm0856388,nm0004098,nm0594204,nm0046490,nm1408290,nm0446060,nm0483582,nm0357800,nm0639479,nm0581589,nm2483215,nm0213789,nm0017875,nm0802986,nm0295925,nm1656173,nm0884037,nm1032520,nm0591523,nm1010949,nm0923396,nm0672625,nm0867723,nm1603516,nm0109586,nm0571983,nm0677210,nm0139400,nm0656440,nm0125226,nm0672627,nm0641266,nm0723593,nm0963061\n",
       "  writers                                                                                                                                                                                                                                                                                                                                                                                                                                                                                                                                                                                                                                                                                                                                                                                                                                                                                                                                                                                                                                                                                                                                                                                                                                                                                                                                                                                                                                                                                                                                                                                                                                                                                                                                         \n",
       "1 nm0804026,nm0639495,nm0680226,nm0777442,nm0706417,nm0722289,nm1640023,nm0338876,nm0326239,nm0777129,nm0414633,nm0288997,nm1520544,nm0799745,nm0615080,nm0293159,nm0771627,nm0918826,nm0410536,nm2204703,nm0397170,nm0917200,nm0594174,nm0917026,nm0566588,nm0288816,nm3123274,nm0051332,nm2964448,nm0237341,nm0329085,nm1034110,nm3110698,nm0516015,nm0057677,nm0578441,nm0814068,nm0081748,nm0606806,nm0639787,nm0432188,nm0498586,nm0743232,nm2198070,nm0743259,nm0777202,nm0380890,nm2915847,nm0377958,nm1290769,nm7410201,nm0545131,nm0655462,nm3201019,nm0001992,nm0399849,nm0000036                                                                                                                                                                                                                                                                                                                                                                                                                                                                                                                                                                                                                                                                                                                                                                                                                                                                                                                                                                                                                                                                                                                                                       \n",
       "2 nm2419908,nm1141830,nm2251709,nm2078312,nm1003809,nm0325029,nm1014203,nm1014177,nm0492953,nm1012482,nm1010971,nm0519133,nm0174585,nm0429390,nm2429218,nm2654235,nm1221904,nm0068550,nm1159577,nm0909529,nm3049540,nm0255819,nm0260547,nm0113780,nm0628248,nm0717622,nm0989904,nm1142664,nm0191612,nm1051829,nm2727176,nm4972117,nm0997483,nm0110828,nm1105215,nm3079954,nm1779986,nm2085815,nm0693044,nm0106187,nm0322325,nm0833510,nm0807006,nm0542021,nm3454108,nm0566699,nm2721275,nm4237316,nm0291507,nm0027442,nm1267575,nm1011786,nm0750422,nm1014193,nm0820121,nm1011976,nm1000132,nm1007597,nm0792404,nm1049086,nm0996693,nm1088908,nm0229890,nm0229908,nm0913330,nm0758444,nm3059609,nm0782462,nm0746169,nm0925335,nm0925388,nm0501148,nm2040174,nm0711626,nm1480454,nm0421246,nm0846520,nm0922948,nm2591020,nm0925872,nm1012917,nm9109568,nm0617002,nm0682274,nm3566933,nm0723559,nm1779949,nm0658855,nm0880986,nm1276101,nm1299367,nm0434560,nm0115032,nm1011004,nm0358462,nm2272293,nm0906799,nm0479525,nm0997301,nm3579833,nm0534951,nm1802728,nm0680460,nm2654307,nm0866801,nm2660138,nm1669530,nm0040612,nm0481805,nm1106086,nm0899533,nm2077775,nm2220634,nm1049067,nm2006443,nm0812026,nm0111576,nm0698989,nm0019706,nm0111577,nm0122417,nm0202681,nm0238898,nm0505615,nm0754581,nm0789737,nm0991335,nm0162914,nm1301702,nm3059996,nm0726721,nm1014206,nm2233247,nm0235902,nm10360337,nm1672253,nm1440687,nm1400899,nm5846217,nm0817957,nm2076865,nm9551033,nm3930118,nm0068589,nm0633202,nm0881501,nm0813960,nm0989955,nm0031021,nm0097597,nm0112601,nm0148223,nm0313072,nm0368575,nm0513851,nm0564474                                                                                                                        \n",
       "3 nm0664799,nm1923276,nm1007597,nm2419908,nm1010949,nm3049540,nm1779949,nm1779986,nm1049066,nm0680460,nm0633202,nm0790760,nm1014174,nm1299367,nm1014216,nm0045741,nm1014167,nm1011004,nm0481805,nm0909529,nm1014175,nm0106187,nm0787317,nm0655491,nm1780023,nm1011440,nm0792404,nm1010971,nm1141830,nm1400899,nm0153944,nm1014176,nm0617002,nm1014164,nm1014206,nm0429390,nm0507406,nm0925872,nm0713131,nm0108338,nm0191612,nm1042591,nm1010857,nm0632525,nm1088908,nm1892355,nm0325029,nm1250955,nm0996693,nm1104059,nm0255034,nm0110828,nm2812299,nm2663899,nm0335072,nm1045621,nm0494959,nm0711626,nm0085519,nm1250889,nm0827711,nm1142664,nm1113445,nm10285461,nm1014207,nm1715559,nm1809263,nm1012917,nm2591020,nm1276101,nm0071291,nm1049067,nm2373457,nm1030464,nm1000124,nm3113329,nm1431618,nm1051829,nm0311869,nm1089437,nm0458818,nm2040174,nm0820050,nm0375294,nm0913702,nm1049086,nm0693044,nm1284523,nm0807006,nm0455340,nm0961373,nm1140641,nm0846520,nm3143239,nm2654362,nm0162914,nm1068447,nm0820121,nm0859155,nm3729425,nm0557696,nm1114256,nm10387979,nm0229890,nm0229908,nm1676228,nm10379370,nm10400829,nm0537424,nm0839917,nm1396112,nm0812026,nm0755866,nm1011976,nm1221120,nm0816348,nm0102883,nm10632516,nm3080113,nm1207587,nm1829409,nm3579833,nm3074085,nm0068589,nm0032541,nm0746169,nm0925335,nm0925388,nm0343403,nm13585272,nm13736695,nm9109568,nm0143676,nm2006443,nm13806846,nm1115376,nm0938170,nm0813960,nm0817957,nm1221812,nm5846217,nm0498979,nm0291507,nm1012482,nm13608060,nm0122935,nm0690069,nm11518427,nm13402748,nm0989245,nm0591784,nm0434560,nm1020908,nm1989448,nm3068470,nm1047700,nm1116779,nm0368575,nm1113709,nm1113285,nm1430271,nm1093685,nm0085588,nm0390808,nm0677651,nm1975295,nm0911421"
      ]
     },
     "metadata": {},
     "output_type": "display_data"
    },
    {
     "data": {
      "text/html": [
       "<table class=\"dataframe\">\n",
       "<caption>A data.table: 3 × 6</caption>\n",
       "<thead>\n",
       "\t<tr><th scope=col>tconst</th><th scope=col>ordering</th><th scope=col>nconst</th><th scope=col>category</th><th scope=col>job</th><th scope=col>characters</th></tr>\n",
       "\t<tr><th scope=col>&lt;chr&gt;</th><th scope=col>&lt;int&gt;</th><th scope=col>&lt;chr&gt;</th><th scope=col>&lt;chr&gt;</th><th scope=col>&lt;chr&gt;</th><th scope=col>&lt;chr&gt;</th></tr>\n",
       "</thead>\n",
       "<tbody>\n",
       "\t<tr><td>tt0043224</td><td>10</td><td>nm0461246</td><td>self</td><td>NA</td><td>[\"Self - Commercials\",\"Commercials\",\"Blonde Nurse-Hospital Sketch\"]</td></tr>\n",
       "\t<tr><td>tt0043224</td><td> 1</td><td>nm0804026</td><td>self</td><td>NA</td><td>[\"Self - Host\",\"Clem Kadiddlehopper\",\"Freddie the Freeloader\"]     </td></tr>\n",
       "\t<tr><td>tt0043224</td><td> 2</td><td>nm2582914</td><td>self</td><td>NA</td><td>[\"Themselves\",\"Orchestra\",\"Singers\"]                               </td></tr>\n",
       "</tbody>\n",
       "</table>\n"
      ],
      "text/latex": [
       "A data.table: 3 × 6\n",
       "\\begin{tabular}{llllll}\n",
       " tconst & ordering & nconst & category & job & characters\\\\\n",
       " <chr> & <int> & <chr> & <chr> & <chr> & <chr>\\\\\n",
       "\\hline\n",
       "\t tt0043224 & 10 & nm0461246 & self & NA & {[}\"Self - Commercials\",\"Commercials\",\"Blonde Nurse-Hospital Sketch\"{]}\\\\\n",
       "\t tt0043224 &  1 & nm0804026 & self & NA & {[}\"Self - Host\",\"Clem Kadiddlehopper\",\"Freddie the Freeloader\"{]}     \\\\\n",
       "\t tt0043224 &  2 & nm2582914 & self & NA & {[}\"Themselves\",\"Orchestra\",\"Singers\"{]}                               \\\\\n",
       "\\end{tabular}\n"
      ],
      "text/markdown": [
       "\n",
       "A data.table: 3 × 6\n",
       "\n",
       "| tconst &lt;chr&gt; | ordering &lt;int&gt; | nconst &lt;chr&gt; | category &lt;chr&gt; | job &lt;chr&gt; | characters &lt;chr&gt; |\n",
       "|---|---|---|---|---|---|\n",
       "| tt0043224 | 10 | nm0461246 | self | NA | [\"Self - Commercials\",\"Commercials\",\"Blonde Nurse-Hospital Sketch\"] |\n",
       "| tt0043224 |  1 | nm0804026 | self | NA | [\"Self - Host\",\"Clem Kadiddlehopper\",\"Freddie the Freeloader\"]      |\n",
       "| tt0043224 |  2 | nm2582914 | self | NA | [\"Themselves\",\"Orchestra\",\"Singers\"]                                |\n",
       "\n"
      ],
      "text/plain": [
       "  tconst    ordering nconst    category job\n",
       "1 tt0043224 10       nm0461246 self     NA \n",
       "2 tt0043224  1       nm0804026 self     NA \n",
       "3 tt0043224  2       nm2582914 self     NA \n",
       "  characters                                                         \n",
       "1 [\"Self - Commercials\",\"Commercials\",\"Blonde Nurse-Hospital Sketch\"]\n",
       "2 [\"Self - Host\",\"Clem Kadiddlehopper\",\"Freddie the Freeloader\"]     \n",
       "3 [\"Themselves\",\"Orchestra\",\"Singers\"]                               "
      ]
     },
     "metadata": {},
     "output_type": "display_data"
    },
    {
     "data": {
      "text/html": [
       "<table class=\"dataframe\">\n",
       "<caption>A data.table: 3 × 4</caption>\n",
       "<thead>\n",
       "\t<tr><th scope=col>tconst</th><th scope=col>parentTconst</th><th scope=col>seasonNumber</th><th scope=col>episodeNumber</th></tr>\n",
       "\t<tr><th scope=col>&lt;chr&gt;</th><th scope=col>&lt;chr&gt;</th><th scope=col>&lt;chr&gt;</th><th scope=col>&lt;chr&gt;</th></tr>\n",
       "</thead>\n",
       "<tbody>\n",
       "\t<tr><td>tt0182919</td><td>tt1466074</td><td>13</td><td>4</td></tr>\n",
       "\t<tr><td>tt0187660</td><td>tt0086779</td><td>10</td><td>1</td></tr>\n",
       "\t<tr><td>tt0199398</td><td>tt0920489</td><td>2 </td><td>2</td></tr>\n",
       "</tbody>\n",
       "</table>\n"
      ],
      "text/latex": [
       "A data.table: 3 × 4\n",
       "\\begin{tabular}{llll}\n",
       " tconst & parentTconst & seasonNumber & episodeNumber\\\\\n",
       " <chr> & <chr> & <chr> & <chr>\\\\\n",
       "\\hline\n",
       "\t tt0182919 & tt1466074 & 13 & 4\\\\\n",
       "\t tt0187660 & tt0086779 & 10 & 1\\\\\n",
       "\t tt0199398 & tt0920489 & 2  & 2\\\\\n",
       "\\end{tabular}\n"
      ],
      "text/markdown": [
       "\n",
       "A data.table: 3 × 4\n",
       "\n",
       "| tconst &lt;chr&gt; | parentTconst &lt;chr&gt; | seasonNumber &lt;chr&gt; | episodeNumber &lt;chr&gt; |\n",
       "|---|---|---|---|\n",
       "| tt0182919 | tt1466074 | 13 | 4 |\n",
       "| tt0187660 | tt0086779 | 10 | 1 |\n",
       "| tt0199398 | tt0920489 | 2  | 2 |\n",
       "\n"
      ],
      "text/plain": [
       "  tconst    parentTconst seasonNumber episodeNumber\n",
       "1 tt0182919 tt1466074    13           4            \n",
       "2 tt0187660 tt0086779    10           1            \n",
       "3 tt0199398 tt0920489    2            2            "
      ]
     },
     "metadata": {},
     "output_type": "display_data"
    },
    {
     "data": {
      "text/html": [
       "<table class=\"dataframe\">\n",
       "<caption>A data.table: 3 × 6</caption>\n",
       "<thead>\n",
       "\t<tr><th scope=col>nconst</th><th scope=col>primaryName</th><th scope=col>birthYear</th><th scope=col>deathYear</th><th scope=col>primaryProfession</th><th scope=col>knownForTitles</th></tr>\n",
       "\t<tr><th scope=col>&lt;chr&gt;</th><th scope=col>&lt;chr&gt;</th><th scope=col>&lt;int&gt;</th><th scope=col>&lt;int&gt;</th><th scope=col>&lt;chr&gt;</th><th scope=col>&lt;chr&gt;</th></tr>\n",
       "</thead>\n",
       "<tbody>\n",
       "\t<tr><td>nm0000001</td><td>Fred Astaire   </td><td>1899</td><td>1987</td><td>soundtrack,actor,miscellaneous     </td><td>tt0050419,tt0053137,tt0031983,tt0072308</td></tr>\n",
       "\t<tr><td>nm0000002</td><td>Lauren Bacall  </td><td>1924</td><td>2014</td><td>actress,soundtrack                 </td><td>tt0117057,tt0037382,tt0038355,tt0071877</td></tr>\n",
       "\t<tr><td>nm0000003</td><td>Brigitte Bardot</td><td>1934</td><td>  NA</td><td>actress,soundtrack,music_department</td><td>tt0056404,tt0049189,tt0054452,tt0057345</td></tr>\n",
       "</tbody>\n",
       "</table>\n"
      ],
      "text/latex": [
       "A data.table: 3 × 6\n",
       "\\begin{tabular}{llllll}\n",
       " nconst & primaryName & birthYear & deathYear & primaryProfession & knownForTitles\\\\\n",
       " <chr> & <chr> & <int> & <int> & <chr> & <chr>\\\\\n",
       "\\hline\n",
       "\t nm0000001 & Fred Astaire    & 1899 & 1987 & soundtrack,actor,miscellaneous      & tt0050419,tt0053137,tt0031983,tt0072308\\\\\n",
       "\t nm0000002 & Lauren Bacall   & 1924 & 2014 & actress,soundtrack                  & tt0117057,tt0037382,tt0038355,tt0071877\\\\\n",
       "\t nm0000003 & Brigitte Bardot & 1934 &   NA & actress,soundtrack,music\\_department & tt0056404,tt0049189,tt0054452,tt0057345\\\\\n",
       "\\end{tabular}\n"
      ],
      "text/markdown": [
       "\n",
       "A data.table: 3 × 6\n",
       "\n",
       "| nconst &lt;chr&gt; | primaryName &lt;chr&gt; | birthYear &lt;int&gt; | deathYear &lt;int&gt; | primaryProfession &lt;chr&gt; | knownForTitles &lt;chr&gt; |\n",
       "|---|---|---|---|---|---|\n",
       "| nm0000001 | Fred Astaire    | 1899 | 1987 | soundtrack,actor,miscellaneous      | tt0050419,tt0053137,tt0031983,tt0072308 |\n",
       "| nm0000002 | Lauren Bacall   | 1924 | 2014 | actress,soundtrack                  | tt0117057,tt0037382,tt0038355,tt0071877 |\n",
       "| nm0000003 | Brigitte Bardot | 1934 |   NA | actress,soundtrack,music_department | tt0056404,tt0049189,tt0054452,tt0057345 |\n",
       "\n"
      ],
      "text/plain": [
       "  nconst    primaryName     birthYear deathYear\n",
       "1 nm0000001 Fred Astaire    1899      1987     \n",
       "2 nm0000002 Lauren Bacall   1924      2014     \n",
       "3 nm0000003 Brigitte Bardot 1934        NA     \n",
       "  primaryProfession                   knownForTitles                         \n",
       "1 soundtrack,actor,miscellaneous      tt0050419,tt0053137,tt0031983,tt0072308\n",
       "2 actress,soundtrack                  tt0117057,tt0037382,tt0038355,tt0071877\n",
       "3 actress,soundtrack,music_department tt0056404,tt0049189,tt0054452,tt0057345"
      ]
     },
     "metadata": {},
     "output_type": "display_data"
    }
   ],
   "source": [
    "# titles and their ratings\n",
    "head(titles, 3)\n",
    "# the names of the titles in different languages, probably not relevant\n",
    "head(aka, 3)\n",
    "# list of writers and directors for each movie\n",
    "head(crew, 3)\n",
    "# list of roles of an actor in the given movie\n",
    "head(principals, 3)\n",
    "# table tying episodes to its tvSeries\n",
    "head(ep_series, 3)\n",
    "# names of the actors with the titles they starred in\n",
    "head(names, 3)"
   ]
  },
  {
   "cell_type": "code",
   "execution_count": 118,
   "id": "df6a0e8f-e0e1-42eb-9f68-3689a55b4af3",
   "metadata": {},
   "outputs": [
    {
     "data": {
      "text/html": [
       "<table class=\"dataframe\">\n",
       "<caption>A data.table: 3 × 4</caption>\n",
       "<thead>\n",
       "\t<tr><th scope=col>tconst</th><th scope=col>parentTconst</th><th scope=col>seasonNumber</th><th scope=col>episodeNumber</th></tr>\n",
       "\t<tr><th scope=col>&lt;chr&gt;</th><th scope=col>&lt;chr&gt;</th><th scope=col>&lt;chr&gt;</th><th scope=col>&lt;chr&gt;</th></tr>\n",
       "</thead>\n",
       "<tbody>\n",
       "\t<tr><td>tt0182919</td><td>tt1466074</td><td>13</td><td>4</td></tr>\n",
       "\t<tr><td>tt0187660</td><td>tt0086779</td><td>10</td><td>1</td></tr>\n",
       "\t<tr><td>tt0199398</td><td>tt0920489</td><td>2 </td><td>2</td></tr>\n",
       "</tbody>\n",
       "</table>\n"
      ],
      "text/latex": [
       "A data.table: 3 × 4\n",
       "\\begin{tabular}{llll}\n",
       " tconst & parentTconst & seasonNumber & episodeNumber\\\\\n",
       " <chr> & <chr> & <chr> & <chr>\\\\\n",
       "\\hline\n",
       "\t tt0182919 & tt1466074 & 13 & 4\\\\\n",
       "\t tt0187660 & tt0086779 & 10 & 1\\\\\n",
       "\t tt0199398 & tt0920489 & 2  & 2\\\\\n",
       "\\end{tabular}\n"
      ],
      "text/markdown": [
       "\n",
       "A data.table: 3 × 4\n",
       "\n",
       "| tconst &lt;chr&gt; | parentTconst &lt;chr&gt; | seasonNumber &lt;chr&gt; | episodeNumber &lt;chr&gt; |\n",
       "|---|---|---|---|\n",
       "| tt0182919 | tt1466074 | 13 | 4 |\n",
       "| tt0187660 | tt0086779 | 10 | 1 |\n",
       "| tt0199398 | tt0920489 | 2  | 2 |\n",
       "\n"
      ],
      "text/plain": [
       "  tconst    parentTconst seasonNumber episodeNumber\n",
       "1 tt0182919 tt1466074    13           4            \n",
       "2 tt0187660 tt0086779    10           1            \n",
       "3 tt0199398 tt0920489    2            2            "
      ]
     },
     "metadata": {},
     "output_type": "display_data"
    },
    {
     "data": {
      "text/html": [
       "<table class=\"dataframe\">\n",
       "<caption>A data.table: 1 × 1</caption>\n",
       "<thead>\n",
       "\t<tr><th scope=col>n</th></tr>\n",
       "\t<tr><th scope=col>&lt;int&gt;</th></tr>\n",
       "</thead>\n",
       "<tbody>\n",
       "\t<tr><td>262703</td></tr>\n",
       "</tbody>\n",
       "</table>\n"
      ],
      "text/latex": [
       "A data.table: 1 × 1\n",
       "\\begin{tabular}{l}\n",
       " n\\\\\n",
       " <int>\\\\\n",
       "\\hline\n",
       "\t 262703\\\\\n",
       "\\end{tabular}\n"
      ],
      "text/markdown": [
       "\n",
       "A data.table: 1 × 1\n",
       "\n",
       "| n &lt;int&gt; |\n",
       "|---|\n",
       "| 262703 |\n",
       "\n"
      ],
      "text/plain": [
       "  n     \n",
       "1 262703"
      ]
     },
     "metadata": {},
     "output_type": "display_data"
    }
   ],
   "source": [
    "head(ep_series, 3)\n",
    "count(ep_series)"
   ]
  },
  {
   "cell_type": "markdown",
   "id": "781c6b03-9716-4308-9282-aab7324a7ce1",
   "metadata": {},
   "source": [
    "## Further filtering"
   ]
  },
  {
   "cell_type": "markdown",
   "id": "0f6894d7-df32-48a2-84a3-45cd8cfac556",
   "metadata": {
    "tags": []
   },
   "source": [
    "### Series episodes split"
   ]
  },
  {
   "cell_type": "code",
   "execution_count": 119,
   "id": "c3a9a6da-c1fe-470f-831e-3c47a0196a52",
   "metadata": {},
   "outputs": [
    {
     "data": {
      "text/html": [
       "<table class=\"dataframe\">\n",
       "<caption>A data.table: 1 × 1</caption>\n",
       "<thead>\n",
       "\t<tr><th scope=col>n</th></tr>\n",
       "\t<tr><th scope=col>&lt;int&gt;</th></tr>\n",
       "</thead>\n",
       "<tbody>\n",
       "\t<tr><td>77090</td></tr>\n",
       "</tbody>\n",
       "</table>\n"
      ],
      "text/latex": [
       "A data.table: 1 × 1\n",
       "\\begin{tabular}{l}\n",
       " n\\\\\n",
       " <int>\\\\\n",
       "\\hline\n",
       "\t 77090\\\\\n",
       "\\end{tabular}\n"
      ],
      "text/markdown": [
       "\n",
       "A data.table: 1 × 1\n",
       "\n",
       "| n &lt;int&gt; |\n",
       "|---|\n",
       "| 77090 |\n",
       "\n"
      ],
      "text/plain": [
       "  n    \n",
       "1 77090"
      ]
     },
     "metadata": {},
     "output_type": "display_data"
    },
    {
     "data": {
      "text/html": [
       "<table class=\"dataframe\">\n",
       "<caption>A data.table: 1 × 1</caption>\n",
       "<thead>\n",
       "\t<tr><th scope=col>n</th></tr>\n",
       "\t<tr><th scope=col>&lt;int&gt;</th></tr>\n",
       "</thead>\n",
       "<tbody>\n",
       "\t<tr><td>459147</td></tr>\n",
       "</tbody>\n",
       "</table>\n"
      ],
      "text/latex": [
       "A data.table: 1 × 1\n",
       "\\begin{tabular}{l}\n",
       " n\\\\\n",
       " <int>\\\\\n",
       "\\hline\n",
       "\t 459147\\\\\n",
       "\\end{tabular}\n"
      ],
      "text/markdown": [
       "\n",
       "A data.table: 1 × 1\n",
       "\n",
       "| n &lt;int&gt; |\n",
       "|---|\n",
       "| 459147 |\n",
       "\n"
      ],
      "text/plain": [
       "  n     \n",
       "1 459147"
      ]
     },
     "metadata": {},
     "output_type": "display_data"
    }
   ],
   "source": [
    "series <- titles %>% filter(titleType != 'tvEpisode')\n",
    "episodes <- titles %>% filter(titleType == 'tvEpisode')\n",
    "count(series)\n",
    "count(episodes)"
   ]
  },
  {
   "cell_type": "markdown",
   "id": "b83513c2-4473-4519-997d-0b0192d9e852",
   "metadata": {
    "tags": []
   },
   "source": [
    "### Filter tvSeries under 1000 reviews and their related elements"
   ]
  },
  {
   "cell_type": "code",
   "execution_count": 120,
   "id": "c5e8544a-7c1a-48a3-87b9-859fbb740bff",
   "metadata": {},
   "outputs": [],
   "source": [
    "series <- series %>% filter(numVotes >= 1000)"
   ]
  },
  {
   "cell_type": "code",
   "execution_count": 121,
   "id": "d4b58bf7-3079-4fcf-8bc5-4241a0f39677",
   "metadata": {},
   "outputs": [],
   "source": [
    "ep_series <- ep_series %>% filter(parentTconst %in% series$tconst)"
   ]
  },
  {
   "cell_type": "code",
   "execution_count": 122,
   "id": "fff83f49-a19a-4023-827d-36727ce42115",
   "metadata": {},
   "outputs": [],
   "source": [
    "episodes <- episodes %>% filter(tconst %in% ep_series$tconst)"
   ]
  },
  {
   "cell_type": "code",
   "execution_count": 123,
   "id": "8404e871-d720-4fc4-ab24-241290321897",
   "metadata": {},
   "outputs": [],
   "source": [
    "principals <- principals %>% filter(tconst %in% series$tconst | tconst %in% episodes$tconst)\n",
    "names_filtered <- data_names %>% filter(nconst %in% principals$nconst)\n",
    "aka_filtered <- data_aka %>% filter(titleId %in% series$tconst | titleId %in% episodes$tconst)\n",
    "crew_filtered <- data_crew %>% filter(tconst %in% series$tconst | tconst %in% episodes$tconst)"
   ]
  },
  {
   "cell_type": "markdown",
   "id": "8d0f500f-4ce6-428f-b06f-6f9c0ebdfc76",
   "metadata": {},
   "source": [
    "### Data transformations"
   ]
  },
  {
   "cell_type": "code",
   "execution_count": 124,
   "id": "ed188913-338b-4267-8dcc-0ae8ea2a7fd9",
   "metadata": {},
   "outputs": [
    {
     "data": {
      "text/html": [
       "<table class=\"dataframe\">\n",
       "<caption>A data.table: 6 × 10</caption>\n",
       "<thead>\n",
       "\t<tr><th scope=col>tconst</th><th scope=col>titleType</th><th scope=col>primaryTitle</th><th scope=col>originalTitle</th><th scope=col>isAdult</th><th scope=col>runtimeMinutes</th><th scope=col>genres</th><th scope=col>year</th><th scope=col>averageRating</th><th scope=col>numVotes</th></tr>\n",
       "\t<tr><th scope=col>&lt;chr&gt;</th><th scope=col>&lt;fct&gt;</th><th scope=col>&lt;chr&gt;</th><th scope=col>&lt;chr&gt;</th><th scope=col>&lt;lgl&gt;</th><th scope=col>&lt;int&gt;</th><th scope=col>&lt;list&gt;</th><th scope=col>&lt;int&gt;</th><th scope=col>&lt;dbl&gt;</th><th scope=col>&lt;int&gt;</th></tr>\n",
       "</thead>\n",
       "<tbody>\n",
       "\t<tr><td>tt0182919</td><td>tvEpisode</td><td>Murder with Too Many Notes</td><td>Murder with Too Many Notes</td><td>FALSE</td><td> 98</td><td>Crime  , Drama  , Mystery</td><td>2000</td><td>6.7</td><td>1666</td></tr>\n",
       "\t<tr><td>tt0187660</td><td>tvEpisode</td><td>The Octopus 10            </td><td>La piovra 10              </td><td>FALSE</td><td>102</td><td>Crime  , Drama  , Mystery</td><td>2001</td><td>7.3</td><td> 295</td></tr>\n",
       "\t<tr><td>tt0199398</td><td>tvEpisode</td><td>The Terracotta Dog        </td><td>Il cane di terracotta     </td><td>FALSE</td><td>102</td><td>Crime  , Drama  , Mystery</td><td>2000</td><td>7.6</td><td> 281</td></tr>\n",
       "\t<tr><td>tt0199536</td><td>tvEpisode</td><td>The Shape of Water        </td><td>La forma dell'acqua       </td><td>FALSE</td><td>112</td><td>Crime  , Drama  , Mystery</td><td>2000</td><td>7.5</td><td> 386</td></tr>\n",
       "\t<tr><td>tt0221289</td><td>tvEpisode</td><td>Pilot                     </td><td>Pilot                     </td><td>FALSE</td><td>120</td><td>Action, Comedy, Sci-Fi</td><td>2000</td><td>7.6</td><td> 468</td></tr>\n",
       "\t<tr><td>tt0235326</td><td>tvEpisode</td><td>Pilot                     </td><td>Pilot                     </td><td>FALSE</td><td> 87</td><td>Action , Drama  , Mystery</td><td>2000</td><td>7.3</td><td>2427</td></tr>\n",
       "</tbody>\n",
       "</table>\n"
      ],
      "text/latex": [
       "A data.table: 6 × 10\n",
       "\\begin{tabular}{llllllllll}\n",
       " tconst & titleType & primaryTitle & originalTitle & isAdult & runtimeMinutes & genres & year & averageRating & numVotes\\\\\n",
       " <chr> & <fct> & <chr> & <chr> & <lgl> & <int> & <list> & <int> & <dbl> & <int>\\\\\n",
       "\\hline\n",
       "\t tt0182919 & tvEpisode & Murder with Too Many Notes & Murder with Too Many Notes & FALSE &  98 & Crime  , Drama  , Mystery & 2000 & 6.7 & 1666\\\\\n",
       "\t tt0187660 & tvEpisode & The Octopus 10             & La piovra 10               & FALSE & 102 & Crime  , Drama  , Mystery & 2001 & 7.3 &  295\\\\\n",
       "\t tt0199398 & tvEpisode & The Terracotta Dog         & Il cane di terracotta      & FALSE & 102 & Crime  , Drama  , Mystery & 2000 & 7.6 &  281\\\\\n",
       "\t tt0199536 & tvEpisode & The Shape of Water         & La forma dell'acqua        & FALSE & 112 & Crime  , Drama  , Mystery & 2000 & 7.5 &  386\\\\\n",
       "\t tt0221289 & tvEpisode & Pilot                      & Pilot                      & FALSE & 120 & Action, Comedy, Sci-Fi & 2000 & 7.6 &  468\\\\\n",
       "\t tt0235326 & tvEpisode & Pilot                      & Pilot                      & FALSE &  87 & Action , Drama  , Mystery & 2000 & 7.3 & 2427\\\\\n",
       "\\end{tabular}\n"
      ],
      "text/markdown": [
       "\n",
       "A data.table: 6 × 10\n",
       "\n",
       "| tconst &lt;chr&gt; | titleType &lt;fct&gt; | primaryTitle &lt;chr&gt; | originalTitle &lt;chr&gt; | isAdult &lt;lgl&gt; | runtimeMinutes &lt;int&gt; | genres &lt;list&gt; | year &lt;int&gt; | averageRating &lt;dbl&gt; | numVotes &lt;int&gt; |\n",
       "|---|---|---|---|---|---|---|---|---|---|\n",
       "| tt0182919 | tvEpisode | Murder with Too Many Notes | Murder with Too Many Notes | FALSE |  98 | Crime  , Drama  , Mystery | 2000 | 6.7 | 1666 |\n",
       "| tt0187660 | tvEpisode | The Octopus 10             | La piovra 10               | FALSE | 102 | Crime  , Drama  , Mystery | 2001 | 7.3 |  295 |\n",
       "| tt0199398 | tvEpisode | The Terracotta Dog         | Il cane di terracotta      | FALSE | 102 | Crime  , Drama  , Mystery | 2000 | 7.6 |  281 |\n",
       "| tt0199536 | tvEpisode | The Shape of Water         | La forma dell'acqua        | FALSE | 112 | Crime  , Drama  , Mystery | 2000 | 7.5 |  386 |\n",
       "| tt0221289 | tvEpisode | Pilot                      | Pilot                      | FALSE | 120 | Action, Comedy, Sci-Fi | 2000 | 7.6 |  468 |\n",
       "| tt0235326 | tvEpisode | Pilot                      | Pilot                      | FALSE |  87 | Action , Drama  , Mystery | 2000 | 7.3 | 2427 |\n",
       "\n"
      ],
      "text/plain": [
       "  tconst    titleType primaryTitle               originalTitle             \n",
       "1 tt0182919 tvEpisode Murder with Too Many Notes Murder with Too Many Notes\n",
       "2 tt0187660 tvEpisode The Octopus 10             La piovra 10              \n",
       "3 tt0199398 tvEpisode The Terracotta Dog         Il cane di terracotta     \n",
       "4 tt0199536 tvEpisode The Shape of Water         La forma dell'acqua       \n",
       "5 tt0221289 tvEpisode Pilot                      Pilot                     \n",
       "6 tt0235326 tvEpisode Pilot                      Pilot                     \n",
       "  isAdult runtimeMinutes genres                    year averageRating numVotes\n",
       "1 FALSE    98            Crime  , Drama  , Mystery 2000 6.7           1666    \n",
       "2 FALSE   102            Crime  , Drama  , Mystery 2001 7.3            295    \n",
       "3 FALSE   102            Crime  , Drama  , Mystery 2000 7.6            281    \n",
       "4 FALSE   112            Crime  , Drama  , Mystery 2000 7.5            386    \n",
       "5 FALSE   120            Action, Comedy, Sci-Fi    2000 7.6            468    \n",
       "6 FALSE    87            Action , Drama  , Mystery 2000 7.3           2427    "
      ]
     },
     "metadata": {},
     "output_type": "display_data"
    }
   ],
   "source": [
    "# series and episodes, - split genres, type -> factor\n",
    "series$titleType = as.factor(series$titleType)\n",
    "series <- series %>% mutate(genres = strsplit(genres, split=','))\n",
    "episodes$titleType = as.factor(episodes$titleType)\n",
    "episodes <- episodes %>% mutate(genres = strsplit(genres, split=','))\n",
    "head(episodes)"
   ]
  },
  {
   "cell_type": "code",
   "execution_count": 125,
   "id": "1242241a-596e-48b6-b7e0-d3dd161f1eaa",
   "metadata": {},
   "outputs": [
    {
     "data": {
      "text/html": [
       "<table class=\"dataframe\">\n",
       "<caption>A data.table: 3 × 3</caption>\n",
       "<thead>\n",
       "\t<tr><th scope=col>tconst</th><th scope=col>directors</th><th scope=col>writers</th></tr>\n",
       "\t<tr><th scope=col>&lt;chr&gt;</th><th scope=col>&lt;list&gt;</th><th scope=col>&lt;list&gt;</th></tr>\n",
       "</thead>\n",
       "<tbody>\n",
       "\t<tr><td>tt0043224</td><td>nm0477438, nm0054846, nm1096821, nm0705228, nm0120437, nm0076971, nm0387695, nm0232902, nm1097266, nm1637827</td><td>nm0804026, nm0639495, nm0680226, nm0777442, nm0706417, nm0722289, nm1640023, nm0338876, nm0326239, nm0777129, nm0414633, nm0288997, nm1520544, nm0799745, nm0615080, nm0293159, nm0771627, nm0918826, nm0410536, nm2204703, nm0397170, nm0917200, nm0594174, nm0917026, nm0566588, nm0288816, nm3123274, nm0051332, nm2964448, nm0237341, nm0329085, nm1034110, nm3110698, nm0516015, nm0057677, nm0578441, nm0814068, nm0081748, nm0606806, nm0639787, nm0432188, nm0498586, nm0743232, nm2198070, nm0743259, nm0777202, nm0380890, nm2915847, nm0377958, nm1290769, nm7410201, nm0545131, nm0655462, nm3201019, nm0001992, nm0399849, nm0000036</td></tr>\n",
       "\t<tr><td>tt0044265</td><td>nm0004098, nm0179413, nm1597578, nm1335675, nm0915727, nm0581589, nm0568114, nm0213789, nm0281224, nm0332752, nm0884037, nm0297489, nm0109586, nm0331135, nm1513459, nm0778479, nm0224683, nm0159012, nm0100841, nm0250864, nm2681961, nm1273119, nm0923396, nm0369858, nm2036776, nm1334802, nm1603516, nm1314913, nm1343326, nm0925870, nm0834419, nm2552851, nm3174789, nm0963061, nm0571983, nm0322900</td><td>nm2419908 , nm1141830 , nm2251709 , nm2078312 , nm1003809 , nm0325029 , nm1014203 , nm1014177 , nm0492953 , nm1012482 , nm1010971 , nm0519133 , nm0174585 , nm0429390 , nm2429218 , nm2654235 , nm1221904 , nm0068550 , nm1159577 , nm0909529 , nm3049540 , nm0255819 , nm0260547 , nm0113780 , nm0628248 , nm0717622 , nm0989904 , nm1142664 , nm0191612 , nm1051829 , nm2727176 , nm4972117 , nm0997483 , nm0110828 , nm1105215 , nm3079954 , nm1779986 , nm2085815 , nm0693044 , nm0106187 , nm0322325 , nm0833510 , nm0807006 , nm0542021 , nm3454108 , nm0566699 , nm2721275 , nm4237316 , nm0291507 , nm0027442 , nm1267575 , nm1011786 , nm0750422 , nm1014193 , nm0820121 , nm1011976 , nm1000132 , nm1007597 , nm0792404 , nm1049086 , nm0996693 , nm1088908 , nm0229890 , nm0229908 , nm0913330 , nm0758444 , nm3059609 , nm0782462 , nm0746169 , nm0925335 , nm0925388 , nm0501148 , nm2040174 , nm0711626 , nm1480454 , nm0421246 , nm0846520 , nm0922948 , nm2591020 , nm0925872 , nm1012917 , nm9109568 , nm0617002 , nm0682274 , nm3566933 , nm0723559 , nm1779949 , nm0658855 , nm0880986 , nm1276101 , nm1299367 , nm0434560 , nm0115032 , nm1011004 , nm0358462 , nm2272293 , nm0906799 , nm0479525 , nm0997301 , nm3579833 , nm0534951 , nm1802728 , nm0680460 , nm2654307 , nm0866801 , nm2660138 , nm1669530 , nm0040612 , nm0481805 , nm1106086 , nm0899533 , nm2077775 , nm2220634 , nm1049067 , nm2006443 , nm0812026 , nm0111576 , nm0698989 , nm0019706 , nm0111577 , nm0122417 , nm0202681 , nm0238898 , nm0505615 , nm0754581 , nm0789737 , nm0991335 , nm0162914 , nm1301702 , nm3059996 , nm0726721 , nm1014206 , nm2233247 , nm0235902 , nm10360337, nm1672253 , nm1440687 , nm1400899 , nm5846217 , nm0817957 , nm2076865 , nm9551033 , nm3930118 , nm0068589 , nm0633202 , nm0881501 , nm0813960 , nm0989955 , nm0031021 , nm0097597 , nm0112601 , nm0148223 , nm0313072 , nm0368575 , nm0513851 , nm0564474 </td></tr>\n",
       "\t<tr><td>tt0048845</td><td>nm0332752, nm0824738, nm0100841, nm0179413, nm0251732, nm0887790, nm4029369, nm0245698, nm0777413, nm0114113, nm0157553, nm0384316, nm0906004, nm0041715, nm0219989, nm0242409, nm1681063, nm1212523, nm0856388, nm0004098, nm0594204, nm0046490, nm1408290, nm0446060, nm0483582, nm0357800, nm0639479, nm0581589, nm2483215, nm0213789, nm0017875, nm0802986, nm0295925, nm1656173, nm0884037, nm1032520, nm0591523, nm1010949, nm0923396, nm0672625, nm0867723, nm1603516, nm0109586, nm0571983, nm0677210, nm0139400, nm0656440, nm0125226, nm0672627, nm0641266, nm0723593, nm0963061</td><td>nm0664799 , nm1923276 , nm1007597 , nm2419908 , nm1010949 , nm3049540 , nm1779949 , nm1779986 , nm1049066 , nm0680460 , nm0633202 , nm0790760 , nm1014174 , nm1299367 , nm1014216 , nm0045741 , nm1014167 , nm1011004 , nm0481805 , nm0909529 , nm1014175 , nm0106187 , nm0787317 , nm0655491 , nm1780023 , nm1011440 , nm0792404 , nm1010971 , nm1141830 , nm1400899 , nm0153944 , nm1014176 , nm0617002 , nm1014164 , nm1014206 , nm0429390 , nm0507406 , nm0925872 , nm0713131 , nm0108338 , nm0191612 , nm1042591 , nm1010857 , nm0632525 , nm1088908 , nm1892355 , nm0325029 , nm1250955 , nm0996693 , nm1104059 , nm0255034 , nm0110828 , nm2812299 , nm2663899 , nm0335072 , nm1045621 , nm0494959 , nm0711626 , nm0085519 , nm1250889 , nm0827711 , nm1142664 , nm1113445 , nm10285461, nm1014207 , nm1715559 , nm1809263 , nm1012917 , nm2591020 , nm1276101 , nm0071291 , nm1049067 , nm2373457 , nm1030464 , nm1000124 , nm3113329 , nm1431618 , nm1051829 , nm0311869 , nm1089437 , nm0458818 , nm2040174 , nm0820050 , nm0375294 , nm0913702 , nm1049086 , nm0693044 , nm1284523 , nm0807006 , nm0455340 , nm0961373 , nm1140641 , nm0846520 , nm3143239 , nm2654362 , nm0162914 , nm1068447 , nm0820121 , nm0859155 , nm3729425 , nm0557696 , nm1114256 , nm10387979, nm0229890 , nm0229908 , nm1676228 , nm10379370, nm10400829, nm0537424 , nm0839917 , nm1396112 , nm0812026 , nm0755866 , nm1011976 , nm1221120 , nm0816348 , nm0102883 , nm10632516, nm3080113 , nm1207587 , nm1829409 , nm3579833 , nm3074085 , nm0068589 , nm0032541 , nm0746169 , nm0925335 , nm0925388 , nm0343403 , nm13585272, nm13736695, nm9109568 , nm0143676 , nm2006443 , nm13806846, nm1115376 , nm0938170 , nm0813960 , nm0817957 , nm1221812 , nm5846217 , nm0498979 , nm0291507 , nm1012482 , nm13608060, nm0122935 , nm0690069 , nm11518427, nm13402748, nm0989245 , nm0591784 , nm0434560 , nm1020908 , nm1989448 , nm3068470 , nm1047700 , nm1116779 , nm0368575 , nm1113709 , nm1113285 , nm1430271 , nm1093685 , nm0085588 , nm0390808 , nm0677651 , nm1975295 , nm0911421 </td></tr>\n",
       "</tbody>\n",
       "</table>\n"
      ],
      "text/latex": [
       "A data.table: 3 × 3\n",
       "\\begin{tabular}{lll}\n",
       " tconst & directors & writers\\\\\n",
       " <chr> & <list> & <list>\\\\\n",
       "\\hline\n",
       "\t tt0043224 & nm0477438, nm0054846, nm1096821, nm0705228, nm0120437, nm0076971, nm0387695, nm0232902, nm1097266, nm1637827 & nm0804026, nm0639495, nm0680226, nm0777442, nm0706417, nm0722289, nm1640023, nm0338876, nm0326239, nm0777129, nm0414633, nm0288997, nm1520544, nm0799745, nm0615080, nm0293159, nm0771627, nm0918826, nm0410536, nm2204703, nm0397170, nm0917200, nm0594174, nm0917026, nm0566588, nm0288816, nm3123274, nm0051332, nm2964448, nm0237341, nm0329085, nm1034110, nm3110698, nm0516015, nm0057677, nm0578441, nm0814068, nm0081748, nm0606806, nm0639787, nm0432188, nm0498586, nm0743232, nm2198070, nm0743259, nm0777202, nm0380890, nm2915847, nm0377958, nm1290769, nm7410201, nm0545131, nm0655462, nm3201019, nm0001992, nm0399849, nm0000036\\\\\n",
       "\t tt0044265 & nm0004098, nm0179413, nm1597578, nm1335675, nm0915727, nm0581589, nm0568114, nm0213789, nm0281224, nm0332752, nm0884037, nm0297489, nm0109586, nm0331135, nm1513459, nm0778479, nm0224683, nm0159012, nm0100841, nm0250864, nm2681961, nm1273119, nm0923396, nm0369858, nm2036776, nm1334802, nm1603516, nm1314913, nm1343326, nm0925870, nm0834419, nm2552851, nm3174789, nm0963061, nm0571983, nm0322900 & nm2419908 , nm1141830 , nm2251709 , nm2078312 , nm1003809 , nm0325029 , nm1014203 , nm1014177 , nm0492953 , nm1012482 , nm1010971 , nm0519133 , nm0174585 , nm0429390 , nm2429218 , nm2654235 , nm1221904 , nm0068550 , nm1159577 , nm0909529 , nm3049540 , nm0255819 , nm0260547 , nm0113780 , nm0628248 , nm0717622 , nm0989904 , nm1142664 , nm0191612 , nm1051829 , nm2727176 , nm4972117 , nm0997483 , nm0110828 , nm1105215 , nm3079954 , nm1779986 , nm2085815 , nm0693044 , nm0106187 , nm0322325 , nm0833510 , nm0807006 , nm0542021 , nm3454108 , nm0566699 , nm2721275 , nm4237316 , nm0291507 , nm0027442 , nm1267575 , nm1011786 , nm0750422 , nm1014193 , nm0820121 , nm1011976 , nm1000132 , nm1007597 , nm0792404 , nm1049086 , nm0996693 , nm1088908 , nm0229890 , nm0229908 , nm0913330 , nm0758444 , nm3059609 , nm0782462 , nm0746169 , nm0925335 , nm0925388 , nm0501148 , nm2040174 , nm0711626 , nm1480454 , nm0421246 , nm0846520 , nm0922948 , nm2591020 , nm0925872 , nm1012917 , nm9109568 , nm0617002 , nm0682274 , nm3566933 , nm0723559 , nm1779949 , nm0658855 , nm0880986 , nm1276101 , nm1299367 , nm0434560 , nm0115032 , nm1011004 , nm0358462 , nm2272293 , nm0906799 , nm0479525 , nm0997301 , nm3579833 , nm0534951 , nm1802728 , nm0680460 , nm2654307 , nm0866801 , nm2660138 , nm1669530 , nm0040612 , nm0481805 , nm1106086 , nm0899533 , nm2077775 , nm2220634 , nm1049067 , nm2006443 , nm0812026 , nm0111576 , nm0698989 , nm0019706 , nm0111577 , nm0122417 , nm0202681 , nm0238898 , nm0505615 , nm0754581 , nm0789737 , nm0991335 , nm0162914 , nm1301702 , nm3059996 , nm0726721 , nm1014206 , nm2233247 , nm0235902 , nm10360337, nm1672253 , nm1440687 , nm1400899 , nm5846217 , nm0817957 , nm2076865 , nm9551033 , nm3930118 , nm0068589 , nm0633202 , nm0881501 , nm0813960 , nm0989955 , nm0031021 , nm0097597 , nm0112601 , nm0148223 , nm0313072 , nm0368575 , nm0513851 , nm0564474 \\\\\n",
       "\t tt0048845 & nm0332752, nm0824738, nm0100841, nm0179413, nm0251732, nm0887790, nm4029369, nm0245698, nm0777413, nm0114113, nm0157553, nm0384316, nm0906004, nm0041715, nm0219989, nm0242409, nm1681063, nm1212523, nm0856388, nm0004098, nm0594204, nm0046490, nm1408290, nm0446060, nm0483582, nm0357800, nm0639479, nm0581589, nm2483215, nm0213789, nm0017875, nm0802986, nm0295925, nm1656173, nm0884037, nm1032520, nm0591523, nm1010949, nm0923396, nm0672625, nm0867723, nm1603516, nm0109586, nm0571983, nm0677210, nm0139400, nm0656440, nm0125226, nm0672627, nm0641266, nm0723593, nm0963061 & nm0664799 , nm1923276 , nm1007597 , nm2419908 , nm1010949 , nm3049540 , nm1779949 , nm1779986 , nm1049066 , nm0680460 , nm0633202 , nm0790760 , nm1014174 , nm1299367 , nm1014216 , nm0045741 , nm1014167 , nm1011004 , nm0481805 , nm0909529 , nm1014175 , nm0106187 , nm0787317 , nm0655491 , nm1780023 , nm1011440 , nm0792404 , nm1010971 , nm1141830 , nm1400899 , nm0153944 , nm1014176 , nm0617002 , nm1014164 , nm1014206 , nm0429390 , nm0507406 , nm0925872 , nm0713131 , nm0108338 , nm0191612 , nm1042591 , nm1010857 , nm0632525 , nm1088908 , nm1892355 , nm0325029 , nm1250955 , nm0996693 , nm1104059 , nm0255034 , nm0110828 , nm2812299 , nm2663899 , nm0335072 , nm1045621 , nm0494959 , nm0711626 , nm0085519 , nm1250889 , nm0827711 , nm1142664 , nm1113445 , nm10285461, nm1014207 , nm1715559 , nm1809263 , nm1012917 , nm2591020 , nm1276101 , nm0071291 , nm1049067 , nm2373457 , nm1030464 , nm1000124 , nm3113329 , nm1431618 , nm1051829 , nm0311869 , nm1089437 , nm0458818 , nm2040174 , nm0820050 , nm0375294 , nm0913702 , nm1049086 , nm0693044 , nm1284523 , nm0807006 , nm0455340 , nm0961373 , nm1140641 , nm0846520 , nm3143239 , nm2654362 , nm0162914 , nm1068447 , nm0820121 , nm0859155 , nm3729425 , nm0557696 , nm1114256 , nm10387979, nm0229890 , nm0229908 , nm1676228 , nm10379370, nm10400829, nm0537424 , nm0839917 , nm1396112 , nm0812026 , nm0755866 , nm1011976 , nm1221120 , nm0816348 , nm0102883 , nm10632516, nm3080113 , nm1207587 , nm1829409 , nm3579833 , nm3074085 , nm0068589 , nm0032541 , nm0746169 , nm0925335 , nm0925388 , nm0343403 , nm13585272, nm13736695, nm9109568 , nm0143676 , nm2006443 , nm13806846, nm1115376 , nm0938170 , nm0813960 , nm0817957 , nm1221812 , nm5846217 , nm0498979 , nm0291507 , nm1012482 , nm13608060, nm0122935 , nm0690069 , nm11518427, nm13402748, nm0989245 , nm0591784 , nm0434560 , nm1020908 , nm1989448 , nm3068470 , nm1047700 , nm1116779 , nm0368575 , nm1113709 , nm1113285 , nm1430271 , nm1093685 , nm0085588 , nm0390808 , nm0677651 , nm1975295 , nm0911421 \\\\\n",
       "\\end{tabular}\n"
      ],
      "text/markdown": [
       "\n",
       "A data.table: 3 × 3\n",
       "\n",
       "| tconst &lt;chr&gt; | directors &lt;list&gt; | writers &lt;list&gt; |\n",
       "|---|---|---|\n",
       "| tt0043224 | nm0477438, nm0054846, nm1096821, nm0705228, nm0120437, nm0076971, nm0387695, nm0232902, nm1097266, nm1637827 | nm0804026, nm0639495, nm0680226, nm0777442, nm0706417, nm0722289, nm1640023, nm0338876, nm0326239, nm0777129, nm0414633, nm0288997, nm1520544, nm0799745, nm0615080, nm0293159, nm0771627, nm0918826, nm0410536, nm2204703, nm0397170, nm0917200, nm0594174, nm0917026, nm0566588, nm0288816, nm3123274, nm0051332, nm2964448, nm0237341, nm0329085, nm1034110, nm3110698, nm0516015, nm0057677, nm0578441, nm0814068, nm0081748, nm0606806, nm0639787, nm0432188, nm0498586, nm0743232, nm2198070, nm0743259, nm0777202, nm0380890, nm2915847, nm0377958, nm1290769, nm7410201, nm0545131, nm0655462, nm3201019, nm0001992, nm0399849, nm0000036 |\n",
       "| tt0044265 | nm0004098, nm0179413, nm1597578, nm1335675, nm0915727, nm0581589, nm0568114, nm0213789, nm0281224, nm0332752, nm0884037, nm0297489, nm0109586, nm0331135, nm1513459, nm0778479, nm0224683, nm0159012, nm0100841, nm0250864, nm2681961, nm1273119, nm0923396, nm0369858, nm2036776, nm1334802, nm1603516, nm1314913, nm1343326, nm0925870, nm0834419, nm2552851, nm3174789, nm0963061, nm0571983, nm0322900 | nm2419908 , nm1141830 , nm2251709 , nm2078312 , nm1003809 , nm0325029 , nm1014203 , nm1014177 , nm0492953 , nm1012482 , nm1010971 , nm0519133 , nm0174585 , nm0429390 , nm2429218 , nm2654235 , nm1221904 , nm0068550 , nm1159577 , nm0909529 , nm3049540 , nm0255819 , nm0260547 , nm0113780 , nm0628248 , nm0717622 , nm0989904 , nm1142664 , nm0191612 , nm1051829 , nm2727176 , nm4972117 , nm0997483 , nm0110828 , nm1105215 , nm3079954 , nm1779986 , nm2085815 , nm0693044 , nm0106187 , nm0322325 , nm0833510 , nm0807006 , nm0542021 , nm3454108 , nm0566699 , nm2721275 , nm4237316 , nm0291507 , nm0027442 , nm1267575 , nm1011786 , nm0750422 , nm1014193 , nm0820121 , nm1011976 , nm1000132 , nm1007597 , nm0792404 , nm1049086 , nm0996693 , nm1088908 , nm0229890 , nm0229908 , nm0913330 , nm0758444 , nm3059609 , nm0782462 , nm0746169 , nm0925335 , nm0925388 , nm0501148 , nm2040174 , nm0711626 , nm1480454 , nm0421246 , nm0846520 , nm0922948 , nm2591020 , nm0925872 , nm1012917 , nm9109568 , nm0617002 , nm0682274 , nm3566933 , nm0723559 , nm1779949 , nm0658855 , nm0880986 , nm1276101 , nm1299367 , nm0434560 , nm0115032 , nm1011004 , nm0358462 , nm2272293 , nm0906799 , nm0479525 , nm0997301 , nm3579833 , nm0534951 , nm1802728 , nm0680460 , nm2654307 , nm0866801 , nm2660138 , nm1669530 , nm0040612 , nm0481805 , nm1106086 , nm0899533 , nm2077775 , nm2220634 , nm1049067 , nm2006443 , nm0812026 , nm0111576 , nm0698989 , nm0019706 , nm0111577 , nm0122417 , nm0202681 , nm0238898 , nm0505615 , nm0754581 , nm0789737 , nm0991335 , nm0162914 , nm1301702 , nm3059996 , nm0726721 , nm1014206 , nm2233247 , nm0235902 , nm10360337, nm1672253 , nm1440687 , nm1400899 , nm5846217 , nm0817957 , nm2076865 , nm9551033 , nm3930118 , nm0068589 , nm0633202 , nm0881501 , nm0813960 , nm0989955 , nm0031021 , nm0097597 , nm0112601 , nm0148223 , nm0313072 , nm0368575 , nm0513851 , nm0564474  |\n",
       "| tt0048845 | nm0332752, nm0824738, nm0100841, nm0179413, nm0251732, nm0887790, nm4029369, nm0245698, nm0777413, nm0114113, nm0157553, nm0384316, nm0906004, nm0041715, nm0219989, nm0242409, nm1681063, nm1212523, nm0856388, nm0004098, nm0594204, nm0046490, nm1408290, nm0446060, nm0483582, nm0357800, nm0639479, nm0581589, nm2483215, nm0213789, nm0017875, nm0802986, nm0295925, nm1656173, nm0884037, nm1032520, nm0591523, nm1010949, nm0923396, nm0672625, nm0867723, nm1603516, nm0109586, nm0571983, nm0677210, nm0139400, nm0656440, nm0125226, nm0672627, nm0641266, nm0723593, nm0963061 | nm0664799 , nm1923276 , nm1007597 , nm2419908 , nm1010949 , nm3049540 , nm1779949 , nm1779986 , nm1049066 , nm0680460 , nm0633202 , nm0790760 , nm1014174 , nm1299367 , nm1014216 , nm0045741 , nm1014167 , nm1011004 , nm0481805 , nm0909529 , nm1014175 , nm0106187 , nm0787317 , nm0655491 , nm1780023 , nm1011440 , nm0792404 , nm1010971 , nm1141830 , nm1400899 , nm0153944 , nm1014176 , nm0617002 , nm1014164 , nm1014206 , nm0429390 , nm0507406 , nm0925872 , nm0713131 , nm0108338 , nm0191612 , nm1042591 , nm1010857 , nm0632525 , nm1088908 , nm1892355 , nm0325029 , nm1250955 , nm0996693 , nm1104059 , nm0255034 , nm0110828 , nm2812299 , nm2663899 , nm0335072 , nm1045621 , nm0494959 , nm0711626 , nm0085519 , nm1250889 , nm0827711 , nm1142664 , nm1113445 , nm10285461, nm1014207 , nm1715559 , nm1809263 , nm1012917 , nm2591020 , nm1276101 , nm0071291 , nm1049067 , nm2373457 , nm1030464 , nm1000124 , nm3113329 , nm1431618 , nm1051829 , nm0311869 , nm1089437 , nm0458818 , nm2040174 , nm0820050 , nm0375294 , nm0913702 , nm1049086 , nm0693044 , nm1284523 , nm0807006 , nm0455340 , nm0961373 , nm1140641 , nm0846520 , nm3143239 , nm2654362 , nm0162914 , nm1068447 , nm0820121 , nm0859155 , nm3729425 , nm0557696 , nm1114256 , nm10387979, nm0229890 , nm0229908 , nm1676228 , nm10379370, nm10400829, nm0537424 , nm0839917 , nm1396112 , nm0812026 , nm0755866 , nm1011976 , nm1221120 , nm0816348 , nm0102883 , nm10632516, nm3080113 , nm1207587 , nm1829409 , nm3579833 , nm3074085 , nm0068589 , nm0032541 , nm0746169 , nm0925335 , nm0925388 , nm0343403 , nm13585272, nm13736695, nm9109568 , nm0143676 , nm2006443 , nm13806846, nm1115376 , nm0938170 , nm0813960 , nm0817957 , nm1221812 , nm5846217 , nm0498979 , nm0291507 , nm1012482 , nm13608060, nm0122935 , nm0690069 , nm11518427, nm13402748, nm0989245 , nm0591784 , nm0434560 , nm1020908 , nm1989448 , nm3068470 , nm1047700 , nm1116779 , nm0368575 , nm1113709 , nm1113285 , nm1430271 , nm1093685 , nm0085588 , nm0390808 , nm0677651 , nm1975295 , nm0911421  |\n",
       "\n"
      ],
      "text/plain": [
       "  tconst   \n",
       "1 tt0043224\n",
       "2 tt0044265\n",
       "3 tt0048845\n",
       "  directors                                                                                                                                                                                                                                                                                                                                                                                                                                                                                                                                                                                 \n",
       "1 nm0477438, nm0054846, nm1096821, nm0705228, nm0120437, nm0076971, nm0387695, nm0232902, nm1097266, nm1637827                                                                                                                                                                                                                                                                                                                                                                                                                                                                              \n",
       "2 nm0004098, nm0179413, nm1597578, nm1335675, nm0915727, nm0581589, nm0568114, nm0213789, nm0281224, nm0332752, nm0884037, nm0297489, nm0109586, nm0331135, nm1513459, nm0778479, nm0224683, nm0159012, nm0100841, nm0250864, nm2681961, nm1273119, nm0923396, nm0369858, nm2036776, nm1334802, nm1603516, nm1314913, nm1343326, nm0925870, nm0834419, nm2552851, nm3174789, nm0963061, nm0571983, nm0322900                                                                                                                                                                                \n",
       "3 nm0332752, nm0824738, nm0100841, nm0179413, nm0251732, nm0887790, nm4029369, nm0245698, nm0777413, nm0114113, nm0157553, nm0384316, nm0906004, nm0041715, nm0219989, nm0242409, nm1681063, nm1212523, nm0856388, nm0004098, nm0594204, nm0046490, nm1408290, nm0446060, nm0483582, nm0357800, nm0639479, nm0581589, nm2483215, nm0213789, nm0017875, nm0802986, nm0295925, nm1656173, nm0884037, nm1032520, nm0591523, nm1010949, nm0923396, nm0672625, nm0867723, nm1603516, nm0109586, nm0571983, nm0677210, nm0139400, nm0656440, nm0125226, nm0672627, nm0641266, nm0723593, nm0963061\n",
       "  writers                                                                                                                                                                                                                                                                                                                                                                                                                                                                                                                                                                                                                                                                                                                                                                                                                                                                                                                                                                                                                                                                                                                                                                                                                                                                                                                                                                                                                                                                                                                                                                                                                                                                                                                                                                                                                                                                                                                                                                                                                                                                           \n",
       "1 nm0804026, nm0639495, nm0680226, nm0777442, nm0706417, nm0722289, nm1640023, nm0338876, nm0326239, nm0777129, nm0414633, nm0288997, nm1520544, nm0799745, nm0615080, nm0293159, nm0771627, nm0918826, nm0410536, nm2204703, nm0397170, nm0917200, nm0594174, nm0917026, nm0566588, nm0288816, nm3123274, nm0051332, nm2964448, nm0237341, nm0329085, nm1034110, nm3110698, nm0516015, nm0057677, nm0578441, nm0814068, nm0081748, nm0606806, nm0639787, nm0432188, nm0498586, nm0743232, nm2198070, nm0743259, nm0777202, nm0380890, nm2915847, nm0377958, nm1290769, nm7410201, nm0545131, nm0655462, nm3201019, nm0001992, nm0399849, nm0000036                                                                                                                                                                                                                                                                                                                                                                                                                                                                                                                                                                                                                                                                                                                                                                                                                                                                                                                                                                                                                                                                                                                                                                                                                                                                                                                                                                                                                                 \n",
       "2 nm2419908 , nm1141830 , nm2251709 , nm2078312 , nm1003809 , nm0325029 , nm1014203 , nm1014177 , nm0492953 , nm1012482 , nm1010971 , nm0519133 , nm0174585 , nm0429390 , nm2429218 , nm2654235 , nm1221904 , nm0068550 , nm1159577 , nm0909529 , nm3049540 , nm0255819 , nm0260547 , nm0113780 , nm0628248 , nm0717622 , nm0989904 , nm1142664 , nm0191612 , nm1051829 , nm2727176 , nm4972117 , nm0997483 , nm0110828 , nm1105215 , nm3079954 , nm1779986 , nm2085815 , nm0693044 , nm0106187 , nm0322325 , nm0833510 , nm0807006 , nm0542021 , nm3454108 , nm0566699 , nm2721275 , nm4237316 , nm0291507 , nm0027442 , nm1267575 , nm1011786 , nm0750422 , nm1014193 , nm0820121 , nm1011976 , nm1000132 , nm1007597 , nm0792404 , nm1049086 , nm0996693 , nm1088908 , nm0229890 , nm0229908 , nm0913330 , nm0758444 , nm3059609 , nm0782462 , nm0746169 , nm0925335 , nm0925388 , nm0501148 , nm2040174 , nm0711626 , nm1480454 , nm0421246 , nm0846520 , nm0922948 , nm2591020 , nm0925872 , nm1012917 , nm9109568 , nm0617002 , nm0682274 , nm3566933 , nm0723559 , nm1779949 , nm0658855 , nm0880986 , nm1276101 , nm1299367 , nm0434560 , nm0115032 , nm1011004 , nm0358462 , nm2272293 , nm0906799 , nm0479525 , nm0997301 , nm3579833 , nm0534951 , nm1802728 , nm0680460 , nm2654307 , nm0866801 , nm2660138 , nm1669530 , nm0040612 , nm0481805 , nm1106086 , nm0899533 , nm2077775 , nm2220634 , nm1049067 , nm2006443 , nm0812026 , nm0111576 , nm0698989 , nm0019706 , nm0111577 , nm0122417 , nm0202681 , nm0238898 , nm0505615 , nm0754581 , nm0789737 , nm0991335 , nm0162914 , nm1301702 , nm3059996 , nm0726721 , nm1014206 , nm2233247 , nm0235902 , nm10360337, nm1672253 , nm1440687 , nm1400899 , nm5846217 , nm0817957 , nm2076865 , nm9551033 , nm3930118 , nm0068589 , nm0633202 , nm0881501 , nm0813960 , nm0989955 , nm0031021 , nm0097597 , nm0112601 , nm0148223 , nm0313072 , nm0368575 , nm0513851 , nm0564474                                                                                                                                     \n",
       "3 nm0664799 , nm1923276 , nm1007597 , nm2419908 , nm1010949 , nm3049540 , nm1779949 , nm1779986 , nm1049066 , nm0680460 , nm0633202 , nm0790760 , nm1014174 , nm1299367 , nm1014216 , nm0045741 , nm1014167 , nm1011004 , nm0481805 , nm0909529 , nm1014175 , nm0106187 , nm0787317 , nm0655491 , nm1780023 , nm1011440 , nm0792404 , nm1010971 , nm1141830 , nm1400899 , nm0153944 , nm1014176 , nm0617002 , nm1014164 , nm1014206 , nm0429390 , nm0507406 , nm0925872 , nm0713131 , nm0108338 , nm0191612 , nm1042591 , nm1010857 , nm0632525 , nm1088908 , nm1892355 , nm0325029 , nm1250955 , nm0996693 , nm1104059 , nm0255034 , nm0110828 , nm2812299 , nm2663899 , nm0335072 , nm1045621 , nm0494959 , nm0711626 , nm0085519 , nm1250889 , nm0827711 , nm1142664 , nm1113445 , nm10285461, nm1014207 , nm1715559 , nm1809263 , nm1012917 , nm2591020 , nm1276101 , nm0071291 , nm1049067 , nm2373457 , nm1030464 , nm1000124 , nm3113329 , nm1431618 , nm1051829 , nm0311869 , nm1089437 , nm0458818 , nm2040174 , nm0820050 , nm0375294 , nm0913702 , nm1049086 , nm0693044 , nm1284523 , nm0807006 , nm0455340 , nm0961373 , nm1140641 , nm0846520 , nm3143239 , nm2654362 , nm0162914 , nm1068447 , nm0820121 , nm0859155 , nm3729425 , nm0557696 , nm1114256 , nm10387979, nm0229890 , nm0229908 , nm1676228 , nm10379370, nm10400829, nm0537424 , nm0839917 , nm1396112 , nm0812026 , nm0755866 , nm1011976 , nm1221120 , nm0816348 , nm0102883 , nm10632516, nm3080113 , nm1207587 , nm1829409 , nm3579833 , nm3074085 , nm0068589 , nm0032541 , nm0746169 , nm0925335 , nm0925388 , nm0343403 , nm13585272, nm13736695, nm9109568 , nm0143676 , nm2006443 , nm13806846, nm1115376 , nm0938170 , nm0813960 , nm0817957 , nm1221812 , nm5846217 , nm0498979 , nm0291507 , nm1012482 , nm13608060, nm0122935 , nm0690069 , nm11518427, nm13402748, nm0989245 , nm0591784 , nm0434560 , nm1020908 , nm1989448 , nm3068470 , nm1047700 , nm1116779 , nm0368575 , nm1113709 , nm1113285 , nm1430271 , nm1093685 , nm0085588 , nm0390808 , nm0677651 , nm1975295 , nm0911421 "
      ]
     },
     "metadata": {},
     "output_type": "display_data"
    }
   ],
   "source": [
    "# crew - split directors and writers\n",
    "crew <- crew %>% mutate(directors = strsplit(directors, split = ','), writers = strsplit(writers, split = ','))\n",
    "head(crew, 3)"
   ]
  },
  {
   "cell_type": "code",
   "execution_count": null,
   "id": "3db784ab-6c57-40d9-80f1-9f5c110c9d60",
   "metadata": {},
   "outputs": [],
   "source": [
    "# principals - delete brackets from characters and split, catogry -> factor\n",
    "principals$category <- as.factor(principals$category)\n",
    "principals$characters <- gsub(\"\\\\]\", '', principals$characters)\n",
    "principals$characters <- gsub(\"\\\\[\", '', principals$characters)\n",
    "principals$characters <- gsub('\"', '', principals$characters)\n",
    "principals$characters <- gsub('\"', '', principals$characters)\n",
    "principals <- principals %>% mutate(characters = strsplit(characters, split = ','))\n",
    "head(principals, 3)"
   ]
  },
  {
   "cell_type": "code",
   "execution_count": 146,
   "id": "651ae152-e1c3-41a2-ae59-1c5cfde7654a",
   "metadata": {},
   "outputs": [
    {
     "data": {
      "text/html": [
       "<table class=\"dataframe\">\n",
       "<caption>A data.table: 3 × 4</caption>\n",
       "<thead>\n",
       "\t<tr><th scope=col>tconst</th><th scope=col>parentTconst</th><th scope=col>seasonNumber</th><th scope=col>episodeNumber</th></tr>\n",
       "\t<tr><th scope=col>&lt;chr&gt;</th><th scope=col>&lt;chr&gt;</th><th scope=col>&lt;int&gt;</th><th scope=col>&lt;int&gt;</th></tr>\n",
       "</thead>\n",
       "<tbody>\n",
       "\t<tr><td>tt0182919</td><td>tt1466074</td><td>13</td><td>4</td></tr>\n",
       "\t<tr><td>tt0187660</td><td>tt0086779</td><td>10</td><td>1</td></tr>\n",
       "\t<tr><td>tt0199398</td><td>tt0920489</td><td> 2</td><td>2</td></tr>\n",
       "</tbody>\n",
       "</table>\n"
      ],
      "text/latex": [
       "A data.table: 3 × 4\n",
       "\\begin{tabular}{llll}\n",
       " tconst & parentTconst & seasonNumber & episodeNumber\\\\\n",
       " <chr> & <chr> & <int> & <int>\\\\\n",
       "\\hline\n",
       "\t tt0182919 & tt1466074 & 13 & 4\\\\\n",
       "\t tt0187660 & tt0086779 & 10 & 1\\\\\n",
       "\t tt0199398 & tt0920489 &  2 & 2\\\\\n",
       "\\end{tabular}\n"
      ],
      "text/markdown": [
       "\n",
       "A data.table: 3 × 4\n",
       "\n",
       "| tconst &lt;chr&gt; | parentTconst &lt;chr&gt; | seasonNumber &lt;int&gt; | episodeNumber &lt;int&gt; |\n",
       "|---|---|---|---|\n",
       "| tt0182919 | tt1466074 | 13 | 4 |\n",
       "| tt0187660 | tt0086779 | 10 | 1 |\n",
       "| tt0199398 | tt0920489 |  2 | 2 |\n",
       "\n"
      ],
      "text/plain": [
       "  tconst    parentTconst seasonNumber episodeNumber\n",
       "1 tt0182919 tt1466074    13           4            \n",
       "2 tt0187660 tt0086779    10           1            \n",
       "3 tt0199398 tt0920489     2           2            "
      ]
     },
     "metadata": {},
     "output_type": "display_data"
    }
   ],
   "source": [
    "# ep_series - season and ep number -> int\n",
    "ep_series$seasonNumber <- as.integer(ep_series$seasonNumber)\n",
    "ep_series$episodeNumber <- as.integer(ep_series$episodeNumber)\n",
    "head(ep_series, 3)"
   ]
  },
  {
   "cell_type": "code",
   "execution_count": 148,
   "id": "878b7924-9761-41ea-bf62-ddbfbbf8c4ba",
   "metadata": {},
   "outputs": [
    {
     "data": {
      "text/html": [
       "<table class=\"dataframe\">\n",
       "<caption>A data.table: 3 × 6</caption>\n",
       "<thead>\n",
       "\t<tr><th scope=col>nconst</th><th scope=col>primaryName</th><th scope=col>birthYear</th><th scope=col>deathYear</th><th scope=col>primaryProfession</th><th scope=col>knownForTitles</th></tr>\n",
       "\t<tr><th scope=col>&lt;chr&gt;</th><th scope=col>&lt;chr&gt;</th><th scope=col>&lt;int&gt;</th><th scope=col>&lt;int&gt;</th><th scope=col>&lt;list&gt;</th><th scope=col>&lt;list&gt;</th></tr>\n",
       "</thead>\n",
       "<tbody>\n",
       "\t<tr><td>nm0000001</td><td>Fred Astaire   </td><td>1899</td><td>1987</td><td>soundtrack   , actor        , miscellaneous</td><td>tt0050419, tt0053137, tt0031983, tt0072308</td></tr>\n",
       "\t<tr><td>nm0000002</td><td>Lauren Bacall  </td><td>1924</td><td>2014</td><td>actress   , soundtrack</td><td>tt0117057, tt0037382, tt0038355, tt0071877</td></tr>\n",
       "\t<tr><td>nm0000003</td><td>Brigitte Bardot</td><td>1934</td><td>  NA</td><td>actress         , soundtrack      , music_department</td><td>tt0056404, tt0049189, tt0054452, tt0057345</td></tr>\n",
       "</tbody>\n",
       "</table>\n"
      ],
      "text/latex": [
       "A data.table: 3 × 6\n",
       "\\begin{tabular}{llllll}\n",
       " nconst & primaryName & birthYear & deathYear & primaryProfession & knownForTitles\\\\\n",
       " <chr> & <chr> & <int> & <int> & <list> & <list>\\\\\n",
       "\\hline\n",
       "\t nm0000001 & Fred Astaire    & 1899 & 1987 & soundtrack   , actor        , miscellaneous & tt0050419, tt0053137, tt0031983, tt0072308\\\\\n",
       "\t nm0000002 & Lauren Bacall   & 1924 & 2014 & actress   , soundtrack & tt0117057, tt0037382, tt0038355, tt0071877\\\\\n",
       "\t nm0000003 & Brigitte Bardot & 1934 &   NA & actress         , soundtrack      , music\\_department & tt0056404, tt0049189, tt0054452, tt0057345\\\\\n",
       "\\end{tabular}\n"
      ],
      "text/markdown": [
       "\n",
       "A data.table: 3 × 6\n",
       "\n",
       "| nconst &lt;chr&gt; | primaryName &lt;chr&gt; | birthYear &lt;int&gt; | deathYear &lt;int&gt; | primaryProfession &lt;list&gt; | knownForTitles &lt;list&gt; |\n",
       "|---|---|---|---|---|---|\n",
       "| nm0000001 | Fred Astaire    | 1899 | 1987 | soundtrack   , actor        , miscellaneous | tt0050419, tt0053137, tt0031983, tt0072308 |\n",
       "| nm0000002 | Lauren Bacall   | 1924 | 2014 | actress   , soundtrack | tt0117057, tt0037382, tt0038355, tt0071877 |\n",
       "| nm0000003 | Brigitte Bardot | 1934 |   NA | actress         , soundtrack      , music_department | tt0056404, tt0049189, tt0054452, tt0057345 |\n",
       "\n"
      ],
      "text/plain": [
       "  nconst    primaryName     birthYear deathYear\n",
       "1 nm0000001 Fred Astaire    1899      1987     \n",
       "2 nm0000002 Lauren Bacall   1924      2014     \n",
       "3 nm0000003 Brigitte Bardot 1934        NA     \n",
       "  primaryProfession                                   \n",
       "1 soundtrack   , actor        , miscellaneous         \n",
       "2 actress   , soundtrack                              \n",
       "3 actress         , soundtrack      , music_department\n",
       "  knownForTitles                            \n",
       "1 tt0050419, tt0053137, tt0031983, tt0072308\n",
       "2 tt0117057, tt0037382, tt0038355, tt0071877\n",
       "3 tt0056404, tt0049189, tt0054452, tt0057345"
      ]
     },
     "metadata": {},
     "output_type": "display_data"
    }
   ],
   "source": [
    "# names - split proffesion and titles\n",
    "names <- names %>% mutate(primaryProfession = strsplit(primaryProfession, split = ','), knownForTitles = strsplit(knownForTitles, split = ','))\n",
    "head(names, 3)"
   ]
  },
  {
   "cell_type": "code",
   "execution_count": 149,
   "id": "3705c0ac-d9ed-4cf6-b5fc-90fb4f903491",
   "metadata": {},
   "outputs": [
    {
     "data": {
      "text/html": [
       "<table class=\"dataframe\">\n",
       "<caption>A matrix: 2 × 6 of type dbl</caption>\n",
       "<thead>\n",
       "\t<tr><th></th><th scope=col>used</th><th scope=col>(Mb)</th><th scope=col>gc trigger</th><th scope=col>(Mb)</th><th scope=col>max used</th><th scope=col>(Mb)</th></tr>\n",
       "</thead>\n",
       "<tbody>\n",
       "\t<tr><th scope=row>Ncells</th><td>  9446282</td><td> 504.5</td><td> 17042405</td><td> 910.2</td><td> 14159992</td><td> 756.3</td></tr>\n",
       "\t<tr><th scope=row>Vcells</th><td>208694377</td><td>1592.3</td><td>307424909</td><td>2345.5</td><td>307424903</td><td>2345.5</td></tr>\n",
       "</tbody>\n",
       "</table>\n"
      ],
      "text/latex": [
       "A matrix: 2 × 6 of type dbl\n",
       "\\begin{tabular}{r|llllll}\n",
       "  & used & (Mb) & gc trigger & (Mb) & max used & (Mb)\\\\\n",
       "\\hline\n",
       "\tNcells &   9446282 &  504.5 &  17042405 &  910.2 &  14159992 &  756.3\\\\\n",
       "\tVcells & 208694377 & 1592.3 & 307424909 & 2345.5 & 307424903 & 2345.5\\\\\n",
       "\\end{tabular}\n"
      ],
      "text/markdown": [
       "\n",
       "A matrix: 2 × 6 of type dbl\n",
       "\n",
       "| <!--/--> | used | (Mb) | gc trigger | (Mb) | max used | (Mb) |\n",
       "|---|---|---|---|---|---|---|\n",
       "| Ncells |   9446282 |  504.5 |  17042405 |  910.2 |  14159992 |  756.3 |\n",
       "| Vcells | 208694377 | 1592.3 | 307424909 | 2345.5 | 307424903 | 2345.5 |\n",
       "\n"
      ],
      "text/plain": [
       "       used      (Mb)   gc trigger (Mb)   max used  (Mb)  \n",
       "Ncells   9446282  504.5  17042405   910.2  14159992  756.3\n",
       "Vcells 208694377 1592.3 307424909  2345.5 307424903 2345.5"
      ]
     },
     "metadata": {},
     "output_type": "display_data"
    }
   ],
   "source": [
    "# free up memory after transformations\n",
    "gc()"
   ]
  },
  {
   "cell_type": "code",
   "execution_count": null,
   "id": "4270e72b-a7ef-487b-9130-763ab41e2157",
   "metadata": {},
   "outputs": [],
   "source": []
  }
 ],
 "metadata": {
  "kernelspec": {
   "display_name": "R",
   "language": "R",
   "name": "ir"
  },
  "language_info": {
   "codemirror_mode": "r",
   "file_extension": ".r",
   "mimetype": "text/x-r-source",
   "name": "R",
   "pygments_lexer": "r",
   "version": "4.2.2"
  }
 },
 "nbformat": 4,
 "nbformat_minor": 5
}
