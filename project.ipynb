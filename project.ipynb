{
 "cells": [
  {
   "cell_type": "code",
   "execution_count": 4,
   "id": "644815ae-630f-48e0-9ac9-308ca5658237",
   "metadata": {},
   "outputs": [],
   "source": [
    "# install.packages('ggraph')\n",
    "# install.packages('igraph')"
   ]
  },
  {
   "cell_type": "code",
   "execution_count": 5,
   "id": "4f137d88-b9cf-4d87-b754-6c0bd9cddcb3",
   "metadata": {},
   "outputs": [],
   "source": [
    "library('data.table')\n",
    "library('dplyr')\n",
    "library('tidyr')\n",
    "library('ggplot2')\n",
    "library('scales')\n",
    "library('igraph')\n",
    "library('ggraph')"
   ]
  },
  {
   "cell_type": "code",
   "execution_count": 6,
   "id": "674f1be0-74d4-4bcb-be9e-97de0bf8ab7d",
   "metadata": {
    "colab": {
     "base_uri": "https://localhost:8080/"
    },
    "id": "AP8PiREuiiIO",
    "outputId": "aa95af79-ff03-44e3-8c81-aec83c2dd2cf",
    "tags": []
   },
   "outputs": [
    {
     "ename": "ERROR",
     "evalue": "Error in fread(\"title_ratings\", quote = \"\", na.strings = \"\\\\N\"): File 'title_ratings' does not exist or is non-readable. getwd()=='/home/rastislav/Documents/skola/erasmus/visualisation/imdb/Data-Visualization'\n",
     "output_type": "error",
     "traceback": [
      "Error in fread(\"title_ratings\", quote = \"\", na.strings = \"\\\\N\"): File 'title_ratings' does not exist or is non-readable. getwd()=='/home/rastislav/Documents/skola/erasmus/visualisation/imdb/Data-Visualization'\nTraceback:\n",
      "1. fread(\"title_ratings\", quote = \"\", na.strings = \"\\\\N\")",
      "2. stop(\"File '\", file, \"' does not exist or is non-readable. getwd()=='\", \n .     getwd(), \"'\")"
     ]
    }
   ],
   "source": [
    "titles <- fread(\"title_ratings\", quote=\"\", na.strings = \"\\\\N\")\n",
    "aka <- fread(\"aka_filtered\", quote = \"\", na.strings = \"\\\\N\")\n",
    "crew <- fread(\"crew_filtered\", na.strings = \"\\\\N\")\n",
    "principals <- fread(\"principals_filtered\", quote=\"\", na.strings = \"\\\\N\")\n",
    "ep_series <- fread(\"episodes_filtered\", na.strings = \"\\\\N\")\n",
    "names <-fread(\"names_filtered\", na.strings = \"\\\\N\")"
   ]
  },
  {
   "cell_type": "code",
   "execution_count": null,
   "id": "ce93d47b-854e-4c45-a2f8-14fe409234e7",
   "metadata": {},
   "outputs": [],
   "source": [
    "# titles and their ratings\n",
    "head(titles, 3)\n",
    "# the names of the titles in different languages, probably not relevant\n",
    "head(aka, 3)\n",
    "# list of writers and directors for each movie\n",
    "head(crew, 3)\n",
    "# list of roles of an actor in the given movie\n",
    "head(principals, 3)\n",
    "# table tying episodes to its tvSeries\n",
    "head(ep_series, 3)\n",
    "# names of the actors with the titles they starred in\n",
    "head(names, 3)"
   ]
  },
  {
   "cell_type": "code",
   "execution_count": null,
   "id": "df6a0e8f-e0e1-42eb-9f68-3689a55b4af3",
   "metadata": {},
   "outputs": [],
   "source": [
    "head(ep_series, 3)\n",
    "count(ep_series)"
   ]
  },
  {
   "cell_type": "markdown",
   "id": "781c6b03-9716-4308-9282-aab7324a7ce1",
   "metadata": {
    "tags": []
   },
   "source": [
    "## Further filtering"
   ]
  },
  {
   "cell_type": "markdown",
   "id": "0f6894d7-df32-48a2-84a3-45cd8cfac556",
   "metadata": {
    "tags": []
   },
   "source": [
    "### Series episodes split"
   ]
  },
  {
   "cell_type": "code",
   "execution_count": null,
   "id": "c3a9a6da-c1fe-470f-831e-3c47a0196a52",
   "metadata": {},
   "outputs": [],
   "source": [
    "series <- titles %>% filter(titleType != 'tvEpisode')\n",
    "episodes <- titles %>% filter(titleType == 'tvEpisode')\n",
    "count(series)\n",
    "count(episodes)"
   ]
  },
  {
   "cell_type": "markdown",
   "id": "b83513c2-4473-4519-997d-0b0192d9e852",
   "metadata": {
    "tags": []
   },
   "source": [
    "### Filter tvSeries under 1000 reviews and their related elements"
   ]
  },
  {
   "cell_type": "code",
   "execution_count": null,
   "id": "c5e8544a-7c1a-48a3-87b9-859fbb740bff",
   "metadata": {},
   "outputs": [],
   "source": [
    "series <- series %>% filter(numVotes >= 1000)"
   ]
  },
  {
   "cell_type": "code",
   "execution_count": null,
   "id": "d4b58bf7-3079-4fcf-8bc5-4241a0f39677",
   "metadata": {},
   "outputs": [],
   "source": [
    "ep_series <- ep_series %>% filter(parentTconst %in% series$tconst)"
   ]
  },
  {
   "cell_type": "code",
   "execution_count": null,
   "id": "fff83f49-a19a-4023-827d-36727ce42115",
   "metadata": {},
   "outputs": [],
   "source": [
    "episodes <- episodes %>% filter(tconst %in% ep_series$tconst)"
   ]
  },
  {
   "cell_type": "code",
   "execution_count": null,
   "id": "8404e871-d720-4fc4-ab24-241290321897",
   "metadata": {},
   "outputs": [],
   "source": [
    "principals <- principals %>% filter(tconst %in% series$tconst | tconst %in% episodes$tconst)\n",
    "names_filtered <- names %>% filter(nconst %in% principals$nconst)\n",
    "aka_filtered <- aka %>% filter(titleId %in% series$tconst | titleId %in% episodes$tconst)\n",
    "crew_filtered <- crew %>% filter(tconst %in% series$tconst | tconst %in% episodes$tconst)"
   ]
  },
  {
   "cell_type": "markdown",
   "id": "8d0f500f-4ce6-428f-b06f-6f9c0ebdfc76",
   "metadata": {},
   "source": [
    "### Data transformations"
   ]
  },
  {
   "cell_type": "code",
   "execution_count": null,
   "id": "ed188913-338b-4267-8dcc-0ae8ea2a7fd9",
   "metadata": {},
   "outputs": [],
   "source": [
    "# series and episodes, - split genres, type -> factor\n",
    "series$titleType = as.factor(series$titleType)\n",
    "series <- series %>% mutate(genres = strsplit(genres, split=','))\n",
    "episodes$titleType = as.factor(episodes$titleType)\n",
    "episodes <- episodes %>% mutate(genres = strsplit(genres, split=','))\n",
    "head(episodes)"
   ]
  },
  {
   "cell_type": "code",
   "execution_count": null,
   "id": "1242241a-596e-48b6-b7e0-d3dd161f1eaa",
   "metadata": {},
   "outputs": [],
   "source": [
    "# crew - split directors and writers\n",
    "crew <- crew %>% mutate(directors = strsplit(directors, split = ','), writers = strsplit(writers, split = ','))\n",
    "head(crew, 3)"
   ]
  },
  {
   "cell_type": "code",
   "execution_count": null,
   "id": "3db784ab-6c57-40d9-80f1-9f5c110c9d60",
   "metadata": {},
   "outputs": [],
   "source": [
    "# principals - delete brackets from characters and split, catogry -> factor\n",
    "principals$category <- as.factor(principals$category)\n",
    "principals$characters <- gsub(\"\\\\]\", '', principals$characters)\n",
    "principals$characters <- gsub(\"\\\\[\", '', principals$characters)\n",
    "principals$characters <- gsub('\"', '', principals$characters)\n",
    "principals$characters <- gsub('\"', '', principals$characters)\n",
    "principals <- principals %>% mutate(characters = strsplit(characters, split = ','))\n",
    "head(principals, 3)"
   ]
  },
  {
   "cell_type": "code",
   "execution_count": null,
   "id": "651ae152-e1c3-41a2-ae59-1c5cfde7654a",
   "metadata": {},
   "outputs": [],
   "source": [
    "# ep_series - season and ep number -> int\n",
    "ep_series$seasonNumber <- as.integer(ep_series$seasonNumber)\n",
    "ep_series$episodeNumber <- as.integer(ep_series$episodeNumber)\n",
    "head(ep_series, 3)"
   ]
  },
  {
   "cell_type": "code",
   "execution_count": null,
   "id": "878b7924-9761-41ea-bf62-ddbfbbf8c4ba",
   "metadata": {},
   "outputs": [],
   "source": [
    "# names - split proffesion and titles\n",
    "names <- names %>% mutate(primaryProfession = strsplit(primaryProfession, split = ','), knownForTitles = strsplit(knownForTitles, split = ','))\n",
    "head(names, 3)"
   ]
  },
  {
   "cell_type": "code",
   "execution_count": null,
   "id": "3705c0ac-d9ed-4cf6-b5fc-90fb4f903491",
   "metadata": {},
   "outputs": [],
   "source": [
    "# free up memory after transformations\n",
    "gc()"
   ]
  },
  {
   "cell_type": "markdown",
   "id": "ddc55fec-8019-4ba3-9863-9377400a60d7",
   "metadata": {},
   "source": [
    "## Project"
   ]
  },
  {
   "cell_type": "markdown",
   "id": "de377e54-2d2d-47c6-989c-477d763033eb",
   "metadata": {},
   "source": [
    "### People + aggregate data of the series they played in"
   ]
  },
  {
   "cell_type": "code",
   "execution_count": null,
   "id": "8dba0186-b8fa-4351-8a3f-1b97b674eced",
   "metadata": {},
   "outputs": [],
   "source": [
    "title_person = merge(principals, series, by = \"tconst\", all=FALSE)\n",
    "head(title_person, 10)"
   ]
  },
  {
   "cell_type": "code",
   "execution_count": null,
   "id": "acb09428-2e6e-4162-93ba-561688fe3ae3",
   "metadata": {},
   "outputs": [],
   "source": [
    "name_ratings <- title_person %>% group_by(nconst) %>% summarise(\n",
    "    meanRating = mean(averageRating), averageVotes = mean(numVotes), weightedRating = sum(averageRating *  numVotes), sumVotes=sum(numVotes), ) %>%\n",
    "    transform(weightedRating = weightedRating / sumVotes)"
   ]
  },
  {
   "cell_type": "code",
   "execution_count": null,
   "id": "7a6f6296-4ff7-40dd-aea8-1a12b535230d",
   "metadata": {},
   "outputs": [],
   "source": [
    "actor_rating <- title_person %>% filter(category == 'actor') %>% group_by(nconst) %>% summarise(\n",
    "    meanRating = mean(averageRating), averageVotes = mean(numVotes), weightedRating = sum(averageRating *  numVotes), sumVotes=sum(numVotes)) %>%\n",
    "    transform(weightedRating = weightedRating / sumVotes)\n",
    "head(actor_rating, 3)"
   ]
  },
  {
   "cell_type": "code",
   "execution_count": null,
   "id": "b64564c2-d2f2-4b7c-beac-bf7e5f539064",
   "metadata": {},
   "outputs": [],
   "source": []
  },
  {
   "cell_type": "markdown",
   "id": "ac42a8e6-1915-4854-83c9-b2515918798b",
   "metadata": {
    "tags": []
   },
   "source": [
    "### Actors working well together"
   ]
  },
  {
   "cell_type": "code",
   "execution_count": null,
   "id": "04edd9c2-f6f7-440d-8585-2736ad031b51",
   "metadata": {},
   "outputs": [],
   "source": [
    "library(igraph)\n",
    "library(gggraph)"
   ]
  },
  {
   "cell_type": "code",
   "execution_count": null,
   "id": "4f50fa27-69bb-4cc7-86cd-76a132bbf25d",
   "metadata": {},
   "outputs": [],
   "source": [
    "ggraph(mygraph, layout = 'dendrogram', circular = TRUE) + \n",
    "  geom_conn_bundle(data = get_con(from = from, to = to), alpha=0.2, colour=\"skyblue\", tension = 0) + \n",
    "  geom_node_point(aes(filter = leaf, x = x*1.05, y=y*1.05)) +\n",
    "  theme_void()"
   ]
  }
 ],
 "metadata": {
  "kernelspec": {
   "display_name": "R",
   "language": "R",
   "name": "ir"
  },
  "language_info": {
   "codemirror_mode": "r",
   "file_extension": ".r",
   "mimetype": "text/x-r-source",
   "name": "R",
   "pygments_lexer": "r",
   "version": "4.2.2"
  }
 },
 "nbformat": 4,
 "nbformat_minor": 5
}
