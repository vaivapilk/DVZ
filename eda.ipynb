{
 "cells": [
  {
   "cell_type": "code",
   "execution_count": 1,
   "metadata": {
    "colab": {
     "base_uri": "https://localhost:8080/"
    },
    "id": "R6rz9LUDPHz4",
    "outputId": "a5d16f92-402e-44cd-89e1-2b718335a576"
   },
   "outputs": [],
   "source": [
    "install.packages('googledrive')\n",
    "library(googledrive)"
   ]
  },
  {
   "cell_type": "code",
   "execution_count": null,
   "metadata": {
    "colab": {
     "base_uri": "https://localhost:8080/"
    },
    "id": "1mk11z859s_c",
    "outputId": "6882479e-3634-404a-cc4f-21a0399126c5"
   },
   "outputs": [],
   "source": [
    "install.packages(\"R.utils\")\n",
    "library(\"R.utils\")\n",
    "library(\"httr\")\n",
    "my_check <- function() {return(TRUE)}\n",
    "reassignInPackage(\"is_interactive\", pkgName = \"httr\", my_check)\n",
    "options(rlang_interactive=TRUE)"
   ]
  },
  {
   "cell_type": "code",
   "execution_count": null,
   "metadata": {
    "colab": {
     "base_uri": "https://localhost:8080/"
    },
    "id": "zEqsdpEX_sfF",
    "outputId": "f7e44fae-457c-41ed-9d0b-736d63cf5ed1"
   },
   "outputs": [],
   "source": [
    "drive_auth(use_oob = TRUE, cache = TRUE)"
   ]
  },
  {
   "cell_type": "code",
   "execution_count": null,
   "metadata": {
    "colab": {
     "base_uri": "https://localhost:8080/"
    },
    "id": "GM2FJGG5CRt2",
    "outputId": "d610ccad-0381-4ea2-d2d8-e976e7d37e50"
   },
   "outputs": [],
   "source": [
    "x <- drive_get(\"~/imdb/title.basics.tsv\")\n",
    "drive_download(x)\n",
    "x <- drive_get(\"~/imdb/title.crew.tsv\")\n",
    "drive_download(x)\n",
    "x <- drive_get(\"~/imdb/title.akas.tsv\")\n",
    "drive_download(x)\n",
    "x <- drive_get(\"~/imdb/title.ratings.tsv\")\n",
    "drive_download(x)"
   ]
  },
  {
   "cell_type": "code",
   "execution_count": null,
   "metadata": {
    "colab": {
     "base_uri": "https://localhost:8080/"
    },
    "id": "GsIJNg6SE71Q",
    "outputId": "6df46d00-703d-4d40-d2f0-339d57d01650"
   },
   "outputs": [],
   "source": [
    "x <- drive_get(\"~/imdb/title.episode.tsv\")\n",
    "drive_download(x)\n",
    "x <- drive_get(\"~/imdb/title.principals.tsv\")\n",
    "drive_download(x)\n",
    "x <- drive_get(\"~/imdb/name_basics(1).tsv\")\n",
    "drive_download(x)"
   ]
  },
  {
   "cell_type": "code",
   "execution_count": null,
   "metadata": {
    "colab": {
     "base_uri": "https://localhost:8080/"
    },
    "id": "x-R1WHeRzcmN",
    "outputId": "a51fa88d-5a94-47b2-f696-6517628c1e30"
   },
   "outputs": [],
   "source": [
    "install.packages('gridExtra')"
   ]
  },
  {
   "cell_type": "code",
   "execution_count": null,
   "metadata": {
    "colab": {
     "base_uri": "https://localhost:8080/"
    },
    "id": "nPa6V34OWkci",
    "outputId": "eba4283a-3651-45ed-945a-8b10a9272cd4"
   },
   "outputs": [],
   "source": [
    "library('data.table')\n",
    "library('dplyr')\n",
    "library('tidyr')\n",
    "library('stringr')\n",
    "library('ggplot2')\n",
    "library(gridExtra)\n",
    "library('scales')"
   ]
  },
  {
   "cell_type": "code",
   "execution_count": null,
   "metadata": {
    "colab": {
     "base_uri": "https://localhost:8080/"
    },
    "id": "cYaGN5UnFXoB",
    "outputId": "9fda2b36-ca60-4943-9d7c-64e022899101"
   },
   "outputs": [],
   "source": [
    "data_basics <- fread(\"/content/title.basics.tsv\")"
   ]
  },
  {
   "cell_type": "code",
   "execution_count": null,
   "metadata": {
    "id": "nqghuoMF513P"
   },
   "outputs": [],
   "source": [
    "data_aka <- fread(\"/content/title.akas.tsv\", quote = \"\")"
   ]
  },
  {
   "cell_type": "code",
   "execution_count": null,
   "metadata": {
    "id": "we9xYnS352E2"
   },
   "outputs": [],
   "source": [
    "data_crew <- fread(\"/content/title.crew.tsv\")"
   ]
  },
  {
   "cell_type": "code",
   "execution_count": null,
   "metadata": {
    "id": "BvQRc89A52UJ"
   },
   "outputs": [],
   "source": [
    "data_ratings <- fread(\"/content/title.ratings.tsv\")"
   ]
  },
  {
   "cell_type": "code",
   "execution_count": null,
   "metadata": {
    "colab": {
     "base_uri": "https://localhost:8080/"
    },
    "id": "wfpwYbDaeTDn",
    "outputId": "267da3a8-21d2-4db9-984a-91c57f4028d6"
   },
   "outputs": [],
   "source": [
    "data_principals <- fread(\"/content/title.principals.tsv\")"
   ]
  },
  {
   "cell_type": "code",
   "execution_count": null,
   "metadata": {
    "id": "hrsaF8PQeaAY"
   },
   "outputs": [],
   "source": [
    "data_episodes <- fread(\"/content/title.episode.tsv\")"
   ]
  },
  {
   "cell_type": "code",
   "execution_count": null,
   "metadata": {
    "colab": {
     "base_uri": "https://localhost:8080/"
    },
    "id": "AP8PiREuiiIO",
    "outputId": "aa95af79-ff03-44e3-8c81-aec83c2dd2cf"
   },
   "outputs": [],
   "source": [
    "data_names <-fread(\"/content/name_basics(1).tsv\")"
   ]
  },
  {
   "cell_type": "markdown",
   "metadata": {
    "id": "nD2ZIvjN1ss3"
   },
   "source": [
    "Merging"
   ]
  },
  {
   "cell_type": "code",
   "execution_count": null,
   "metadata": {
    "id": "42ZLvDv51xm4"
   },
   "outputs": [],
   "source": [
    "tv_only <- data_basics %>% filter(titleType %in% c('tvSeries', 'tvEpisode', 'tvMiniSeries', 'tvPilot'))"
   ]
  },
  {
   "cell_type": "code",
   "execution_count": null,
   "metadata": {
    "colab": {
     "base_uri": "https://localhost:8080/",
     "height": 286
    },
    "id": "jNeXr6eYBHE2",
    "outputId": "2e1672aa-f4a9-425f-f6f3-fd3913154ac6"
   },
   "outputs": [],
   "source": [
    "head(data_episodes)"
   ]
  },
  {
   "cell_type": "code",
   "execution_count": null,
   "metadata": {
    "id": "nJ2n18BB_TWn"
   },
   "outputs": [],
   "source": [
    "joined <- merge(tv_only, data_ratings, by.x = \"tconst\", \n",
    "             by.y = \"tconst\", all.x = FALSE, all.y = FALSE)"
   ]
  },
  {
   "cell_type": "code",
   "execution_count": null,
   "metadata": {
    "colab": {
     "base_uri": "https://localhost:8080/",
     "height": 164
    },
    "id": "aTkpkSFrBP7K",
    "outputId": "4ae2dca3-de9e-48ac-8047-89633a7fe945"
   },
   "outputs": [],
   "source": [
    "count(names_filtered)"
   ]
  },
  {
   "cell_type": "code",
   "execution_count": null,
   "metadata": {
    "colab": {
     "base_uri": "https://localhost:8080/",
     "height": 286
    },
    "id": "N4a9jRwHDqRd",
    "outputId": "9d64a799-b49a-43d5-df25-2d4eec3ede88"
   },
   "outputs": [],
   "source": [
    "head(data_names)"
   ]
  },
  {
   "cell_type": "code",
   "execution_count": null,
   "metadata": {
    "id": "y7VSlrg6fG2x"
   },
   "outputs": [],
   "source": [
    "names_filtered <- data_names %>% filter(nconst %in% data_principals$nconst)\n",
    "\n",
    "aka_filtered <- data_aka %>% filter(titleId %in% joined$tconst)\n",
    "\n",
    "crew_filtered <- data_crew %>% filter(tconst %in% joined$tconst)\n",
    "\n",
    "data_principals <- data_principals %>% filter(tconst %in% joined$tconst)"
   ]
  },
  {
   "cell_type": "code",
   "execution_count": null,
   "metadata": {
    "id": "4CsQBh61iN27"
   },
   "outputs": [],
   "source": [
    "data_episodes <- data_episodes %>% filter(tconst %in% joined$tconst)"
   ]
  },
  {
   "cell_type": "code",
   "execution_count": null,
   "metadata": {
    "colab": {
     "base_uri": "https://localhost:8080/",
     "height": 286
    },
    "id": "aVG9vHM5fgZz",
    "outputId": "97f3b652-917a-464b-9c3f-88ba127fa904"
   },
   "outputs": [],
   "source": [
    "head(data_principals)"
   ]
  },
  {
   "cell_type": "code",
   "execution_count": null,
   "metadata": {
    "id": "46rVlwIpIkX0"
   },
   "outputs": [],
   "source": [
    "fwrite(crew_filtered, file = \"/content/crew_filtered\", sep=\"\\t\", na = \"\\\\N\", quote = FALSE, sep2 = c(\"\",\",\",\"\"))"
   ]
  },
  {
   "cell_type": "code",
   "execution_count": null,
   "metadata": {
    "id": "Lcpo01pLd9aj"
   },
   "outputs": [],
   "source": [
    "fwrite(joined, file = \"/content/title_ratings\", sep=\"\\t\", na = \"\\\\N\", quote = FALSE, sep2 = c(\"\",\",\",\"\"))"
   ]
  },
  {
   "cell_type": "code",
   "execution_count": null,
   "metadata": {
    "id": "3gpaL4hveEK3"
   },
   "outputs": [],
   "source": [
    "fwrite(aka_filtered, file = \"/content/aka_filtered\", sep=\"\\t\", na = \"\\\\N\", quote = FALSE, sep2 = c(\"\",\",\",\"\"))"
   ]
  },
  {
   "cell_type": "code",
   "execution_count": null,
   "metadata": {
    "id": "u1TQyOOVgOYN"
   },
   "outputs": [],
   "source": [
    "fwrite(data_principals, file = \"/content/principals_filtered\", sep=\"\\t\", na = \"\\\\N\", quote = FALSE, sep2 = c(\"\",\",\",\"\"))"
   ]
  },
  {
   "cell_type": "code",
   "execution_count": null,
   "metadata": {
    "id": "VY_WIUusiY_r"
   },
   "outputs": [],
   "source": [
    "fwrite(data_episodes, file = \"/content/episodes_filtered\", sep=\"\\t\", na = \"\\\\N\", quote = FALSE, sep2 = c(\"\",\",\",\"\"))"
   ]
  },
  {
   "cell_type": "code",
   "execution_count": null,
   "metadata": {
    "id": "wonh52LWjllp"
   },
   "outputs": [],
   "source": [
    "fwrite(names_filtered, file = \"/content/names_filtered\", sep=\"\\t\", na = \"\\\\N\", quote = FALSE, sep2 = c(\"\",\",\",\"\"))"
   ]
  },
  {
   "cell_type": "code",
   "execution_count": null,
   "metadata": {
    "colab": {
     "base_uri": "https://localhost:8080/",
     "height": 129
    },
    "id": "xVTnF_Pm5AM-",
    "outputId": "590f34eb-bfe1-49d3-c0bb-ba53d7996f26"
   },
   "outputs": [],
   "source": [
    "gc()"
   ]
  },
  {
   "cell_type": "markdown",
   "metadata": {
    "id": "WH-9Nu1MEuRl"
   },
   "source": [
    "# Title basics table\n",
    "* tconst - primary ID of the title\n",
    "* titleType - type of the title, char need to convert to category\n",
    "* primaryTitle - primary title\n",
    "* originalTitle - original title is different in ~ 135k cases, usually means translation from original language\n",
    "* isAdult - need to convert to bool\n",
    "* startYear - more than one milion movies without a start year\n",
    "* endYear - only a 100k rows have it\n",
    "* genres need to be converted to category"
   ]
  },
  {
   "cell_type": "markdown",
   "metadata": {
    "id": "xel-DoRrWQkq"
   },
   "source": [
    "Convert \\N char values to NA"
   ]
  },
  {
   "cell_type": "code",
   "execution_count": null,
   "metadata": {
    "id": "TXhBg1GssZ13"
   },
   "outputs": [],
   "source": [
    "head(data_ratings, -30)"
   ]
  },
  {
   "cell_type": "code",
   "execution_count": null,
   "metadata": {
    "id": "UubjS9v8PXEy"
   },
   "outputs": [],
   "source": [
    "data_basics <- data_basics %>% mutate(across(where(is.character), ~na_if(.,\"\\\\N\")))"
   ]
  },
  {
   "cell_type": "code",
   "execution_count": null,
   "metadata": {
    "id": "pVltwpUH3dxu"
   },
   "outputs": [],
   "source": [
    "str(data_basics)"
   ]
  },
  {
   "cell_type": "markdown",
   "metadata": {
    "id": "d3ee3GM4Waag"
   },
   "source": [
    "Number of NA's in each column"
   ]
  },
  {
   "cell_type": "code",
   "execution_count": null,
   "metadata": {
    "colab": {
     "base_uri": "https://localhost:8080/",
     "height": 34
    },
    "id": "hX1XhvNUPyEB",
    "outputId": "611cdd68-8c06-4d97-d13c-d9886fd5404d"
   },
   "outputs": [],
   "source": [
    "sapply(data_basics, function(y) sum(length(which(is.na(y)))))"
   ]
  },
  {
   "cell_type": "markdown",
   "metadata": {
    "id": "wStfyAdMGDVE"
   },
   "source": [
    "Only ~96k movies have end year"
   ]
  },
  {
   "cell_type": "code",
   "execution_count": null,
   "metadata": {
    "id": "rjH_Cd7TBC32"
   },
   "outputs": [],
   "source": [
    "sum(length(which(!is.na(data_basics$endYear))))"
   ]
  },
  {
   "cell_type": "markdown",
   "metadata": {
    "id": "HVWREtfMWivU"
   },
   "source": [
    "### Column type conversions\n",
    "* convert title type to categorical\n",
    "* converte genres to list of strings\n",
    "* convert isAdult to Bool\n",
    "* convert startYear, endYear, runtimeMinutes to int\n",
    "\n"
   ]
  },
  {
   "cell_type": "code",
   "execution_count": null,
   "metadata": {
    "id": "u3gpzG1LCxX-"
   },
   "outputs": [],
   "source": [
    "data_basics$titleType = as.factor(data_basics$titleType)\n",
    "data_basics <- data_basics %>% mutate(genres = strsplit(genres, split=','))\n",
    "data_basics$isAdult = as.logical(data_basics$isAdult)\n",
    "data_basics$startYear = as.integer(data_basics$startYear)\n",
    "data_basics$endYear = as.integer(data_basics$endYear)\n",
    "data_basics$runtimeMinutes = as.integer(data_basics$runtimeMinutes)"
   ]
  },
  {
   "cell_type": "markdown",
   "metadata": {
    "id": "-dnO8yP2pwGc"
   },
   "source": [
    "**categories** - list of genres"
   ]
  },
  {
   "cell_type": "code",
   "execution_count": null,
   "metadata": {
    "id": "qEIT86O42u4p"
   },
   "outputs": [],
   "source": [
    "genres <- (data_basics %>% select(genres) %>% distinct())$genres %>% unlist() %>% unique()"
   ]
  },
  {
   "cell_type": "code",
   "execution_count": null,
   "metadata": {
    "id": "g278jy-kDFx6"
   },
   "outputs": [],
   "source": [
    "data_basics[sample(nrow(data_basics), 20), ]"
   ]
  },
  {
   "cell_type": "markdown",
   "metadata": {
    "id": "gTMpohbDYkdg"
   },
   "source": []
  },
  {
   "cell_type": "markdown",
   "metadata": {
    "id": "5MxwpI9vW6qz"
   },
   "source": [
    "**Title type** has no missing values or anomalies."
   ]
  },
  {
   "cell_type": "code",
   "execution_count": null,
   "metadata": {
    "colab": {
     "base_uri": "https://localhost:8080/",
     "height": 461
    },
    "id": "cd9E6LhOWtpW",
    "outputId": "e26c8d3c-6bfc-4866-a43d-ce0fc0234b09"
   },
   "outputs": [],
   "source": [
    "title_types <- data_basics %>% select(titleType) %>% distinct()\n",
    "title_types"
   ]
  },
  {
   "cell_type": "markdown",
   "metadata": {
    "id": "D0FsblOSYCbu"
   },
   "source": [
    "Summary of the numerical columns:"
   ]
  },
  {
   "cell_type": "code",
   "execution_count": null,
   "metadata": {
    "id": "FGTQWUuZpoXK"
   },
   "outputs": [],
   "source": [
    "data_basics %>% select(startYear, endYear, runtimeMinutes) %>% summary()"
   ]
  },
  {
   "cell_type": "markdown",
   "metadata": {
    "id": "FbDL9SX3YMMd"
   },
   "source": [
    "Runtime minutes max looks sketchy, but we can see that it is just a weird movie."
   ]
  },
  {
   "cell_type": "code",
   "execution_count": null,
   "metadata": {
    "id": "-wrsvYfpYEuH"
   },
   "outputs": [],
   "source": [
    "data_basics %>% arrange(desc(runtimeMinutes)) %>% head(10)"
   ]
  },
  {
   "cell_type": "markdown",
   "metadata": {
    "id": "lVXKVu2YZPF8"
   },
   "source": [
    "### Filtering\n"
   ]
  },
  {
   "cell_type": "markdown",
   "metadata": {
    "id": "a-pUS0slcIcT"
   },
   "source": [
    "The titles without name are episode of a tv series so keeping them."
   ]
  },
  {
   "cell_type": "code",
   "execution_count": null,
   "metadata": {
    "id": "l2ngM2c1ZZ4Y"
   },
   "outputs": [],
   "source": [
    "data_basics %>% filter(is.na(primaryTitle))"
   ]
  },
  {
   "cell_type": "code",
   "execution_count": null,
   "metadata": {
    "id": "MAF63gFSc-cy"
   },
   "outputs": [],
   "source": [
    "tmp <- data_basics %>% select(startYear, endYear) %>% filter(!(is.na(endYear) | is.na(startYear)))\n",
    "year_diff <- tmp$endYear - tmp$startYear"
   ]
  },
  {
   "cell_type": "markdown",
   "metadata": {
    "id": "JUVdM0E7hmgS"
   },
   "source": [
    "We will use only one year, in the case that the movie has both start and end year we use the end year."
   ]
  },
  {
   "cell_type": "code",
   "execution_count": null,
   "metadata": {
    "id": "lb27nKnmhlvi"
   },
   "outputs": [],
   "source": [
    "data_basics <- data_basics %>% mutate(year = ifelse(is.na(endYear), startYear, endYear)) %>% select(-c(startYear, endYear))"
   ]
  },
  {
   "cell_type": "markdown",
   "metadata": {
    "id": "K6bc9QYQ24Eg"
   },
   "source": [
    "##World events affecting movie production\n",
    "\n",
    "---\n",
    "\n"
   ]
  },
  {
   "cell_type": "code",
   "execution_count": null,
   "metadata": {
    "id": "zytGd5k222cv"
   },
   "outputs": [],
   "source": [
    "options(repr.plot.width=6, repr.plot.height=3, repr.plot.res = 250)"
   ]
  },
  {
   "cell_type": "code",
   "execution_count": null,
   "metadata": {
    "id": "83eC46c05zcK"
   },
   "outputs": [],
   "source": [
    "comedies_30s <- data_basics %>% filter(year >= 1924 & year <= 1937) %>% mutate(new_col = lapply(genres, function (x) 'Comedy' %in% x)) %>% filter(new_col == TRUE)"
   ]
  },
  {
   "cell_type": "code",
   "execution_count": null,
   "metadata": {
    "id": "t-Ta757DTpUq"
   },
   "outputs": [],
   "source": [
    "only_comedies_30s <- comedies_30s %>% mutate(new_col = lapply(genres, function (x) length(x) == 1)) %>% filter(new_col == TRUE)"
   ]
  },
  {
   "cell_type": "code",
   "execution_count": null,
   "metadata": {
    "id": "vs_rclxCKnse"
   },
   "outputs": [],
   "source": [
    "comedies_30s[sample(nrow(comedies_30s), 20)]"
   ]
  },
  {
   "cell_type": "markdown",
   "metadata": {
    "id": "QeeflDIUBCzF"
   },
   "source": [
    "###The total movies produced during great depression vs total comedies"
   ]
  },
  {
   "cell_type": "code",
   "execution_count": null,
   "metadata": {
    "id": "6NSzt4oXVhDm"
   },
   "outputs": [],
   "source": [
    "comedies_30_freq <- as.data.frame(table(comedies_30s$year))"
   ]
  },
  {
   "cell_type": "code",
   "execution_count": null,
   "metadata": {
    "id": "pqlBc6e2Vyc5"
   },
   "outputs": [],
   "source": [
    "movies_30_freq <- as.data.frame(table((data_basics %>% filter(year >= 1924 & year <= 1937))$year))"
   ]
  },
  {
   "cell_type": "code",
   "execution_count": null,
   "metadata": {
    "id": "zf4IQveeWZu4"
   },
   "outputs": [],
   "source": [
    "comedies_30_freq\n",
    "movies_30_freq"
   ]
  },
  {
   "cell_type": "code",
   "execution_count": null,
   "metadata": {
    "id": "4Nay6hLmWBY0"
   },
   "outputs": [],
   "source": [
    "share_comedies <- merge(x = comedies_30_freq, y = movies_30_freq, by=\"Var1\") %>% mutate(share = ceiling(Freq.x / (Freq.y /100)))"
   ]
  },
  {
   "cell_type": "code",
   "execution_count": null,
   "metadata": {
    "id": "PBql5_1sXkt5"
   },
   "outputs": [],
   "source": [
    "share_comedies$Var1 = as.numeric(as.character(share_comedies$Var1))"
   ]
  },
  {
   "cell_type": "code",
   "execution_count": null,
   "metadata": {
    "id": "3A_FGV0_Q6xo"
   },
   "outputs": [],
   "source": [
    "plot_comedy_share <- ggplot(share_comedies, aes(x = Var1, y = share)) + \n",
    "geom_line(color='#eb3477', aes(group = 1)) + \n",
    "geom_point(color='black') +\n",
    "scale_y_continuous(labels = function(x) paste0(x, \"%\")) +\n",
    "geom_text(aes(1929.05, 27.3, label = 'Great depression begins'), size=3, color = '#505661', angle = 90) +\n",
    "labs(y = 'Share of comedies', x = 'Year')"
   ]
  },
  {
   "cell_type": "code",
   "execution_count": null,
   "metadata": {
    "id": "6nMinok5XcKB"
   },
   "outputs": [],
   "source": [
    "plot_comedy_only <- (only_comedies_30s %>% select(year) %>% filter(year >= 1924 & year <= 1937) %>% ggplot(aes(x = year)) + \n",
    "geom_line(stat = 'count', color='blue') + \n",
    "geom_point(stat = 'count', color='black') +\n",
    "geom_text(aes(1931.9, 95, label = 'Great depression begins'), size=3, color = '#505661') +\n",
    "labs(y = 'Sole comedies', x = 'Year'))"
   ]
  },
  {
   "cell_type": "code",
   "execution_count": null,
   "metadata": {
    "id": "foG5A_-EKciG"
   },
   "outputs": [],
   "source": [
    "plot_comedy <- (comedies_30s %>% select(year) %>% filter(year >= 1924 & year <= 1937) %>% ggplot(aes(x = year)) + \n",
    "geom_line(stat = 'count', color='blue') + \n",
    "geom_point(stat = 'count', color='black') +\n",
    "geom_text(aes(1930, 1050, label = 'Great depression begins'), size=3, color = '#505661') +\n",
    "labs(y = 'Total comedies', x = 'Year'))"
   ]
  },
  {
   "cell_type": "code",
   "execution_count": null,
   "metadata": {
    "id": "aazS7-0gW-Bo"
   },
   "outputs": [],
   "source": [
    "plot_general <- (data_basics %>% select(year) %>% filter(year >= 1924 & year <= 1937) %>% ggplot(aes(x = year)) + \n",
    "geom_line(stat = 'count', color='orange') + \n",
    "geom_point(stat = 'count', color='black') +\n",
    "geom_text(aes(1929, 3850, label = 'Great depression begins'), size=3, color = '#505661') +\n",
    "labs(y = 'Total movies', x = 'Year'))"
   ]
  },
  {
   "cell_type": "code",
   "execution_count": null,
   "metadata": {
    "id": "1wx1P7g7Y5sP"
   },
   "outputs": [],
   "source": [
    "options(repr.plot.width=8, repr.plot.height=4.2, repr.plot.res = 300)"
   ]
  },
  {
   "cell_type": "code",
   "execution_count": null,
   "metadata": {
    "id": "mr0yakK7QWLw"
   },
   "outputs": [],
   "source": [
    "grid.arrange(plot_comedy, plot_general, plot_comedy_only, plot_comedy_share, ncol=2, top=textGrob(\"Movie and comedy production during great depression\", x = 0.02, hjust = 0))"
   ]
  },
  {
   "cell_type": "code",
   "execution_count": null,
   "metadata": {
    "id": "zgF4DBZH6DiC"
   },
   "outputs": [],
   "source": [
    "data_basics %>% select(year) %>% filter(year >= 1935 & year <= 1948) %>% ggplot(aes(x = year)) + \n",
    "geom_line(stat = 'count', color='orange') + \n",
    "geom_point(stat = 'count', color='black') +\n",
    "labs(y = 'Total movies produced', x = 'Year', title = 'Decline during WW2')"
   ]
  },
  {
   "cell_type": "markdown",
   "metadata": {
    "id": "cuJG3ODidOcX"
   },
   "source": [
    "## Exploratory graphs"
   ]
  },
  {
   "cell_type": "markdown",
   "metadata": {
    "id": "jZPKfjnOfLkY"
   },
   "source": [
    "### Categories bar plot"
   ]
  },
  {
   "cell_type": "code",
   "execution_count": null,
   "metadata": {
    "id": "_rjagNmENd0U"
   },
   "outputs": [],
   "source": [
    "install.packages('viridis')"
   ]
  },
  {
   "cell_type": "code",
   "execution_count": null,
   "metadata": {
    "id": "JL1XoRWgQEAp"
   },
   "outputs": [],
   "source": [
    "library(viridis)"
   ]
  },
  {
   "cell_type": "code",
   "execution_count": null,
   "metadata": {
    "id": "4XbuBFrovczc"
   },
   "outputs": [],
   "source": [
    "genres = unlist(data_basics$genres)\n",
    "genres_list = data.frame(genres)"
   ]
  },
  {
   "cell_type": "code",
   "execution_count": null,
   "metadata": {
    "id": "Z0llCrVsDahd"
   },
   "outputs": [],
   "source": [
    "genres_list <- as.data.frame(table(genres_list))"
   ]
  },
  {
   "cell_type": "code",
   "execution_count": null,
   "metadata": {
    "id": "Uw2ZDvRO_GdI"
   },
   "outputs": [],
   "source": [
    "options(repr.plot.width=8, repr.plot.height=3, repr.plot.res = 300)"
   ]
  },
  {
   "cell_type": "code",
   "execution_count": null,
   "metadata": {
    "id": "viln4FYl_xtN"
   },
   "outputs": [],
   "source": [
    "ggplot(genres_list, aes(x=reorder(genres, -Freq), y = Freq, fill = Freq)) +\n",
    "    geom_bar(stat = \"identity\") +\n",
    "    theme(axis.text.x = element_text(angle = 90, vjust = 0.5, hjust=1)) +\n",
    "     scale_fill_viridis_c() +\n",
    "     theme(legend.position=\"none\") +\n",
    "    scale_y_continuous(labels = unit_format(unit = \"M\", scale = 1e-6)) + xlab(\"\")+\n",
    "    ylab(\"Movies produced\")"
   ]
  },
  {
   "cell_type": "markdown",
   "metadata": {
    "id": "_PgKpG9Atj1d"
   },
   "source": [
    "### Categories throughout years"
   ]
  },
  {
   "cell_type": "code",
   "execution_count": null,
   "metadata": {
    "id": "kwi48ufxdAcK"
   },
   "outputs": [],
   "source": [
    "options(repr.plot.width=8, repr.plot.height=6, repr.plot.res = 300)"
   ]
  },
  {
   "cell_type": "code",
   "execution_count": null,
   "metadata": {
    "id": "p7DY6p0Gy0F_"
   },
   "outputs": [],
   "source": [
    "chosen_genres <- c('Documentary','Animation','Comedy','Romance','Drama','Horror','War','Western','Family','Action','Sci-Fi','Talk-Show','Reality-TV','Adult')"
   ]
  },
  {
   "cell_type": "code",
   "execution_count": null,
   "metadata": {
    "id": "JcS5hBZrav6p"
   },
   "outputs": [],
   "source": [
    "TT = theme(axis.text.x=element_blank(),\n",
    "        axis.ticks.x=element_blank(),\n",
    "        axis.title.x = element_blank(),\n",
    "        axis.title.y = element_blank())\n",
    "colors = c('firebrick4', 'blue4', 'yellowgreen', \"orange\", \"gold4\", \"purple\", \"black\",\n",
    " \"chocolate1\", \"pink\", \"gray\", \"darksalmon\", \"coral4\", \"aquamarine4\", \"brown\")\n",
    "plotList <- function(df, name){\n",
    "  tmp <- (ggplot(df, aes(x = year, y = Total)) +\n",
    "  scale_y_continuous(labels = unit_format(unit = \"K\", scale = 1e-3))+\n",
    "  geom_area(fill = colors[which(chosen_genres == name)])+\n",
    "  geom_text(data=data.frame(), aes(label = name, x = -Inf, y = Inf), size = 6,\n",
    "  color = colors[which(chosen_genres == name)], hjust = -0.3, vjust = 2))\n",
    "  if (name %in% c('Reality-TV','Adult')) {\n",
    "    tmp <- tmp + scale_x_continuous(breaks=seq(1910,2020,10)) +\n",
    "            theme(axis.title.x = element_blank(),\n",
    "                  axis.title.y = element_blank())\n",
    "  } else {\n",
    "    tmp <- tmp + TT\n",
    "  }\n",
    "  return(tmp)\n",
    "}"
   ]
  },
  {
   "cell_type": "code",
   "execution_count": null,
   "metadata": {
    "id": "vV9_ScJ4t7ZZ"
   },
   "outputs": [],
   "source": [
    "create_genre_plot <- function (genre) {\n",
    "  temp <-\n",
    "    ((data_basics %>% mutate(new_col = lapply(genres, function (x) genre %in% x)) %>% filter(new_col == TRUE) %>%\n",
    "    filter(year >= 1910 & year <= 2022))$year %>% table() %>% as.data.frame %>% setNames(c(\"year\", \"Total\")) %>%\n",
    "    mutate(year = as.numeric(as.character(year))) %>% plotList(genre))\n",
    "  return(temp)\n",
    "}"
   ]
  },
  {
   "cell_type": "code",
   "execution_count": null,
   "metadata": {
    "id": "KoBye22-PvqR"
   },
   "outputs": [],
   "source": [
    "plots <- lapply(chosen_genres, create_genre_plot)"
   ]
  },
  {
   "cell_type": "code",
   "execution_count": null,
   "metadata": {
    "id": "jzrs-MMW_Kgm"
   },
   "outputs": [],
   "source": [
    "grid.arrange(grobs = plots, ncol = 2, top = textGrob(\"Movie genre production (1910 - 2022)\", x = 0.02, hjust = 0, gp=gpar(fontsize=20, col = 'gray25')))"
   ]
  },
  {
   "cell_type": "markdown",
   "metadata": {
    "id": "lL-HtNz1d4sb"
   },
   "source": [
    "### Title types pie chart"
   ]
  },
  {
   "cell_type": "code",
   "execution_count": null,
   "metadata": {
    "id": "i8yDirjtgrUT"
   },
   "outputs": [],
   "source": [
    "title_df <- data_basics %>% \n",
    "  filter(!(titleType == 'tvEpisode')) %>%\n",
    "  group_by(titleType) %>%\n",
    "  count() %>% \n",
    "  ungroup() %>% \n",
    "  mutate(percentage = round(`n` / sum(`n`),3)) %>% \n",
    "  arrange(percentage) %>%\n",
    "  mutate(labels = ifelse(percentage >= 0.06, scales::percent(percentage), \"\"))"
   ]
  },
  {
   "cell_type": "code",
   "execution_count": null,
   "metadata": {
    "id": "PSpne-k4dv3o"
   },
   "outputs": [],
   "source": [
    "title_ep <- data_basics %>% mutate(new_col = ifelse(titleType == 'tvEpisode', 'TV episode', 'Other')) %>%\n",
    "  group_by(new_col) %>%\n",
    "  count() %>% \n",
    "  ungroup() %>% \n",
    "  mutate(percentage = round(`n` / sum(`n`),3) * 100)"
   ]
  },
  {
   "cell_type": "code",
   "execution_count": null,
   "metadata": {
    "colab": {
     "base_uri": "https://localhost:8080/",
     "height": 161
    },
    "id": "fB6770ADeqlv",
    "outputId": "048f6638-8456-4e6e-c7e5-16dae3a1f0f4"
   },
   "outputs": [],
   "source": [
    "title_ep"
   ]
  },
  {
   "cell_type": "code",
   "execution_count": null,
   "metadata": {
    "id": "NeIPyWRphgXN"
   },
   "outputs": [],
   "source": [
    "colnames(title_df)[1] <- \"Title Type\""
   ]
  },
  {
   "cell_type": "code",
   "execution_count": null,
   "metadata": {
    "id": "MLMy3JhEXQdK"
   },
   "outputs": [],
   "source": [
    "title_df$percentage <- title_df$percentage * 100"
   ]
  },
  {
   "cell_type": "code",
   "execution_count": null,
   "metadata": {
    "id": "YEbiVyXOaP1j"
   },
   "outputs": [],
   "source": [
    "title_df <- title_df %>% arrange(-percentage)\n",
    "title_df$`Title Type` <- factor(title_df$`Title Type`, levels=title_df$`Title Type`)"
   ]
  },
  {
   "cell_type": "code",
   "execution_count": null,
   "metadata": {
    "colab": {
     "base_uri": "https://localhost:8080/",
     "height": 412
    },
    "id": "dmHc96CXdIi5",
    "outputId": "69414b19-3c8b-40a8-f260-2116dd16e0d6"
   },
   "outputs": [],
   "source": [
    "title_df"
   ]
  },
  {
   "cell_type": "code",
   "execution_count": null,
   "metadata": {
    "id": "n5lbKGx_gJYk"
   },
   "outputs": [],
   "source": [
    "options(repr.plot.width=8, repr.plot.height=3, repr.plot.res = 300)"
   ]
  },
  {
   "cell_type": "code",
   "execution_count": null,
   "metadata": {
    "id": "9W6IHATARWeG"
   },
   "outputs": [],
   "source": [
    "pl1 <- ggplot(title_df[order(title_df$`Title Type`,decreasing=T),], aes(x = \"\", y = percentage, fill = `Title Type`)) +\n",
    "  geom_col() +\n",
    "  geom_text(aes(label = labels),\n",
    "            position = position_stack(vjust = 0.5)) +\n",
    "  scale_fill_brewer(palette = \"Set3\") +\n",
    "  scale_y_continuous(labels = function(x) paste0(x, \"%\")) +\n",
    "  theme_minimal(base_size = 16) +\n",
    "    guides(fill=guide_legend(title=\"\")) +\n",
    "  ylab(\"\") +\n",
    "  xlab(NULL)"
   ]
  },
  {
   "cell_type": "code",
   "execution_count": null,
   "metadata": {
    "id": "_9Obms81-8kv"
   },
   "outputs": [],
   "source": [
    "pl2 <- ggplot(title_ep, aes(x = \"\", y = percentage, fill = new_col)) +\n",
    "  geom_col() +\n",
    "  geom_text(aes(label = paste0(percentage, \"%\")),\n",
    "            position = position_stack(vjust = 0.5)) +\n",
    "  scale_fill_brewer(palette = \"Set3\") +\n",
    "  theme_minimal(base_size = 16) +\n",
    "  guides(fill=guide_legend(title=\"\"))+\n",
    "  scale_y_continuous(labels = function(x) paste0(x, \"%\")) +\n",
    "  ylab(\"\") +\n",
    "  xlab(NULL)"
   ]
  },
  {
   "cell_type": "code",
   "execution_count": null,
   "metadata": {
    "colab": {
     "base_uri": "https://localhost:8080/",
     "height": 467
    },
    "id": "gSL68ka2f5ts",
    "outputId": "1bee09f2-bd29-46bc-fecd-c47d6e69e354"
   },
   "outputs": [],
   "source": [
    "grid.arrange(pl1, pl2, ncol=2)"
   ]
  },
  {
   "cell_type": "code",
   "execution_count": null,
   "metadata": {
    "colab": {
     "base_uri": "https://localhost:8080/",
     "height": 443
    },
    "id": "T0w47BaxQJQ7",
    "outputId": "1183b1c3-32cb-4ab1-9861-849783f5706d"
   },
   "outputs": [],
   "source": [
    "title_df"
   ]
  },
  {
   "cell_type": "code",
   "execution_count": null,
   "metadata": {
    "colab": {
     "base_uri": "https://localhost:8080/",
     "height": 129
    },
    "id": "W2TTFWMD4WeS",
    "outputId": "54d8786c-8e65-4b8e-83ef-55224984399a"
   },
   "outputs": [],
   "source": [
    "gc()"
   ]
  },
  {
   "cell_type": "markdown",
   "metadata": {
    "id": "GhHzXMqqFlqr"
   },
   "source": [
    "# Title akas table"
   ]
  },
  {
   "cell_type": "markdown",
   "metadata": {
    "id": "-BtuaA_DHyu1"
   },
   "source": [
    "Replace \\\\N with NA"
   ]
  },
  {
   "cell_type": "code",
   "execution_count": null,
   "metadata": {
    "id": "qpqd36cWFn4H"
   },
   "outputs": [],
   "source": [
    "data_aka <- data_aka %>% mutate(across(where(is.character), ~na_if(.,\"\\\\N\")))"
   ]
  },
  {
   "cell_type": "markdown",
   "metadata": {
    "id": "ctYm9nwNH2Ob"
   },
   "source": [
    "**Transformations**\n",
    "* types -> factor\n",
    "* isOriginalTitle -> bool"
   ]
  },
  {
   "cell_type": "code",
   "execution_count": null,
   "metadata": {
    "id": "DrHrMp3DHwD2"
   },
   "outputs": [],
   "source": [
    "data_aka$types = as.factor(data_aka$types)\n",
    "data_aka$isOriginalTitle <- as.logical(as.numeric(data_aka$isOriginalTitle))"
   ]
  },
  {
   "cell_type": "markdown",
   "metadata": {
    "id": "PfI4yvx91-zI"
   },
   "source": [
    "**ordering** and **attributes** are not needed"
   ]
  },
  {
   "cell_type": "code",
   "execution_count": null,
   "metadata": {
    "id": "Az0aGPtj1-7N"
   },
   "outputs": [],
   "source": [
    "data_aka <- data_aka %>% select(-c(ordering, attributes))"
   ]
  },
  {
   "cell_type": "code",
   "execution_count": null,
   "metadata": {
    "colab": {
     "base_uri": "https://localhost:8080/",
     "height": 295
    },
    "id": "50ZwZFYwJ-Bf",
    "outputId": "62b64c3e-01d4-45b9-b47d-7534945839c3"
   },
   "outputs": [],
   "source": [
    "summary(data_aka %>% select(-c(titleId, title)))"
   ]
  },
  {
   "cell_type": "code",
   "execution_count": null,
   "metadata": {
    "colab": {
     "base_uri": "https://localhost:8080/",
     "height": 412
    },
    "id": "PUd6jbABGDWB",
    "outputId": "c62613a2-5a65-44ed-cade-cbf229cb68ca"
   },
   "outputs": [],
   "source": [
    "data_aka[sample(nrow(data_aka), 10), ]"
   ]
  },
  {
   "cell_type": "code",
   "execution_count": null,
   "metadata": {
    "id": "eweVBfaZ-FIF"
   },
   "outputs": [],
   "source": [
    "main_aka <- data_aka %>% filter(region %in% c('IT', 'US', 'GB', 'DE'))"
   ]
  },
  {
   "cell_type": "markdown",
   "metadata": {
    "id": "v_PMw5HyDwM2"
   },
   "source": [
    "### Adding country to the original titles"
   ]
  },
  {
   "cell_type": "code",
   "execution_count": null,
   "metadata": {
    "id": "qeLQkEWgD18T"
   },
   "outputs": [],
   "source": [
    "originals <- data_aka %>% filter(isOriginalTitle)"
   ]
  },
  {
   "cell_type": "code",
   "execution_count": null,
   "metadata": {
    "colab": {
     "base_uri": "https://localhost:8080/"
    },
    "id": "oRmlX_Z1D83z",
    "outputId": "4706a9ef-8eba-44d6-fbad-aac327c513d8"
   },
   "outputs": [],
   "source": [
    "install.packages(\"cld2\")\n",
    "library(cld2)"
   ]
  },
  {
   "cell_type": "code",
   "execution_count": null,
   "metadata": {
    "colab": {
     "base_uri": "https://localhost:8080/",
     "height": 34
    },
    "id": "2Ep0sTTqIJk5",
    "outputId": "7acb1d55-5a63-4502-fe66-b629ebc728d5"
   },
   "outputs": [],
   "source": [
    "detect_language(\"Frozen Thrills are here\")"
   ]
  },
  {
   "cell_type": "code",
   "execution_count": null,
   "metadata": {
    "id": "KUrB_naxFTfs"
   },
   "outputs": [],
   "source": [
    "originals <- originals %>% mutate(country = detect_language(title))"
   ]
  },
  {
   "cell_type": "code",
   "execution_count": null,
   "metadata": {
    "id": "siH2YR75ERDU"
   },
   "outputs": [],
   "source": [
    "originals <- originals %>% filter(!is.na(country))"
   ]
  },
  {
   "cell_type": "code",
   "execution_count": null,
   "metadata": {
    "id": "4W3CCZHsKu_Y"
   },
   "outputs": [],
   "source": [
    "originals <- originals %>% mutate(isEng = country == 'en')"
   ]
  },
  {
   "cell_type": "code",
   "execution_count": null,
   "metadata": {
    "id": "3W2UuejTNOEE"
   },
   "outputs": [],
   "source": [
    "originals <- merge(originals, data_basics, by.x = 'titleId', by.y = 'tconst') %>% select (titleId, isEng, year)"
   ]
  },
  {
   "cell_type": "code",
   "execution_count": null,
   "metadata": {
    "id": "3sEjZAsgV2vd"
   },
   "outputs": [],
   "source": [
    "originals"
   ]
  },
  {
   "cell_type": "code",
   "execution_count": null,
   "metadata": {
    "id": "uSkN5wc6UJJq"
   },
   "outputs": [],
   "source": [
    "originals_temp <- originals %>% count(year)"
   ]
  },
  {
   "cell_type": "code",
   "execution_count": null,
   "metadata": {
    "id": "-CMy03cAUtSX"
   },
   "outputs": [],
   "source": [
    "originals_perc <- merge(originals %>% count(year, isEng), originals_temp, by=\"year\") %>%\n",
    "filter(!is.na(year)) %>% mutate(percentages = n.x / (n.y / 100)) %>% filter(year >= 1910 & year <= 2020)"
   ]
  },
  {
   "cell_type": "code",
   "execution_count": null,
   "metadata": {
    "colab": {
     "base_uri": "https://localhost:8080/",
     "height": 617
    },
    "id": "UYodOzvXXzyo",
    "outputId": "c3fa668a-bb3e-4419-b8ba-08039b7c26b1"
   },
   "outputs": [],
   "source": [
    "ggplot(originals_perc, aes(x=year, y=percentages, fill=isEng)) +\n",
    "    geom_area(alpha=0.6 , size=1, colour=\"black\") +ylab(\"\") + xlab(\"\") + \n",
    "    scale_y_continuous(labels = function(x) paste0(x, \"%\")) +\n",
    "    scale_fill_discrete(labels=c('English', 'Not english')) +\n",
    "    guides(fill=guide_legend(title=\"Original language\"))"
   ]
  },
  {
   "cell_type": "code",
   "execution_count": null,
   "metadata": {
    "id": "Ga4o4WwGWYWb"
   },
   "outputs": [],
   "source": []
  },
  {
   "cell_type": "markdown",
   "metadata": {
    "id": "sk2v2o7a5U2o"
   },
   "source": [
    "### Merged akas and basics"
   ]
  },
  {
   "cell_type": "code",
   "execution_count": null,
   "metadata": {
    "id": "58YtTcqqKl6K"
   },
   "outputs": [],
   "source": [
    "merged <- merge(data_basics, main_aka, by.x = 'tconst', by.y = 'titleId')"
   ]
  },
  {
   "cell_type": "code",
   "execution_count": null,
   "metadata": {
    "id": "2_H07KiBK72e"
   },
   "outputs": [],
   "source": [
    "merged <- merged %>% filter(year >= 1935 & year <= 1950)"
   ]
  },
  {
   "cell_type": "code",
   "execution_count": null,
   "metadata": {
    "id": "vGp86mr_Ma9p"
   },
   "outputs": [],
   "source": [
    "de <- as.data.frame(table((merged %>% mutate(new_col = lapply(genres, function (x) 'War' %in% x)) %>% filter(new_col == TRUE & region == 'DE'))$year)) %>% setNames(c('year', 'DE'))"
   ]
  },
  {
   "cell_type": "code",
   "execution_count": null,
   "metadata": {
    "id": "ce8n-OzPNnbj"
   },
   "outputs": [],
   "source": [
    "us <- as.data.frame(table((merged %>% mutate(new_col = lapply(genres, function (x) 'War' %in% x)) %>% filter(new_col == TRUE & region == 'US'))$year)) %>% setNames(c('year', 'US'))"
   ]
  },
  {
   "cell_type": "code",
   "execution_count": null,
   "metadata": {
    "id": "fP2mNTSwNn0o"
   },
   "outputs": [],
   "source": [
    "gb <- as.data.frame(table((merged %>% mutate(new_col = lapply(genres, function (x) 'War' %in% x)) %>% filter(new_col == TRUE & region == 'GB'))$year)) %>% setNames(c('year', 'GB'))"
   ]
  },
  {
   "cell_type": "code",
   "execution_count": null,
   "metadata": {
    "id": "f0GGaKXJNn9s"
   },
   "outputs": [],
   "source": [
    "it <- as.data.frame(table((merged %>% mutate(new_col = lapply(genres, function (x) 'War' %in% x)) %>% filter(new_col == TRUE & region == 'IT'))$year)) %>% setNames(c('year', 'IT'))"
   ]
  },
  {
   "cell_type": "code",
   "execution_count": null,
   "metadata": {
    "id": "vK0lJkYxOFke"
   },
   "outputs": [],
   "source": [
    "ww2_countries <- merge(merge(merge(de, us, by='year'), gb, by='year'), it, by = 'year')"
   ]
  },
  {
   "cell_type": "code",
   "execution_count": null,
   "metadata": {
    "colab": {
     "base_uri": "https://localhost:8080/",
     "height": 600
    },
    "id": "Ug14m5UQQzCD",
    "outputId": "35a8cd9d-d9df-4a59-e6ec-5e8d666cd137"
   },
   "outputs": [],
   "source": [
    "ww2_countries"
   ]
  },
  {
   "cell_type": "code",
   "execution_count": null,
   "metadata": {
    "id": "-1yLgrOsZjro"
   },
   "outputs": [],
   "source": [
    "options(repr.plot.width=8, repr.plot.height=4, repr.plot.res = 300)"
   ]
  },
  {
   "cell_type": "code",
   "execution_count": null,
   "metadata": {
    "colab": {
     "base_uri": "https://localhost:8080/",
     "height": 617
    },
    "id": "o40tmZHBMjQ3",
    "outputId": "811c4dfd-3866-4e57-f137-2c94dd9cc8fc"
   },
   "outputs": [],
   "source": [
    "ggplot(ww2_countries, aes(x=year)) + geom_line(aes(y = DE, colour = \"Germany\"), group = 1) +\n",
    "geom_line(aes(y = GB, colour = \"Great Britain\"), group = 1) + \n",
    "geom_line(aes(y = US, colour = \"USA\"), group = 1) +\n",
    "geom_line(aes(y = IT, colour = \"Italy\"), group = 1) +\n",
    "scale_color_manual(name = \"Countries\", values = c(\"Germany\" = \"firebrick4\", \"Great Britain\" = \"dodgerblue4\", \"USA\" = \"firebrick1\", \"Italy\" = \"forestgreen\")) +\n",
    "ylab(\"War movies screened\") +\n",
    "xlab(\"\")"
   ]
  },
  {
   "cell_type": "code",
   "execution_count": null,
   "metadata": {
    "colab": {
     "base_uri": "https://localhost:8080/",
     "height": 412
    },
    "id": "SeePPv0GKuxi",
    "outputId": "a2d90f6e-2e96-4f35-8386-db257efe79c6"
   },
   "outputs": [],
   "source": [
    "head(merged, 10)"
   ]
  },
  {
   "cell_type": "code",
   "execution_count": null,
   "metadata": {
    "colab": {
     "base_uri": "https://localhost:8080/",
     "height": 129
    },
    "id": "KDVgGndi5_HW",
    "outputId": "cfc34737-8544-4545-bbc8-e86ccb67c4c3"
   },
   "outputs": [],
   "source": [
    "gc()"
   ]
  },
  {
   "cell_type": "markdown",
   "metadata": {
    "id": "TiAVPJGJYG9z"
   },
   "source": [
    "# Title crew table"
   ]
  },
  {
   "cell_type": "code",
   "execution_count": null,
   "metadata": {
    "id": "s6yXi2OlbaC7"
   },
   "outputs": [],
   "source": [
    "head(data_crew, -20)"
   ]
  },
  {
   "cell_type": "markdown",
   "metadata": {
    "id": "q-IX-nTsZBiG"
   },
   "source": [
    "Replace with NAs"
   ]
  },
  {
   "cell_type": "code",
   "execution_count": null,
   "metadata": {
    "id": "qzNaeT6sZW6_"
   },
   "outputs": [],
   "source": [
    "data_crew <- data_crew %>% mutate(across(where(is.character), ~na_if(.,\"\\\\N\")))"
   ]
  },
  {
   "cell_type": "markdown",
   "metadata": {
    "id": "Ezrd9OgBb37u"
   },
   "source": [
    "Split the name lists"
   ]
  },
  {
   "cell_type": "code",
   "execution_count": null,
   "metadata": {
    "id": "tN5NH_4carKe"
   },
   "outputs": [],
   "source": [
    "data_crew <- data_crew %>% mutate(directors = strsplit(directors, split=','), writers = strsplit(writers, split=','))"
   ]
  }
 ],
 "metadata": {
  "colab": {
   "collapsed_sections": [
    "_PgKpG9Atj1d",
    "GhHzXMqqFlqr",
    "TiAVPJGJYG9z"
   ],
   "provenance": []
  },
  "kernelspec": {
   "display_name": "R",
   "language": "R",
   "name": "ir"
  },
  "language_info": {
   "codemirror_mode": "r",
   "file_extension": ".r",
   "mimetype": "text/x-r-source",
   "name": "R",
   "pygments_lexer": "r",
   "version": "4.2.2"
  }
 },
 "nbformat": 4,
 "nbformat_minor": 4
}
